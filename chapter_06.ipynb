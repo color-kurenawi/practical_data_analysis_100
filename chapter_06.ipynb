{
 "metadata": {
  "language_info": {
   "codemirror_mode": {
    "name": "ipython",
    "version": 3
   },
   "file_extension": ".py",
   "mimetype": "text/x-python",
   "name": "python",
   "nbconvert_exporter": "python",
   "pygments_lexer": "ipython3",
   "version": "3.6.9-final"
  },
  "orig_nbformat": 2,
  "kernelspec": {
   "name": "python3",
   "display_name": "Python 3",
   "language": "python"
  }
 },
 "nbformat": 4,
 "nbformat_minor": 2,
 "cells": [
  {
   "source": [
    "# 第6章 物流の最適ルートをコンサルティングする10本ノック"
   ],
   "cell_type": "markdown",
   "metadata": {}
  },
  {
   "cell_type": "code",
   "execution_count": 1,
   "metadata": {},
   "outputs": [],
   "source": [
    "# 下準備として，データのあるディレクトリに移動しておく\n",
    "import os\n",
    "\n",
    "DATA_ROOT_DIR = \"./sample/6章/\"\n",
    "os.chdir(DATA_ROOT_DIR)"
   ]
  },
  {
   "source": [
    "## ノック51 物流に関するデータを読み込んでみよう\n",
    "データを読み込んでいく．"
   ],
   "cell_type": "markdown",
   "metadata": {}
  },
  {
   "cell_type": "code",
   "execution_count": 2,
   "metadata": {},
   "outputs": [
    {
     "output_type": "execute_result",
     "data": {
      "text/plain": [
       "        FCName  FCDemand FCRegion\n",
       "FCID                             \n",
       "FC00001   東京工場        28       関東\n",
       "FC00002  木更津工場        29       関東\n",
       "FC00003   多摩工場        31       関東\n",
       "FC00004  横須賀工場        25       関東\n",
       "FC00005   仙台工場        21       東北\n",
       "FC00006   山形工場        30       東北\n",
       "FC00007   那須工場        25       東北\n",
       "FC00008   青森工場        16       東北"
      ],
      "text/html": "<div>\n<style scoped>\n    .dataframe tbody tr th:only-of-type {\n        vertical-align: middle;\n    }\n\n    .dataframe tbody tr th {\n        vertical-align: top;\n    }\n\n    .dataframe thead th {\n        text-align: right;\n    }\n</style>\n<table border=\"1\" class=\"dataframe\">\n  <thead>\n    <tr style=\"text-align: right;\">\n      <th></th>\n      <th>FCName</th>\n      <th>FCDemand</th>\n      <th>FCRegion</th>\n    </tr>\n    <tr>\n      <th>FCID</th>\n      <th></th>\n      <th></th>\n      <th></th>\n    </tr>\n  </thead>\n  <tbody>\n    <tr>\n      <th>FC00001</th>\n      <td>東京工場</td>\n      <td>28</td>\n      <td>関東</td>\n    </tr>\n    <tr>\n      <th>FC00002</th>\n      <td>木更津工場</td>\n      <td>29</td>\n      <td>関東</td>\n    </tr>\n    <tr>\n      <th>FC00003</th>\n      <td>多摩工場</td>\n      <td>31</td>\n      <td>関東</td>\n    </tr>\n    <tr>\n      <th>FC00004</th>\n      <td>横須賀工場</td>\n      <td>25</td>\n      <td>関東</td>\n    </tr>\n    <tr>\n      <th>FC00005</th>\n      <td>仙台工場</td>\n      <td>21</td>\n      <td>東北</td>\n    </tr>\n    <tr>\n      <th>FC00006</th>\n      <td>山形工場</td>\n      <td>30</td>\n      <td>東北</td>\n    </tr>\n    <tr>\n      <th>FC00007</th>\n      <td>那須工場</td>\n      <td>25</td>\n      <td>東北</td>\n    </tr>\n    <tr>\n      <th>FC00008</th>\n      <td>青森工場</td>\n      <td>16</td>\n      <td>東北</td>\n    </tr>\n  </tbody>\n</table>\n</div>"
     },
     "metadata": {},
     "execution_count": 2
    }
   ],
   "source": [
    "import pandas as pd\n",
    "\n",
    "factories = pd.read_csv(\"tbl_factory.csv\", index_col=0)\n",
    "factories"
   ]
  },
  {
   "cell_type": "code",
   "execution_count": 3,
   "metadata": {},
   "outputs": [
    {
     "output_type": "execute_result",
     "data": {
      "text/plain": [
       "        WHName  WHSupply WHRegion\n",
       "WHID                             \n",
       "WH00001   杉並倉庫        35       関東\n",
       "WH00002   品川倉庫        41       関東\n",
       "WH00003   豊洲倉庫        42       関東\n",
       "WH00004   郡山倉庫        60       東北\n",
       "WH00005   仙台倉庫        72       東北\n",
       "WH00006   山形倉庫        65       東北"
      ],
      "text/html": "<div>\n<style scoped>\n    .dataframe tbody tr th:only-of-type {\n        vertical-align: middle;\n    }\n\n    .dataframe tbody tr th {\n        vertical-align: top;\n    }\n\n    .dataframe thead th {\n        text-align: right;\n    }\n</style>\n<table border=\"1\" class=\"dataframe\">\n  <thead>\n    <tr style=\"text-align: right;\">\n      <th></th>\n      <th>WHName</th>\n      <th>WHSupply</th>\n      <th>WHRegion</th>\n    </tr>\n    <tr>\n      <th>WHID</th>\n      <th></th>\n      <th></th>\n      <th></th>\n    </tr>\n  </thead>\n  <tbody>\n    <tr>\n      <th>WH00001</th>\n      <td>杉並倉庫</td>\n      <td>35</td>\n      <td>関東</td>\n    </tr>\n    <tr>\n      <th>WH00002</th>\n      <td>品川倉庫</td>\n      <td>41</td>\n      <td>関東</td>\n    </tr>\n    <tr>\n      <th>WH00003</th>\n      <td>豊洲倉庫</td>\n      <td>42</td>\n      <td>関東</td>\n    </tr>\n    <tr>\n      <th>WH00004</th>\n      <td>郡山倉庫</td>\n      <td>60</td>\n      <td>東北</td>\n    </tr>\n    <tr>\n      <th>WH00005</th>\n      <td>仙台倉庫</td>\n      <td>72</td>\n      <td>東北</td>\n    </tr>\n    <tr>\n      <th>WH00006</th>\n      <td>山形倉庫</td>\n      <td>65</td>\n      <td>東北</td>\n    </tr>\n  </tbody>\n</table>\n</div>"
     },
     "metadata": {},
     "execution_count": 3
    }
   ],
   "source": [
    "warehouses = pd.read_csv(\"tbl_warehouse.csv\", index_col=0)\n",
    "warehouses"
   ]
  },
  {
   "cell_type": "code",
   "execution_count": 4,
   "metadata": {},
   "outputs": [
    {
     "output_type": "execute_result",
     "data": {
      "text/plain": [
       "            FCID     WHID  Cost\n",
       "RCostID                        \n",
       "1        FC00001  WH00001   0.4\n",
       "2        FC00001  WH00002   0.8\n",
       "3        FC00001  WH00003   1.5\n",
       "4        FC00002  WH00001   0.9\n",
       "5        FC00002  WH00002   0.8"
      ],
      "text/html": "<div>\n<style scoped>\n    .dataframe tbody tr th:only-of-type {\n        vertical-align: middle;\n    }\n\n    .dataframe tbody tr th {\n        vertical-align: top;\n    }\n\n    .dataframe thead th {\n        text-align: right;\n    }\n</style>\n<table border=\"1\" class=\"dataframe\">\n  <thead>\n    <tr style=\"text-align: right;\">\n      <th></th>\n      <th>FCID</th>\n      <th>WHID</th>\n      <th>Cost</th>\n    </tr>\n    <tr>\n      <th>RCostID</th>\n      <th></th>\n      <th></th>\n      <th></th>\n    </tr>\n  </thead>\n  <tbody>\n    <tr>\n      <th>1</th>\n      <td>FC00001</td>\n      <td>WH00001</td>\n      <td>0.4</td>\n    </tr>\n    <tr>\n      <th>2</th>\n      <td>FC00001</td>\n      <td>WH00002</td>\n      <td>0.8</td>\n    </tr>\n    <tr>\n      <th>3</th>\n      <td>FC00001</td>\n      <td>WH00003</td>\n      <td>1.5</td>\n    </tr>\n    <tr>\n      <th>4</th>\n      <td>FC00002</td>\n      <td>WH00001</td>\n      <td>0.9</td>\n    </tr>\n    <tr>\n      <th>5</th>\n      <td>FC00002</td>\n      <td>WH00002</td>\n      <td>0.8</td>\n    </tr>\n  </tbody>\n</table>\n</div>"
     },
     "metadata": {},
     "execution_count": 4
    }
   ],
   "source": [
    "cost = pd.read_csv(\"rel_cost.csv\", index_col=0)\n",
    "cost.head()"
   ]
  },
  {
   "cell_type": "code",
   "execution_count": 5,
   "metadata": {},
   "outputs": [
    {
     "output_type": "execute_result",
     "data": {
      "text/plain": [
       "          TransactionDate     ToFC   FromWH  Quantity\n",
       "TRID                                                 \n",
       "0     2019-01-01 02:11:10  FC00004  WH00003        33\n",
       "1     2019-01-01 06:12:42  FC00007  WH00006        19\n",
       "2     2019-01-01 06:32:32  FC00006  WH00004        31\n",
       "3     2019-01-01 07:17:06  FC00002  WH00003        18\n",
       "4     2019-01-01 07:52:18  FC00001  WH00002        30"
      ],
      "text/html": "<div>\n<style scoped>\n    .dataframe tbody tr th:only-of-type {\n        vertical-align: middle;\n    }\n\n    .dataframe tbody tr th {\n        vertical-align: top;\n    }\n\n    .dataframe thead th {\n        text-align: right;\n    }\n</style>\n<table border=\"1\" class=\"dataframe\">\n  <thead>\n    <tr style=\"text-align: right;\">\n      <th></th>\n      <th>TransactionDate</th>\n      <th>ToFC</th>\n      <th>FromWH</th>\n      <th>Quantity</th>\n    </tr>\n    <tr>\n      <th>TRID</th>\n      <th></th>\n      <th></th>\n      <th></th>\n      <th></th>\n    </tr>\n  </thead>\n  <tbody>\n    <tr>\n      <th>0</th>\n      <td>2019-01-01 02:11:10</td>\n      <td>FC00004</td>\n      <td>WH00003</td>\n      <td>33</td>\n    </tr>\n    <tr>\n      <th>1</th>\n      <td>2019-01-01 06:12:42</td>\n      <td>FC00007</td>\n      <td>WH00006</td>\n      <td>19</td>\n    </tr>\n    <tr>\n      <th>2</th>\n      <td>2019-01-01 06:32:32</td>\n      <td>FC00006</td>\n      <td>WH00004</td>\n      <td>31</td>\n    </tr>\n    <tr>\n      <th>3</th>\n      <td>2019-01-01 07:17:06</td>\n      <td>FC00002</td>\n      <td>WH00003</td>\n      <td>18</td>\n    </tr>\n    <tr>\n      <th>4</th>\n      <td>2019-01-01 07:52:18</td>\n      <td>FC00001</td>\n      <td>WH00002</td>\n      <td>30</td>\n    </tr>\n  </tbody>\n</table>\n</div>"
     },
     "metadata": {},
     "execution_count": 5
    }
   ],
   "source": [
    "trans = pd.read_csv(\"tbl_transaction.csv\", index_col=0)\n",
    "trans.head()"
   ]
  }
 ]
}