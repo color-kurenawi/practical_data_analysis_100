{
 "metadata": {
  "language_info": {
   "codemirror_mode": {
    "name": "ipython",
    "version": 3
   },
   "file_extension": ".py",
   "mimetype": "text/x-python",
   "name": "python",
   "nbconvert_exporter": "python",
   "pygments_lexer": "ipython3",
   "version": "3.6.9-final"
  },
  "orig_nbformat": 2,
  "kernelspec": {
   "name": "python3",
   "display_name": "Python 3",
   "language": "python"
  }
 },
 "nbformat": 4,
 "nbformat_minor": 2,
 "cells": [
  {
   "source": [
    "# 第6章 物流の最適ルートをコンサルティングする10本ノック"
   ],
   "cell_type": "markdown",
   "metadata": {}
  },
  {
   "cell_type": "code",
   "execution_count": 1,
   "metadata": {},
   "outputs": [],
   "source": [
    "# 下準備として，データのあるディレクトリに移動しておく\n",
    "import os\n",
    "\n",
    "DATA_ROOT_DIR = \"./sample/6章/\"\n",
    "os.chdir(DATA_ROOT_DIR)"
   ]
  },
  {
   "source": [
    "## ノック51 物流に関するデータを読み込んでみよう\n",
    "データを読み込み．テーブルを結合していく．"
   ],
   "cell_type": "markdown",
   "metadata": {}
  },
  {
   "cell_type": "code",
   "execution_count": 2,
   "metadata": {},
   "outputs": [
    {
     "output_type": "execute_result",
     "data": {
      "text/plain": [
       "        FCName  FCDemand FCRegion\n",
       "FCID                             \n",
       "FC00001   東京工場        28       関東\n",
       "FC00002  木更津工場        29       関東\n",
       "FC00003   多摩工場        31       関東\n",
       "FC00004  横須賀工場        25       関東\n",
       "FC00005   仙台工場        21       東北\n",
       "FC00006   山形工場        30       東北\n",
       "FC00007   那須工場        25       東北\n",
       "FC00008   青森工場        16       東北"
      ],
      "text/html": "<div>\n<style scoped>\n    .dataframe tbody tr th:only-of-type {\n        vertical-align: middle;\n    }\n\n    .dataframe tbody tr th {\n        vertical-align: top;\n    }\n\n    .dataframe thead th {\n        text-align: right;\n    }\n</style>\n<table border=\"1\" class=\"dataframe\">\n  <thead>\n    <tr style=\"text-align: right;\">\n      <th></th>\n      <th>FCName</th>\n      <th>FCDemand</th>\n      <th>FCRegion</th>\n    </tr>\n    <tr>\n      <th>FCID</th>\n      <th></th>\n      <th></th>\n      <th></th>\n    </tr>\n  </thead>\n  <tbody>\n    <tr>\n      <th>FC00001</th>\n      <td>東京工場</td>\n      <td>28</td>\n      <td>関東</td>\n    </tr>\n    <tr>\n      <th>FC00002</th>\n      <td>木更津工場</td>\n      <td>29</td>\n      <td>関東</td>\n    </tr>\n    <tr>\n      <th>FC00003</th>\n      <td>多摩工場</td>\n      <td>31</td>\n      <td>関東</td>\n    </tr>\n    <tr>\n      <th>FC00004</th>\n      <td>横須賀工場</td>\n      <td>25</td>\n      <td>関東</td>\n    </tr>\n    <tr>\n      <th>FC00005</th>\n      <td>仙台工場</td>\n      <td>21</td>\n      <td>東北</td>\n    </tr>\n    <tr>\n      <th>FC00006</th>\n      <td>山形工場</td>\n      <td>30</td>\n      <td>東北</td>\n    </tr>\n    <tr>\n      <th>FC00007</th>\n      <td>那須工場</td>\n      <td>25</td>\n      <td>東北</td>\n    </tr>\n    <tr>\n      <th>FC00008</th>\n      <td>青森工場</td>\n      <td>16</td>\n      <td>東北</td>\n    </tr>\n  </tbody>\n</table>\n</div>"
     },
     "metadata": {},
     "execution_count": 2
    }
   ],
   "source": [
    "import pandas as pd\n",
    "\n",
    "factories = pd.read_csv(\"tbl_factory.csv\", index_col=0)\n",
    "factories"
   ]
  },
  {
   "cell_type": "code",
   "execution_count": 3,
   "metadata": {},
   "outputs": [
    {
     "output_type": "execute_result",
     "data": {
      "text/plain": [
       "        WHName  WHSupply WHRegion\n",
       "WHID                             \n",
       "WH00001   杉並倉庫        35       関東\n",
       "WH00002   品川倉庫        41       関東\n",
       "WH00003   豊洲倉庫        42       関東\n",
       "WH00004   郡山倉庫        60       東北\n",
       "WH00005   仙台倉庫        72       東北\n",
       "WH00006   山形倉庫        65       東北"
      ],
      "text/html": "<div>\n<style scoped>\n    .dataframe tbody tr th:only-of-type {\n        vertical-align: middle;\n    }\n\n    .dataframe tbody tr th {\n        vertical-align: top;\n    }\n\n    .dataframe thead th {\n        text-align: right;\n    }\n</style>\n<table border=\"1\" class=\"dataframe\">\n  <thead>\n    <tr style=\"text-align: right;\">\n      <th></th>\n      <th>WHName</th>\n      <th>WHSupply</th>\n      <th>WHRegion</th>\n    </tr>\n    <tr>\n      <th>WHID</th>\n      <th></th>\n      <th></th>\n      <th></th>\n    </tr>\n  </thead>\n  <tbody>\n    <tr>\n      <th>WH00001</th>\n      <td>杉並倉庫</td>\n      <td>35</td>\n      <td>関東</td>\n    </tr>\n    <tr>\n      <th>WH00002</th>\n      <td>品川倉庫</td>\n      <td>41</td>\n      <td>関東</td>\n    </tr>\n    <tr>\n      <th>WH00003</th>\n      <td>豊洲倉庫</td>\n      <td>42</td>\n      <td>関東</td>\n    </tr>\n    <tr>\n      <th>WH00004</th>\n      <td>郡山倉庫</td>\n      <td>60</td>\n      <td>東北</td>\n    </tr>\n    <tr>\n      <th>WH00005</th>\n      <td>仙台倉庫</td>\n      <td>72</td>\n      <td>東北</td>\n    </tr>\n    <tr>\n      <th>WH00006</th>\n      <td>山形倉庫</td>\n      <td>65</td>\n      <td>東北</td>\n    </tr>\n  </tbody>\n</table>\n</div>"
     },
     "metadata": {},
     "execution_count": 3
    }
   ],
   "source": [
    "warehouses = pd.read_csv(\"tbl_warehouse.csv\", index_col=0)\n",
    "warehouses"
   ]
  },
  {
   "cell_type": "code",
   "execution_count": 4,
   "metadata": {},
   "outputs": [
    {
     "output_type": "execute_result",
     "data": {
      "text/plain": [
       "            FCID     WHID  Cost\n",
       "RCostID                        \n",
       "1        FC00001  WH00001   0.4\n",
       "2        FC00001  WH00002   0.8\n",
       "3        FC00001  WH00003   1.5\n",
       "4        FC00002  WH00001   0.9\n",
       "5        FC00002  WH00002   0.8"
      ],
      "text/html": "<div>\n<style scoped>\n    .dataframe tbody tr th:only-of-type {\n        vertical-align: middle;\n    }\n\n    .dataframe tbody tr th {\n        vertical-align: top;\n    }\n\n    .dataframe thead th {\n        text-align: right;\n    }\n</style>\n<table border=\"1\" class=\"dataframe\">\n  <thead>\n    <tr style=\"text-align: right;\">\n      <th></th>\n      <th>FCID</th>\n      <th>WHID</th>\n      <th>Cost</th>\n    </tr>\n    <tr>\n      <th>RCostID</th>\n      <th></th>\n      <th></th>\n      <th></th>\n    </tr>\n  </thead>\n  <tbody>\n    <tr>\n      <th>1</th>\n      <td>FC00001</td>\n      <td>WH00001</td>\n      <td>0.4</td>\n    </tr>\n    <tr>\n      <th>2</th>\n      <td>FC00001</td>\n      <td>WH00002</td>\n      <td>0.8</td>\n    </tr>\n    <tr>\n      <th>3</th>\n      <td>FC00001</td>\n      <td>WH00003</td>\n      <td>1.5</td>\n    </tr>\n    <tr>\n      <th>4</th>\n      <td>FC00002</td>\n      <td>WH00001</td>\n      <td>0.9</td>\n    </tr>\n    <tr>\n      <th>5</th>\n      <td>FC00002</td>\n      <td>WH00002</td>\n      <td>0.8</td>\n    </tr>\n  </tbody>\n</table>\n</div>"
     },
     "metadata": {},
     "execution_count": 4
    }
   ],
   "source": [
    "cost = pd.read_csv(\"rel_cost.csv\", index_col=0)\n",
    "cost.head()"
   ]
  },
  {
   "cell_type": "code",
   "execution_count": 5,
   "metadata": {},
   "outputs": [
    {
     "output_type": "execute_result",
     "data": {
      "text/plain": [
       "          TransactionDate     ToFC   FromWH  Quantity\n",
       "TRID                                                 \n",
       "0     2019-01-01 02:11:10  FC00004  WH00003        33\n",
       "1     2019-01-01 06:12:42  FC00007  WH00006        19\n",
       "2     2019-01-01 06:32:32  FC00006  WH00004        31\n",
       "3     2019-01-01 07:17:06  FC00002  WH00003        18\n",
       "4     2019-01-01 07:52:18  FC00001  WH00002        30"
      ],
      "text/html": "<div>\n<style scoped>\n    .dataframe tbody tr th:only-of-type {\n        vertical-align: middle;\n    }\n\n    .dataframe tbody tr th {\n        vertical-align: top;\n    }\n\n    .dataframe thead th {\n        text-align: right;\n    }\n</style>\n<table border=\"1\" class=\"dataframe\">\n  <thead>\n    <tr style=\"text-align: right;\">\n      <th></th>\n      <th>TransactionDate</th>\n      <th>ToFC</th>\n      <th>FromWH</th>\n      <th>Quantity</th>\n    </tr>\n    <tr>\n      <th>TRID</th>\n      <th></th>\n      <th></th>\n      <th></th>\n      <th></th>\n    </tr>\n  </thead>\n  <tbody>\n    <tr>\n      <th>0</th>\n      <td>2019-01-01 02:11:10</td>\n      <td>FC00004</td>\n      <td>WH00003</td>\n      <td>33</td>\n    </tr>\n    <tr>\n      <th>1</th>\n      <td>2019-01-01 06:12:42</td>\n      <td>FC00007</td>\n      <td>WH00006</td>\n      <td>19</td>\n    </tr>\n    <tr>\n      <th>2</th>\n      <td>2019-01-01 06:32:32</td>\n      <td>FC00006</td>\n      <td>WH00004</td>\n      <td>31</td>\n    </tr>\n    <tr>\n      <th>3</th>\n      <td>2019-01-01 07:17:06</td>\n      <td>FC00002</td>\n      <td>WH00003</td>\n      <td>18</td>\n    </tr>\n    <tr>\n      <th>4</th>\n      <td>2019-01-01 07:52:18</td>\n      <td>FC00001</td>\n      <td>WH00002</td>\n      <td>30</td>\n    </tr>\n  </tbody>\n</table>\n</div>"
     },
     "metadata": {},
     "execution_count": 5
    }
   ],
   "source": [
    "trans = pd.read_csv(\"tbl_transaction.csv\", index_col=0)\n",
    "trans.head()"
   ]
  },
  {
   "source": [
    "# FC = factory, WH = warehouse\n",
    "# 輸送実績を主としてテーブルを結合\n",
    "\n",
    "join_data = pd.merge(trans, cost, left_on=[\"ToFC\", \"FromWH\"], right_on=[\"FCID\", \"WHID\"], how=\"left\")\n",
    "join_data.head()"
   ],
   "cell_type": "code",
   "metadata": {},
   "execution_count": 6,
   "outputs": [
    {
     "output_type": "execute_result",
     "data": {
      "text/plain": [
       "       TransactionDate     ToFC   FromWH  Quantity     FCID     WHID  Cost\n",
       "0  2019-01-01 02:11:10  FC00004  WH00003        33  FC00004  WH00003   1.1\n",
       "1  2019-01-01 06:12:42  FC00007  WH00006        19  FC00007  WH00006   1.3\n",
       "2  2019-01-01 06:32:32  FC00006  WH00004        31  FC00006  WH00004   0.9\n",
       "3  2019-01-01 07:17:06  FC00002  WH00003        18  FC00002  WH00003   1.6\n",
       "4  2019-01-01 07:52:18  FC00001  WH00002        30  FC00001  WH00002   0.8"
      ],
      "text/html": "<div>\n<style scoped>\n    .dataframe tbody tr th:only-of-type {\n        vertical-align: middle;\n    }\n\n    .dataframe tbody tr th {\n        vertical-align: top;\n    }\n\n    .dataframe thead th {\n        text-align: right;\n    }\n</style>\n<table border=\"1\" class=\"dataframe\">\n  <thead>\n    <tr style=\"text-align: right;\">\n      <th></th>\n      <th>TransactionDate</th>\n      <th>ToFC</th>\n      <th>FromWH</th>\n      <th>Quantity</th>\n      <th>FCID</th>\n      <th>WHID</th>\n      <th>Cost</th>\n    </tr>\n  </thead>\n  <tbody>\n    <tr>\n      <th>0</th>\n      <td>2019-01-01 02:11:10</td>\n      <td>FC00004</td>\n      <td>WH00003</td>\n      <td>33</td>\n      <td>FC00004</td>\n      <td>WH00003</td>\n      <td>1.1</td>\n    </tr>\n    <tr>\n      <th>1</th>\n      <td>2019-01-01 06:12:42</td>\n      <td>FC00007</td>\n      <td>WH00006</td>\n      <td>19</td>\n      <td>FC00007</td>\n      <td>WH00006</td>\n      <td>1.3</td>\n    </tr>\n    <tr>\n      <th>2</th>\n      <td>2019-01-01 06:32:32</td>\n      <td>FC00006</td>\n      <td>WH00004</td>\n      <td>31</td>\n      <td>FC00006</td>\n      <td>WH00004</td>\n      <td>0.9</td>\n    </tr>\n    <tr>\n      <th>3</th>\n      <td>2019-01-01 07:17:06</td>\n      <td>FC00002</td>\n      <td>WH00003</td>\n      <td>18</td>\n      <td>FC00002</td>\n      <td>WH00003</td>\n      <td>1.6</td>\n    </tr>\n    <tr>\n      <th>4</th>\n      <td>2019-01-01 07:52:18</td>\n      <td>FC00001</td>\n      <td>WH00002</td>\n      <td>30</td>\n      <td>FC00001</td>\n      <td>WH00002</td>\n      <td>0.8</td>\n    </tr>\n  </tbody>\n</table>\n</div>"
     },
     "metadata": {},
     "execution_count": 6
    }
   ]
  },
  {
   "cell_type": "code",
   "execution_count": 7,
   "metadata": {},
   "outputs": [
    {
     "output_type": "execute_result",
     "data": {
      "text/plain": [
       "       TransactionDate     ToFC   FromWH  Quantity     FCID     WHID  Cost  \\\n",
       "0  2019-01-01 02:11:10  FC00004  WH00003        33  FC00004  WH00003   1.1   \n",
       "1  2019-01-01 06:12:42  FC00007  WH00006        19  FC00007  WH00006   1.3   \n",
       "2  2019-01-01 06:32:32  FC00006  WH00004        31  FC00006  WH00004   0.9   \n",
       "3  2019-01-01 07:17:06  FC00002  WH00003        18  FC00002  WH00003   1.6   \n",
       "4  2019-01-01 07:52:18  FC00001  WH00002        30  FC00001  WH00002   0.8   \n",
       "\n",
       "  FCName  FCDemand FCRegion  \n",
       "0  横須賀工場        25       関東  \n",
       "1   那須工場        25       東北  \n",
       "2   山形工場        30       東北  \n",
       "3  木更津工場        29       関東  \n",
       "4   東京工場        28       関東  "
      ],
      "text/html": "<div>\n<style scoped>\n    .dataframe tbody tr th:only-of-type {\n        vertical-align: middle;\n    }\n\n    .dataframe tbody tr th {\n        vertical-align: top;\n    }\n\n    .dataframe thead th {\n        text-align: right;\n    }\n</style>\n<table border=\"1\" class=\"dataframe\">\n  <thead>\n    <tr style=\"text-align: right;\">\n      <th></th>\n      <th>TransactionDate</th>\n      <th>ToFC</th>\n      <th>FromWH</th>\n      <th>Quantity</th>\n      <th>FCID</th>\n      <th>WHID</th>\n      <th>Cost</th>\n      <th>FCName</th>\n      <th>FCDemand</th>\n      <th>FCRegion</th>\n    </tr>\n  </thead>\n  <tbody>\n    <tr>\n      <th>0</th>\n      <td>2019-01-01 02:11:10</td>\n      <td>FC00004</td>\n      <td>WH00003</td>\n      <td>33</td>\n      <td>FC00004</td>\n      <td>WH00003</td>\n      <td>1.1</td>\n      <td>横須賀工場</td>\n      <td>25</td>\n      <td>関東</td>\n    </tr>\n    <tr>\n      <th>1</th>\n      <td>2019-01-01 06:12:42</td>\n      <td>FC00007</td>\n      <td>WH00006</td>\n      <td>19</td>\n      <td>FC00007</td>\n      <td>WH00006</td>\n      <td>1.3</td>\n      <td>那須工場</td>\n      <td>25</td>\n      <td>東北</td>\n    </tr>\n    <tr>\n      <th>2</th>\n      <td>2019-01-01 06:32:32</td>\n      <td>FC00006</td>\n      <td>WH00004</td>\n      <td>31</td>\n      <td>FC00006</td>\n      <td>WH00004</td>\n      <td>0.9</td>\n      <td>山形工場</td>\n      <td>30</td>\n      <td>東北</td>\n    </tr>\n    <tr>\n      <th>3</th>\n      <td>2019-01-01 07:17:06</td>\n      <td>FC00002</td>\n      <td>WH00003</td>\n      <td>18</td>\n      <td>FC00002</td>\n      <td>WH00003</td>\n      <td>1.6</td>\n      <td>木更津工場</td>\n      <td>29</td>\n      <td>関東</td>\n    </tr>\n    <tr>\n      <th>4</th>\n      <td>2019-01-01 07:52:18</td>\n      <td>FC00001</td>\n      <td>WH00002</td>\n      <td>30</td>\n      <td>FC00001</td>\n      <td>WH00002</td>\n      <td>0.8</td>\n      <td>東京工場</td>\n      <td>28</td>\n      <td>関東</td>\n    </tr>\n  </tbody>\n</table>\n</div>"
     },
     "metadata": {},
     "execution_count": 7
    }
   ],
   "source": [
    "join_data = pd.merge(join_data, factories, left_on=\"ToFC\", right_on=\"FCID\", how=\"left\")\n",
    "join_data.head()"
   ]
  },
  {
   "cell_type": "code",
   "execution_count": 8,
   "metadata": {},
   "outputs": [
    {
     "output_type": "execute_result",
     "data": {
      "text/plain": [
       "       TransactionDate  Quantity  Cost     ToFC FCName  FCDemand   FromWH  \\\n",
       "0  2019-01-01 02:11:10        33   1.1  FC00004  横須賀工場        25  WH00003   \n",
       "1  2019-01-01 06:12:42        19   1.3  FC00007   那須工場        25  WH00006   \n",
       "2  2019-01-01 06:32:32        31   0.9  FC00006   山形工場        30  WH00004   \n",
       "3  2019-01-01 07:17:06        18   1.6  FC00002  木更津工場        29  WH00003   \n",
       "4  2019-01-01 07:52:18        30   0.8  FC00001   東京工場        28  WH00002   \n",
       "\n",
       "  WHName  WHSupply WHRegion  \n",
       "0   豊洲倉庫        42       関東  \n",
       "1   山形倉庫        65       東北  \n",
       "2   郡山倉庫        60       東北  \n",
       "3   豊洲倉庫        42       関東  \n",
       "4   品川倉庫        41       関東  "
      ],
      "text/html": "<div>\n<style scoped>\n    .dataframe tbody tr th:only-of-type {\n        vertical-align: middle;\n    }\n\n    .dataframe tbody tr th {\n        vertical-align: top;\n    }\n\n    .dataframe thead th {\n        text-align: right;\n    }\n</style>\n<table border=\"1\" class=\"dataframe\">\n  <thead>\n    <tr style=\"text-align: right;\">\n      <th></th>\n      <th>TransactionDate</th>\n      <th>Quantity</th>\n      <th>Cost</th>\n      <th>ToFC</th>\n      <th>FCName</th>\n      <th>FCDemand</th>\n      <th>FromWH</th>\n      <th>WHName</th>\n      <th>WHSupply</th>\n      <th>WHRegion</th>\n    </tr>\n  </thead>\n  <tbody>\n    <tr>\n      <th>0</th>\n      <td>2019-01-01 02:11:10</td>\n      <td>33</td>\n      <td>1.1</td>\n      <td>FC00004</td>\n      <td>横須賀工場</td>\n      <td>25</td>\n      <td>WH00003</td>\n      <td>豊洲倉庫</td>\n      <td>42</td>\n      <td>関東</td>\n    </tr>\n    <tr>\n      <th>1</th>\n      <td>2019-01-01 06:12:42</td>\n      <td>19</td>\n      <td>1.3</td>\n      <td>FC00007</td>\n      <td>那須工場</td>\n      <td>25</td>\n      <td>WH00006</td>\n      <td>山形倉庫</td>\n      <td>65</td>\n      <td>東北</td>\n    </tr>\n    <tr>\n      <th>2</th>\n      <td>2019-01-01 06:32:32</td>\n      <td>31</td>\n      <td>0.9</td>\n      <td>FC00006</td>\n      <td>山形工場</td>\n      <td>30</td>\n      <td>WH00004</td>\n      <td>郡山倉庫</td>\n      <td>60</td>\n      <td>東北</td>\n    </tr>\n    <tr>\n      <th>3</th>\n      <td>2019-01-01 07:17:06</td>\n      <td>18</td>\n      <td>1.6</td>\n      <td>FC00002</td>\n      <td>木更津工場</td>\n      <td>29</td>\n      <td>WH00003</td>\n      <td>豊洲倉庫</td>\n      <td>42</td>\n      <td>関東</td>\n    </tr>\n    <tr>\n      <th>4</th>\n      <td>2019-01-01 07:52:18</td>\n      <td>30</td>\n      <td>0.8</td>\n      <td>FC00001</td>\n      <td>東京工場</td>\n      <td>28</td>\n      <td>WH00002</td>\n      <td>品川倉庫</td>\n      <td>41</td>\n      <td>関東</td>\n    </tr>\n  </tbody>\n</table>\n</div>"
     },
     "metadata": {},
     "execution_count": 8
    }
   ],
   "source": [
    "join_data = pd.merge(join_data, warehouses, left_on=\"FromWH\", right_on=\"WHID\", how=\"left\")\n",
    "join_data = join_data[[\"TransactionDate\", \"Quantity\", \"Cost\", \"ToFC\", \"FCName\", \"FCDemand\", \"FromWH\", \"WHName\", \"WHSupply\", \"WHRegion\"]]\n",
    "join_data.head()"
   ]
  },
  {
   "cell_type": "code",
   "execution_count": 9,
   "metadata": {},
   "outputs": [
    {
     "output_type": "execute_result",
     "data": {
      "text/plain": [
       "       TransactionDate  Quantity  Cost     ToFC FCName  FCDemand   FromWH  \\\n",
       "0  2019-01-01 02:11:10        33   1.1  FC00004  横須賀工場        25  WH00003   \n",
       "3  2019-01-01 07:17:06        18   1.6  FC00002  木更津工場        29  WH00003   \n",
       "4  2019-01-01 07:52:18        30   0.8  FC00001   東京工場        28  WH00002   \n",
       "7  2019-01-01 09:09:30        12   1.5  FC00001   東京工場        28  WH00003   \n",
       "8  2019-01-01 10:52:55        27   1.5  FC00003   多摩工場        31  WH00003   \n",
       "\n",
       "  WHName  WHSupply WHRegion  \n",
       "0   豊洲倉庫        42       関東  \n",
       "3   豊洲倉庫        42       関東  \n",
       "4   品川倉庫        41       関東  \n",
       "7   豊洲倉庫        42       関東  \n",
       "8   豊洲倉庫        42       関東  "
      ],
      "text/html": "<div>\n<style scoped>\n    .dataframe tbody tr th:only-of-type {\n        vertical-align: middle;\n    }\n\n    .dataframe tbody tr th {\n        vertical-align: top;\n    }\n\n    .dataframe thead th {\n        text-align: right;\n    }\n</style>\n<table border=\"1\" class=\"dataframe\">\n  <thead>\n    <tr style=\"text-align: right;\">\n      <th></th>\n      <th>TransactionDate</th>\n      <th>Quantity</th>\n      <th>Cost</th>\n      <th>ToFC</th>\n      <th>FCName</th>\n      <th>FCDemand</th>\n      <th>FromWH</th>\n      <th>WHName</th>\n      <th>WHSupply</th>\n      <th>WHRegion</th>\n    </tr>\n  </thead>\n  <tbody>\n    <tr>\n      <th>0</th>\n      <td>2019-01-01 02:11:10</td>\n      <td>33</td>\n      <td>1.1</td>\n      <td>FC00004</td>\n      <td>横須賀工場</td>\n      <td>25</td>\n      <td>WH00003</td>\n      <td>豊洲倉庫</td>\n      <td>42</td>\n      <td>関東</td>\n    </tr>\n    <tr>\n      <th>3</th>\n      <td>2019-01-01 07:17:06</td>\n      <td>18</td>\n      <td>1.6</td>\n      <td>FC00002</td>\n      <td>木更津工場</td>\n      <td>29</td>\n      <td>WH00003</td>\n      <td>豊洲倉庫</td>\n      <td>42</td>\n      <td>関東</td>\n    </tr>\n    <tr>\n      <th>4</th>\n      <td>2019-01-01 07:52:18</td>\n      <td>30</td>\n      <td>0.8</td>\n      <td>FC00001</td>\n      <td>東京工場</td>\n      <td>28</td>\n      <td>WH00002</td>\n      <td>品川倉庫</td>\n      <td>41</td>\n      <td>関東</td>\n    </tr>\n    <tr>\n      <th>7</th>\n      <td>2019-01-01 09:09:30</td>\n      <td>12</td>\n      <td>1.5</td>\n      <td>FC00001</td>\n      <td>東京工場</td>\n      <td>28</td>\n      <td>WH00003</td>\n      <td>豊洲倉庫</td>\n      <td>42</td>\n      <td>関東</td>\n    </tr>\n    <tr>\n      <th>8</th>\n      <td>2019-01-01 10:52:55</td>\n      <td>27</td>\n      <td>1.5</td>\n      <td>FC00003</td>\n      <td>多摩工場</td>\n      <td>31</td>\n      <td>WH00003</td>\n      <td>豊洲倉庫</td>\n      <td>42</td>\n      <td>関東</td>\n    </tr>\n  </tbody>\n</table>\n</div>"
     },
     "metadata": {},
     "execution_count": 9
    }
   ],
   "source": [
    "kanto = join_data.loc[join_data[\"WHRegion\"] == \"関東\"]\n",
    "kanto.head()"
   ]
  },
  {
   "cell_type": "code",
   "execution_count": 10,
   "metadata": {},
   "outputs": [
    {
     "output_type": "execute_result",
     "data": {
      "text/plain": [
       "       TransactionDate  Quantity  Cost     ToFC FCName  FCDemand   FromWH  \\\n",
       "1  2019-01-01 06:12:42        19   1.3  FC00007   那須工場        25  WH00006   \n",
       "2  2019-01-01 06:32:32        31   0.9  FC00006   山形工場        30  WH00004   \n",
       "5  2019-01-01 08:56:09        31   0.3  FC00005   仙台工場        21  WH00005   \n",
       "6  2019-01-01 09:00:15        33   0.7  FC00006   山形工場        30  WH00006   \n",
       "9  2019-01-01 14:12:51        21   0.7  FC00006   山形工場        30  WH00006   \n",
       "\n",
       "  WHName  WHSupply WHRegion  \n",
       "1   山形倉庫        65       東北  \n",
       "2   郡山倉庫        60       東北  \n",
       "5   仙台倉庫        72       東北  \n",
       "6   山形倉庫        65       東北  \n",
       "9   山形倉庫        65       東北  "
      ],
      "text/html": "<div>\n<style scoped>\n    .dataframe tbody tr th:only-of-type {\n        vertical-align: middle;\n    }\n\n    .dataframe tbody tr th {\n        vertical-align: top;\n    }\n\n    .dataframe thead th {\n        text-align: right;\n    }\n</style>\n<table border=\"1\" class=\"dataframe\">\n  <thead>\n    <tr style=\"text-align: right;\">\n      <th></th>\n      <th>TransactionDate</th>\n      <th>Quantity</th>\n      <th>Cost</th>\n      <th>ToFC</th>\n      <th>FCName</th>\n      <th>FCDemand</th>\n      <th>FromWH</th>\n      <th>WHName</th>\n      <th>WHSupply</th>\n      <th>WHRegion</th>\n    </tr>\n  </thead>\n  <tbody>\n    <tr>\n      <th>1</th>\n      <td>2019-01-01 06:12:42</td>\n      <td>19</td>\n      <td>1.3</td>\n      <td>FC00007</td>\n      <td>那須工場</td>\n      <td>25</td>\n      <td>WH00006</td>\n      <td>山形倉庫</td>\n      <td>65</td>\n      <td>東北</td>\n    </tr>\n    <tr>\n      <th>2</th>\n      <td>2019-01-01 06:32:32</td>\n      <td>31</td>\n      <td>0.9</td>\n      <td>FC00006</td>\n      <td>山形工場</td>\n      <td>30</td>\n      <td>WH00004</td>\n      <td>郡山倉庫</td>\n      <td>60</td>\n      <td>東北</td>\n    </tr>\n    <tr>\n      <th>5</th>\n      <td>2019-01-01 08:56:09</td>\n      <td>31</td>\n      <td>0.3</td>\n      <td>FC00005</td>\n      <td>仙台工場</td>\n      <td>21</td>\n      <td>WH00005</td>\n      <td>仙台倉庫</td>\n      <td>72</td>\n      <td>東北</td>\n    </tr>\n    <tr>\n      <th>6</th>\n      <td>2019-01-01 09:00:15</td>\n      <td>33</td>\n      <td>0.7</td>\n      <td>FC00006</td>\n      <td>山形工場</td>\n      <td>30</td>\n      <td>WH00006</td>\n      <td>山形倉庫</td>\n      <td>65</td>\n      <td>東北</td>\n    </tr>\n    <tr>\n      <th>9</th>\n      <td>2019-01-01 14:12:51</td>\n      <td>21</td>\n      <td>0.7</td>\n      <td>FC00006</td>\n      <td>山形工場</td>\n      <td>30</td>\n      <td>WH00006</td>\n      <td>山形倉庫</td>\n      <td>65</td>\n      <td>東北</td>\n    </tr>\n  </tbody>\n</table>\n</div>"
     },
     "metadata": {},
     "execution_count": 10
    }
   ],
   "source": [
    "tohoku = join_data.loc[join_data[\"WHRegion\"] == \"東北\"]\n",
    "tohoku.head()"
   ]
  },
  {
   "source": [
    "## ノック52 現状の輸送量，コストを確認してみよう\n",
    "基本的な統計量を眺めていく"
   ],
   "cell_type": "markdown",
   "metadata": {}
  },
  {
   "cell_type": "code",
   "execution_count": 11,
   "metadata": {},
   "outputs": [
    {
     "output_type": "stream",
     "name": "stdout",
     "text": [
      "関東支社の総コスト: 2189.3万円\n東北支社の総コスト: 2062.0万円\n"
     ]
    }
   ],
   "source": [
    "print(\"関東支社の総コスト: \" + str(kanto[\"Cost\"].sum()) + \"万円\")\n",
    "print(\"東北支社の総コスト: \" + str(tohoku[\"Cost\"].sum()) + \"万円\")"
   ]
  },
  {
   "cell_type": "code",
   "execution_count": 12,
   "metadata": {},
   "outputs": [
    {
     "output_type": "stream",
     "name": "stdout",
     "text": [
      "関東支社の総部品輸送個数: 49146個\n東北支社の総部品輸送個数: 50214個\n"
     ]
    }
   ],
   "source": [
    "print(\"関東支社の総部品輸送個数: \" + str(kanto[\"Quantity\"].sum()) + \"個\")\n",
    "print(\"東北支社の総部品輸送個数: \" + str(tohoku[\"Quantity\"].sum()) + \"個\")"
   ]
  },
  {
   "source": [
    "tmp = (kanto[\"Cost\"].sum()/kanto[\"Quantity\"].sum()) * 10000\n",
    "print(\"関東支社の部品1つ当たりの輸送コスト: \" + str(int(tmp)) + \"円\")\n",
    "tmp = (tohoku[\"Cost\"].sum()/tohoku[\"Quantity\"].sum()) * 10000\n",
    "print(\"東北支社の部品1つ当たりの輸送コスト: \" + str(int(tmp)) + \"円\") "
   ],
   "cell_type": "code",
   "metadata": {},
   "execution_count": 13,
   "outputs": [
    {
     "output_type": "stream",
     "name": "stdout",
     "text": [
      "関東支社の部品1つ当たりの輸送コスト: 445円\n東北支社の部品1つ当たりの輸送コスト: 410円\n"
     ]
    }
   ]
  },
  {
   "cell_type": "code",
   "execution_count": 14,
   "metadata": {},
   "outputs": [
    {
     "output_type": "stream",
     "name": "stdout",
     "text": [
      "東京支社の平均輸送コスト:  1.075\n東北支社の平均輸送コスト:  1.05\n"
     ]
    }
   ],
   "source": [
    "cost_chk = pd.merge(cost, factories, on=\"FCID\", how=\"left\")\n",
    "print(\"東京支社の平均輸送コスト: \", str(cost_chk[\"Cost\"].loc[cost_chk[\"FCRegion\"] == \"関東\"].mean()))\n",
    "print(\"東北支社の平均輸送コスト: \", str(cost_chk[\"Cost\"].loc[cost_chk[\"FCRegion\"] == \"東北\"].mean()))"
   ]
  },
  {
   "source": [
    "ネットワーク系Pythonライブラリ「NetworkX」を用いる．\n",
    "## ノック53 ネットワークを可視化してみよう"
   ],
   "cell_type": "markdown",
   "metadata": {}
  },
  {
   "source": [
    "import networkx as nx\n",
    "import matplotlib.pyplot as plt\n",
    "%matplotlib inline\n",
    "\n",
    "G = nx.Graph()\n",
    "\n",
    "G.add_node(\"nodeA\")\n",
    "G.add_node(\"nodeB\")\n",
    "G.add_node(\"nodeC\")\n",
    "\n",
    "G.add_edge(\"nodeA\", \"nodeB\")\n",
    "G.add_edge(\"nodeA\", \"nodeC\")\n",
    "G.add_edge(\"nodeB\", \"nodeC\")\n",
    "\n",
    "pos = {}\n",
    "pos[\"nodeA\"] = (0, 0)\n",
    "pos[\"nodeB\"] = (1, 1)\n",
    "pos[\"nodeC\"] = (0, 1)\n",
    "\n",
    "nx.draw(G, pos)\n"
   ],
   "cell_type": "code",
   "metadata": {},
   "execution_count": 15,
   "outputs": [
    {
     "output_type": "display_data",
     "data": {
      "text/plain": "<Figure size 432x288 with 1 Axes>",
      "image/svg+xml": "<?xml version=\"1.0\" encoding=\"utf-8\" standalone=\"no\"?>\n<!DOCTYPE svg PUBLIC \"-//W3C//DTD SVG 1.1//EN\"\n  \"http://www.w3.org/Graphics/SVG/1.1/DTD/svg11.dtd\">\n<!-- Created with matplotlib (https://matplotlib.org/) -->\n<svg height=\"302.4pt\" version=\"1.1\" viewBox=\"0 0 446.4 302.4\" width=\"446.4pt\" xmlns=\"http://www.w3.org/2000/svg\" xmlns:xlink=\"http://www.w3.org/1999/xlink\">\n <metadata>\n  <rdf:RDF xmlns:cc=\"http://creativecommons.org/ns#\" xmlns:dc=\"http://purl.org/dc/elements/1.1/\" xmlns:rdf=\"http://www.w3.org/1999/02/22-rdf-syntax-ns#\">\n   <cc:Work>\n    <dc:type rdf:resource=\"http://purl.org/dc/dcmitype/StillImage\"/>\n    <dc:date>2020-12-16T21:33:12.702797</dc:date>\n    <dc:format>image/svg+xml</dc:format>\n    <dc:creator>\n     <cc:Agent>\n      <dc:title>Matplotlib v3.3.3, https://matplotlib.org/</dc:title>\n     </cc:Agent>\n    </dc:creator>\n   </cc:Work>\n  </rdf:RDF>\n </metadata>\n <defs>\n  <style type=\"text/css\">*{stroke-linecap:butt;stroke-linejoin:round;}</style>\n </defs>\n <g id=\"figure_1\">\n  <g id=\"patch_1\">\n   <path d=\"M 0 302.4 \nL 446.4 302.4 \nL 446.4 0 \nL 0 0 \nz\n\" style=\"fill:#ffffff;\"/>\n  </g>\n  <g id=\"axes_1\">\n   <g id=\"LineCollection_1\">\n    <path clip-path=\"url(#p18ccc6dcdd)\" d=\"M 26.836364 282.109091 \nL 419.563636 20.290909 \n\" style=\"fill:none;stroke:#000000;\"/>\n    <path clip-path=\"url(#p18ccc6dcdd)\" d=\"M 26.836364 282.109091 \nL 26.836364 20.290909 \n\" style=\"fill:none;stroke:#000000;\"/>\n    <path clip-path=\"url(#p18ccc6dcdd)\" d=\"M 419.563636 20.290909 \nL 26.836364 20.290909 \n\" style=\"fill:none;stroke:#000000;\"/>\n   </g>\n   <g id=\"PathCollection_1\">\n    <defs>\n     <path d=\"M 0 8.660254 \nC 2.296726 8.660254 4.499694 7.747755 6.123724 6.123724 \nC 7.747755 4.499694 8.660254 2.296726 8.660254 0 \nC 8.660254 -2.296726 7.747755 -4.499694 6.123724 -6.123724 \nC 4.499694 -7.747755 2.296726 -8.660254 0 -8.660254 \nC -2.296726 -8.660254 -4.499694 -7.747755 -6.123724 -6.123724 \nC -7.747755 -4.499694 -8.660254 -2.296726 -8.660254 0 \nC -8.660254 2.296726 -7.747755 4.499694 -6.123724 6.123724 \nC -4.499694 7.747755 -2.296726 8.660254 0 8.660254 \nz\n\" id=\"md5abc48e3e\" style=\"stroke:#1f78b4;\"/>\n    </defs>\n    <g clip-path=\"url(#p18ccc6dcdd)\">\n     <use style=\"fill:#1f78b4;stroke:#1f78b4;\" x=\"26.836364\" xlink:href=\"#md5abc48e3e\" y=\"282.109091\"/>\n     <use style=\"fill:#1f78b4;stroke:#1f78b4;\" x=\"419.563636\" xlink:href=\"#md5abc48e3e\" y=\"20.290909\"/>\n     <use style=\"fill:#1f78b4;stroke:#1f78b4;\" x=\"26.836364\" xlink:href=\"#md5abc48e3e\" y=\"20.290909\"/>\n    </g>\n   </g>\n  </g>\n </g>\n <defs>\n  <clipPath id=\"p18ccc6dcdd\">\n   <rect height=\"288\" width=\"432\" x=\"7.2\" y=\"7.2\"/>\n  </clipPath>\n </defs>\n</svg>\n",
      "image/png": "[encoded data removed]"
     },
     "metadata": {}
    }
   ]
  },
  {
   "source": [
    "## ノック54 ネットワークにノード(頂点)を追加してみよう\n",
    "ノードを追加する．ノード名も表示する．"
   ],
   "cell_type": "markdown",
   "metadata": {}
  },
  {
   "cell_type": "code",
   "execution_count": 16,
   "metadata": {},
   "outputs": [
    {
     "output_type": "display_data",
     "data": {
      "text/plain": "<Figure size 432x288 with 1 Axes>",
      "image/svg+xml": "<?xml version=\"1.0\" encoding=\"utf-8\" standalone=\"no\"?>\n<!DOCTYPE svg PUBLIC \"-//W3C//DTD SVG 1.1//EN\"\n  \"http://www.w3.org/Graphics/SVG/1.1/DTD/svg11.dtd\">\n<!-- Created with matplotlib (https://matplotlib.org/) -->\n<svg height=\"302.4pt\" version=\"1.1\" viewBox=\"0 0 446.4 302.4\" width=\"446.4pt\" xmlns=\"http://www.w3.org/2000/svg\" xmlns:xlink=\"http://www.w3.org/1999/xlink\">\n <metadata>\n  <rdf:RDF xmlns:cc=\"http://creativecommons.org/ns#\" xmlns:dc=\"http://purl.org/dc/elements/1.1/\" xmlns:rdf=\"http://www.w3.org/1999/02/22-rdf-syntax-ns#\">\n   <cc:Work>\n    <dc:type rdf:resource=\"http://purl.org/dc/dcmitype/StillImage\"/>\n    <dc:date>2020-12-16T21:33:12.832335</dc:date>\n    <dc:format>image/svg+xml</dc:format>\n    <dc:creator>\n     <cc:Agent>\n      <dc:title>Matplotlib v3.3.3, https://matplotlib.org/</dc:title>\n     </cc:Agent>\n    </dc:creator>\n   </cc:Work>\n  </rdf:RDF>\n </metadata>\n <defs>\n  <style type=\"text/css\">*{stroke-linecap:butt;stroke-linejoin:round;}</style>\n </defs>\n <g id=\"figure_1\">\n  <g id=\"patch_1\">\n   <path d=\"M 0 302.4 \nL 446.4 302.4 \nL 446.4 0 \nL 0 0 \nz\n\" style=\"fill:#ffffff;\"/>\n  </g>\n  <g id=\"axes_1\">\n   <g id=\"LineCollection_1\">\n    <path clip-path=\"url(#p296898466e)\" d=\"M 26.836364 282.109091 \nL 419.563636 20.290909 \n\" style=\"fill:none;stroke:#000000;\"/>\n    <path clip-path=\"url(#p296898466e)\" d=\"M 26.836364 282.109091 \nL 26.836364 20.290909 \n\" style=\"fill:none;stroke:#000000;\"/>\n    <path clip-path=\"url(#p296898466e)\" d=\"M 26.836364 282.109091 \nL 419.563636 282.109091 \n\" style=\"fill:none;stroke:#000000;\"/>\n    <path clip-path=\"url(#p296898466e)\" d=\"M 419.563636 20.290909 \nL 26.836364 20.290909 \n\" style=\"fill:none;stroke:#000000;\"/>\n   </g>\n   <g id=\"PathCollection_1\">\n    <defs>\n     <path d=\"M 0 8.660254 \nC 2.296726 8.660254 4.499694 7.747755 6.123724 6.123724 \nC 7.747755 4.499694 8.660254 2.296726 8.660254 0 \nC 8.660254 -2.296726 7.747755 -4.499694 6.123724 -6.123724 \nC 4.499694 -7.747755 2.296726 -8.660254 0 -8.660254 \nC -2.296726 -8.660254 -4.499694 -7.747755 -6.123724 -6.123724 \nC -7.747755 -4.499694 -8.660254 -2.296726 -8.660254 0 \nC -8.660254 2.296726 -7.747755 4.499694 -6.123724 6.123724 \nC -4.499694 7.747755 -2.296726 8.660254 0 8.660254 \nz\n\" id=\"m145dabd1fd\" style=\"stroke:#1f78b4;\"/>\n    </defs>\n    <g clip-path=\"url(#p296898466e)\">\n     <use style=\"fill:#1f78b4;stroke:#1f78b4;\" x=\"26.836364\" xlink:href=\"#m145dabd1fd\" y=\"282.109091\"/>\n     <use style=\"fill:#1f78b4;stroke:#1f78b4;\" x=\"419.563636\" xlink:href=\"#m145dabd1fd\" y=\"20.290909\"/>\n     <use style=\"fill:#1f78b4;stroke:#1f78b4;\" x=\"26.836364\" xlink:href=\"#m145dabd1fd\" y=\"20.290909\"/>\n     <use style=\"fill:#1f78b4;stroke:#1f78b4;\" x=\"419.563636\" xlink:href=\"#m145dabd1fd\" y=\"282.109091\"/>\n    </g>\n   </g>\n   <g id=\"text_1\">\n    <g clip-path=\"url(#p296898466e)\">\n     <!-- nodeA -->\n     <g transform=\"translate(7.757301 285.420341)scale(0.12 -0.12)\">\n      <defs>\n       <path d=\"M 54.890625 33.015625 \nL 54.890625 0 \nL 45.90625 0 \nL 45.90625 32.71875 \nQ 45.90625 40.484375 42.875 44.328125 \nQ 39.84375 48.1875 33.796875 48.1875 \nQ 26.515625 48.1875 22.3125 43.546875 \nQ 18.109375 38.921875 18.109375 30.90625 \nL 18.109375 0 \nL 9.078125 0 \nL 9.078125 54.6875 \nL 18.109375 54.6875 \nL 18.109375 46.1875 \nQ 21.34375 51.125 25.703125 53.5625 \nQ 30.078125 56 35.796875 56 \nQ 45.21875 56 50.046875 50.171875 \nQ 54.890625 44.34375 54.890625 33.015625 \nz\n\" id=\"DejaVuSans-110\"/>\n       <path d=\"M 30.609375 48.390625 \nQ 23.390625 48.390625 19.1875 42.75 \nQ 14.984375 37.109375 14.984375 27.296875 \nQ 14.984375 17.484375 19.15625 11.84375 \nQ 23.34375 6.203125 30.609375 6.203125 \nQ 37.796875 6.203125 41.984375 11.859375 \nQ 46.1875 17.53125 46.1875 27.296875 \nQ 46.1875 37.015625 41.984375 42.703125 \nQ 37.796875 48.390625 30.609375 48.390625 \nz\nM 30.609375 56 \nQ 42.328125 56 49.015625 48.375 \nQ 55.71875 40.765625 55.71875 27.296875 \nQ 55.71875 13.875 49.015625 6.21875 \nQ 42.328125 -1.421875 30.609375 -1.421875 \nQ 18.84375 -1.421875 12.171875 6.21875 \nQ 5.515625 13.875 5.515625 27.296875 \nQ 5.515625 40.765625 12.171875 48.375 \nQ 18.84375 56 30.609375 56 \nz\n\" id=\"DejaVuSans-111\"/>\n       <path d=\"M 45.40625 46.390625 \nL 45.40625 75.984375 \nL 54.390625 75.984375 \nL 54.390625 0 \nL 45.40625 0 \nL 45.40625 8.203125 \nQ 42.578125 3.328125 38.25 0.953125 \nQ 33.9375 -1.421875 27.875 -1.421875 \nQ 17.96875 -1.421875 11.734375 6.484375 \nQ 5.515625 14.40625 5.515625 27.296875 \nQ 5.515625 40.1875 11.734375 48.09375 \nQ 17.96875 56 27.875 56 \nQ 33.9375 56 38.25 53.625 \nQ 42.578125 51.265625 45.40625 46.390625 \nz\nM 14.796875 27.296875 \nQ 14.796875 17.390625 18.875 11.75 \nQ 22.953125 6.109375 30.078125 6.109375 \nQ 37.203125 6.109375 41.296875 11.75 \nQ 45.40625 17.390625 45.40625 27.296875 \nQ 45.40625 37.203125 41.296875 42.84375 \nQ 37.203125 48.484375 30.078125 48.484375 \nQ 22.953125 48.484375 18.875 42.84375 \nQ 14.796875 37.203125 14.796875 27.296875 \nz\n\" id=\"DejaVuSans-100\"/>\n       <path d=\"M 56.203125 29.59375 \nL 56.203125 25.203125 \nL 14.890625 25.203125 \nQ 15.484375 15.921875 20.484375 11.0625 \nQ 25.484375 6.203125 34.421875 6.203125 \nQ 39.59375 6.203125 44.453125 7.46875 \nQ 49.3125 8.734375 54.109375 11.28125 \nL 54.109375 2.78125 \nQ 49.265625 0.734375 44.1875 -0.34375 \nQ 39.109375 -1.421875 33.890625 -1.421875 \nQ 20.796875 -1.421875 13.15625 6.1875 \nQ 5.515625 13.8125 5.515625 26.8125 \nQ 5.515625 40.234375 12.765625 48.109375 \nQ 20.015625 56 32.328125 56 \nQ 43.359375 56 49.78125 48.890625 \nQ 56.203125 41.796875 56.203125 29.59375 \nz\nM 47.21875 32.234375 \nQ 47.125 39.59375 43.09375 43.984375 \nQ 39.0625 48.390625 32.421875 48.390625 \nQ 24.90625 48.390625 20.390625 44.140625 \nQ 15.875 39.890625 15.1875 32.171875 \nz\n\" id=\"DejaVuSans-101\"/>\n       <path d=\"M 34.1875 63.1875 \nL 20.796875 26.90625 \nL 47.609375 26.90625 \nz\nM 28.609375 72.90625 \nL 39.796875 72.90625 \nL 67.578125 0 \nL 57.328125 0 \nL 50.6875 18.703125 \nL 17.828125 18.703125 \nL 11.1875 0 \nL 0.78125 0 \nz\n\" id=\"DejaVuSans-65\"/>\n      </defs>\n      <use xlink:href=\"#DejaVuSans-110\"/>\n      <use x=\"63.378906\" xlink:href=\"#DejaVuSans-111\"/>\n      <use x=\"124.560547\" xlink:href=\"#DejaVuSans-100\"/>\n      <use x=\"188.037109\" xlink:href=\"#DejaVuSans-101\"/>\n      <use x=\"249.560547\" xlink:href=\"#DejaVuSans-65\"/>\n     </g>\n    </g>\n   </g>\n   <g id=\"text_2\">\n    <g clip-path=\"url(#p296898466e)\">\n     <!-- nodeB -->\n     <g transform=\"translate(400.472386 23.602159)scale(0.12 -0.12)\">\n      <defs>\n       <path d=\"M 19.671875 34.8125 \nL 19.671875 8.109375 \nL 35.5 8.109375 \nQ 43.453125 8.109375 47.28125 11.40625 \nQ 51.125 14.703125 51.125 21.484375 \nQ 51.125 28.328125 47.28125 31.5625 \nQ 43.453125 34.8125 35.5 34.8125 \nz\nM 19.671875 64.796875 \nL 19.671875 42.828125 \nL 34.28125 42.828125 \nQ 41.5 42.828125 45.03125 45.53125 \nQ 48.578125 48.25 48.578125 53.8125 \nQ 48.578125 59.328125 45.03125 62.0625 \nQ 41.5 64.796875 34.28125 64.796875 \nz\nM 9.8125 72.90625 \nL 35.015625 72.90625 \nQ 46.296875 72.90625 52.390625 68.21875 \nQ 58.5 63.53125 58.5 54.890625 \nQ 58.5 48.1875 55.375 44.234375 \nQ 52.25 40.28125 46.1875 39.3125 \nQ 53.46875 37.75 57.5 32.78125 \nQ 61.53125 27.828125 61.53125 20.40625 \nQ 61.53125 10.640625 54.890625 5.3125 \nQ 48.25 0 35.984375 0 \nL 9.8125 0 \nz\n\" id=\"DejaVuSans-66\"/>\n      </defs>\n      <use xlink:href=\"#DejaVuSans-110\"/>\n      <use x=\"63.378906\" xlink:href=\"#DejaVuSans-111\"/>\n      <use x=\"124.560547\" xlink:href=\"#DejaVuSans-100\"/>\n      <use x=\"188.037109\" xlink:href=\"#DejaVuSans-101\"/>\n      <use x=\"249.560547\" xlink:href=\"#DejaVuSans-66\"/>\n     </g>\n    </g>\n   </g>\n   <g id=\"text_3\">\n    <g clip-path=\"url(#p296898466e)\">\n     <!-- nodeC -->\n     <g transform=\"translate(7.671989 23.602159)scale(0.12 -0.12)\">\n      <defs>\n       <path d=\"M 64.40625 67.28125 \nL 64.40625 56.890625 \nQ 59.421875 61.53125 53.78125 63.8125 \nQ 48.140625 66.109375 41.796875 66.109375 \nQ 29.296875 66.109375 22.65625 58.46875 \nQ 16.015625 50.828125 16.015625 36.375 \nQ 16.015625 21.96875 22.65625 14.328125 \nQ 29.296875 6.6875 41.796875 6.6875 \nQ 48.140625 6.6875 53.78125 8.984375 \nQ 59.421875 11.28125 64.40625 15.921875 \nL 64.40625 5.609375 \nQ 59.234375 2.09375 53.4375 0.328125 \nQ 47.65625 -1.421875 41.21875 -1.421875 \nQ 24.65625 -1.421875 15.125 8.703125 \nQ 5.609375 18.84375 5.609375 36.375 \nQ 5.609375 53.953125 15.125 64.078125 \nQ 24.65625 74.21875 41.21875 74.21875 \nQ 47.75 74.21875 53.53125 72.484375 \nQ 59.328125 70.75 64.40625 67.28125 \nz\n\" id=\"DejaVuSans-67\"/>\n      </defs>\n      <use xlink:href=\"#DejaVuSans-110\"/>\n      <use x=\"63.378906\" xlink:href=\"#DejaVuSans-111\"/>\n      <use x=\"124.560547\" xlink:href=\"#DejaVuSans-100\"/>\n      <use x=\"188.037109\" xlink:href=\"#DejaVuSans-101\"/>\n      <use x=\"249.560547\" xlink:href=\"#DejaVuSans-67\"/>\n     </g>\n    </g>\n   </g>\n   <g id=\"text_4\">\n    <g clip-path=\"url(#p296898466e)\">\n     <!-- nodeD -->\n     <g transform=\"translate(399.968949 285.420341)scale(0.12 -0.12)\">\n      <defs>\n       <path d=\"M 19.671875 64.796875 \nL 19.671875 8.109375 \nL 31.59375 8.109375 \nQ 46.6875 8.109375 53.6875 14.9375 \nQ 60.6875 21.78125 60.6875 36.53125 \nQ 60.6875 51.171875 53.6875 57.984375 \nQ 46.6875 64.796875 31.59375 64.796875 \nz\nM 9.8125 72.90625 \nL 30.078125 72.90625 \nQ 51.265625 72.90625 61.171875 64.09375 \nQ 71.09375 55.28125 71.09375 36.53125 \nQ 71.09375 17.671875 61.125 8.828125 \nQ 51.171875 0 30.078125 0 \nL 9.8125 0 \nz\n\" id=\"DejaVuSans-68\"/>\n      </defs>\n      <use xlink:href=\"#DejaVuSans-110\"/>\n      <use x=\"63.378906\" xlink:href=\"#DejaVuSans-111\"/>\n      <use x=\"124.560547\" xlink:href=\"#DejaVuSans-100\"/>\n      <use x=\"188.037109\" xlink:href=\"#DejaVuSans-101\"/>\n      <use x=\"249.560547\" xlink:href=\"#DejaVuSans-68\"/>\n     </g>\n    </g>\n   </g>\n  </g>\n </g>\n <defs>\n  <clipPath id=\"p296898466e\">\n   <rect height=\"288\" width=\"432\" x=\"7.2\" y=\"7.2\"/>\n  </clipPath>\n </defs>\n</svg>\n",
      "image/png": "[encoded data removed]"
     },
     "metadata": {}
    }
   ],
   "source": [
    "G.add_node(\"nodeD\")\n",
    "\n",
    "G.add_edge(\"nodeA\", \"nodeD\")\n",
    "\n",
    "pos[\"nodeD\"] = (1, 0)\n",
    "\n",
    "nx.draw(G, pos,  with_labels=True)"
   ]
  }
 ]
}