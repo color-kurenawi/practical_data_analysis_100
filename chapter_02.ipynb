{
 "metadata": {
  "language_info": {
   "codemirror_mode": {
    "name": "ipython",
    "version": 3
   },
   "file_extension": ".py",
   "mimetype": "text/x-python",
   "name": "python",
   "nbconvert_exporter": "python",
   "pygments_lexer": "ipython3",
   "version": "3.6.7-final"
  },
  "orig_nbformat": 2,
  "kernelspec": {
   "name": "python3",
   "display_name": "Python 3"
  }
 },
 "nbformat": 4,
 "nbformat_minor": 2,
 "cells": [
  {
   "source": [
    "# 第2章 小売店のデータでデータ加工を行う10本ノック (11~20)"
   ],
   "cell_type": "markdown",
   "metadata": {}
  },
  {
   "cell_type": "code",
   "execution_count": 1,
   "metadata": {},
   "outputs": [],
   "source": [
    "# 下準備として，データのあるディレクトリに移動しておく\n",
    "import os\n",
    "\n",
    "DATA_ROOT_DIR = \"./sample/2章/\"\n",
    "os.chdir(DATA_ROOT_DIR)"
   ]
  },
  {
   "source": [
    "## ノック11 データを読み込んでみよう\n",
    "欠損値，データの表記ゆれを確認する．"
   ],
   "cell_type": "markdown",
   "metadata": {}
  },
  {
   "cell_type": "code",
   "execution_count": 2,
   "metadata": {},
   "outputs": [
    {
     "output_type": "execute_result",
     "data": {
      "text/plain": [
       "         purchase_date item_name  item_price customer_name\n",
       "0  2019-06-13 18:02:34       商品A       100.0         深井菜々美\n",
       "1  2019-07-13 13:05:29     商 品 S         NaN          浅田賢二\n",
       "2  2019-05-11 19:42:07     商 品 a         NaN          南部慶二\n",
       "3  2019-02-12 23:40:45       商品Z      2600.0          麻生莉緒\n",
       "4  2019-04-22 03:09:35       商品a         NaN          平田鉄二"
      ],
      "text/html": "<div>\n<style scoped>\n    .dataframe tbody tr th:only-of-type {\n        vertical-align: middle;\n    }\n\n    .dataframe tbody tr th {\n        vertical-align: top;\n    }\n\n    .dataframe thead th {\n        text-align: right;\n    }\n</style>\n<table border=\"1\" class=\"dataframe\">\n  <thead>\n    <tr style=\"text-align: right;\">\n      <th></th>\n      <th>purchase_date</th>\n      <th>item_name</th>\n      <th>item_price</th>\n      <th>customer_name</th>\n    </tr>\n  </thead>\n  <tbody>\n    <tr>\n      <th>0</th>\n      <td>2019-06-13 18:02:34</td>\n      <td>商品A</td>\n      <td>100.0</td>\n      <td>深井菜々美</td>\n    </tr>\n    <tr>\n      <th>1</th>\n      <td>2019-07-13 13:05:29</td>\n      <td>商 品 S</td>\n      <td>NaN</td>\n      <td>浅田賢二</td>\n    </tr>\n    <tr>\n      <th>2</th>\n      <td>2019-05-11 19:42:07</td>\n      <td>商 品 a</td>\n      <td>NaN</td>\n      <td>南部慶二</td>\n    </tr>\n    <tr>\n      <th>3</th>\n      <td>2019-02-12 23:40:45</td>\n      <td>商品Z</td>\n      <td>2600.0</td>\n      <td>麻生莉緒</td>\n    </tr>\n    <tr>\n      <th>4</th>\n      <td>2019-04-22 03:09:35</td>\n      <td>商品a</td>\n      <td>NaN</td>\n      <td>平田鉄二</td>\n    </tr>\n  </tbody>\n</table>\n</div>"
     },
     "metadata": {},
     "execution_count": 2
    }
   ],
   "source": [
    "import pandas as pd\n",
    "uriage_data = pd.read_csv(\"uriage.csv\")\n",
    "uriage_data.head()"
   ]
  },
  {
   "cell_type": "code",
   "execution_count": 3,
   "metadata": {},
   "outputs": [
    {
     "output_type": "execute_result",
     "data": {
      "text/plain": [
       "      顧客名        かな  地域                     メールアドレス         登録日\n",
       "0   須賀ひとみ    すが ひとみ  H市     suga_hitomi@example.com  2018/01/04\n",
       "1  岡田　 敏也   おかだ としや  E市   okada_toshiya@example.com       42782\n",
       "2    芳賀 希    はが のぞみ  A市     haga_nozomi@example.com  2018/01/07\n",
       "3   荻野  愛    おぎの あい  F市        ogino_ai@example.com       42872\n",
       "4   栗田 憲一  くりた けんいち  E市  kurita_kenichi@example.com       43127"
      ],
      "text/html": "<div>\n<style scoped>\n    .dataframe tbody tr th:only-of-type {\n        vertical-align: middle;\n    }\n\n    .dataframe tbody tr th {\n        vertical-align: top;\n    }\n\n    .dataframe thead th {\n        text-align: right;\n    }\n</style>\n<table border=\"1\" class=\"dataframe\">\n  <thead>\n    <tr style=\"text-align: right;\">\n      <th></th>\n      <th>顧客名</th>\n      <th>かな</th>\n      <th>地域</th>\n      <th>メールアドレス</th>\n      <th>登録日</th>\n    </tr>\n  </thead>\n  <tbody>\n    <tr>\n      <th>0</th>\n      <td>須賀ひとみ</td>\n      <td>すが ひとみ</td>\n      <td>H市</td>\n      <td>suga_hitomi@example.com</td>\n      <td>2018/01/04</td>\n    </tr>\n    <tr>\n      <th>1</th>\n      <td>岡田　 敏也</td>\n      <td>おかだ としや</td>\n      <td>E市</td>\n      <td>okada_toshiya@example.com</td>\n      <td>42782</td>\n    </tr>\n    <tr>\n      <th>2</th>\n      <td>芳賀 希</td>\n      <td>はが のぞみ</td>\n      <td>A市</td>\n      <td>haga_nozomi@example.com</td>\n      <td>2018/01/07</td>\n    </tr>\n    <tr>\n      <th>3</th>\n      <td>荻野  愛</td>\n      <td>おぎの あい</td>\n      <td>F市</td>\n      <td>ogino_ai@example.com</td>\n      <td>42872</td>\n    </tr>\n    <tr>\n      <th>4</th>\n      <td>栗田 憲一</td>\n      <td>くりた けんいち</td>\n      <td>E市</td>\n      <td>kurita_kenichi@example.com</td>\n      <td>43127</td>\n    </tr>\n  </tbody>\n</table>\n</div>"
     },
     "metadata": {},
     "execution_count": 3
    }
   ],
   "source": [
    "kokyaku_data = pd.read_excel(\"kokyaku_daicho.xlsx\")\n",
    "kokyaku_data.head()"
   ]
  },
  {
   "source": [
    "## ノック12 データの揺れを見てみよう\n",
    "売上履歴のデータの揺れを見てみる．"
   ],
   "cell_type": "markdown",
   "metadata": {}
  },
  {
   "cell_type": "code",
   "execution_count": 4,
   "metadata": {},
   "outputs": [
    {
     "output_type": "execute_result",
     "data": {
      "text/plain": [
       "0      商品A\n",
       "1    商 品 S\n",
       "2    商 品 a\n",
       "3      商品Z\n",
       "4      商品a\n",
       "Name: item_name, dtype: object"
      ]
     },
     "metadata": {},
     "execution_count": 4
    }
   ],
   "source": [
    "uriage_data[\"item_name\"].head()"
   ]
  },
  {
   "cell_type": "code",
   "execution_count": 5,
   "metadata": {},
   "outputs": [
    {
     "output_type": "execute_result",
     "data": {
      "text/plain": [
       "0     100.0\n",
       "1       NaN\n",
       "2       NaN\n",
       "3    2600.0\n",
       "4       NaN\n",
       "Name: item_price, dtype: float64"
      ]
     },
     "metadata": {},
     "execution_count": 5
    }
   ],
   "source": [
    "uriage_data[\"item_price\"].head()"
   ]
  },
  {
   "source": [
    "## ノック13 データに揺れがあるまま集計してみよう\n",
    "データの整合性の重要さを認識する．"
   ],
   "cell_type": "markdown",
   "metadata": {}
  },
  {
   "cell_type": "code",
   "execution_count": 6,
   "metadata": {},
   "outputs": [
    {
     "output_type": "execute_result",
     "data": {
      "text/plain": [
       "item_name         商品W   商 品 n   商品E   商品M   商品P   商品S   商品W   商品X  商  品O  \\\n",
       "purchase_month                                                             \n",
       "201901              0       1     0     0     0     0     0     0      0   \n",
       "201902              0       0     0     0     0     0     0     1      0   \n",
       "201903              0       0     1     1     1     0     0     0      0   \n",
       "201904              1       0     0     0     0     0     0     0      0   \n",
       "201905              0       0     0     0     0     1     0     0      0   \n",
       "201906              0       0     0     0     0     0     1     0      0   \n",
       "201907              0       0     0     0     0     0     0     0      1   \n",
       "\n",
       "item_name       商  品Q  ...  商品k  商品l  商品o  商品p  商品r  商品s  商品t  商品v  商品x  商品y  \n",
       "purchase_month         ...                                                    \n",
       "201901              0  ...    1    1    1    0    0    0    0    0    0    0  \n",
       "201902              0  ...    0    0    0    0    0    1    1    1    0    0  \n",
       "201903              0  ...    0    0    0    0    0    0    0    0    0    0  \n",
       "201904              1  ...    0    0    0    0    0    1    0    0    0    0  \n",
       "201905              0  ...    0    1    0    0    0    0    0    0    0    1  \n",
       "201906              0  ...    0    0    0    1    0    0    0    0    1    0  \n",
       "201907              0  ...    0    0    1    0    2    0    0    0    0    0  \n",
       "\n",
       "[7 rows x 99 columns]"
      ],
      "text/html": "<div>\n<style scoped>\n    .dataframe tbody tr th:only-of-type {\n        vertical-align: middle;\n    }\n\n    .dataframe tbody tr th {\n        vertical-align: top;\n    }\n\n    .dataframe thead th {\n        text-align: right;\n    }\n</style>\n<table border=\"1\" class=\"dataframe\">\n  <thead>\n    <tr style=\"text-align: right;\">\n      <th>item_name</th>\n      <th>商品W</th>\n      <th>商 品 n</th>\n      <th>商品E</th>\n      <th>商品M</th>\n      <th>商品P</th>\n      <th>商品S</th>\n      <th>商品W</th>\n      <th>商品X</th>\n      <th>商  品O</th>\n      <th>商  品Q</th>\n      <th>...</th>\n      <th>商品k</th>\n      <th>商品l</th>\n      <th>商品o</th>\n      <th>商品p</th>\n      <th>商品r</th>\n      <th>商品s</th>\n      <th>商品t</th>\n      <th>商品v</th>\n      <th>商品x</th>\n      <th>商品y</th>\n    </tr>\n    <tr>\n      <th>purchase_month</th>\n      <th></th>\n      <th></th>\n      <th></th>\n      <th></th>\n      <th></th>\n      <th></th>\n      <th></th>\n      <th></th>\n      <th></th>\n      <th></th>\n      <th></th>\n      <th></th>\n      <th></th>\n      <th></th>\n      <th></th>\n      <th></th>\n      <th></th>\n      <th></th>\n      <th></th>\n      <th></th>\n      <th></th>\n    </tr>\n  </thead>\n  <tbody>\n    <tr>\n      <th>201901</th>\n      <td>0</td>\n      <td>1</td>\n      <td>0</td>\n      <td>0</td>\n      <td>0</td>\n      <td>0</td>\n      <td>0</td>\n      <td>0</td>\n      <td>0</td>\n      <td>0</td>\n      <td>...</td>\n      <td>1</td>\n      <td>1</td>\n      <td>1</td>\n      <td>0</td>\n      <td>0</td>\n      <td>0</td>\n      <td>0</td>\n      <td>0</td>\n      <td>0</td>\n      <td>0</td>\n    </tr>\n    <tr>\n      <th>201902</th>\n      <td>0</td>\n      <td>0</td>\n      <td>0</td>\n      <td>0</td>\n      <td>0</td>\n      <td>0</td>\n      <td>0</td>\n      <td>1</td>\n      <td>0</td>\n      <td>0</td>\n      <td>...</td>\n      <td>0</td>\n      <td>0</td>\n      <td>0</td>\n      <td>0</td>\n      <td>0</td>\n      <td>1</td>\n      <td>1</td>\n      <td>1</td>\n      <td>0</td>\n      <td>0</td>\n    </tr>\n    <tr>\n      <th>201903</th>\n      <td>0</td>\n      <td>0</td>\n      <td>1</td>\n      <td>1</td>\n      <td>1</td>\n      <td>0</td>\n      <td>0</td>\n      <td>0</td>\n      <td>0</td>\n      <td>0</td>\n      <td>...</td>\n      <td>0</td>\n      <td>0</td>\n      <td>0</td>\n      <td>0</td>\n      <td>0</td>\n      <td>0</td>\n      <td>0</td>\n      <td>0</td>\n      <td>0</td>\n      <td>0</td>\n    </tr>\n    <tr>\n      <th>201904</th>\n      <td>1</td>\n      <td>0</td>\n      <td>0</td>\n      <td>0</td>\n      <td>0</td>\n      <td>0</td>\n      <td>0</td>\n      <td>0</td>\n      <td>0</td>\n      <td>1</td>\n      <td>...</td>\n      <td>0</td>\n      <td>0</td>\n      <td>0</td>\n      <td>0</td>\n      <td>0</td>\n      <td>1</td>\n      <td>0</td>\n      <td>0</td>\n      <td>0</td>\n      <td>0</td>\n    </tr>\n    <tr>\n      <th>201905</th>\n      <td>0</td>\n      <td>0</td>\n      <td>0</td>\n      <td>0</td>\n      <td>0</td>\n      <td>1</td>\n      <td>0</td>\n      <td>0</td>\n      <td>0</td>\n      <td>0</td>\n      <td>...</td>\n      <td>0</td>\n      <td>1</td>\n      <td>0</td>\n      <td>0</td>\n      <td>0</td>\n      <td>0</td>\n      <td>0</td>\n      <td>0</td>\n      <td>0</td>\n      <td>1</td>\n    </tr>\n    <tr>\n      <th>201906</th>\n      <td>0</td>\n      <td>0</td>\n      <td>0</td>\n      <td>0</td>\n      <td>0</td>\n      <td>0</td>\n      <td>1</td>\n      <td>0</td>\n      <td>0</td>\n      <td>0</td>\n      <td>...</td>\n      <td>0</td>\n      <td>0</td>\n      <td>0</td>\n      <td>1</td>\n      <td>0</td>\n      <td>0</td>\n      <td>0</td>\n      <td>0</td>\n      <td>1</td>\n      <td>0</td>\n    </tr>\n    <tr>\n      <th>201907</th>\n      <td>0</td>\n      <td>0</td>\n      <td>0</td>\n      <td>0</td>\n      <td>0</td>\n      <td>0</td>\n      <td>0</td>\n      <td>0</td>\n      <td>1</td>\n      <td>0</td>\n      <td>...</td>\n      <td>0</td>\n      <td>0</td>\n      <td>1</td>\n      <td>0</td>\n      <td>2</td>\n      <td>0</td>\n      <td>0</td>\n      <td>0</td>\n      <td>0</td>\n      <td>0</td>\n    </tr>\n  </tbody>\n</table>\n<p>7 rows × 99 columns</p>\n</div>"
     },
     "metadata": {},
     "execution_count": 6
    }
   ],
   "source": [
    "uriage_data[\"purchase_date\"] = pd.to_datetime(uriage_data[\"purchase_date\"])\n",
    "uriage_data[\"purchase_month\"] = uriage_data[\"purchase_date\"].dt.strftime(\"%Y%m\")\n",
    "res = uriage_data.pivot_table(index=\"purchase_month\", columns=\"item_name\", aggfunc=\"size\", fill_value=0)\n",
    "res"
   ]
  },
  {
   "cell_type": "code",
   "execution_count": 7,
   "metadata": {},
   "outputs": [
    {
     "output_type": "execute_result",
     "data": {
      "text/plain": [
       "item_name         商品W   商 品 n   商品E   商品M   商品P   商品S   商品W   商品X  商  品O  \\\n",
       "purchase_month                                                             \n",
       "201901              0    1400     0     0     0     0     0     0      0   \n",
       "201902              0       0     0     0     0     0     0  2400      0   \n",
       "201903              0       0   500  1300  1600     0     0     0      0   \n",
       "201904           2300       0     0     0     0     0     0     0      0   \n",
       "201905              0       0     0     0     0  1900     0     0      0   \n",
       "201906              0       0     0     0     0     0  2300     0      0   \n",
       "201907              0       0     0     0     0     0     0     0      0   \n",
       "\n",
       "item_name       商  品Q  ...   商品k   商品l   商品o   商品p   商品r   商品s   商品t   商品v  \\\n",
       "purchase_month         ...                                                   \n",
       "201901              0  ...  1100  1200  1500     0     0     0     0     0   \n",
       "201902              0  ...     0     0     0     0     0  1900  2000  2200   \n",
       "201903              0  ...     0     0     0     0     0     0     0     0   \n",
       "201904           1700  ...     0     0     0     0     0  1900     0     0   \n",
       "201905              0  ...     0  1200     0     0     0     0     0     0   \n",
       "201906              0  ...     0     0     0  1600     0     0     0     0   \n",
       "201907              0  ...     0     0  1500     0  1800     0     0     0   \n",
       "\n",
       "item_name        商品x   商品y  \n",
       "purchase_month              \n",
       "201901             0     0  \n",
       "201902             0     0  \n",
       "201903             0     0  \n",
       "201904             0     0  \n",
       "201905             0  2500  \n",
       "201906          2400     0  \n",
       "201907             0     0  \n",
       "\n",
       "[7 rows x 99 columns]"
      ],
      "text/html": "<div>\n<style scoped>\n    .dataframe tbody tr th:only-of-type {\n        vertical-align: middle;\n    }\n\n    .dataframe tbody tr th {\n        vertical-align: top;\n    }\n\n    .dataframe thead th {\n        text-align: right;\n    }\n</style>\n<table border=\"1\" class=\"dataframe\">\n  <thead>\n    <tr style=\"text-align: right;\">\n      <th>item_name</th>\n      <th>商品W</th>\n      <th>商 品 n</th>\n      <th>商品E</th>\n      <th>商品M</th>\n      <th>商品P</th>\n      <th>商品S</th>\n      <th>商品W</th>\n      <th>商品X</th>\n      <th>商  品O</th>\n      <th>商  品Q</th>\n      <th>...</th>\n      <th>商品k</th>\n      <th>商品l</th>\n      <th>商品o</th>\n      <th>商品p</th>\n      <th>商品r</th>\n      <th>商品s</th>\n      <th>商品t</th>\n      <th>商品v</th>\n      <th>商品x</th>\n      <th>商品y</th>\n    </tr>\n    <tr>\n      <th>purchase_month</th>\n      <th></th>\n      <th></th>\n      <th></th>\n      <th></th>\n      <th></th>\n      <th></th>\n      <th></th>\n      <th></th>\n      <th></th>\n      <th></th>\n      <th></th>\n      <th></th>\n      <th></th>\n      <th></th>\n      <th></th>\n      <th></th>\n      <th></th>\n      <th></th>\n      <th></th>\n      <th></th>\n      <th></th>\n    </tr>\n  </thead>\n  <tbody>\n    <tr>\n      <th>201901</th>\n      <td>0</td>\n      <td>1400</td>\n      <td>0</td>\n      <td>0</td>\n      <td>0</td>\n      <td>0</td>\n      <td>0</td>\n      <td>0</td>\n      <td>0</td>\n      <td>0</td>\n      <td>...</td>\n      <td>1100</td>\n      <td>1200</td>\n      <td>1500</td>\n      <td>0</td>\n      <td>0</td>\n      <td>0</td>\n      <td>0</td>\n      <td>0</td>\n      <td>0</td>\n      <td>0</td>\n    </tr>\n    <tr>\n      <th>201902</th>\n      <td>0</td>\n      <td>0</td>\n      <td>0</td>\n      <td>0</td>\n      <td>0</td>\n      <td>0</td>\n      <td>0</td>\n      <td>2400</td>\n      <td>0</td>\n      <td>0</td>\n      <td>...</td>\n      <td>0</td>\n      <td>0</td>\n      <td>0</td>\n      <td>0</td>\n      <td>0</td>\n      <td>1900</td>\n      <td>2000</td>\n      <td>2200</td>\n      <td>0</td>\n      <td>0</td>\n    </tr>\n    <tr>\n      <th>201903</th>\n      <td>0</td>\n      <td>0</td>\n      <td>500</td>\n      <td>1300</td>\n      <td>1600</td>\n      <td>0</td>\n      <td>0</td>\n      <td>0</td>\n      <td>0</td>\n      <td>0</td>\n      <td>...</td>\n      <td>0</td>\n      <td>0</td>\n      <td>0</td>\n      <td>0</td>\n      <td>0</td>\n      <td>0</td>\n      <td>0</td>\n      <td>0</td>\n      <td>0</td>\n      <td>0</td>\n    </tr>\n    <tr>\n      <th>201904</th>\n      <td>2300</td>\n      <td>0</td>\n      <td>0</td>\n      <td>0</td>\n      <td>0</td>\n      <td>0</td>\n      <td>0</td>\n      <td>0</td>\n      <td>0</td>\n      <td>1700</td>\n      <td>...</td>\n      <td>0</td>\n      <td>0</td>\n      <td>0</td>\n      <td>0</td>\n      <td>0</td>\n      <td>1900</td>\n      <td>0</td>\n      <td>0</td>\n      <td>0</td>\n      <td>0</td>\n    </tr>\n    <tr>\n      <th>201905</th>\n      <td>0</td>\n      <td>0</td>\n      <td>0</td>\n      <td>0</td>\n      <td>0</td>\n      <td>1900</td>\n      <td>0</td>\n      <td>0</td>\n      <td>0</td>\n      <td>0</td>\n      <td>...</td>\n      <td>0</td>\n      <td>1200</td>\n      <td>0</td>\n      <td>0</td>\n      <td>0</td>\n      <td>0</td>\n      <td>0</td>\n      <td>0</td>\n      <td>0</td>\n      <td>2500</td>\n    </tr>\n    <tr>\n      <th>201906</th>\n      <td>0</td>\n      <td>0</td>\n      <td>0</td>\n      <td>0</td>\n      <td>0</td>\n      <td>0</td>\n      <td>2300</td>\n      <td>0</td>\n      <td>0</td>\n      <td>0</td>\n      <td>...</td>\n      <td>0</td>\n      <td>0</td>\n      <td>0</td>\n      <td>1600</td>\n      <td>0</td>\n      <td>0</td>\n      <td>0</td>\n      <td>0</td>\n      <td>2400</td>\n      <td>0</td>\n    </tr>\n    <tr>\n      <th>201907</th>\n      <td>0</td>\n      <td>0</td>\n      <td>0</td>\n      <td>0</td>\n      <td>0</td>\n      <td>0</td>\n      <td>0</td>\n      <td>0</td>\n      <td>0</td>\n      <td>0</td>\n      <td>...</td>\n      <td>0</td>\n      <td>0</td>\n      <td>1500</td>\n      <td>0</td>\n      <td>1800</td>\n      <td>0</td>\n      <td>0</td>\n      <td>0</td>\n      <td>0</td>\n      <td>0</td>\n    </tr>\n  </tbody>\n</table>\n<p>7 rows × 99 columns</p>\n</div>"
     },
     "metadata": {},
     "execution_count": 7
    }
   ],
   "source": [
    "res = uriage_data.pivot_table(index=\"purchase_month\", columns=\"item_name\", values=\"item_price\", aggfunc=\"sum\", fill_value=0)\n",
    "res"
   ]
  },
  {
   "source": [
    "## ノック14 商品名の揺れを補正しよう\n",
    "スペースの有無, 半角・全角の揺れを補正する．"
   ],
   "cell_type": "markdown",
   "metadata": {}
  },
  {
   "cell_type": "code",
   "execution_count": 8,
   "metadata": {},
   "outputs": [
    {
     "output_type": "stream",
     "name": "stdout",
     "text": [
      "99\n"
     ]
    }
   ],
   "source": [
    "print(len(pd.unique(uriage_data[\"item_name\"])))"
   ]
  },
  {
   "cell_type": "code",
   "execution_count": 9,
   "metadata": {},
   "outputs": [
    {
     "output_type": "execute_result",
     "data": {
      "text/plain": [
       "           purchase_date item_name  item_price customer_name purchase_month\n",
       "0    2019-06-13 18:02:34       商品A       100.0         深井菜々美         201906\n",
       "1748 2019-05-19 20:22:22       商品A       100.0          松川綾女         201905\n",
       "223  2019-06-25 08:13:20       商品A       100.0           板橋隆         201906\n",
       "1742 2019-06-13 16:03:17       商品A       100.0          小平陽子         201906\n",
       "1738 2019-02-10 00:28:43       商品A       100.0          松田浩正         201902\n",
       "...                  ...       ...         ...           ...            ...\n",
       "2880 2019-04-22 00:36:52       商品Y         NaN          田辺光洋         201904\n",
       "2881 2019-04-30 14:21:09       商品Y         NaN          高原充則         201904\n",
       "1525 2019-01-24 10:27:23       商品Y      2500.0         五十嵐春樹         201901\n",
       "1361 2019-05-28 13:45:32       商品Y      2500.0         大崎ヒカル         201905\n",
       "3    2019-02-12 23:40:45       商品Z      2600.0          麻生莉緒         201902\n",
       "\n",
       "[2999 rows x 5 columns]"
      ],
      "text/html": "<div>\n<style scoped>\n    .dataframe tbody tr th:only-of-type {\n        vertical-align: middle;\n    }\n\n    .dataframe tbody tr th {\n        vertical-align: top;\n    }\n\n    .dataframe thead th {\n        text-align: right;\n    }\n</style>\n<table border=\"1\" class=\"dataframe\">\n  <thead>\n    <tr style=\"text-align: right;\">\n      <th></th>\n      <th>purchase_date</th>\n      <th>item_name</th>\n      <th>item_price</th>\n      <th>customer_name</th>\n      <th>purchase_month</th>\n    </tr>\n  </thead>\n  <tbody>\n    <tr>\n      <th>0</th>\n      <td>2019-06-13 18:02:34</td>\n      <td>商品A</td>\n      <td>100.0</td>\n      <td>深井菜々美</td>\n      <td>201906</td>\n    </tr>\n    <tr>\n      <th>1748</th>\n      <td>2019-05-19 20:22:22</td>\n      <td>商品A</td>\n      <td>100.0</td>\n      <td>松川綾女</td>\n      <td>201905</td>\n    </tr>\n    <tr>\n      <th>223</th>\n      <td>2019-06-25 08:13:20</td>\n      <td>商品A</td>\n      <td>100.0</td>\n      <td>板橋隆</td>\n      <td>201906</td>\n    </tr>\n    <tr>\n      <th>1742</th>\n      <td>2019-06-13 16:03:17</td>\n      <td>商品A</td>\n      <td>100.0</td>\n      <td>小平陽子</td>\n      <td>201906</td>\n    </tr>\n    <tr>\n      <th>1738</th>\n      <td>2019-02-10 00:28:43</td>\n      <td>商品A</td>\n      <td>100.0</td>\n      <td>松田浩正</td>\n      <td>201902</td>\n    </tr>\n    <tr>\n      <th>...</th>\n      <td>...</td>\n      <td>...</td>\n      <td>...</td>\n      <td>...</td>\n      <td>...</td>\n    </tr>\n    <tr>\n      <th>2880</th>\n      <td>2019-04-22 00:36:52</td>\n      <td>商品Y</td>\n      <td>NaN</td>\n      <td>田辺光洋</td>\n      <td>201904</td>\n    </tr>\n    <tr>\n      <th>2881</th>\n      <td>2019-04-30 14:21:09</td>\n      <td>商品Y</td>\n      <td>NaN</td>\n      <td>高原充則</td>\n      <td>201904</td>\n    </tr>\n    <tr>\n      <th>1525</th>\n      <td>2019-01-24 10:27:23</td>\n      <td>商品Y</td>\n      <td>2500.0</td>\n      <td>五十嵐春樹</td>\n      <td>201901</td>\n    </tr>\n    <tr>\n      <th>1361</th>\n      <td>2019-05-28 13:45:32</td>\n      <td>商品Y</td>\n      <td>2500.0</td>\n      <td>大崎ヒカル</td>\n      <td>201905</td>\n    </tr>\n    <tr>\n      <th>3</th>\n      <td>2019-02-12 23:40:45</td>\n      <td>商品Z</td>\n      <td>2600.0</td>\n      <td>麻生莉緒</td>\n      <td>201902</td>\n    </tr>\n  </tbody>\n</table>\n<p>2999 rows × 5 columns</p>\n</div>"
     },
     "metadata": {},
     "execution_count": 9
    }
   ],
   "source": [
    "uriage_data[\"item_name\"] = uriage_data[\"item_name\"].str.upper()\n",
    "uriage_data[\"item_name\"] = uriage_data[\"item_name\"].str.replace(\"　\", \" \")\n",
    "uriage_data[\"item_name\"] = uriage_data[\"item_name\"].str.replace(\" \", \"\")\n",
    "uriage_data.sort_values(by=\"item_name\", ascending=True)"
   ]
  },
  {
   "cell_type": "code",
   "execution_count": 10,
   "metadata": {},
   "outputs": [
    {
     "output_type": "stream",
     "name": "stdout",
     "text": [
      "['商品A', '商品B', '商品C', '商品D', '商品E', '商品F', '商品G', '商品H', '商品I', '商品J', '商品K', '商品L', '商品M', '商品N', '商品O', '商品P', '商品Q', '商品R', '商品S', '商品T', '商品U', '商品V', '商品W', '商品X', '商品Y', '商品Z']\n26\n"
     ]
    }
   ],
   "source": [
    "print(sorted(pd.unique(uriage_data[\"item_name\"])))\n",
    "print(len(pd.unique(uriage_data[\"item_name\"])))"
   ]
  },
  {
   "source": [
    "## ノック15 欠損値の補完をしよう\n",
    "商品単価の欠損値を補完する．"
   ],
   "cell_type": "markdown",
   "metadata": {}
  },
  {
   "cell_type": "code",
   "execution_count": 11,
   "metadata": {},
   "outputs": [
    {
     "output_type": "execute_result",
     "data": {
      "text/plain": [
       "purchase_date     False\n",
       "item_name         False\n",
       "item_price         True\n",
       "customer_name     False\n",
       "purchase_month    False\n",
       "dtype: bool"
      ]
     },
     "metadata": {},
     "execution_count": 11
    }
   ],
   "source": [
    "uriage_data.isnull().any(axis=0)"
   ]
  },
  {
   "cell_type": "code",
   "execution_count": 12,
   "metadata": {},
   "outputs": [
    {
     "output_type": "execute_result",
     "data": {
      "text/plain": [
       "        purchase_date item_name  item_price customer_name purchase_month\n",
       "0 2019-06-13 18:02:34       商品A       100.0         深井菜々美         201906\n",
       "1 2019-07-13 13:05:29       商品S      1900.0          浅田賢二         201907\n",
       "2 2019-05-11 19:42:07       商品A       100.0          南部慶二         201905\n",
       "3 2019-02-12 23:40:45       商品Z      2600.0          麻生莉緒         201902\n",
       "4 2019-04-22 03:09:35       商品A       100.0          平田鉄二         201904"
      ],
      "text/html": "<div>\n<style scoped>\n    .dataframe tbody tr th:only-of-type {\n        vertical-align: middle;\n    }\n\n    .dataframe tbody tr th {\n        vertical-align: top;\n    }\n\n    .dataframe thead th {\n        text-align: right;\n    }\n</style>\n<table border=\"1\" class=\"dataframe\">\n  <thead>\n    <tr style=\"text-align: right;\">\n      <th></th>\n      <th>purchase_date</th>\n      <th>item_name</th>\n      <th>item_price</th>\n      <th>customer_name</th>\n      <th>purchase_month</th>\n    </tr>\n  </thead>\n  <tbody>\n    <tr>\n      <th>0</th>\n      <td>2019-06-13 18:02:34</td>\n      <td>商品A</td>\n      <td>100.0</td>\n      <td>深井菜々美</td>\n      <td>201906</td>\n    </tr>\n    <tr>\n      <th>1</th>\n      <td>2019-07-13 13:05:29</td>\n      <td>商品S</td>\n      <td>1900.0</td>\n      <td>浅田賢二</td>\n      <td>201907</td>\n    </tr>\n    <tr>\n      <th>2</th>\n      <td>2019-05-11 19:42:07</td>\n      <td>商品A</td>\n      <td>100.0</td>\n      <td>南部慶二</td>\n      <td>201905</td>\n    </tr>\n    <tr>\n      <th>3</th>\n      <td>2019-02-12 23:40:45</td>\n      <td>商品Z</td>\n      <td>2600.0</td>\n      <td>麻生莉緒</td>\n      <td>201902</td>\n    </tr>\n    <tr>\n      <th>4</th>\n      <td>2019-04-22 03:09:35</td>\n      <td>商品A</td>\n      <td>100.0</td>\n      <td>平田鉄二</td>\n      <td>201904</td>\n    </tr>\n  </tbody>\n</table>\n</div>"
     },
     "metadata": {},
     "execution_count": 12
    }
   ],
   "source": [
    "flag_isnull = uriage_data[\"item_price\"].isnull()\n",
    "target_list = list(uriage_data.loc[flag_isnull, \"item_name\"].unique())\n",
    "for target in target_list:\n",
    "    price = uriage_data.loc[(~flag_isnull) & (uriage_data[\"item_name\"] == target), \"item_price\"].max()\n",
    "    uriage_data[\"item_price\"].loc[(flag_isnull) & (uriage_data[\"item_name\"] == target)] = price\n",
    "uriage_data.head()"
   ]
  },
  {
   "cell_type": "code",
   "execution_count": 13,
   "metadata": {},
   "outputs": [
    {
     "output_type": "execute_result",
     "data": {
      "text/plain": [
       "purchase_date     False\n",
       "item_name         False\n",
       "item_price        False\n",
       "customer_name     False\n",
       "purchase_month    False\n",
       "dtype: bool"
      ]
     },
     "metadata": {},
     "execution_count": 13
    }
   ],
   "source": [
    "uriage_data.isnull().any(axis=0)"
   ]
  },
  {
   "cell_type": "code",
   "execution_count": 14,
   "metadata": {},
   "outputs": [
    {
     "output_type": "stream",
     "name": "stdout",
     "text": [
      "商品A max : 100.0 min : 100.0\n商品B max : 200.0 min : 200.0\n商品C max : 300.0 min : 300.0\n商品D max : 400.0 min : 400.0\n商品E max : 500.0 min : 500.0\n商品F max : 600.0 min : 600.0\n商品G max : 700.0 min : 700.0\n商品H max : 800.0 min : 800.0\n商品I max : 900.0 min : 900.0\n商品J max : 1000.0 min : 1000.0\n商品K max : 1100.0 min : 1100.0\n商品L max : 1200.0 min : 1200.0\n商品M max : 1300.0 min : 1300.0\n商品N max : 1400.0 min : 1400.0\n商品O max : 1500.0 min : 1500.0\n商品P max : 1600.0 min : 1600.0\n商品Q max : 1700.0 min : 1700.0\n商品R max : 1800.0 min : 1800.0\n商品S max : 1900.0 min : 1900.0\n商品T max : 2000.0 min : 2000.0\n商品U max : 2100.0 min : 2100.0\n商品V max : 2200.0 min : 2200.0\n商品W max : 2300.0 min : 2300.0\n商品X max : 2400.0 min : 2400.0\n商品Y max : 2500.0 min : 2500.0\n商品Z max : 2600.0 min : 2600.0\n"
     ]
    }
   ],
   "source": [
    "item_name_list = sorted(uriage_data[\"item_name\"].unique())\n",
    "for item_name in item_name_list:\n",
    "    price_list = uriage_data.loc[uriage_data[\"item_name\"] == item_name][\"item_price\"]\n",
    "    min_val = price_list.min()\n",
    "    max_val = price_list.max()\n",
    "    print(item_name, \"max :\", max_val, \"min :\", min_val)"
   ]
  },
  {
   "source": [
    "## ノック16 顧客名の揺れを補正しよう\n",
    "今度は顧客名．"
   ],
   "cell_type": "markdown",
   "metadata": {}
  },
  {
   "cell_type": "code",
   "execution_count": 15,
   "metadata": {},
   "outputs": [
    {
     "output_type": "execute_result",
     "data": {
      "text/plain": [
       "0     須賀ひとみ\n",
       "1    岡田　 敏也\n",
       "2      芳賀 希\n",
       "3     荻野  愛\n",
       "4     栗田 憲一\n",
       "Name: 顧客名, dtype: object"
      ]
     },
     "metadata": {},
     "execution_count": 15
    }
   ],
   "source": [
    "kokyaku_data[\"顧客名\"].head()"
   ]
  },
  {
   "cell_type": "code",
   "execution_count": 16,
   "metadata": {},
   "outputs": [
    {
     "output_type": "execute_result",
     "data": {
      "text/plain": [
       "0    深井菜々美\n",
       "1     浅田賢二\n",
       "2     南部慶二\n",
       "3     麻生莉緒\n",
       "4     平田鉄二\n",
       "Name: customer_name, dtype: object"
      ]
     },
     "metadata": {},
     "execution_count": 16
    }
   ],
   "source": [
    "uriage_data[\"customer_name\"].head()"
   ]
  },
  {
   "cell_type": "code",
   "execution_count": 17,
   "metadata": {},
   "outputs": [
    {
     "output_type": "execute_result",
     "data": {
      "text/plain": [
       "0    須賀ひとみ\n",
       "1     岡田敏也\n",
       "2      芳賀希\n",
       "3      荻野愛\n",
       "4     栗田憲一\n",
       "Name: 顧客名, dtype: object"
      ]
     },
     "metadata": {},
     "execution_count": 17
    }
   ],
   "source": [
    "kokyaku_data[\"顧客名\"] = kokyaku_data[\"顧客名\"].str.replace(\"　\", \"\").str.replace(\" \", \"\")\n",
    "kokyaku_data[\"顧客名\"].head()"
   ]
  },
  {
   "source": [
    "## ノック17 日付の揺れを補正しよう\n",
    "今度は日付．"
   ],
   "cell_type": "markdown",
   "metadata": {}
  },
  {
   "cell_type": "code",
   "execution_count": 18,
   "metadata": {},
   "outputs": [
    {
     "output_type": "execute_result",
     "data": {
      "text/plain": [
       "     顧客名        かな  地域                     メールアドレス         登録日\n",
       "0  須賀ひとみ    すが ひとみ  H市     suga_hitomi@example.com  2018/01/04\n",
       "1   岡田敏也   おかだ としや  E市   okada_toshiya@example.com       42782\n",
       "2    芳賀希    はが のぞみ  A市     haga_nozomi@example.com  2018/01/07\n",
       "3    荻野愛    おぎの あい  F市        ogino_ai@example.com       42872\n",
       "4   栗田憲一  くりた けんいち  E市  kurita_kenichi@example.com       43127"
      ],
      "text/html": "<div>\n<style scoped>\n    .dataframe tbody tr th:only-of-type {\n        vertical-align: middle;\n    }\n\n    .dataframe tbody tr th {\n        vertical-align: top;\n    }\n\n    .dataframe thead th {\n        text-align: right;\n    }\n</style>\n<table border=\"1\" class=\"dataframe\">\n  <thead>\n    <tr style=\"text-align: right;\">\n      <th></th>\n      <th>顧客名</th>\n      <th>かな</th>\n      <th>地域</th>\n      <th>メールアドレス</th>\n      <th>登録日</th>\n    </tr>\n  </thead>\n  <tbody>\n    <tr>\n      <th>0</th>\n      <td>須賀ひとみ</td>\n      <td>すが ひとみ</td>\n      <td>H市</td>\n      <td>suga_hitomi@example.com</td>\n      <td>2018/01/04</td>\n    </tr>\n    <tr>\n      <th>1</th>\n      <td>岡田敏也</td>\n      <td>おかだ としや</td>\n      <td>E市</td>\n      <td>okada_toshiya@example.com</td>\n      <td>42782</td>\n    </tr>\n    <tr>\n      <th>2</th>\n      <td>芳賀希</td>\n      <td>はが のぞみ</td>\n      <td>A市</td>\n      <td>haga_nozomi@example.com</td>\n      <td>2018/01/07</td>\n    </tr>\n    <tr>\n      <th>3</th>\n      <td>荻野愛</td>\n      <td>おぎの あい</td>\n      <td>F市</td>\n      <td>ogino_ai@example.com</td>\n      <td>42872</td>\n    </tr>\n    <tr>\n      <th>4</th>\n      <td>栗田憲一</td>\n      <td>くりた けんいち</td>\n      <td>E市</td>\n      <td>kurita_kenichi@example.com</td>\n      <td>43127</td>\n    </tr>\n  </tbody>\n</table>\n</div>"
     },
     "metadata": {},
     "execution_count": 18
    }
   ],
   "source": [
    "kokyaku_data.head()"
   ]
  },
  {
   "cell_type": "code",
   "execution_count": 19,
   "metadata": {},
   "outputs": [
    {
     "output_type": "execute_result",
     "data": {
      "text/plain": [
       "22"
      ]
     },
     "metadata": {},
     "execution_count": 19
    }
   ],
   "source": [
    "flag_isserial = kokyaku_data[\"登録日\"].astype(\"str\").str.isdigit()\n",
    "flag_isserial.sum()"
   ]
  },
  {
   "cell_type": "code",
   "execution_count": 20,
   "metadata": {},
   "outputs": [
    {
     "output_type": "execute_result",
     "data": {
      "text/plain": [
       "1     2017-02-18\n",
       "3     2017-05-19\n",
       "4     2018-01-29\n",
       "21    2017-07-06\n",
       "27    2017-06-17\n",
       "47    2017-01-08\n",
       "49    2017-07-15\n",
       "53    2017-04-10\n",
       "76    2018-03-31\n",
       "80    2018-01-12\n",
       "99    2017-06-01\n",
       "114   2018-06-05\n",
       "118   2018-01-31\n",
       "122   2018-04-18\n",
       "139   2017-05-27\n",
       "143   2017-03-26\n",
       "155   2017-01-21\n",
       "172   2018-03-24\n",
       "179   2017-01-10\n",
       "183   2017-07-26\n",
       "186   2018-07-15\n",
       "192   2018-06-10\n",
       "Name: 登録日, dtype: datetime64[ns]"
      ]
     },
     "metadata": {},
     "execution_count": 20
    }
   ],
   "source": [
    "fromSerial = pd.to_timedelta(kokyaku_data.loc[flag_isserial, \"登録日\"].astype(\"float\"), unit=\"D\") + pd.to_datetime(\"1900/01/01\")\n",
    "fromSerial"
   ]
  },
  {
   "cell_type": "code",
   "execution_count": 21,
   "metadata": {},
   "outputs": [
    {
     "output_type": "execute_result",
     "data": {
      "text/plain": [
       "0     2018-01-04\n",
       "2     2018-01-07\n",
       "5     2017-06-20\n",
       "6     2018-06-11\n",
       "7     2017-05-19\n",
       "         ...    \n",
       "195   2017-06-20\n",
       "196   2018-06-20\n",
       "197   2017-04-29\n",
       "198   2019-04-19\n",
       "199   2019-04-23\n",
       "Name: 登録日, Length: 178, dtype: datetime64[ns]"
      ]
     },
     "metadata": {},
     "execution_count": 21
    }
   ],
   "source": [
    "fromString = pd.to_datetime(kokyaku_data.loc[~flag_isserial, \"登録日\"])\n",
    "fromString"
   ]
  },
  {
   "cell_type": "code",
   "execution_count": 22,
   "metadata": {},
   "outputs": [
    {
     "output_type": "execute_result",
     "data": {
      "text/plain": [
       "     顧客名        かな  地域                     メールアドレス        登録日\n",
       "0  須賀ひとみ    すが ひとみ  H市     suga_hitomi@example.com 2018-01-04\n",
       "1   岡田敏也   おかだ としや  E市   okada_toshiya@example.com 2017-02-18\n",
       "2    芳賀希    はが のぞみ  A市     haga_nozomi@example.com 2018-01-07\n",
       "3    荻野愛    おぎの あい  F市        ogino_ai@example.com 2017-05-19\n",
       "4   栗田憲一  くりた けんいち  E市  kurita_kenichi@example.com 2018-01-29"
      ],
      "text/html": "<div>\n<style scoped>\n    .dataframe tbody tr th:only-of-type {\n        vertical-align: middle;\n    }\n\n    .dataframe tbody tr th {\n        vertical-align: top;\n    }\n\n    .dataframe thead th {\n        text-align: right;\n    }\n</style>\n<table border=\"1\" class=\"dataframe\">\n  <thead>\n    <tr style=\"text-align: right;\">\n      <th></th>\n      <th>顧客名</th>\n      <th>かな</th>\n      <th>地域</th>\n      <th>メールアドレス</th>\n      <th>登録日</th>\n    </tr>\n  </thead>\n  <tbody>\n    <tr>\n      <th>0</th>\n      <td>須賀ひとみ</td>\n      <td>すが ひとみ</td>\n      <td>H市</td>\n      <td>suga_hitomi@example.com</td>\n      <td>2018-01-04</td>\n    </tr>\n    <tr>\n      <th>1</th>\n      <td>岡田敏也</td>\n      <td>おかだ としや</td>\n      <td>E市</td>\n      <td>okada_toshiya@example.com</td>\n      <td>2017-02-18</td>\n    </tr>\n    <tr>\n      <th>2</th>\n      <td>芳賀希</td>\n      <td>はが のぞみ</td>\n      <td>A市</td>\n      <td>haga_nozomi@example.com</td>\n      <td>2018-01-07</td>\n    </tr>\n    <tr>\n      <th>3</th>\n      <td>荻野愛</td>\n      <td>おぎの あい</td>\n      <td>F市</td>\n      <td>ogino_ai@example.com</td>\n      <td>2017-05-19</td>\n    </tr>\n    <tr>\n      <th>4</th>\n      <td>栗田憲一</td>\n      <td>くりた けんいち</td>\n      <td>E市</td>\n      <td>kurita_kenichi@example.com</td>\n      <td>2018-01-29</td>\n    </tr>\n  </tbody>\n</table>\n</div>"
     },
     "metadata": {},
     "execution_count": 22
    }
   ],
   "source": [
    "kokyaku_data[\"登録日\"] = pd.concat([fromSerial, fromString])\n",
    "kokyaku_data.head()"
   ]
  },
  {
   "cell_type": "code",
   "execution_count": 23,
   "metadata": {},
   "outputs": [
    {
     "output_type": "stream",
     "name": "stdout",
     "text": [
      "登録年月\n201701    15\n201702    11\n201703    14\n201704    15\n201705    13\n201706    14\n201707    17\n201801    13\n201802    15\n201803    17\n201804     5\n201805    19\n201806    13\n201807    17\n201904     2\nName: 顧客名, dtype: int64\n200\n"
     ]
    }
   ],
   "source": [
    "kokyaku_data[\"登録年月\"] = kokyaku_data[\"登録日\"].dt.strftime(\"%Y%m\")\n",
    "rslt = kokyaku_data.groupby(\"登録年月\").count()[\"顧客名\"]\n",
    "print(rslt)\n",
    "print(len(kokyaku_data))"
   ]
  },
  {
   "cell_type": "code",
   "execution_count": 24,
   "metadata": {},
   "outputs": [
    {
     "output_type": "execute_result",
     "data": {
      "text/plain": [
       "0"
      ]
     },
     "metadata": {},
     "execution_count": 24
    }
   ],
   "source": [
    "flag_isserial = kokyaku_data[\"登録日\"].astype(\"str\").str.isdigit()\n",
    "flag_isserial.sum()"
   ]
  },
  {
   "source": [
    "## ノック18 顧客名をキーに2つのデータを結合(ジョイン)しよう\n",
    "処理したデータをjoinする．"
   ],
   "cell_type": "markdown",
   "metadata": {}
  },
  {
   "cell_type": "code",
   "execution_count": null,
   "metadata": {},
   "outputs": [],
   "source": []
  },
  {
   "cell_type": "code",
   "execution_count": 25,
   "metadata": {},
   "outputs": [
    {
     "output_type": "execute_result",
     "data": {
      "text/plain": [
       "           purchase_date item_name  item_price purchase_month    顧客名  \\\n",
       "0    2019-06-13 18:02:34       商品A       100.0         201906  深井菜々美   \n",
       "1    2019-07-13 13:05:29       商品S      1900.0         201907   浅田賢二   \n",
       "2    2019-05-11 19:42:07       商品A       100.0         201905   南部慶二   \n",
       "3    2019-02-12 23:40:45       商品Z      2600.0         201902   麻生莉緒   \n",
       "4    2019-04-22 03:09:35       商品A       100.0         201904   平田鉄二   \n",
       "...                  ...       ...         ...            ...    ...   \n",
       "2994 2019-02-15 02:56:39       商品Y      2500.0         201902   福島友也   \n",
       "2995 2019-06-22 04:03:43       商品M      1300.0         201906   大倉晃司   \n",
       "2996 2019-03-29 11:14:05       商品Q      1700.0         201903   尾形小雁   \n",
       "2997 2019-07-14 12:56:49       商品H       800.0         201907   芦田博之   \n",
       "2998 2019-07-21 00:31:36       商品D       400.0         201907   石田郁恵   \n",
       "\n",
       "            かな  地域                       メールアドレス        登録日    登録年月  \n",
       "0      ふかい ななみ  C市      fukai_nanami@example.com 2017-01-26  201701  \n",
       "1      あさだ けんじ  C市       asada_kenji@example.com 2018-04-07  201804  \n",
       "2      なんぶ けいじ  A市      nannbu_keiji@example.com 2018-06-19  201806  \n",
       "3       あそう りお  D市          asou_rio@example.com 2018-07-22  201807  \n",
       "4      ひらた てつじ  D市    hirata_tetsuji@example.com 2017-06-07  201706  \n",
       "...        ...  ..                           ...        ...     ...  \n",
       "2994  ふくしま ともや  B市  fukushima_tomoya@example.com 2017-07-01  201707  \n",
       "2995  おおくら こうじ  E市      ookura_kouji@example.com 2018-03-31  201803  \n",
       "2996   おがた こがん  B市       ogata_kogan@example.com 2017-03-15  201703  \n",
       "2997  あしだ ひろゆき  E市   ashida_hiroyuki@example.com 2018-07-15  201807  \n",
       "2998   いしだ いくえ  B市       ishida_ikue@example.com 2017-02-05  201702  \n",
       "\n",
       "[2999 rows x 10 columns]"
      ],
      "text/html": "<div>\n<style scoped>\n    .dataframe tbody tr th:only-of-type {\n        vertical-align: middle;\n    }\n\n    .dataframe tbody tr th {\n        vertical-align: top;\n    }\n\n    .dataframe thead th {\n        text-align: right;\n    }\n</style>\n<table border=\"1\" class=\"dataframe\">\n  <thead>\n    <tr style=\"text-align: right;\">\n      <th></th>\n      <th>purchase_date</th>\n      <th>item_name</th>\n      <th>item_price</th>\n      <th>purchase_month</th>\n      <th>顧客名</th>\n      <th>かな</th>\n      <th>地域</th>\n      <th>メールアドレス</th>\n      <th>登録日</th>\n      <th>登録年月</th>\n    </tr>\n  </thead>\n  <tbody>\n    <tr>\n      <th>0</th>\n      <td>2019-06-13 18:02:34</td>\n      <td>商品A</td>\n      <td>100.0</td>\n      <td>201906</td>\n      <td>深井菜々美</td>\n      <td>ふかい ななみ</td>\n      <td>C市</td>\n      <td>fukai_nanami@example.com</td>\n      <td>2017-01-26</td>\n      <td>201701</td>\n    </tr>\n    <tr>\n      <th>1</th>\n      <td>2019-07-13 13:05:29</td>\n      <td>商品S</td>\n      <td>1900.0</td>\n      <td>201907</td>\n      <td>浅田賢二</td>\n      <td>あさだ けんじ</td>\n      <td>C市</td>\n      <td>asada_kenji@example.com</td>\n      <td>2018-04-07</td>\n      <td>201804</td>\n    </tr>\n    <tr>\n      <th>2</th>\n      <td>2019-05-11 19:42:07</td>\n      <td>商品A</td>\n      <td>100.0</td>\n      <td>201905</td>\n      <td>南部慶二</td>\n      <td>なんぶ けいじ</td>\n      <td>A市</td>\n      <td>nannbu_keiji@example.com</td>\n      <td>2018-06-19</td>\n      <td>201806</td>\n    </tr>\n    <tr>\n      <th>3</th>\n      <td>2019-02-12 23:40:45</td>\n      <td>商品Z</td>\n      <td>2600.0</td>\n      <td>201902</td>\n      <td>麻生莉緒</td>\n      <td>あそう りお</td>\n      <td>D市</td>\n      <td>asou_rio@example.com</td>\n      <td>2018-07-22</td>\n      <td>201807</td>\n    </tr>\n    <tr>\n      <th>4</th>\n      <td>2019-04-22 03:09:35</td>\n      <td>商品A</td>\n      <td>100.0</td>\n      <td>201904</td>\n      <td>平田鉄二</td>\n      <td>ひらた てつじ</td>\n      <td>D市</td>\n      <td>hirata_tetsuji@example.com</td>\n      <td>2017-06-07</td>\n      <td>201706</td>\n    </tr>\n    <tr>\n      <th>...</th>\n      <td>...</td>\n      <td>...</td>\n      <td>...</td>\n      <td>...</td>\n      <td>...</td>\n      <td>...</td>\n      <td>...</td>\n      <td>...</td>\n      <td>...</td>\n      <td>...</td>\n    </tr>\n    <tr>\n      <th>2994</th>\n      <td>2019-02-15 02:56:39</td>\n      <td>商品Y</td>\n      <td>2500.0</td>\n      <td>201902</td>\n      <td>福島友也</td>\n      <td>ふくしま ともや</td>\n      <td>B市</td>\n      <td>fukushima_tomoya@example.com</td>\n      <td>2017-07-01</td>\n      <td>201707</td>\n    </tr>\n    <tr>\n      <th>2995</th>\n      <td>2019-06-22 04:03:43</td>\n      <td>商品M</td>\n      <td>1300.0</td>\n      <td>201906</td>\n      <td>大倉晃司</td>\n      <td>おおくら こうじ</td>\n      <td>E市</td>\n      <td>ookura_kouji@example.com</td>\n      <td>2018-03-31</td>\n      <td>201803</td>\n    </tr>\n    <tr>\n      <th>2996</th>\n      <td>2019-03-29 11:14:05</td>\n      <td>商品Q</td>\n      <td>1700.0</td>\n      <td>201903</td>\n      <td>尾形小雁</td>\n      <td>おがた こがん</td>\n      <td>B市</td>\n      <td>ogata_kogan@example.com</td>\n      <td>2017-03-15</td>\n      <td>201703</td>\n    </tr>\n    <tr>\n      <th>2997</th>\n      <td>2019-07-14 12:56:49</td>\n      <td>商品H</td>\n      <td>800.0</td>\n      <td>201907</td>\n      <td>芦田博之</td>\n      <td>あしだ ひろゆき</td>\n      <td>E市</td>\n      <td>ashida_hiroyuki@example.com</td>\n      <td>2018-07-15</td>\n      <td>201807</td>\n    </tr>\n    <tr>\n      <th>2998</th>\n      <td>2019-07-21 00:31:36</td>\n      <td>商品D</td>\n      <td>400.0</td>\n      <td>201907</td>\n      <td>石田郁恵</td>\n      <td>いしだ いくえ</td>\n      <td>B市</td>\n      <td>ishida_ikue@example.com</td>\n      <td>2017-02-05</td>\n      <td>201702</td>\n    </tr>\n  </tbody>\n</table>\n<p>2999 rows × 10 columns</p>\n</div>"
     },
     "metadata": {},
     "execution_count": 25
    }
   ],
   "source": [
    "joined_data = pd.merge(uriage_data, kokyaku_data, left_on=\"customer_name\", right_on=\"顧客名\", how=\"left\")\n",
    "joined_data = joined_data.drop(\"customer_name\", axis=1)\n",
    "joined_data"
   ]
  },
  {
   "source": [
    "## ノック19 クレンジングしたデータをダンプしよう\n",
    "データをファイルにダンプ(出力)する．"
   ],
   "cell_type": "markdown",
   "metadata": {}
  },
  {
   "cell_type": "code",
   "execution_count": 26,
   "metadata": {},
   "outputs": [
    {
     "output_type": "execute_result",
     "data": {
      "text/plain": [
       "           purchase_date purchase_month item_name  item_price    顧客名  \\\n",
       "0    2019-06-13 18:02:34         201906       商品A       100.0  深井菜々美   \n",
       "1    2019-07-13 13:05:29         201907       商品S      1900.0   浅田賢二   \n",
       "2    2019-05-11 19:42:07         201905       商品A       100.0   南部慶二   \n",
       "3    2019-02-12 23:40:45         201902       商品Z      2600.0   麻生莉緒   \n",
       "4    2019-04-22 03:09:35         201904       商品A       100.0   平田鉄二   \n",
       "...                  ...            ...       ...         ...    ...   \n",
       "2994 2019-02-15 02:56:39         201902       商品Y      2500.0   福島友也   \n",
       "2995 2019-06-22 04:03:43         201906       商品M      1300.0   大倉晃司   \n",
       "2996 2019-03-29 11:14:05         201903       商品Q      1700.0   尾形小雁   \n",
       "2997 2019-07-14 12:56:49         201907       商品H       800.0   芦田博之   \n",
       "2998 2019-07-21 00:31:36         201907       商品D       400.0   石田郁恵   \n",
       "\n",
       "            かな  地域                       メールアドレス        登録日  \n",
       "0      ふかい ななみ  C市      fukai_nanami@example.com 2017-01-26  \n",
       "1      あさだ けんじ  C市       asada_kenji@example.com 2018-04-07  \n",
       "2      なんぶ けいじ  A市      nannbu_keiji@example.com 2018-06-19  \n",
       "3       あそう りお  D市          asou_rio@example.com 2018-07-22  \n",
       "4      ひらた てつじ  D市    hirata_tetsuji@example.com 2017-06-07  \n",
       "...        ...  ..                           ...        ...  \n",
       "2994  ふくしま ともや  B市  fukushima_tomoya@example.com 2017-07-01  \n",
       "2995  おおくら こうじ  E市      ookura_kouji@example.com 2018-03-31  \n",
       "2996   おがた こがん  B市       ogata_kogan@example.com 2017-03-15  \n",
       "2997  あしだ ひろゆき  E市   ashida_hiroyuki@example.com 2018-07-15  \n",
       "2998   いしだ いくえ  B市       ishida_ikue@example.com 2017-02-05  \n",
       "\n",
       "[2999 rows x 9 columns]"
      ],
      "text/html": "<div>\n<style scoped>\n    .dataframe tbody tr th:only-of-type {\n        vertical-align: middle;\n    }\n\n    .dataframe tbody tr th {\n        vertical-align: top;\n    }\n\n    .dataframe thead th {\n        text-align: right;\n    }\n</style>\n<table border=\"1\" class=\"dataframe\">\n  <thead>\n    <tr style=\"text-align: right;\">\n      <th></th>\n      <th>purchase_date</th>\n      <th>purchase_month</th>\n      <th>item_name</th>\n      <th>item_price</th>\n      <th>顧客名</th>\n      <th>かな</th>\n      <th>地域</th>\n      <th>メールアドレス</th>\n      <th>登録日</th>\n    </tr>\n  </thead>\n  <tbody>\n    <tr>\n      <th>0</th>\n      <td>2019-06-13 18:02:34</td>\n      <td>201906</td>\n      <td>商品A</td>\n      <td>100.0</td>\n      <td>深井菜々美</td>\n      <td>ふかい ななみ</td>\n      <td>C市</td>\n      <td>fukai_nanami@example.com</td>\n      <td>2017-01-26</td>\n    </tr>\n    <tr>\n      <th>1</th>\n      <td>2019-07-13 13:05:29</td>\n      <td>201907</td>\n      <td>商品S</td>\n      <td>1900.0</td>\n      <td>浅田賢二</td>\n      <td>あさだ けんじ</td>\n      <td>C市</td>\n      <td>asada_kenji@example.com</td>\n      <td>2018-04-07</td>\n    </tr>\n    <tr>\n      <th>2</th>\n      <td>2019-05-11 19:42:07</td>\n      <td>201905</td>\n      <td>商品A</td>\n      <td>100.0</td>\n      <td>南部慶二</td>\n      <td>なんぶ けいじ</td>\n      <td>A市</td>\n      <td>nannbu_keiji@example.com</td>\n      <td>2018-06-19</td>\n    </tr>\n    <tr>\n      <th>3</th>\n      <td>2019-02-12 23:40:45</td>\n      <td>201902</td>\n      <td>商品Z</td>\n      <td>2600.0</td>\n      <td>麻生莉緒</td>\n      <td>あそう りお</td>\n      <td>D市</td>\n      <td>asou_rio@example.com</td>\n      <td>2018-07-22</td>\n    </tr>\n    <tr>\n      <th>4</th>\n      <td>2019-04-22 03:09:35</td>\n      <td>201904</td>\n      <td>商品A</td>\n      <td>100.0</td>\n      <td>平田鉄二</td>\n      <td>ひらた てつじ</td>\n      <td>D市</td>\n      <td>hirata_tetsuji@example.com</td>\n      <td>2017-06-07</td>\n    </tr>\n    <tr>\n      <th>...</th>\n      <td>...</td>\n      <td>...</td>\n      <td>...</td>\n      <td>...</td>\n      <td>...</td>\n      <td>...</td>\n      <td>...</td>\n      <td>...</td>\n      <td>...</td>\n    </tr>\n    <tr>\n      <th>2994</th>\n      <td>2019-02-15 02:56:39</td>\n      <td>201902</td>\n      <td>商品Y</td>\n      <td>2500.0</td>\n      <td>福島友也</td>\n      <td>ふくしま ともや</td>\n      <td>B市</td>\n      <td>fukushima_tomoya@example.com</td>\n      <td>2017-07-01</td>\n    </tr>\n    <tr>\n      <th>2995</th>\n      <td>2019-06-22 04:03:43</td>\n      <td>201906</td>\n      <td>商品M</td>\n      <td>1300.0</td>\n      <td>大倉晃司</td>\n      <td>おおくら こうじ</td>\n      <td>E市</td>\n      <td>ookura_kouji@example.com</td>\n      <td>2018-03-31</td>\n    </tr>\n    <tr>\n      <th>2996</th>\n      <td>2019-03-29 11:14:05</td>\n      <td>201903</td>\n      <td>商品Q</td>\n      <td>1700.0</td>\n      <td>尾形小雁</td>\n      <td>おがた こがん</td>\n      <td>B市</td>\n      <td>ogata_kogan@example.com</td>\n      <td>2017-03-15</td>\n    </tr>\n    <tr>\n      <th>2997</th>\n      <td>2019-07-14 12:56:49</td>\n      <td>201907</td>\n      <td>商品H</td>\n      <td>800.0</td>\n      <td>芦田博之</td>\n      <td>あしだ ひろゆき</td>\n      <td>E市</td>\n      <td>ashida_hiroyuki@example.com</td>\n      <td>2018-07-15</td>\n    </tr>\n    <tr>\n      <th>2998</th>\n      <td>2019-07-21 00:31:36</td>\n      <td>201907</td>\n      <td>商品D</td>\n      <td>400.0</td>\n      <td>石田郁恵</td>\n      <td>いしだ いくえ</td>\n      <td>B市</td>\n      <td>ishida_ikue@example.com</td>\n      <td>2017-02-05</td>\n    </tr>\n  </tbody>\n</table>\n<p>2999 rows × 9 columns</p>\n</div>"
     },
     "metadata": {},
     "execution_count": 26
    }
   ],
   "source": [
    "dump_data = joined_data[[\"purchase_date\", \"purchase_month\", \"item_name\", \"item_price\", \"顧客名\", \"かな\", \"地域\", \"メールアドレス\", \"登録日\"]]\n",
    "dump_data"
   ]
  },
  {
   "cell_type": "code",
   "execution_count": 27,
   "metadata": {},
   "outputs": [],
   "source": [
    "dump_data.to_csv(\"dump_data_mine.csv\", index=False)"
   ]
  },
  {
   "source": [
    "## ノック20 データを集計しよう\n",
    "目的に合わせて，データを集計する．"
   ],
   "cell_type": "markdown",
   "metadata": {}
  },
  {
   "cell_type": "code",
   "execution_count": 28,
   "metadata": {},
   "outputs": [
    {
     "output_type": "execute_result",
     "data": {
      "text/plain": [
       "            purchase_date  purchase_month item_name  item_price    顧客名  \\\n",
       "0     2019-06-13 18:02:34          201906       商品A       100.0  深井菜々美   \n",
       "1     2019-07-13 13:05:29          201907       商品S      1900.0   浅田賢二   \n",
       "2     2019-05-11 19:42:07          201905       商品A       100.0   南部慶二   \n",
       "3     2019-02-12 23:40:45          201902       商品Z      2600.0   麻生莉緒   \n",
       "4     2019-04-22 03:09:35          201904       商品A       100.0   平田鉄二   \n",
       "...                   ...             ...       ...         ...    ...   \n",
       "2994  2019-02-15 02:56:39          201902       商品Y      2500.0   福島友也   \n",
       "2995  2019-06-22 04:03:43          201906       商品M      1300.0   大倉晃司   \n",
       "2996  2019-03-29 11:14:05          201903       商品Q      1700.0   尾形小雁   \n",
       "2997  2019-07-14 12:56:49          201907       商品H       800.0   芦田博之   \n",
       "2998  2019-07-21 00:31:36          201907       商品D       400.0   石田郁恵   \n",
       "\n",
       "            かな  地域                       メールアドレス                  登録日  \n",
       "0      ふかい ななみ  C市      fukai_nanami@example.com  2017-01-26 00:00:00  \n",
       "1      あさだ けんじ  C市       asada_kenji@example.com  2018-04-07 00:00:00  \n",
       "2      なんぶ けいじ  A市      nannbu_keiji@example.com  2018-06-19 00:00:00  \n",
       "3       あそう りお  D市          asou_rio@example.com  2018-07-22 00:00:00  \n",
       "4      ひらた てつじ  D市    hirata_tetsuji@example.com  2017-06-07 00:00:00  \n",
       "...        ...  ..                           ...                  ...  \n",
       "2994  ふくしま ともや  B市  fukushima_tomoya@example.com  2017-07-01 00:00:00  \n",
       "2995  おおくら こうじ  E市      ookura_kouji@example.com  2018-03-31 00:00:00  \n",
       "2996   おがた こがん  B市       ogata_kogan@example.com  2017-03-15 00:00:00  \n",
       "2997  あしだ ひろゆき  E市   ashida_hiroyuki@example.com  2018-07-15 00:00:00  \n",
       "2998   いしだ いくえ  B市       ishida_ikue@example.com  2017-02-05 00:00:00  \n",
       "\n",
       "[2999 rows x 9 columns]"
      ],
      "text/html": "<div>\n<style scoped>\n    .dataframe tbody tr th:only-of-type {\n        vertical-align: middle;\n    }\n\n    .dataframe tbody tr th {\n        vertical-align: top;\n    }\n\n    .dataframe thead th {\n        text-align: right;\n    }\n</style>\n<table border=\"1\" class=\"dataframe\">\n  <thead>\n    <tr style=\"text-align: right;\">\n      <th></th>\n      <th>purchase_date</th>\n      <th>purchase_month</th>\n      <th>item_name</th>\n      <th>item_price</th>\n      <th>顧客名</th>\n      <th>かな</th>\n      <th>地域</th>\n      <th>メールアドレス</th>\n      <th>登録日</th>\n    </tr>\n  </thead>\n  <tbody>\n    <tr>\n      <th>0</th>\n      <td>2019-06-13 18:02:34</td>\n      <td>201906</td>\n      <td>商品A</td>\n      <td>100.0</td>\n      <td>深井菜々美</td>\n      <td>ふかい ななみ</td>\n      <td>C市</td>\n      <td>fukai_nanami@example.com</td>\n      <td>2017-01-26 00:00:00</td>\n    </tr>\n    <tr>\n      <th>1</th>\n      <td>2019-07-13 13:05:29</td>\n      <td>201907</td>\n      <td>商品S</td>\n      <td>1900.0</td>\n      <td>浅田賢二</td>\n      <td>あさだ けんじ</td>\n      <td>C市</td>\n      <td>asada_kenji@example.com</td>\n      <td>2018-04-07 00:00:00</td>\n    </tr>\n    <tr>\n      <th>2</th>\n      <td>2019-05-11 19:42:07</td>\n      <td>201905</td>\n      <td>商品A</td>\n      <td>100.0</td>\n      <td>南部慶二</td>\n      <td>なんぶ けいじ</td>\n      <td>A市</td>\n      <td>nannbu_keiji@example.com</td>\n      <td>2018-06-19 00:00:00</td>\n    </tr>\n    <tr>\n      <th>3</th>\n      <td>2019-02-12 23:40:45</td>\n      <td>201902</td>\n      <td>商品Z</td>\n      <td>2600.0</td>\n      <td>麻生莉緒</td>\n      <td>あそう りお</td>\n      <td>D市</td>\n      <td>asou_rio@example.com</td>\n      <td>2018-07-22 00:00:00</td>\n    </tr>\n    <tr>\n      <th>4</th>\n      <td>2019-04-22 03:09:35</td>\n      <td>201904</td>\n      <td>商品A</td>\n      <td>100.0</td>\n      <td>平田鉄二</td>\n      <td>ひらた てつじ</td>\n      <td>D市</td>\n      <td>hirata_tetsuji@example.com</td>\n      <td>2017-06-07 00:00:00</td>\n    </tr>\n    <tr>\n      <th>...</th>\n      <td>...</td>\n      <td>...</td>\n      <td>...</td>\n      <td>...</td>\n      <td>...</td>\n      <td>...</td>\n      <td>...</td>\n      <td>...</td>\n      <td>...</td>\n    </tr>\n    <tr>\n      <th>2994</th>\n      <td>2019-02-15 02:56:39</td>\n      <td>201902</td>\n      <td>商品Y</td>\n      <td>2500.0</td>\n      <td>福島友也</td>\n      <td>ふくしま ともや</td>\n      <td>B市</td>\n      <td>fukushima_tomoya@example.com</td>\n      <td>2017-07-01 00:00:00</td>\n    </tr>\n    <tr>\n      <th>2995</th>\n      <td>2019-06-22 04:03:43</td>\n      <td>201906</td>\n      <td>商品M</td>\n      <td>1300.0</td>\n      <td>大倉晃司</td>\n      <td>おおくら こうじ</td>\n      <td>E市</td>\n      <td>ookura_kouji@example.com</td>\n      <td>2018-03-31 00:00:00</td>\n    </tr>\n    <tr>\n      <th>2996</th>\n      <td>2019-03-29 11:14:05</td>\n      <td>201903</td>\n      <td>商品Q</td>\n      <td>1700.0</td>\n      <td>尾形小雁</td>\n      <td>おがた こがん</td>\n      <td>B市</td>\n      <td>ogata_kogan@example.com</td>\n      <td>2017-03-15 00:00:00</td>\n    </tr>\n    <tr>\n      <th>2997</th>\n      <td>2019-07-14 12:56:49</td>\n      <td>201907</td>\n      <td>商品H</td>\n      <td>800.0</td>\n      <td>芦田博之</td>\n      <td>あしだ ひろゆき</td>\n      <td>E市</td>\n      <td>ashida_hiroyuki@example.com</td>\n      <td>2018-07-15 00:00:00</td>\n    </tr>\n    <tr>\n      <th>2998</th>\n      <td>2019-07-21 00:31:36</td>\n      <td>201907</td>\n      <td>商品D</td>\n      <td>400.0</td>\n      <td>石田郁恵</td>\n      <td>いしだ いくえ</td>\n      <td>B市</td>\n      <td>ishida_ikue@example.com</td>\n      <td>2017-02-05 00:00:00</td>\n    </tr>\n  </tbody>\n</table>\n<p>2999 rows × 9 columns</p>\n</div>"
     },
     "metadata": {},
     "execution_count": 28
    }
   ],
   "source": [
    "import_data = pd.read_csv(\"dump_data_mine.csv\")\n",
    "import_data"
   ]
  },
  {
   "cell_type": "code",
   "execution_count": 29,
   "metadata": {},
   "outputs": [
    {
     "output_type": "execute_result",
     "data": {
      "text/plain": [
       "item_name       商品A  商品B  商品C  商品D  商品E  商品F  商品G  商品H  商品I  商品J  ...  商品Q  \\\n",
       "purchase_month                                                    ...        \n",
       "201901           18   13   19   17   18   15   11   16   18   17  ...   17   \n",
       "201902           19   14   26   21   16   14   14   17   12   14  ...   22   \n",
       "201903           17   21   20   17    9   27   14   18   12   16  ...   23   \n",
       "201904           17   19   24   20   18   17   14   11   18   13  ...   20   \n",
       "201905           24   14   16   14   19   18   23   15   16   11  ...   13   \n",
       "201906           24   12   11   19   13   18   15   13   19   22  ...   15   \n",
       "201907           20   20   17   17   12   17   19   19   19   23  ...   15   \n",
       "\n",
       "item_name       商品R  商品S  商品T  商品U  商品V  商品W  商品X  商品Y  商品Z  \n",
       "purchase_month                                               \n",
       "201901           21   20   17    7   22   13   14   10    0  \n",
       "201902           22   22   23   19   22   24   16   11    1  \n",
       "201903           16   20   12   23   18   16   21   16    0  \n",
       "201904           20   16   16   11   15   14   16   20    0  \n",
       "201905           22   18   16   16    9   21   16   20    0  \n",
       "201906           16   21   12   18   20   17   15   13    0  \n",
       "201907           19   23   21   13   28   16   18   12    0  \n",
       "\n",
       "[7 rows x 26 columns]"
      ],
      "text/html": "<div>\n<style scoped>\n    .dataframe tbody tr th:only-of-type {\n        vertical-align: middle;\n    }\n\n    .dataframe tbody tr th {\n        vertical-align: top;\n    }\n\n    .dataframe thead th {\n        text-align: right;\n    }\n</style>\n<table border=\"1\" class=\"dataframe\">\n  <thead>\n    <tr style=\"text-align: right;\">\n      <th>item_name</th>\n      <th>商品A</th>\n      <th>商品B</th>\n      <th>商品C</th>\n      <th>商品D</th>\n      <th>商品E</th>\n      <th>商品F</th>\n      <th>商品G</th>\n      <th>商品H</th>\n      <th>商品I</th>\n      <th>商品J</th>\n      <th>...</th>\n      <th>商品Q</th>\n      <th>商品R</th>\n      <th>商品S</th>\n      <th>商品T</th>\n      <th>商品U</th>\n      <th>商品V</th>\n      <th>商品W</th>\n      <th>商品X</th>\n      <th>商品Y</th>\n      <th>商品Z</th>\n    </tr>\n    <tr>\n      <th>purchase_month</th>\n      <th></th>\n      <th></th>\n      <th></th>\n      <th></th>\n      <th></th>\n      <th></th>\n      <th></th>\n      <th></th>\n      <th></th>\n      <th></th>\n      <th></th>\n      <th></th>\n      <th></th>\n      <th></th>\n      <th></th>\n      <th></th>\n      <th></th>\n      <th></th>\n      <th></th>\n      <th></th>\n      <th></th>\n    </tr>\n  </thead>\n  <tbody>\n    <tr>\n      <th>201901</th>\n      <td>18</td>\n      <td>13</td>\n      <td>19</td>\n      <td>17</td>\n      <td>18</td>\n      <td>15</td>\n      <td>11</td>\n      <td>16</td>\n      <td>18</td>\n      <td>17</td>\n      <td>...</td>\n      <td>17</td>\n      <td>21</td>\n      <td>20</td>\n      <td>17</td>\n      <td>7</td>\n      <td>22</td>\n      <td>13</td>\n      <td>14</td>\n      <td>10</td>\n      <td>0</td>\n    </tr>\n    <tr>\n      <th>201902</th>\n      <td>19</td>\n      <td>14</td>\n      <td>26</td>\n      <td>21</td>\n      <td>16</td>\n      <td>14</td>\n      <td>14</td>\n      <td>17</td>\n      <td>12</td>\n      <td>14</td>\n      <td>...</td>\n      <td>22</td>\n      <td>22</td>\n      <td>22</td>\n      <td>23</td>\n      <td>19</td>\n      <td>22</td>\n      <td>24</td>\n      <td>16</td>\n      <td>11</td>\n      <td>1</td>\n    </tr>\n    <tr>\n      <th>201903</th>\n      <td>17</td>\n      <td>21</td>\n      <td>20</td>\n      <td>17</td>\n      <td>9</td>\n      <td>27</td>\n      <td>14</td>\n      <td>18</td>\n      <td>12</td>\n      <td>16</td>\n      <td>...</td>\n      <td>23</td>\n      <td>16</td>\n      <td>20</td>\n      <td>12</td>\n      <td>23</td>\n      <td>18</td>\n      <td>16</td>\n      <td>21</td>\n      <td>16</td>\n      <td>0</td>\n    </tr>\n    <tr>\n      <th>201904</th>\n      <td>17</td>\n      <td>19</td>\n      <td>24</td>\n      <td>20</td>\n      <td>18</td>\n      <td>17</td>\n      <td>14</td>\n      <td>11</td>\n      <td>18</td>\n      <td>13</td>\n      <td>...</td>\n      <td>20</td>\n      <td>20</td>\n      <td>16</td>\n      <td>16</td>\n      <td>11</td>\n      <td>15</td>\n      <td>14</td>\n      <td>16</td>\n      <td>20</td>\n      <td>0</td>\n    </tr>\n    <tr>\n      <th>201905</th>\n      <td>24</td>\n      <td>14</td>\n      <td>16</td>\n      <td>14</td>\n      <td>19</td>\n      <td>18</td>\n      <td>23</td>\n      <td>15</td>\n      <td>16</td>\n      <td>11</td>\n      <td>...</td>\n      <td>13</td>\n      <td>22</td>\n      <td>18</td>\n      <td>16</td>\n      <td>16</td>\n      <td>9</td>\n      <td>21</td>\n      <td>16</td>\n      <td>20</td>\n      <td>0</td>\n    </tr>\n    <tr>\n      <th>201906</th>\n      <td>24</td>\n      <td>12</td>\n      <td>11</td>\n      <td>19</td>\n      <td>13</td>\n      <td>18</td>\n      <td>15</td>\n      <td>13</td>\n      <td>19</td>\n      <td>22</td>\n      <td>...</td>\n      <td>15</td>\n      <td>16</td>\n      <td>21</td>\n      <td>12</td>\n      <td>18</td>\n      <td>20</td>\n      <td>17</td>\n      <td>15</td>\n      <td>13</td>\n      <td>0</td>\n    </tr>\n    <tr>\n      <th>201907</th>\n      <td>20</td>\n      <td>20</td>\n      <td>17</td>\n      <td>17</td>\n      <td>12</td>\n      <td>17</td>\n      <td>19</td>\n      <td>19</td>\n      <td>19</td>\n      <td>23</td>\n      <td>...</td>\n      <td>15</td>\n      <td>19</td>\n      <td>23</td>\n      <td>21</td>\n      <td>13</td>\n      <td>28</td>\n      <td>16</td>\n      <td>18</td>\n      <td>12</td>\n      <td>0</td>\n    </tr>\n  </tbody>\n</table>\n<p>7 rows × 26 columns</p>\n</div>"
     },
     "metadata": {},
     "execution_count": 29
    }
   ],
   "source": [
    "byItem = import_data.pivot_table(index=\"purchase_month\", columns=\"item_name\", aggfunc=\"size\", fill_value=0)\n",
    "byItem"
   ]
  },
  {
   "cell_type": "code",
   "execution_count": 30,
   "metadata": {},
   "outputs": [
    {
     "output_type": "execute_result",
     "data": {
      "text/plain": [
       "item_name        商品A   商品B   商品C   商品D   商品E    商品F    商品G    商品H    商品I  \\\n",
       "purchase_month                                                             \n",
       "201901          1800  2600  5700  6800  9000   9000   7700  12800  16200   \n",
       "201902          1900  2800  7800  8400  8000   8400   9800  13600  10800   \n",
       "201903          1700  4200  6000  6800  4500  16200   9800  14400  10800   \n",
       "201904          1700  3800  7200  8000  9000  10200   9800   8800  16200   \n",
       "201905          2400  2800  4800  5600  9500  10800  16100  12000  14400   \n",
       "201906          2400  2400  3300  7600  6500  10800  10500  10400  17100   \n",
       "201907          2000  4000  5100  6800  6000  10200  13300  15200  17100   \n",
       "\n",
       "item_name         商品J  ...    商品Q    商品R    商品S    商品T    商品U    商品V    商品W  \\\n",
       "purchase_month         ...                                                    \n",
       "201901          17000  ...  28900  37800  38000  34000  14700  48400  29900   \n",
       "201902          14000  ...  37400  39600  41800  46000  39900  48400  55200   \n",
       "201903          16000  ...  39100  28800  38000  24000  48300  39600  36800   \n",
       "201904          13000  ...  34000  36000  30400  32000  23100  33000  32200   \n",
       "201905          11000  ...  22100  39600  34200  32000  33600  19800  48300   \n",
       "201906          22000  ...  25500  28800  39900  24000  37800  44000  39100   \n",
       "201907          23000  ...  25500  34200  43700  42000  27300  61600  36800   \n",
       "\n",
       "item_name         商品X    商品Y   商品Z  \n",
       "purchase_month                      \n",
       "201901          33600  25000     0  \n",
       "201902          38400  27500  2600  \n",
       "201903          50400  40000     0  \n",
       "201904          38400  50000     0  \n",
       "201905          38400  50000     0  \n",
       "201906          36000  32500     0  \n",
       "201907          43200  30000     0  \n",
       "\n",
       "[7 rows x 26 columns]"
      ],
      "text/html": "<div>\n<style scoped>\n    .dataframe tbody tr th:only-of-type {\n        vertical-align: middle;\n    }\n\n    .dataframe tbody tr th {\n        vertical-align: top;\n    }\n\n    .dataframe thead th {\n        text-align: right;\n    }\n</style>\n<table border=\"1\" class=\"dataframe\">\n  <thead>\n    <tr style=\"text-align: right;\">\n      <th>item_name</th>\n      <th>商品A</th>\n      <th>商品B</th>\n      <th>商品C</th>\n      <th>商品D</th>\n      <th>商品E</th>\n      <th>商品F</th>\n      <th>商品G</th>\n      <th>商品H</th>\n      <th>商品I</th>\n      <th>商品J</th>\n      <th>...</th>\n      <th>商品Q</th>\n      <th>商品R</th>\n      <th>商品S</th>\n      <th>商品T</th>\n      <th>商品U</th>\n      <th>商品V</th>\n      <th>商品W</th>\n      <th>商品X</th>\n      <th>商品Y</th>\n      <th>商品Z</th>\n    </tr>\n    <tr>\n      <th>purchase_month</th>\n      <th></th>\n      <th></th>\n      <th></th>\n      <th></th>\n      <th></th>\n      <th></th>\n      <th></th>\n      <th></th>\n      <th></th>\n      <th></th>\n      <th></th>\n      <th></th>\n      <th></th>\n      <th></th>\n      <th></th>\n      <th></th>\n      <th></th>\n      <th></th>\n      <th></th>\n      <th></th>\n      <th></th>\n    </tr>\n  </thead>\n  <tbody>\n    <tr>\n      <th>201901</th>\n      <td>1800</td>\n      <td>2600</td>\n      <td>5700</td>\n      <td>6800</td>\n      <td>9000</td>\n      <td>9000</td>\n      <td>7700</td>\n      <td>12800</td>\n      <td>16200</td>\n      <td>17000</td>\n      <td>...</td>\n      <td>28900</td>\n      <td>37800</td>\n      <td>38000</td>\n      <td>34000</td>\n      <td>14700</td>\n      <td>48400</td>\n      <td>29900</td>\n      <td>33600</td>\n      <td>25000</td>\n      <td>0</td>\n    </tr>\n    <tr>\n      <th>201902</th>\n      <td>1900</td>\n      <td>2800</td>\n      <td>7800</td>\n      <td>8400</td>\n      <td>8000</td>\n      <td>8400</td>\n      <td>9800</td>\n      <td>13600</td>\n      <td>10800</td>\n      <td>14000</td>\n      <td>...</td>\n      <td>37400</td>\n      <td>39600</td>\n      <td>41800</td>\n      <td>46000</td>\n      <td>39900</td>\n      <td>48400</td>\n      <td>55200</td>\n      <td>38400</td>\n      <td>27500</td>\n      <td>2600</td>\n    </tr>\n    <tr>\n      <th>201903</th>\n      <td>1700</td>\n      <td>4200</td>\n      <td>6000</td>\n      <td>6800</td>\n      <td>4500</td>\n      <td>16200</td>\n      <td>9800</td>\n      <td>14400</td>\n      <td>10800</td>\n      <td>16000</td>\n      <td>...</td>\n      <td>39100</td>\n      <td>28800</td>\n      <td>38000</td>\n      <td>24000</td>\n      <td>48300</td>\n      <td>39600</td>\n      <td>36800</td>\n      <td>50400</td>\n      <td>40000</td>\n      <td>0</td>\n    </tr>\n    <tr>\n      <th>201904</th>\n      <td>1700</td>\n      <td>3800</td>\n      <td>7200</td>\n      <td>8000</td>\n      <td>9000</td>\n      <td>10200</td>\n      <td>9800</td>\n      <td>8800</td>\n      <td>16200</td>\n      <td>13000</td>\n      <td>...</td>\n      <td>34000</td>\n      <td>36000</td>\n      <td>30400</td>\n      <td>32000</td>\n      <td>23100</td>\n      <td>33000</td>\n      <td>32200</td>\n      <td>38400</td>\n      <td>50000</td>\n      <td>0</td>\n    </tr>\n    <tr>\n      <th>201905</th>\n      <td>2400</td>\n      <td>2800</td>\n      <td>4800</td>\n      <td>5600</td>\n      <td>9500</td>\n      <td>10800</td>\n      <td>16100</td>\n      <td>12000</td>\n      <td>14400</td>\n      <td>11000</td>\n      <td>...</td>\n      <td>22100</td>\n      <td>39600</td>\n      <td>34200</td>\n      <td>32000</td>\n      <td>33600</td>\n      <td>19800</td>\n      <td>48300</td>\n      <td>38400</td>\n      <td>50000</td>\n      <td>0</td>\n    </tr>\n    <tr>\n      <th>201906</th>\n      <td>2400</td>\n      <td>2400</td>\n      <td>3300</td>\n      <td>7600</td>\n      <td>6500</td>\n      <td>10800</td>\n      <td>10500</td>\n      <td>10400</td>\n      <td>17100</td>\n      <td>22000</td>\n      <td>...</td>\n      <td>25500</td>\n      <td>28800</td>\n      <td>39900</td>\n      <td>24000</td>\n      <td>37800</td>\n      <td>44000</td>\n      <td>39100</td>\n      <td>36000</td>\n      <td>32500</td>\n      <td>0</td>\n    </tr>\n    <tr>\n      <th>201907</th>\n      <td>2000</td>\n      <td>4000</td>\n      <td>5100</td>\n      <td>6800</td>\n      <td>6000</td>\n      <td>10200</td>\n      <td>13300</td>\n      <td>15200</td>\n      <td>17100</td>\n      <td>23000</td>\n      <td>...</td>\n      <td>25500</td>\n      <td>34200</td>\n      <td>43700</td>\n      <td>42000</td>\n      <td>27300</td>\n      <td>61600</td>\n      <td>36800</td>\n      <td>43200</td>\n      <td>30000</td>\n      <td>0</td>\n    </tr>\n  </tbody>\n</table>\n<p>7 rows × 26 columns</p>\n</div>"
     },
     "metadata": {},
     "execution_count": 30
    }
   ],
   "source": [
    "byPrice = import_data.pivot_table(index=\"purchase_month\", columns=\"item_name\", values=\"item_price\", aggfunc=\"sum\", fill_value=0)\n",
    "byPrice"
   ]
  },
  {
   "cell_type": "code",
   "execution_count": 31,
   "metadata": {},
   "outputs": [
    {
     "output_type": "execute_result",
     "data": {
      "text/plain": [
       "顧客名             さだ千佳子  中仁晶  中田美智子  丸山光臣  久保田倫子  亀井一徳  五十嵐春樹  井上桃子  井口寛治  \\\n",
       "purchase_month                                                            \n",
       "201901              3    1      4     2      2     0      5     3     3   \n",
       "201902              9    1      2     2      1     4      2     1     0   \n",
       "201903              1    2      1     6      1     4      3     3     2   \n",
       "201904              0    3      1     2      0     2      2     0     3   \n",
       "201905              3    2      5     2      4     1      2     1     3   \n",
       "201906              1    3      0     4      1     1      1     2     2   \n",
       "201907              3    0      3     2      5     3      5     2     5   \n",
       "\n",
       "顧客名             井川真悠子  ...  香椎優一  高原充則  高梨結衣  高沢美咲  高田さんま  鳥居広司  鶴岡薫  麻生莉緒  \\\n",
       "purchase_month         ...                                                   \n",
       "201901              1  ...     0     1     1     1      5     2    0     2   \n",
       "201902              4  ...     4     0     3     2      0     1    2     4   \n",
       "201903              2  ...     3     1     6     2      4     2    4     2   \n",
       "201904              2  ...     2     4     2     3      4     3    2     1   \n",
       "201905              3  ...     1     1     1     0      2     2    3     4   \n",
       "201906              3  ...     7     3     0     2      1     0    2     1   \n",
       "201907              5  ...     2     4     4     2      0     2    4     3   \n",
       "\n",
       "顧客名             黄川田博之  黒谷長利  \n",
       "purchase_month               \n",
       "201901              2     5  \n",
       "201902              0     1  \n",
       "201903              2     1  \n",
       "201904              2     0  \n",
       "201905              4     1  \n",
       "201906              2     4  \n",
       "201907              4     1  \n",
       "\n",
       "[7 rows x 199 columns]"
      ],
      "text/html": "<div>\n<style scoped>\n    .dataframe tbody tr th:only-of-type {\n        vertical-align: middle;\n    }\n\n    .dataframe tbody tr th {\n        vertical-align: top;\n    }\n\n    .dataframe thead th {\n        text-align: right;\n    }\n</style>\n<table border=\"1\" class=\"dataframe\">\n  <thead>\n    <tr style=\"text-align: right;\">\n      <th>顧客名</th>\n      <th>さだ千佳子</th>\n      <th>中仁晶</th>\n      <th>中田美智子</th>\n      <th>丸山光臣</th>\n      <th>久保田倫子</th>\n      <th>亀井一徳</th>\n      <th>五十嵐春樹</th>\n      <th>井上桃子</th>\n      <th>井口寛治</th>\n      <th>井川真悠子</th>\n      <th>...</th>\n      <th>香椎優一</th>\n      <th>高原充則</th>\n      <th>高梨結衣</th>\n      <th>高沢美咲</th>\n      <th>高田さんま</th>\n      <th>鳥居広司</th>\n      <th>鶴岡薫</th>\n      <th>麻生莉緒</th>\n      <th>黄川田博之</th>\n      <th>黒谷長利</th>\n    </tr>\n    <tr>\n      <th>purchase_month</th>\n      <th></th>\n      <th></th>\n      <th></th>\n      <th></th>\n      <th></th>\n      <th></th>\n      <th></th>\n      <th></th>\n      <th></th>\n      <th></th>\n      <th></th>\n      <th></th>\n      <th></th>\n      <th></th>\n      <th></th>\n      <th></th>\n      <th></th>\n      <th></th>\n      <th></th>\n      <th></th>\n      <th></th>\n    </tr>\n  </thead>\n  <tbody>\n    <tr>\n      <th>201901</th>\n      <td>3</td>\n      <td>1</td>\n      <td>4</td>\n      <td>2</td>\n      <td>2</td>\n      <td>0</td>\n      <td>5</td>\n      <td>3</td>\n      <td>3</td>\n      <td>1</td>\n      <td>...</td>\n      <td>0</td>\n      <td>1</td>\n      <td>1</td>\n      <td>1</td>\n      <td>5</td>\n      <td>2</td>\n      <td>0</td>\n      <td>2</td>\n      <td>2</td>\n      <td>5</td>\n    </tr>\n    <tr>\n      <th>201902</th>\n      <td>9</td>\n      <td>1</td>\n      <td>2</td>\n      <td>2</td>\n      <td>1</td>\n      <td>4</td>\n      <td>2</td>\n      <td>1</td>\n      <td>0</td>\n      <td>4</td>\n      <td>...</td>\n      <td>4</td>\n      <td>0</td>\n      <td>3</td>\n      <td>2</td>\n      <td>0</td>\n      <td>1</td>\n      <td>2</td>\n      <td>4</td>\n      <td>0</td>\n      <td>1</td>\n    </tr>\n    <tr>\n      <th>201903</th>\n      <td>1</td>\n      <td>2</td>\n      <td>1</td>\n      <td>6</td>\n      <td>1</td>\n      <td>4</td>\n      <td>3</td>\n      <td>3</td>\n      <td>2</td>\n      <td>2</td>\n      <td>...</td>\n      <td>3</td>\n      <td>1</td>\n      <td>6</td>\n      <td>2</td>\n      <td>4</td>\n      <td>2</td>\n      <td>4</td>\n      <td>2</td>\n      <td>2</td>\n      <td>1</td>\n    </tr>\n    <tr>\n      <th>201904</th>\n      <td>0</td>\n      <td>3</td>\n      <td>1</td>\n      <td>2</td>\n      <td>0</td>\n      <td>2</td>\n      <td>2</td>\n      <td>0</td>\n      <td>3</td>\n      <td>2</td>\n      <td>...</td>\n      <td>2</td>\n      <td>4</td>\n      <td>2</td>\n      <td>3</td>\n      <td>4</td>\n      <td>3</td>\n      <td>2</td>\n      <td>1</td>\n      <td>2</td>\n      <td>0</td>\n    </tr>\n    <tr>\n      <th>201905</th>\n      <td>3</td>\n      <td>2</td>\n      <td>5</td>\n      <td>2</td>\n      <td>4</td>\n      <td>1</td>\n      <td>2</td>\n      <td>1</td>\n      <td>3</td>\n      <td>3</td>\n      <td>...</td>\n      <td>1</td>\n      <td>1</td>\n      <td>1</td>\n      <td>0</td>\n      <td>2</td>\n      <td>2</td>\n      <td>3</td>\n      <td>4</td>\n      <td>4</td>\n      <td>1</td>\n    </tr>\n    <tr>\n      <th>201906</th>\n      <td>1</td>\n      <td>3</td>\n      <td>0</td>\n      <td>4</td>\n      <td>1</td>\n      <td>1</td>\n      <td>1</td>\n      <td>2</td>\n      <td>2</td>\n      <td>3</td>\n      <td>...</td>\n      <td>7</td>\n      <td>3</td>\n      <td>0</td>\n      <td>2</td>\n      <td>1</td>\n      <td>0</td>\n      <td>2</td>\n      <td>1</td>\n      <td>2</td>\n      <td>4</td>\n    </tr>\n    <tr>\n      <th>201907</th>\n      <td>3</td>\n      <td>0</td>\n      <td>3</td>\n      <td>2</td>\n      <td>5</td>\n      <td>3</td>\n      <td>5</td>\n      <td>2</td>\n      <td>5</td>\n      <td>5</td>\n      <td>...</td>\n      <td>2</td>\n      <td>4</td>\n      <td>4</td>\n      <td>2</td>\n      <td>0</td>\n      <td>2</td>\n      <td>4</td>\n      <td>3</td>\n      <td>4</td>\n      <td>1</td>\n    </tr>\n  </tbody>\n</table>\n<p>7 rows × 199 columns</p>\n</div>"
     },
     "metadata": {},
     "execution_count": 31
    }
   ],
   "source": [
    "byCustomer = import_data.pivot_table(index=\"purchase_month\", columns=\"顧客名\", aggfunc=\"size\", fill_value=0)\n",
    "byCustomer"
   ]
  },
  {
   "cell_type": "code",
   "execution_count": 32,
   "metadata": {},
   "outputs": [
    {
     "output_type": "execute_result",
     "data": {
      "text/plain": [
       "地域              A市  B市  C市  D市  E市  F市  G市  H市\n",
       "purchase_month                                \n",
       "201901          59  55  72  34  49  57  49  42\n",
       "201902          71  46  65  48  61  52  43  63\n",
       "201903          64  52  57  43  52  59  51  59\n",
       "201904          64  48  54  45  48  58  40  52\n",
       "201905          57  52  68  48  59  65  35  43\n",
       "201906          53  47  61  30  51  51  58  58\n",
       "201907          76  53  61  42  54  64  47  54"
      ],
      "text/html": "<div>\n<style scoped>\n    .dataframe tbody tr th:only-of-type {\n        vertical-align: middle;\n    }\n\n    .dataframe tbody tr th {\n        vertical-align: top;\n    }\n\n    .dataframe thead th {\n        text-align: right;\n    }\n</style>\n<table border=\"1\" class=\"dataframe\">\n  <thead>\n    <tr style=\"text-align: right;\">\n      <th>地域</th>\n      <th>A市</th>\n      <th>B市</th>\n      <th>C市</th>\n      <th>D市</th>\n      <th>E市</th>\n      <th>F市</th>\n      <th>G市</th>\n      <th>H市</th>\n    </tr>\n    <tr>\n      <th>purchase_month</th>\n      <th></th>\n      <th></th>\n      <th></th>\n      <th></th>\n      <th></th>\n      <th></th>\n      <th></th>\n      <th></th>\n    </tr>\n  </thead>\n  <tbody>\n    <tr>\n      <th>201901</th>\n      <td>59</td>\n      <td>55</td>\n      <td>72</td>\n      <td>34</td>\n      <td>49</td>\n      <td>57</td>\n      <td>49</td>\n      <td>42</td>\n    </tr>\n    <tr>\n      <th>201902</th>\n      <td>71</td>\n      <td>46</td>\n      <td>65</td>\n      <td>48</td>\n      <td>61</td>\n      <td>52</td>\n      <td>43</td>\n      <td>63</td>\n    </tr>\n    <tr>\n      <th>201903</th>\n      <td>64</td>\n      <td>52</td>\n      <td>57</td>\n      <td>43</td>\n      <td>52</td>\n      <td>59</td>\n      <td>51</td>\n      <td>59</td>\n    </tr>\n    <tr>\n      <th>201904</th>\n      <td>64</td>\n      <td>48</td>\n      <td>54</td>\n      <td>45</td>\n      <td>48</td>\n      <td>58</td>\n      <td>40</td>\n      <td>52</td>\n    </tr>\n    <tr>\n      <th>201905</th>\n      <td>57</td>\n      <td>52</td>\n      <td>68</td>\n      <td>48</td>\n      <td>59</td>\n      <td>65</td>\n      <td>35</td>\n      <td>43</td>\n    </tr>\n    <tr>\n      <th>201906</th>\n      <td>53</td>\n      <td>47</td>\n      <td>61</td>\n      <td>30</td>\n      <td>51</td>\n      <td>51</td>\n      <td>58</td>\n      <td>58</td>\n    </tr>\n    <tr>\n      <th>201907</th>\n      <td>76</td>\n      <td>53</td>\n      <td>61</td>\n      <td>42</td>\n      <td>54</td>\n      <td>64</td>\n      <td>47</td>\n      <td>54</td>\n    </tr>\n  </tbody>\n</table>\n</div>"
     },
     "metadata": {},
     "execution_count": 32
    }
   ],
   "source": [
    "byRegion = import_data.pivot_table(index=\"purchase_month\", columns=\"地域\", aggfunc=\"size\", fill_value=0)\n",
    "byRegion"
   ]
  },
  {
   "cell_type": "code",
   "execution_count": 33,
   "metadata": {},
   "outputs": [
    {
     "output_type": "execute_result",
     "data": {
      "text/plain": [
       "       顧客名                  メールアドレス        登録日\n",
       "2999  福井美希  fukui_miki1@example.com 2019-04-23"
      ],
      "text/html": "<div>\n<style scoped>\n    .dataframe tbody tr th:only-of-type {\n        vertical-align: middle;\n    }\n\n    .dataframe tbody tr th {\n        vertical-align: top;\n    }\n\n    .dataframe thead th {\n        text-align: right;\n    }\n</style>\n<table border=\"1\" class=\"dataframe\">\n  <thead>\n    <tr style=\"text-align: right;\">\n      <th></th>\n      <th>顧客名</th>\n      <th>メールアドレス</th>\n      <th>登録日</th>\n    </tr>\n  </thead>\n  <tbody>\n    <tr>\n      <th>2999</th>\n      <td>福井美希</td>\n      <td>fukui_miki1@example.com</td>\n      <td>2019-04-23</td>\n    </tr>\n  </tbody>\n</table>\n</div>"
     },
     "metadata": {},
     "execution_count": 33
    }
   ],
   "source": [
    "away_data = pd.merge(uriage_data, kokyaku_data, left_on=\"customer_name\", right_on=\"顧客名\", how=\"right\")\n",
    "away_data[away_data[\"purchase_date\"].isnull()][[\"顧客名\", \"メールアドレス\", \"登録日\"]]"
   ]
  }
 ]
}