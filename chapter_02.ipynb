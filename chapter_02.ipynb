{
 "metadata": {
  "language_info": {
   "codemirror_mode": {
    "name": "ipython",
    "version": 3
   },
   "file_extension": ".py",
   "mimetype": "text/x-python",
   "name": "python",
   "nbconvert_exporter": "python",
   "pygments_lexer": "ipython3",
   "version": "3.6.7-final"
  },
  "orig_nbformat": 2,
  "kernelspec": {
   "name": "python3",
   "display_name": "Python 3"
  }
 },
 "nbformat": 4,
 "nbformat_minor": 2,
 "cells": [
  {
   "source": [
    "# 第2章 小売店のデータでデータ加工を行う10本ノック (11~20)"
   ],
   "cell_type": "markdown",
   "metadata": {}
  },
  {
   "cell_type": "code",
   "execution_count": 1,
   "metadata": {},
   "outputs": [],
   "source": [
    "# 下準備として，データのあるディレクトリに移動しておく\n",
    "import os\n",
    "\n",
    "DATA_ROOT_DIR = \"./sample/2章/\"\n",
    "os.chdir(DATA_ROOT_DIR)"
   ]
  },
  {
   "source": [
    "## ノック11 データを読み込んでみよう\n",
    "欠損値，データの表記ゆれを確認する．"
   ],
   "cell_type": "markdown",
   "metadata": {}
  },
  {
   "cell_type": "code",
   "execution_count": 2,
   "metadata": {},
   "outputs": [
    {
     "output_type": "execute_result",
     "data": {
      "text/plain": [
       "         purchase_date item_name  item_price customer_name\n",
       "0  2019-06-13 18:02:34       商品A       100.0         深井菜々美\n",
       "1  2019-07-13 13:05:29     商 品 S         NaN          浅田賢二\n",
       "2  2019-05-11 19:42:07     商 品 a         NaN          南部慶二\n",
       "3  2019-02-12 23:40:45       商品Z      2600.0          麻生莉緒\n",
       "4  2019-04-22 03:09:35       商品a         NaN          平田鉄二"
      ],
      "text/html": "<div>\n<style scoped>\n    .dataframe tbody tr th:only-of-type {\n        vertical-align: middle;\n    }\n\n    .dataframe tbody tr th {\n        vertical-align: top;\n    }\n\n    .dataframe thead th {\n        text-align: right;\n    }\n</style>\n<table border=\"1\" class=\"dataframe\">\n  <thead>\n    <tr style=\"text-align: right;\">\n      <th></th>\n      <th>purchase_date</th>\n      <th>item_name</th>\n      <th>item_price</th>\n      <th>customer_name</th>\n    </tr>\n  </thead>\n  <tbody>\n    <tr>\n      <th>0</th>\n      <td>2019-06-13 18:02:34</td>\n      <td>商品A</td>\n      <td>100.0</td>\n      <td>深井菜々美</td>\n    </tr>\n    <tr>\n      <th>1</th>\n      <td>2019-07-13 13:05:29</td>\n      <td>商 品 S</td>\n      <td>NaN</td>\n      <td>浅田賢二</td>\n    </tr>\n    <tr>\n      <th>2</th>\n      <td>2019-05-11 19:42:07</td>\n      <td>商 品 a</td>\n      <td>NaN</td>\n      <td>南部慶二</td>\n    </tr>\n    <tr>\n      <th>3</th>\n      <td>2019-02-12 23:40:45</td>\n      <td>商品Z</td>\n      <td>2600.0</td>\n      <td>麻生莉緒</td>\n    </tr>\n    <tr>\n      <th>4</th>\n      <td>2019-04-22 03:09:35</td>\n      <td>商品a</td>\n      <td>NaN</td>\n      <td>平田鉄二</td>\n    </tr>\n  </tbody>\n</table>\n</div>"
     },
     "metadata": {},
     "execution_count": 2
    }
   ],
   "source": [
    "import pandas as pd\n",
    "uriage_data = pd.read_csv(\"uriage.csv\")\n",
    "uriage_data.head()"
   ]
  },
  {
   "cell_type": "code",
   "execution_count": 3,
   "metadata": {},
   "outputs": [
    {
     "output_type": "execute_result",
     "data": {
      "text/plain": [
       "      顧客名        かな  地域                     メールアドレス         登録日\n",
       "0   須賀ひとみ    すが ひとみ  H市     suga_hitomi@example.com  2018/01/04\n",
       "1  岡田　 敏也   おかだ としや  E市   okada_toshiya@example.com       42782\n",
       "2    芳賀 希    はが のぞみ  A市     haga_nozomi@example.com  2018/01/07\n",
       "3   荻野  愛    おぎの あい  F市        ogino_ai@example.com       42872\n",
       "4   栗田 憲一  くりた けんいち  E市  kurita_kenichi@example.com       43127"
      ],
      "text/html": "<div>\n<style scoped>\n    .dataframe tbody tr th:only-of-type {\n        vertical-align: middle;\n    }\n\n    .dataframe tbody tr th {\n        vertical-align: top;\n    }\n\n    .dataframe thead th {\n        text-align: right;\n    }\n</style>\n<table border=\"1\" class=\"dataframe\">\n  <thead>\n    <tr style=\"text-align: right;\">\n      <th></th>\n      <th>顧客名</th>\n      <th>かな</th>\n      <th>地域</th>\n      <th>メールアドレス</th>\n      <th>登録日</th>\n    </tr>\n  </thead>\n  <tbody>\n    <tr>\n      <th>0</th>\n      <td>須賀ひとみ</td>\n      <td>すが ひとみ</td>\n      <td>H市</td>\n      <td>suga_hitomi@example.com</td>\n      <td>2018/01/04</td>\n    </tr>\n    <tr>\n      <th>1</th>\n      <td>岡田　 敏也</td>\n      <td>おかだ としや</td>\n      <td>E市</td>\n      <td>okada_toshiya@example.com</td>\n      <td>42782</td>\n    </tr>\n    <tr>\n      <th>2</th>\n      <td>芳賀 希</td>\n      <td>はが のぞみ</td>\n      <td>A市</td>\n      <td>haga_nozomi@example.com</td>\n      <td>2018/01/07</td>\n    </tr>\n    <tr>\n      <th>3</th>\n      <td>荻野  愛</td>\n      <td>おぎの あい</td>\n      <td>F市</td>\n      <td>ogino_ai@example.com</td>\n      <td>42872</td>\n    </tr>\n    <tr>\n      <th>4</th>\n      <td>栗田 憲一</td>\n      <td>くりた けんいち</td>\n      <td>E市</td>\n      <td>kurita_kenichi@example.com</td>\n      <td>43127</td>\n    </tr>\n  </tbody>\n</table>\n</div>"
     },
     "metadata": {},
     "execution_count": 3
    }
   ],
   "source": [
    "kokyaku_data = pd.read_excel(\"kokyaku_daicho.xlsx\")\n",
    "kokyaku_data.head()"
   ]
  },
  {
   "source": [
    "## ノック12 データの揺れを見てみよう\n",
    "売上履歴のデータの揺れを見てみる．"
   ],
   "cell_type": "markdown",
   "metadata": {}
  },
  {
   "cell_type": "code",
   "execution_count": 4,
   "metadata": {},
   "outputs": [
    {
     "output_type": "execute_result",
     "data": {
      "text/plain": [
       "0      商品A\n",
       "1    商 品 S\n",
       "2    商 品 a\n",
       "3      商品Z\n",
       "4      商品a\n",
       "Name: item_name, dtype: object"
      ]
     },
     "metadata": {},
     "execution_count": 4
    }
   ],
   "source": [
    "uriage_data[\"item_name\"].head()"
   ]
  },
  {
   "cell_type": "code",
   "execution_count": 5,
   "metadata": {},
   "outputs": [
    {
     "output_type": "execute_result",
     "data": {
      "text/plain": [
       "0     100.0\n",
       "1       NaN\n",
       "2       NaN\n",
       "3    2600.0\n",
       "4       NaN\n",
       "Name: item_price, dtype: float64"
      ]
     },
     "metadata": {},
     "execution_count": 5
    }
   ],
   "source": [
    "uriage_data[\"item_price\"].head()"
   ]
  },
  {
   "source": [
    "## ノック13 データに揺れがあるまま集計してみよう\n",
    "データの整合性の重要さを認識する．"
   ],
   "cell_type": "markdown",
   "metadata": {}
  },
  {
   "cell_type": "code",
   "execution_count": 6,
   "metadata": {},
   "outputs": [
    {
     "output_type": "execute_result",
     "data": {
      "text/plain": [
       "item_name         商品W   商 品 n   商品E   商品M   商品P   商品S   商品W   商品X  商  品O  \\\n",
       "purchase_month                                                             \n",
       "201901              0       1     0     0     0     0     0     0      0   \n",
       "201902              0       0     0     0     0     0     0     1      0   \n",
       "201903              0       0     1     1     1     0     0     0      0   \n",
       "201904              1       0     0     0     0     0     0     0      0   \n",
       "201905              0       0     0     0     0     1     0     0      0   \n",
       "201906              0       0     0     0     0     0     1     0      0   \n",
       "201907              0       0     0     0     0     0     0     0      1   \n",
       "\n",
       "item_name       商  品Q  ...  商品k  商品l  商品o  商品p  商品r  商品s  商品t  商品v  商品x  商品y  \n",
       "purchase_month         ...                                                    \n",
       "201901              0  ...    1    1    1    0    0    0    0    0    0    0  \n",
       "201902              0  ...    0    0    0    0    0    1    1    1    0    0  \n",
       "201903              0  ...    0    0    0    0    0    0    0    0    0    0  \n",
       "201904              1  ...    0    0    0    0    0    1    0    0    0    0  \n",
       "201905              0  ...    0    1    0    0    0    0    0    0    0    1  \n",
       "201906              0  ...    0    0    0    1    0    0    0    0    1    0  \n",
       "201907              0  ...    0    0    1    0    2    0    0    0    0    0  \n",
       "\n",
       "[7 rows x 99 columns]"
      ],
      "text/html": "<div>\n<style scoped>\n    .dataframe tbody tr th:only-of-type {\n        vertical-align: middle;\n    }\n\n    .dataframe tbody tr th {\n        vertical-align: top;\n    }\n\n    .dataframe thead th {\n        text-align: right;\n    }\n</style>\n<table border=\"1\" class=\"dataframe\">\n  <thead>\n    <tr style=\"text-align: right;\">\n      <th>item_name</th>\n      <th>商品W</th>\n      <th>商 品 n</th>\n      <th>商品E</th>\n      <th>商品M</th>\n      <th>商品P</th>\n      <th>商品S</th>\n      <th>商品W</th>\n      <th>商品X</th>\n      <th>商  品O</th>\n      <th>商  品Q</th>\n      <th>...</th>\n      <th>商品k</th>\n      <th>商品l</th>\n      <th>商品o</th>\n      <th>商品p</th>\n      <th>商品r</th>\n      <th>商品s</th>\n      <th>商品t</th>\n      <th>商品v</th>\n      <th>商品x</th>\n      <th>商品y</th>\n    </tr>\n    <tr>\n      <th>purchase_month</th>\n      <th></th>\n      <th></th>\n      <th></th>\n      <th></th>\n      <th></th>\n      <th></th>\n      <th></th>\n      <th></th>\n      <th></th>\n      <th></th>\n      <th></th>\n      <th></th>\n      <th></th>\n      <th></th>\n      <th></th>\n      <th></th>\n      <th></th>\n      <th></th>\n      <th></th>\n      <th></th>\n      <th></th>\n    </tr>\n  </thead>\n  <tbody>\n    <tr>\n      <th>201901</th>\n      <td>0</td>\n      <td>1</td>\n      <td>0</td>\n      <td>0</td>\n      <td>0</td>\n      <td>0</td>\n      <td>0</td>\n      <td>0</td>\n      <td>0</td>\n      <td>0</td>\n      <td>...</td>\n      <td>1</td>\n      <td>1</td>\n      <td>1</td>\n      <td>0</td>\n      <td>0</td>\n      <td>0</td>\n      <td>0</td>\n      <td>0</td>\n      <td>0</td>\n      <td>0</td>\n    </tr>\n    <tr>\n      <th>201902</th>\n      <td>0</td>\n      <td>0</td>\n      <td>0</td>\n      <td>0</td>\n      <td>0</td>\n      <td>0</td>\n      <td>0</td>\n      <td>1</td>\n      <td>0</td>\n      <td>0</td>\n      <td>...</td>\n      <td>0</td>\n      <td>0</td>\n      <td>0</td>\n      <td>0</td>\n      <td>0</td>\n      <td>1</td>\n      <td>1</td>\n      <td>1</td>\n      <td>0</td>\n      <td>0</td>\n    </tr>\n    <tr>\n      <th>201903</th>\n      <td>0</td>\n      <td>0</td>\n      <td>1</td>\n      <td>1</td>\n      <td>1</td>\n      <td>0</td>\n      <td>0</td>\n      <td>0</td>\n      <td>0</td>\n      <td>0</td>\n      <td>...</td>\n      <td>0</td>\n      <td>0</td>\n      <td>0</td>\n      <td>0</td>\n      <td>0</td>\n      <td>0</td>\n      <td>0</td>\n      <td>0</td>\n      <td>0</td>\n      <td>0</td>\n    </tr>\n    <tr>\n      <th>201904</th>\n      <td>1</td>\n      <td>0</td>\n      <td>0</td>\n      <td>0</td>\n      <td>0</td>\n      <td>0</td>\n      <td>0</td>\n      <td>0</td>\n      <td>0</td>\n      <td>1</td>\n      <td>...</td>\n      <td>0</td>\n      <td>0</td>\n      <td>0</td>\n      <td>0</td>\n      <td>0</td>\n      <td>1</td>\n      <td>0</td>\n      <td>0</td>\n      <td>0</td>\n      <td>0</td>\n    </tr>\n    <tr>\n      <th>201905</th>\n      <td>0</td>\n      <td>0</td>\n      <td>0</td>\n      <td>0</td>\n      <td>0</td>\n      <td>1</td>\n      <td>0</td>\n      <td>0</td>\n      <td>0</td>\n      <td>0</td>\n      <td>...</td>\n      <td>0</td>\n      <td>1</td>\n      <td>0</td>\n      <td>0</td>\n      <td>0</td>\n      <td>0</td>\n      <td>0</td>\n      <td>0</td>\n      <td>0</td>\n      <td>1</td>\n    </tr>\n    <tr>\n      <th>201906</th>\n      <td>0</td>\n      <td>0</td>\n      <td>0</td>\n      <td>0</td>\n      <td>0</td>\n      <td>0</td>\n      <td>1</td>\n      <td>0</td>\n      <td>0</td>\n      <td>0</td>\n      <td>...</td>\n      <td>0</td>\n      <td>0</td>\n      <td>0</td>\n      <td>1</td>\n      <td>0</td>\n      <td>0</td>\n      <td>0</td>\n      <td>0</td>\n      <td>1</td>\n      <td>0</td>\n    </tr>\n    <tr>\n      <th>201907</th>\n      <td>0</td>\n      <td>0</td>\n      <td>0</td>\n      <td>0</td>\n      <td>0</td>\n      <td>0</td>\n      <td>0</td>\n      <td>0</td>\n      <td>1</td>\n      <td>0</td>\n      <td>...</td>\n      <td>0</td>\n      <td>0</td>\n      <td>1</td>\n      <td>0</td>\n      <td>2</td>\n      <td>0</td>\n      <td>0</td>\n      <td>0</td>\n      <td>0</td>\n      <td>0</td>\n    </tr>\n  </tbody>\n</table>\n<p>7 rows × 99 columns</p>\n</div>"
     },
     "metadata": {},
     "execution_count": 6
    }
   ],
   "source": [
    "uriage_data[\"purchase_date\"] = pd.to_datetime(uriage_data[\"purchase_date\"])\n",
    "uriage_data[\"purchase_month\"] = uriage_data[\"purchase_date\"].dt.strftime(\"%Y%m\")\n",
    "res = uriage_data.pivot_table(index=\"purchase_month\", columns=\"item_name\", aggfunc=\"size\", fill_value=0)\n",
    "res"
   ]
  },
  {
   "cell_type": "code",
   "execution_count": 7,
   "metadata": {},
   "outputs": [
    {
     "output_type": "execute_result",
     "data": {
      "text/plain": [
       "item_name         商品W   商 品 n   商品E   商品M   商品P   商品S   商品W   商品X  商  品O  \\\n",
       "purchase_month                                                             \n",
       "201901              0    1400     0     0     0     0     0     0      0   \n",
       "201902              0       0     0     0     0     0     0  2400      0   \n",
       "201903              0       0   500  1300  1600     0     0     0      0   \n",
       "201904           2300       0     0     0     0     0     0     0      0   \n",
       "201905              0       0     0     0     0  1900     0     0      0   \n",
       "201906              0       0     0     0     0     0  2300     0      0   \n",
       "201907              0       0     0     0     0     0     0     0      0   \n",
       "\n",
       "item_name       商  品Q  ...   商品k   商品l   商品o   商品p   商品r   商品s   商品t   商品v  \\\n",
       "purchase_month         ...                                                   \n",
       "201901              0  ...  1100  1200  1500     0     0     0     0     0   \n",
       "201902              0  ...     0     0     0     0     0  1900  2000  2200   \n",
       "201903              0  ...     0     0     0     0     0     0     0     0   \n",
       "201904           1700  ...     0     0     0     0     0  1900     0     0   \n",
       "201905              0  ...     0  1200     0     0     0     0     0     0   \n",
       "201906              0  ...     0     0     0  1600     0     0     0     0   \n",
       "201907              0  ...     0     0  1500     0  1800     0     0     0   \n",
       "\n",
       "item_name        商品x   商品y  \n",
       "purchase_month              \n",
       "201901             0     0  \n",
       "201902             0     0  \n",
       "201903             0     0  \n",
       "201904             0     0  \n",
       "201905             0  2500  \n",
       "201906          2400     0  \n",
       "201907             0     0  \n",
       "\n",
       "[7 rows x 99 columns]"
      ],
      "text/html": "<div>\n<style scoped>\n    .dataframe tbody tr th:only-of-type {\n        vertical-align: middle;\n    }\n\n    .dataframe tbody tr th {\n        vertical-align: top;\n    }\n\n    .dataframe thead th {\n        text-align: right;\n    }\n</style>\n<table border=\"1\" class=\"dataframe\">\n  <thead>\n    <tr style=\"text-align: right;\">\n      <th>item_name</th>\n      <th>商品W</th>\n      <th>商 品 n</th>\n      <th>商品E</th>\n      <th>商品M</th>\n      <th>商品P</th>\n      <th>商品S</th>\n      <th>商品W</th>\n      <th>商品X</th>\n      <th>商  品O</th>\n      <th>商  品Q</th>\n      <th>...</th>\n      <th>商品k</th>\n      <th>商品l</th>\n      <th>商品o</th>\n      <th>商品p</th>\n      <th>商品r</th>\n      <th>商品s</th>\n      <th>商品t</th>\n      <th>商品v</th>\n      <th>商品x</th>\n      <th>商品y</th>\n    </tr>\n    <tr>\n      <th>purchase_month</th>\n      <th></th>\n      <th></th>\n      <th></th>\n      <th></th>\n      <th></th>\n      <th></th>\n      <th></th>\n      <th></th>\n      <th></th>\n      <th></th>\n      <th></th>\n      <th></th>\n      <th></th>\n      <th></th>\n      <th></th>\n      <th></th>\n      <th></th>\n      <th></th>\n      <th></th>\n      <th></th>\n      <th></th>\n    </tr>\n  </thead>\n  <tbody>\n    <tr>\n      <th>201901</th>\n      <td>0</td>\n      <td>1400</td>\n      <td>0</td>\n      <td>0</td>\n      <td>0</td>\n      <td>0</td>\n      <td>0</td>\n      <td>0</td>\n      <td>0</td>\n      <td>0</td>\n      <td>...</td>\n      <td>1100</td>\n      <td>1200</td>\n      <td>1500</td>\n      <td>0</td>\n      <td>0</td>\n      <td>0</td>\n      <td>0</td>\n      <td>0</td>\n      <td>0</td>\n      <td>0</td>\n    </tr>\n    <tr>\n      <th>201902</th>\n      <td>0</td>\n      <td>0</td>\n      <td>0</td>\n      <td>0</td>\n      <td>0</td>\n      <td>0</td>\n      <td>0</td>\n      <td>2400</td>\n      <td>0</td>\n      <td>0</td>\n      <td>...</td>\n      <td>0</td>\n      <td>0</td>\n      <td>0</td>\n      <td>0</td>\n      <td>0</td>\n      <td>1900</td>\n      <td>2000</td>\n      <td>2200</td>\n      <td>0</td>\n      <td>0</td>\n    </tr>\n    <tr>\n      <th>201903</th>\n      <td>0</td>\n      <td>0</td>\n      <td>500</td>\n      <td>1300</td>\n      <td>1600</td>\n      <td>0</td>\n      <td>0</td>\n      <td>0</td>\n      <td>0</td>\n      <td>0</td>\n      <td>...</td>\n      <td>0</td>\n      <td>0</td>\n      <td>0</td>\n      <td>0</td>\n      <td>0</td>\n      <td>0</td>\n      <td>0</td>\n      <td>0</td>\n      <td>0</td>\n      <td>0</td>\n    </tr>\n    <tr>\n      <th>201904</th>\n      <td>2300</td>\n      <td>0</td>\n      <td>0</td>\n      <td>0</td>\n      <td>0</td>\n      <td>0</td>\n      <td>0</td>\n      <td>0</td>\n      <td>0</td>\n      <td>1700</td>\n      <td>...</td>\n      <td>0</td>\n      <td>0</td>\n      <td>0</td>\n      <td>0</td>\n      <td>0</td>\n      <td>1900</td>\n      <td>0</td>\n      <td>0</td>\n      <td>0</td>\n      <td>0</td>\n    </tr>\n    <tr>\n      <th>201905</th>\n      <td>0</td>\n      <td>0</td>\n      <td>0</td>\n      <td>0</td>\n      <td>0</td>\n      <td>1900</td>\n      <td>0</td>\n      <td>0</td>\n      <td>0</td>\n      <td>0</td>\n      <td>...</td>\n      <td>0</td>\n      <td>1200</td>\n      <td>0</td>\n      <td>0</td>\n      <td>0</td>\n      <td>0</td>\n      <td>0</td>\n      <td>0</td>\n      <td>0</td>\n      <td>2500</td>\n    </tr>\n    <tr>\n      <th>201906</th>\n      <td>0</td>\n      <td>0</td>\n      <td>0</td>\n      <td>0</td>\n      <td>0</td>\n      <td>0</td>\n      <td>2300</td>\n      <td>0</td>\n      <td>0</td>\n      <td>0</td>\n      <td>...</td>\n      <td>0</td>\n      <td>0</td>\n      <td>0</td>\n      <td>1600</td>\n      <td>0</td>\n      <td>0</td>\n      <td>0</td>\n      <td>0</td>\n      <td>2400</td>\n      <td>0</td>\n    </tr>\n    <tr>\n      <th>201907</th>\n      <td>0</td>\n      <td>0</td>\n      <td>0</td>\n      <td>0</td>\n      <td>0</td>\n      <td>0</td>\n      <td>0</td>\n      <td>0</td>\n      <td>0</td>\n      <td>0</td>\n      <td>...</td>\n      <td>0</td>\n      <td>0</td>\n      <td>1500</td>\n      <td>0</td>\n      <td>1800</td>\n      <td>0</td>\n      <td>0</td>\n      <td>0</td>\n      <td>0</td>\n      <td>0</td>\n    </tr>\n  </tbody>\n</table>\n<p>7 rows × 99 columns</p>\n</div>"
     },
     "metadata": {},
     "execution_count": 7
    }
   ],
   "source": [
    "res = uriage_data.pivot_table(index=\"purchase_month\", columns=\"item_name\", values=\"item_price\", aggfunc=\"sum\", fill_value=0)\n",
    "res"
   ]
  },
  {
   "source": [
    "## ノック14 商品名の揺れを補正しよう\n",
    "スペースの有無, 半角・全角の揺れを補正する．"
   ],
   "cell_type": "markdown",
   "metadata": {}
  },
  {
   "cell_type": "code",
   "execution_count": 8,
   "metadata": {},
   "outputs": [
    {
     "output_type": "stream",
     "name": "stdout",
     "text": [
      "99\n"
     ]
    }
   ],
   "source": [
    "print(len(pd.unique(uriage_data[\"item_name\"])))"
   ]
  },
  {
   "cell_type": "code",
   "execution_count": 9,
   "metadata": {},
   "outputs": [
    {
     "output_type": "execute_result",
     "data": {
      "text/plain": [
       "           purchase_date item_name  item_price customer_name purchase_month\n",
       "0    2019-06-13 18:02:34       商品A       100.0         深井菜々美         201906\n",
       "1748 2019-05-19 20:22:22       商品A       100.0          松川綾女         201905\n",
       "223  2019-06-25 08:13:20       商品A       100.0           板橋隆         201906\n",
       "1742 2019-06-13 16:03:17       商品A       100.0          小平陽子         201906\n",
       "1738 2019-02-10 00:28:43       商品A       100.0          松田浩正         201902\n",
       "...                  ...       ...         ...           ...            ...\n",
       "2880 2019-04-22 00:36:52       商品Y         NaN          田辺光洋         201904\n",
       "2881 2019-04-30 14:21:09       商品Y         NaN          高原充則         201904\n",
       "1525 2019-01-24 10:27:23       商品Y      2500.0         五十嵐春樹         201901\n",
       "1361 2019-05-28 13:45:32       商品Y      2500.0         大崎ヒカル         201905\n",
       "3    2019-02-12 23:40:45       商品Z      2600.0          麻生莉緒         201902\n",
       "\n",
       "[2999 rows x 5 columns]"
      ],
      "text/html": "<div>\n<style scoped>\n    .dataframe tbody tr th:only-of-type {\n        vertical-align: middle;\n    }\n\n    .dataframe tbody tr th {\n        vertical-align: top;\n    }\n\n    .dataframe thead th {\n        text-align: right;\n    }\n</style>\n<table border=\"1\" class=\"dataframe\">\n  <thead>\n    <tr style=\"text-align: right;\">\n      <th></th>\n      <th>purchase_date</th>\n      <th>item_name</th>\n      <th>item_price</th>\n      <th>customer_name</th>\n      <th>purchase_month</th>\n    </tr>\n  </thead>\n  <tbody>\n    <tr>\n      <th>0</th>\n      <td>2019-06-13 18:02:34</td>\n      <td>商品A</td>\n      <td>100.0</td>\n      <td>深井菜々美</td>\n      <td>201906</td>\n    </tr>\n    <tr>\n      <th>1748</th>\n      <td>2019-05-19 20:22:22</td>\n      <td>商品A</td>\n      <td>100.0</td>\n      <td>松川綾女</td>\n      <td>201905</td>\n    </tr>\n    <tr>\n      <th>223</th>\n      <td>2019-06-25 08:13:20</td>\n      <td>商品A</td>\n      <td>100.0</td>\n      <td>板橋隆</td>\n      <td>201906</td>\n    </tr>\n    <tr>\n      <th>1742</th>\n      <td>2019-06-13 16:03:17</td>\n      <td>商品A</td>\n      <td>100.0</td>\n      <td>小平陽子</td>\n      <td>201906</td>\n    </tr>\n    <tr>\n      <th>1738</th>\n      <td>2019-02-10 00:28:43</td>\n      <td>商品A</td>\n      <td>100.0</td>\n      <td>松田浩正</td>\n      <td>201902</td>\n    </tr>\n    <tr>\n      <th>...</th>\n      <td>...</td>\n      <td>...</td>\n      <td>...</td>\n      <td>...</td>\n      <td>...</td>\n    </tr>\n    <tr>\n      <th>2880</th>\n      <td>2019-04-22 00:36:52</td>\n      <td>商品Y</td>\n      <td>NaN</td>\n      <td>田辺光洋</td>\n      <td>201904</td>\n    </tr>\n    <tr>\n      <th>2881</th>\n      <td>2019-04-30 14:21:09</td>\n      <td>商品Y</td>\n      <td>NaN</td>\n      <td>高原充則</td>\n      <td>201904</td>\n    </tr>\n    <tr>\n      <th>1525</th>\n      <td>2019-01-24 10:27:23</td>\n      <td>商品Y</td>\n      <td>2500.0</td>\n      <td>五十嵐春樹</td>\n      <td>201901</td>\n    </tr>\n    <tr>\n      <th>1361</th>\n      <td>2019-05-28 13:45:32</td>\n      <td>商品Y</td>\n      <td>2500.0</td>\n      <td>大崎ヒカル</td>\n      <td>201905</td>\n    </tr>\n    <tr>\n      <th>3</th>\n      <td>2019-02-12 23:40:45</td>\n      <td>商品Z</td>\n      <td>2600.0</td>\n      <td>麻生莉緒</td>\n      <td>201902</td>\n    </tr>\n  </tbody>\n</table>\n<p>2999 rows × 5 columns</p>\n</div>"
     },
     "metadata": {},
     "execution_count": 9
    }
   ],
   "source": [
    "uriage_data[\"item_name\"] = uriage_data[\"item_name\"].str.upper()\n",
    "uriage_data[\"item_name\"] = uriage_data[\"item_name\"].str.replace(\"　\", \" \")\n",
    "uriage_data[\"item_name\"] = uriage_data[\"item_name\"].str.replace(\" \", \"\")\n",
    "uriage_data.sort_values(by=\"item_name\", ascending=True)"
   ]
  },
  {
   "cell_type": "code",
   "execution_count": 10,
   "metadata": {},
   "outputs": [
    {
     "output_type": "stream",
     "name": "stdout",
     "text": [
      "['商品A', '商品B', '商品C', '商品D', '商品E', '商品F', '商品G', '商品H', '商品I', '商品J', '商品K', '商品L', '商品M', '商品N', '商品O', '商品P', '商品Q', '商品R', '商品S', '商品T', '商品U', '商品V', '商品W', '商品X', '商品Y', '商品Z']\n26\n"
     ]
    }
   ],
   "source": [
    "print(sorted(pd.unique(uriage_data[\"item_name\"])))\n",
    "print(len(pd.unique(uriage_data[\"item_name\"])))"
   ]
  }
 ]
}