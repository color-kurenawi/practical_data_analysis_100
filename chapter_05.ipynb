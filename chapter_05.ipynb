{
 "metadata": {
  "language_info": {
   "codemirror_mode": {
    "name": "ipython",
    "version": 3
   },
   "file_extension": ".py",
   "mimetype": "text/x-python",
   "name": "python",
   "nbconvert_exporter": "python",
   "pygments_lexer": "ipython3",
   "version": "3.6.9-final"
  },
  "orig_nbformat": 2,
  "kernelspec": {
   "name": "python3",
   "display_name": "Python 3"
  }
 },
 "nbformat": 4,
 "nbformat_minor": 2,
 "cells": [
  {
   "source": [
    "# 第5章 顧客の退会を予測する10本ノック (41~50)"
   ],
   "cell_type": "markdown",
   "metadata": {}
  },
  {
   "cell_type": "code",
   "execution_count": 1,
   "metadata": {},
   "outputs": [],
   "source": [
    "# 下準備として，データのあるディレクトリに移動しておく\n",
    "import os\n",
    "\n",
    "DATA_ROOT_DIR = \"./sample/5章/\"\n",
    "os.chdir(DATA_ROOT_DIR)"
   ]
  },
  {
   "source": [
    "## ノック41 データを読み込んで利用データを成形しよう\n",
    "今回は，データを読み込むだけでなく，データの成形も行う．"
   ],
   "cell_type": "markdown",
   "metadata": {}
  },
  {
   "cell_type": "code",
   "execution_count": 2,
   "metadata": {},
   "outputs": [],
   "source": [
    "import pandas as pd\n",
    "customer = pd.read_csv(\"customer_join.csv\")\n",
    "use_log_months = pd.read_csv(\"use_log_months.csv\")"
   ]
  },
  {
   "cell_type": "code",
   "execution_count": 3,
   "metadata": {},
   "outputs": [
    {
     "output_type": "execute_result",
     "data": {
      "text/plain": [
       "       年月 customer_id  count_0  count_1\n",
       "0  201805    AS002855        5      4.0\n",
       "1  201805    AS009373        4      3.0\n",
       "2  201805    AS015233        7      NaN\n",
       "3  201805    AS015315        3      6.0\n",
       "4  201805    AS015739        5      7.0"
      ],
      "text/html": "<div>\n<style scoped>\n    .dataframe tbody tr th:only-of-type {\n        vertical-align: middle;\n    }\n\n    .dataframe tbody tr th {\n        vertical-align: top;\n    }\n\n    .dataframe thead th {\n        text-align: right;\n    }\n</style>\n<table border=\"1\" class=\"dataframe\">\n  <thead>\n    <tr style=\"text-align: right;\">\n      <th></th>\n      <th>年月</th>\n      <th>customer_id</th>\n      <th>count_0</th>\n      <th>count_1</th>\n    </tr>\n  </thead>\n  <tbody>\n    <tr>\n      <th>0</th>\n      <td>201805</td>\n      <td>AS002855</td>\n      <td>5</td>\n      <td>4.0</td>\n    </tr>\n    <tr>\n      <th>1</th>\n      <td>201805</td>\n      <td>AS009373</td>\n      <td>4</td>\n      <td>3.0</td>\n    </tr>\n    <tr>\n      <th>2</th>\n      <td>201805</td>\n      <td>AS015233</td>\n      <td>7</td>\n      <td>NaN</td>\n    </tr>\n    <tr>\n      <th>3</th>\n      <td>201805</td>\n      <td>AS015315</td>\n      <td>3</td>\n      <td>6.0</td>\n    </tr>\n    <tr>\n      <th>4</th>\n      <td>201805</td>\n      <td>AS015739</td>\n      <td>5</td>\n      <td>7.0</td>\n    </tr>\n  </tbody>\n</table>\n</div>"
     },
     "metadata": {},
     "execution_count": 3
    }
   ],
   "source": [
    "year_months = list(use_log_months[\"年月\"].unique())\n",
    "use_log = pd.DataFrame()\n",
    "\n",
    "for i in range(1, len(year_months)):\n",
    "    tmp = use_log_months.loc[use_log_months[\"年月\"] == year_months[i]]\n",
    "    tmp.rename(columns={\"count\":\"count_0\"}, inplace=True)\n",
    "    tmp_before = use_log_months.loc[use_log_months[\"年月\"] == year_months[i-1]]\n",
    "    del tmp_before[\"年月\"]\n",
    "    tmp_before.rename(columns={\"count\":\"count_1\"}, inplace=True)\n",
    "    tmp = pd.merge(tmp, tmp_before, on=\"customer_id\", how=\"left\")\n",
    "    use_log = pd.concat([use_log, tmp], ignore_index=True)\n",
    "\n",
    "use_log.head()"
   ]
  },
  {
   "source": [
    "## ノック42 退会前月の退会顧客データを作成しよう\n",
    "このデータの場合，月末までに退会申請をすると，翌月に退会になる．そのため，退会の予測には，退会月の2ヵ月前のデータが必要になる．"
   ],
   "cell_type": "markdown",
   "metadata": {}
  },
  {
   "cell_type": "code",
   "execution_count": 4,
   "metadata": {
    "tags": []
   },
   "outputs": [
    {
     "output_type": "stream",
     "name": "stdout",
     "text": [
      "33851\n"
     ]
    },
    {
     "output_type": "execute_result",
     "data": {
      "text/plain": [
       "       年月 customer_id  count_0  count_1 name class gender start_date end_date  \\\n",
       "0  201805    AS002855        5      4.0  NaN   NaN    NaN        NaN      NaT   \n",
       "1  201805    AS009373        4      3.0  NaN   NaN    NaN        NaN      NaT   \n",
       "2  201805    AS015233        7      NaN  NaN   NaN    NaN        NaN      NaT   \n",
       "3  201805    AS015315        3      6.0  NaN   NaN    NaN        NaN      NaT   \n",
       "4  201805    AS015739        5      7.0  NaN   NaN    NaN        NaN      NaT   \n",
       "\n",
       "  campaign_id  ...  price campaign_name  mean median  max  min  routine_flg  \\\n",
       "0         NaN  ...    NaN           NaN   NaN    NaN  NaN  NaN          NaN   \n",
       "1         NaN  ...    NaN           NaN   NaN    NaN  NaN  NaN          NaN   \n",
       "2         NaN  ...    NaN           NaN   NaN    NaN  NaN  NaN          NaN   \n",
       "3         NaN  ...    NaN           NaN   NaN    NaN  NaN  NaN          NaN   \n",
       "4         NaN  ...    NaN           NaN   NaN    NaN  NaN  NaN          NaN   \n",
       "\n",
       "   calc_date  membership_period exit_date  \n",
       "0        NaN                NaN       NaT  \n",
       "1        NaN                NaN       NaT  \n",
       "2        NaN                NaN       NaT  \n",
       "3        NaN                NaN       NaT  \n",
       "4        NaN                NaN       NaT  \n",
       "\n",
       "[5 rows x 22 columns]"
      ],
      "text/html": "<div>\n<style scoped>\n    .dataframe tbody tr th:only-of-type {\n        vertical-align: middle;\n    }\n\n    .dataframe tbody tr th {\n        vertical-align: top;\n    }\n\n    .dataframe thead th {\n        text-align: right;\n    }\n</style>\n<table border=\"1\" class=\"dataframe\">\n  <thead>\n    <tr style=\"text-align: right;\">\n      <th></th>\n      <th>年月</th>\n      <th>customer_id</th>\n      <th>count_0</th>\n      <th>count_1</th>\n      <th>name</th>\n      <th>class</th>\n      <th>gender</th>\n      <th>start_date</th>\n      <th>end_date</th>\n      <th>campaign_id</th>\n      <th>...</th>\n      <th>price</th>\n      <th>campaign_name</th>\n      <th>mean</th>\n      <th>median</th>\n      <th>max</th>\n      <th>min</th>\n      <th>routine_flg</th>\n      <th>calc_date</th>\n      <th>membership_period</th>\n      <th>exit_date</th>\n    </tr>\n  </thead>\n  <tbody>\n    <tr>\n      <th>0</th>\n      <td>201805</td>\n      <td>AS002855</td>\n      <td>5</td>\n      <td>4.0</td>\n      <td>NaN</td>\n      <td>NaN</td>\n      <td>NaN</td>\n      <td>NaN</td>\n      <td>NaT</td>\n      <td>NaN</td>\n      <td>...</td>\n      <td>NaN</td>\n      <td>NaN</td>\n      <td>NaN</td>\n      <td>NaN</td>\n      <td>NaN</td>\n      <td>NaN</td>\n      <td>NaN</td>\n      <td>NaN</td>\n      <td>NaN</td>\n      <td>NaT</td>\n    </tr>\n    <tr>\n      <th>1</th>\n      <td>201805</td>\n      <td>AS009373</td>\n      <td>4</td>\n      <td>3.0</td>\n      <td>NaN</td>\n      <td>NaN</td>\n      <td>NaN</td>\n      <td>NaN</td>\n      <td>NaT</td>\n      <td>NaN</td>\n      <td>...</td>\n      <td>NaN</td>\n      <td>NaN</td>\n      <td>NaN</td>\n      <td>NaN</td>\n      <td>NaN</td>\n      <td>NaN</td>\n      <td>NaN</td>\n      <td>NaN</td>\n      <td>NaN</td>\n      <td>NaT</td>\n    </tr>\n    <tr>\n      <th>2</th>\n      <td>201805</td>\n      <td>AS015233</td>\n      <td>7</td>\n      <td>NaN</td>\n      <td>NaN</td>\n      <td>NaN</td>\n      <td>NaN</td>\n      <td>NaN</td>\n      <td>NaT</td>\n      <td>NaN</td>\n      <td>...</td>\n      <td>NaN</td>\n      <td>NaN</td>\n      <td>NaN</td>\n      <td>NaN</td>\n      <td>NaN</td>\n      <td>NaN</td>\n      <td>NaN</td>\n      <td>NaN</td>\n      <td>NaN</td>\n      <td>NaT</td>\n    </tr>\n    <tr>\n      <th>3</th>\n      <td>201805</td>\n      <td>AS015315</td>\n      <td>3</td>\n      <td>6.0</td>\n      <td>NaN</td>\n      <td>NaN</td>\n      <td>NaN</td>\n      <td>NaN</td>\n      <td>NaT</td>\n      <td>NaN</td>\n      <td>...</td>\n      <td>NaN</td>\n      <td>NaN</td>\n      <td>NaN</td>\n      <td>NaN</td>\n      <td>NaN</td>\n      <td>NaN</td>\n      <td>NaN</td>\n      <td>NaN</td>\n      <td>NaN</td>\n      <td>NaT</td>\n    </tr>\n    <tr>\n      <th>4</th>\n      <td>201805</td>\n      <td>AS015739</td>\n      <td>5</td>\n      <td>7.0</td>\n      <td>NaN</td>\n      <td>NaN</td>\n      <td>NaN</td>\n      <td>NaN</td>\n      <td>NaT</td>\n      <td>NaN</td>\n      <td>...</td>\n      <td>NaN</td>\n      <td>NaN</td>\n      <td>NaN</td>\n      <td>NaN</td>\n      <td>NaN</td>\n      <td>NaN</td>\n      <td>NaN</td>\n      <td>NaN</td>\n      <td>NaN</td>\n      <td>NaT</td>\n    </tr>\n  </tbody>\n</table>\n<p>5 rows × 22 columns</p>\n</div>"
     },
     "metadata": {},
     "execution_count": 4
    }
   ],
   "source": [
    "from dateutil.relativedelta import relativedelta\n",
    "\n",
    "exit_customer = customer.loc[customer[\"is_deleted\"]==1]\n",
    "exit_customer[\"exit_date\"] = None\n",
    "exit_customer[\"end_date\"] = pd.to_datetime(exit_customer[\"end_date\"])\n",
    "\n",
    "for i in range(len(exit_customer)):\n",
    "    exit_customer[\"exit_date\"].iloc[i] = exit_customer[\"end_date\"].iloc[i] - relativedelta(months=1)\n",
    "\n",
    "# for文の中でうまくキャストされてない(バグかしら？)ので，手動でdatetime型にキャスト\n",
    "exit_customer[\"exit_date\"] = pd.to_datetime(exit_customer[\"exit_date\"])\n",
    "\n",
    "exit_customer[\"年月\"] = exit_customer[\"exit_date\"].dt.strftime(\"%Y%m\")\n",
    "use_log[\"年月\"] = use_log[\"年月\"].astype(str)\n",
    "exit_use_log = pd.merge(use_log, exit_customer, on=[\"customer_id\", \"年月\"], how=\"left\")\n",
    "print(len(use_log))\n",
    "exit_use_log.head() "
   ]
  },
  {
   "cell_type": "code",
   "execution_count": 5,
   "metadata": {},
   "outputs": [
    {
     "output_type": "stream",
     "name": "stdout",
     "text": [
      "1104\n1104\n"
     ]
    },
    {
     "output_type": "execute_result",
     "data": {
      "text/plain": [
       "         年月 customer_id  count_0  count_1   name class gender  start_date  \\\n",
       "19   201805    AS055680        3      3.0  XXXXX   C01      M  2018-03-01   \n",
       "57   201805    AS169823        2      3.0     XX   C01      M  2017-11-01   \n",
       "110  201805    AS305860        5      3.0   XXXX   C01      M  2017-06-01   \n",
       "128  201805    AS363699        5      3.0  XXXXX   C01      M  2018-02-01   \n",
       "147  201805    AS417696        1      4.0     XX   C03      F  2017-09-01   \n",
       "\n",
       "      end_date campaign_id  ...    price campaign_name      mean median  max  \\\n",
       "19  2018-06-30         CA1  ...  10500.0            通常  3.000000    3.0  3.0   \n",
       "57  2018-06-30         CA1  ...  10500.0            通常  3.000000    3.0  4.0   \n",
       "110 2018-06-30         CA1  ...  10500.0            通常  3.333333    3.0  5.0   \n",
       "128 2018-06-30         CA1  ...  10500.0            通常  3.333333    3.0  5.0   \n",
       "147 2018-06-30         CA1  ...   6000.0            通常  2.000000    1.0  4.0   \n",
       "\n",
       "     min  routine_flg   calc_date  membership_period  exit_date  \n",
       "19   3.0          0.0  2018-06-30                3.0 2018-05-30  \n",
       "57   2.0          1.0  2018-06-30                7.0 2018-05-30  \n",
       "110  2.0          0.0  2018-06-30               12.0 2018-05-30  \n",
       "128  2.0          0.0  2018-06-30                4.0 2018-05-30  \n",
       "147  1.0          0.0  2018-06-30                9.0 2018-05-30  \n",
       "\n",
       "[5 rows x 22 columns]"
      ],
      "text/html": "<div>\n<style scoped>\n    .dataframe tbody tr th:only-of-type {\n        vertical-align: middle;\n    }\n\n    .dataframe tbody tr th {\n        vertical-align: top;\n    }\n\n    .dataframe thead th {\n        text-align: right;\n    }\n</style>\n<table border=\"1\" class=\"dataframe\">\n  <thead>\n    <tr style=\"text-align: right;\">\n      <th></th>\n      <th>年月</th>\n      <th>customer_id</th>\n      <th>count_0</th>\n      <th>count_1</th>\n      <th>name</th>\n      <th>class</th>\n      <th>gender</th>\n      <th>start_date</th>\n      <th>end_date</th>\n      <th>campaign_id</th>\n      <th>...</th>\n      <th>price</th>\n      <th>campaign_name</th>\n      <th>mean</th>\n      <th>median</th>\n      <th>max</th>\n      <th>min</th>\n      <th>routine_flg</th>\n      <th>calc_date</th>\n      <th>membership_period</th>\n      <th>exit_date</th>\n    </tr>\n  </thead>\n  <tbody>\n    <tr>\n      <th>19</th>\n      <td>201805</td>\n      <td>AS055680</td>\n      <td>3</td>\n      <td>3.0</td>\n      <td>XXXXX</td>\n      <td>C01</td>\n      <td>M</td>\n      <td>2018-03-01</td>\n      <td>2018-06-30</td>\n      <td>CA1</td>\n      <td>...</td>\n      <td>10500.0</td>\n      <td>通常</td>\n      <td>3.000000</td>\n      <td>3.0</td>\n      <td>3.0</td>\n      <td>3.0</td>\n      <td>0.0</td>\n      <td>2018-06-30</td>\n      <td>3.0</td>\n      <td>2018-05-30</td>\n    </tr>\n    <tr>\n      <th>57</th>\n      <td>201805</td>\n      <td>AS169823</td>\n      <td>2</td>\n      <td>3.0</td>\n      <td>XX</td>\n      <td>C01</td>\n      <td>M</td>\n      <td>2017-11-01</td>\n      <td>2018-06-30</td>\n      <td>CA1</td>\n      <td>...</td>\n      <td>10500.0</td>\n      <td>通常</td>\n      <td>3.000000</td>\n      <td>3.0</td>\n      <td>4.0</td>\n      <td>2.0</td>\n      <td>1.0</td>\n      <td>2018-06-30</td>\n      <td>7.0</td>\n      <td>2018-05-30</td>\n    </tr>\n    <tr>\n      <th>110</th>\n      <td>201805</td>\n      <td>AS305860</td>\n      <td>5</td>\n      <td>3.0</td>\n      <td>XXXX</td>\n      <td>C01</td>\n      <td>M</td>\n      <td>2017-06-01</td>\n      <td>2018-06-30</td>\n      <td>CA1</td>\n      <td>...</td>\n      <td>10500.0</td>\n      <td>通常</td>\n      <td>3.333333</td>\n      <td>3.0</td>\n      <td>5.0</td>\n      <td>2.0</td>\n      <td>0.0</td>\n      <td>2018-06-30</td>\n      <td>12.0</td>\n      <td>2018-05-30</td>\n    </tr>\n    <tr>\n      <th>128</th>\n      <td>201805</td>\n      <td>AS363699</td>\n      <td>5</td>\n      <td>3.0</td>\n      <td>XXXXX</td>\n      <td>C01</td>\n      <td>M</td>\n      <td>2018-02-01</td>\n      <td>2018-06-30</td>\n      <td>CA1</td>\n      <td>...</td>\n      <td>10500.0</td>\n      <td>通常</td>\n      <td>3.333333</td>\n      <td>3.0</td>\n      <td>5.0</td>\n      <td>2.0</td>\n      <td>0.0</td>\n      <td>2018-06-30</td>\n      <td>4.0</td>\n      <td>2018-05-30</td>\n    </tr>\n    <tr>\n      <th>147</th>\n      <td>201805</td>\n      <td>AS417696</td>\n      <td>1</td>\n      <td>4.0</td>\n      <td>XX</td>\n      <td>C03</td>\n      <td>F</td>\n      <td>2017-09-01</td>\n      <td>2018-06-30</td>\n      <td>CA1</td>\n      <td>...</td>\n      <td>6000.0</td>\n      <td>通常</td>\n      <td>2.000000</td>\n      <td>1.0</td>\n      <td>4.0</td>\n      <td>1.0</td>\n      <td>0.0</td>\n      <td>2018-06-30</td>\n      <td>9.0</td>\n      <td>2018-05-30</td>\n    </tr>\n  </tbody>\n</table>\n<p>5 rows × 22 columns</p>\n</div>"
     },
     "metadata": {},
     "execution_count": 5
    }
   ],
   "source": [
    "exit_use_log = exit_use_log.dropna(subset=[\"name\"])\n",
    "print(len(exit_use_log))\n",
    "print(len(exit_use_log[\"customer_id\"].unique()))\n",
    "exit_use_log.head()"
   ]
  },
  {
   "source": [
    "## ノック43 継続顧客のデータを作成しよう\n",
    "継続顧客のデータを作成し，アンダーサンプリングを行う．"
   ],
   "cell_type": "markdown",
   "metadata": {}
  },
  {
   "cell_type": "code",
   "execution_count": 6,
   "metadata": {},
   "outputs": [
    {
     "output_type": "stream",
     "name": "stdout",
     "text": [
      "33851\n27422\n"
     ]
    }
   ],
   "source": [
    "conti_customer = customer.loc[customer[\"is_deleted\"]==0]\n",
    "conti_use_log = pd.merge(use_log, conti_customer, on=[\"customer_id\"], how=\"left\")\n",
    "print(len(conti_use_log))\n",
    "conti_use_log = conti_use_log.dropna(subset=[\"name\"])\n",
    "print(len(conti_use_log)) "
   ]
  },
  {
   "cell_type": "code",
   "execution_count": 7,
   "metadata": {},
   "outputs": [
    {
     "output_type": "stream",
     "name": "stdout",
     "text": [
      "2842\n"
     ]
    },
    {
     "output_type": "execute_result",
     "data": {
      "text/plain": [
       "       年月 customer_id  count_0  count_1   name class gender  start_date  \\\n",
       "0  201901    AS781999        8      6.0  XXXXX   C02      F  2017-04-01   \n",
       "1  201807    AS466656        5      5.0  XXXXX   C01      F  2016-11-01   \n",
       "2  201901    AS171994        4      5.0    XXX   C03      M  2015-07-01   \n",
       "3  201902    HI604733        3      2.0  XXXXX   C03      M  2016-06-01   \n",
       "4  201902    PL764577        7     11.0   XXXX   C01      F  2018-12-01   \n",
       "\n",
       "  end_date campaign_id  ...  class_name    price  campaign_name      mean  \\\n",
       "0      NaN         CA1  ...       デイタイム   7500.0             通常  5.416667   \n",
       "1      NaN         CA1  ...      オールタイム  10500.0             通常  4.666667   \n",
       "2      NaN         CA1  ...         ナイト   6000.0             通常  4.583333   \n",
       "3      NaN         CA1  ...         ナイト   6000.0             通常  4.250000   \n",
       "4      NaN         CA3  ...      オールタイム  10500.0          入会費無料  9.000000   \n",
       "\n",
       "   median   max  min  routine_flg   calc_date membership_period  \n",
       "0     5.5   9.0  3.0          1.0  2019-04-30              24.0  \n",
       "1     4.5   8.0  3.0          1.0  2019-04-30              29.0  \n",
       "2     5.0   6.0  3.0          1.0  2019-04-30              45.0  \n",
       "3     4.5   7.0  1.0          1.0  2019-04-30              34.0  \n",
       "4     9.0  11.0  7.0          1.0  2019-04-30               4.0  \n",
       "\n",
       "[5 rows x 21 columns]"
      ],
      "text/html": "<div>\n<style scoped>\n    .dataframe tbody tr th:only-of-type {\n        vertical-align: middle;\n    }\n\n    .dataframe tbody tr th {\n        vertical-align: top;\n    }\n\n    .dataframe thead th {\n        text-align: right;\n    }\n</style>\n<table border=\"1\" class=\"dataframe\">\n  <thead>\n    <tr style=\"text-align: right;\">\n      <th></th>\n      <th>年月</th>\n      <th>customer_id</th>\n      <th>count_0</th>\n      <th>count_1</th>\n      <th>name</th>\n      <th>class</th>\n      <th>gender</th>\n      <th>start_date</th>\n      <th>end_date</th>\n      <th>campaign_id</th>\n      <th>...</th>\n      <th>class_name</th>\n      <th>price</th>\n      <th>campaign_name</th>\n      <th>mean</th>\n      <th>median</th>\n      <th>max</th>\n      <th>min</th>\n      <th>routine_flg</th>\n      <th>calc_date</th>\n      <th>membership_period</th>\n    </tr>\n  </thead>\n  <tbody>\n    <tr>\n      <th>0</th>\n      <td>201901</td>\n      <td>AS781999</td>\n      <td>8</td>\n      <td>6.0</td>\n      <td>XXXXX</td>\n      <td>C02</td>\n      <td>F</td>\n      <td>2017-04-01</td>\n      <td>NaN</td>\n      <td>CA1</td>\n      <td>...</td>\n      <td>デイタイム</td>\n      <td>7500.0</td>\n      <td>通常</td>\n      <td>5.416667</td>\n      <td>5.5</td>\n      <td>9.0</td>\n      <td>3.0</td>\n      <td>1.0</td>\n      <td>2019-04-30</td>\n      <td>24.0</td>\n    </tr>\n    <tr>\n      <th>1</th>\n      <td>201807</td>\n      <td>AS466656</td>\n      <td>5</td>\n      <td>5.0</td>\n      <td>XXXXX</td>\n      <td>C01</td>\n      <td>F</td>\n      <td>2016-11-01</td>\n      <td>NaN</td>\n      <td>CA1</td>\n      <td>...</td>\n      <td>オールタイム</td>\n      <td>10500.0</td>\n      <td>通常</td>\n      <td>4.666667</td>\n      <td>4.5</td>\n      <td>8.0</td>\n      <td>3.0</td>\n      <td>1.0</td>\n      <td>2019-04-30</td>\n      <td>29.0</td>\n    </tr>\n    <tr>\n      <th>2</th>\n      <td>201901</td>\n      <td>AS171994</td>\n      <td>4</td>\n      <td>5.0</td>\n      <td>XXX</td>\n      <td>C03</td>\n      <td>M</td>\n      <td>2015-07-01</td>\n      <td>NaN</td>\n      <td>CA1</td>\n      <td>...</td>\n      <td>ナイト</td>\n      <td>6000.0</td>\n      <td>通常</td>\n      <td>4.583333</td>\n      <td>5.0</td>\n      <td>6.0</td>\n      <td>3.0</td>\n      <td>1.0</td>\n      <td>2019-04-30</td>\n      <td>45.0</td>\n    </tr>\n    <tr>\n      <th>3</th>\n      <td>201902</td>\n      <td>HI604733</td>\n      <td>3</td>\n      <td>2.0</td>\n      <td>XXXXX</td>\n      <td>C03</td>\n      <td>M</td>\n      <td>2016-06-01</td>\n      <td>NaN</td>\n      <td>CA1</td>\n      <td>...</td>\n      <td>ナイト</td>\n      <td>6000.0</td>\n      <td>通常</td>\n      <td>4.250000</td>\n      <td>4.5</td>\n      <td>7.0</td>\n      <td>1.0</td>\n      <td>1.0</td>\n      <td>2019-04-30</td>\n      <td>34.0</td>\n    </tr>\n    <tr>\n      <th>4</th>\n      <td>201902</td>\n      <td>PL764577</td>\n      <td>7</td>\n      <td>11.0</td>\n      <td>XXXX</td>\n      <td>C01</td>\n      <td>F</td>\n      <td>2018-12-01</td>\n      <td>NaN</td>\n      <td>CA3</td>\n      <td>...</td>\n      <td>オールタイム</td>\n      <td>10500.0</td>\n      <td>入会費無料</td>\n      <td>9.000000</td>\n      <td>9.0</td>\n      <td>11.0</td>\n      <td>7.0</td>\n      <td>1.0</td>\n      <td>2019-04-30</td>\n      <td>4.0</td>\n    </tr>\n  </tbody>\n</table>\n<p>5 rows × 21 columns</p>\n</div>"
     },
     "metadata": {},
     "execution_count": 7
    }
   ],
   "source": [
    "conti_use_log = conti_use_log.sample(frac=1).reset_index(drop=True)\n",
    "conti_use_log = conti_use_log.drop_duplicates(subset=\"customer_id\")\n",
    "print(len(conti_use_log))\n",
    "conti_use_log.head()"
   ]
  },
  {
   "cell_type": "code",
   "execution_count": 8,
   "metadata": {},
   "outputs": [
    {
     "output_type": "stream",
     "name": "stdout",
     "text": [
      "3946\n"
     ]
    },
    {
     "output_type": "execute_result",
     "data": {
      "text/plain": [
       "       年月 customer_id  count_0  count_1   name class gender  start_date  \\\n",
       "0  201901    AS781999        8      6.0  XXXXX   C02      F  2017-04-01   \n",
       "1  201807    AS466656        5      5.0  XXXXX   C01      F  2016-11-01   \n",
       "2  201901    AS171994        4      5.0    XXX   C03      M  2015-07-01   \n",
       "3  201902    HI604733        3      2.0  XXXXX   C03      M  2016-06-01   \n",
       "4  201902    PL764577        7     11.0   XXXX   C01      F  2018-12-01   \n",
       "\n",
       "  end_date campaign_id  ...    price campaign_name      mean median   max  \\\n",
       "0      NaN         CA1  ...   7500.0            通常  5.416667    5.5   9.0   \n",
       "1      NaN         CA1  ...  10500.0            通常  4.666667    4.5   8.0   \n",
       "2      NaN         CA1  ...   6000.0            通常  4.583333    5.0   6.0   \n",
       "3      NaN         CA1  ...   6000.0            通常  4.250000    4.5   7.0   \n",
       "4      NaN         CA3  ...  10500.0         入会費無料  9.000000    9.0  11.0   \n",
       "\n",
       "   min  routine_flg   calc_date  membership_period exit_date  \n",
       "0  3.0          1.0  2019-04-30               24.0       NaT  \n",
       "1  3.0          1.0  2019-04-30               29.0       NaT  \n",
       "2  3.0          1.0  2019-04-30               45.0       NaT  \n",
       "3  1.0          1.0  2019-04-30               34.0       NaT  \n",
       "4  7.0          1.0  2019-04-30                4.0       NaT  \n",
       "\n",
       "[5 rows x 22 columns]"
      ],
      "text/html": "<div>\n<style scoped>\n    .dataframe tbody tr th:only-of-type {\n        vertical-align: middle;\n    }\n\n    .dataframe tbody tr th {\n        vertical-align: top;\n    }\n\n    .dataframe thead th {\n        text-align: right;\n    }\n</style>\n<table border=\"1\" class=\"dataframe\">\n  <thead>\n    <tr style=\"text-align: right;\">\n      <th></th>\n      <th>年月</th>\n      <th>customer_id</th>\n      <th>count_0</th>\n      <th>count_1</th>\n      <th>name</th>\n      <th>class</th>\n      <th>gender</th>\n      <th>start_date</th>\n      <th>end_date</th>\n      <th>campaign_id</th>\n      <th>...</th>\n      <th>price</th>\n      <th>campaign_name</th>\n      <th>mean</th>\n      <th>median</th>\n      <th>max</th>\n      <th>min</th>\n      <th>routine_flg</th>\n      <th>calc_date</th>\n      <th>membership_period</th>\n      <th>exit_date</th>\n    </tr>\n  </thead>\n  <tbody>\n    <tr>\n      <th>0</th>\n      <td>201901</td>\n      <td>AS781999</td>\n      <td>8</td>\n      <td>6.0</td>\n      <td>XXXXX</td>\n      <td>C02</td>\n      <td>F</td>\n      <td>2017-04-01</td>\n      <td>NaN</td>\n      <td>CA1</td>\n      <td>...</td>\n      <td>7500.0</td>\n      <td>通常</td>\n      <td>5.416667</td>\n      <td>5.5</td>\n      <td>9.0</td>\n      <td>3.0</td>\n      <td>1.0</td>\n      <td>2019-04-30</td>\n      <td>24.0</td>\n      <td>NaT</td>\n    </tr>\n    <tr>\n      <th>1</th>\n      <td>201807</td>\n      <td>AS466656</td>\n      <td>5</td>\n      <td>5.0</td>\n      <td>XXXXX</td>\n      <td>C01</td>\n      <td>F</td>\n      <td>2016-11-01</td>\n      <td>NaN</td>\n      <td>CA1</td>\n      <td>...</td>\n      <td>10500.0</td>\n      <td>通常</td>\n      <td>4.666667</td>\n      <td>4.5</td>\n      <td>8.0</td>\n      <td>3.0</td>\n      <td>1.0</td>\n      <td>2019-04-30</td>\n      <td>29.0</td>\n      <td>NaT</td>\n    </tr>\n    <tr>\n      <th>2</th>\n      <td>201901</td>\n      <td>AS171994</td>\n      <td>4</td>\n      <td>5.0</td>\n      <td>XXX</td>\n      <td>C03</td>\n      <td>M</td>\n      <td>2015-07-01</td>\n      <td>NaN</td>\n      <td>CA1</td>\n      <td>...</td>\n      <td>6000.0</td>\n      <td>通常</td>\n      <td>4.583333</td>\n      <td>5.0</td>\n      <td>6.0</td>\n      <td>3.0</td>\n      <td>1.0</td>\n      <td>2019-04-30</td>\n      <td>45.0</td>\n      <td>NaT</td>\n    </tr>\n    <tr>\n      <th>3</th>\n      <td>201902</td>\n      <td>HI604733</td>\n      <td>3</td>\n      <td>2.0</td>\n      <td>XXXXX</td>\n      <td>C03</td>\n      <td>M</td>\n      <td>2016-06-01</td>\n      <td>NaN</td>\n      <td>CA1</td>\n      <td>...</td>\n      <td>6000.0</td>\n      <td>通常</td>\n      <td>4.250000</td>\n      <td>4.5</td>\n      <td>7.0</td>\n      <td>1.0</td>\n      <td>1.0</td>\n      <td>2019-04-30</td>\n      <td>34.0</td>\n      <td>NaT</td>\n    </tr>\n    <tr>\n      <th>4</th>\n      <td>201902</td>\n      <td>PL764577</td>\n      <td>7</td>\n      <td>11.0</td>\n      <td>XXXX</td>\n      <td>C01</td>\n      <td>F</td>\n      <td>2018-12-01</td>\n      <td>NaN</td>\n      <td>CA3</td>\n      <td>...</td>\n      <td>10500.0</td>\n      <td>入会費無料</td>\n      <td>9.000000</td>\n      <td>9.0</td>\n      <td>11.0</td>\n      <td>7.0</td>\n      <td>1.0</td>\n      <td>2019-04-30</td>\n      <td>4.0</td>\n      <td>NaT</td>\n    </tr>\n  </tbody>\n</table>\n<p>5 rows × 22 columns</p>\n</div>"
     },
     "metadata": {},
     "execution_count": 8
    }
   ],
   "source": [
    "predict_data = pd.concat([conti_use_log, exit_use_log], ignore_index=True)\n",
    "print(len(predict_data))\n",
    "predict_data.head()"
   ]
  },
  {
   "source": [
    "## ノック44 予測する月の在籍期間を作成しよう\n",
    "在籍期間を予想のための変数として用いる．"
   ],
   "cell_type": "markdown",
   "metadata": {}
  },
  {
   "cell_type": "code",
   "execution_count": 9,
   "metadata": {},
   "outputs": [
    {
     "output_type": "execute_result",
     "data": {
      "text/plain": [
       "       年月 customer_id  count_0  count_1   name class gender start_date  \\\n",
       "0  201901    AS781999        8      6.0  XXXXX   C02      F 2017-04-01   \n",
       "1  201807    AS466656        5      5.0  XXXXX   C01      F 2016-11-01   \n",
       "2  201901    AS171994        4      5.0    XXX   C03      M 2015-07-01   \n",
       "3  201902    HI604733        3      2.0  XXXXX   C03      M 2016-06-01   \n",
       "4  201902    PL764577        7     11.0   XXXX   C01      F 2018-12-01   \n",
       "\n",
       "  end_date campaign_id  ...      mean median   max  min  routine_flg  \\\n",
       "0      NaN         CA1  ...  5.416667    5.5   9.0  3.0          1.0   \n",
       "1      NaN         CA1  ...  4.666667    4.5   8.0  3.0          1.0   \n",
       "2      NaN         CA1  ...  4.583333    5.0   6.0  3.0          1.0   \n",
       "3      NaN         CA1  ...  4.250000    4.5   7.0  1.0          1.0   \n",
       "4      NaN         CA3  ...  9.000000    9.0  11.0  7.0          1.0   \n",
       "\n",
       "    calc_date  membership_period  exit_date   now_date period  \n",
       "0  2019-04-30               24.0        NaT 2019-01-01     21  \n",
       "1  2019-04-30               29.0        NaT 2018-07-01     20  \n",
       "2  2019-04-30               45.0        NaT 2019-01-01     42  \n",
       "3  2019-04-30               34.0        NaT 2019-02-01     32  \n",
       "4  2019-04-30                4.0        NaT 2019-02-01      2  \n",
       "\n",
       "[5 rows x 24 columns]"
      ],
      "text/html": "<div>\n<style scoped>\n    .dataframe tbody tr th:only-of-type {\n        vertical-align: middle;\n    }\n\n    .dataframe tbody tr th {\n        vertical-align: top;\n    }\n\n    .dataframe thead th {\n        text-align: right;\n    }\n</style>\n<table border=\"1\" class=\"dataframe\">\n  <thead>\n    <tr style=\"text-align: right;\">\n      <th></th>\n      <th>年月</th>\n      <th>customer_id</th>\n      <th>count_0</th>\n      <th>count_1</th>\n      <th>name</th>\n      <th>class</th>\n      <th>gender</th>\n      <th>start_date</th>\n      <th>end_date</th>\n      <th>campaign_id</th>\n      <th>...</th>\n      <th>mean</th>\n      <th>median</th>\n      <th>max</th>\n      <th>min</th>\n      <th>routine_flg</th>\n      <th>calc_date</th>\n      <th>membership_period</th>\n      <th>exit_date</th>\n      <th>now_date</th>\n      <th>period</th>\n    </tr>\n  </thead>\n  <tbody>\n    <tr>\n      <th>0</th>\n      <td>201901</td>\n      <td>AS781999</td>\n      <td>8</td>\n      <td>6.0</td>\n      <td>XXXXX</td>\n      <td>C02</td>\n      <td>F</td>\n      <td>2017-04-01</td>\n      <td>NaN</td>\n      <td>CA1</td>\n      <td>...</td>\n      <td>5.416667</td>\n      <td>5.5</td>\n      <td>9.0</td>\n      <td>3.0</td>\n      <td>1.0</td>\n      <td>2019-04-30</td>\n      <td>24.0</td>\n      <td>NaT</td>\n      <td>2019-01-01</td>\n      <td>21</td>\n    </tr>\n    <tr>\n      <th>1</th>\n      <td>201807</td>\n      <td>AS466656</td>\n      <td>5</td>\n      <td>5.0</td>\n      <td>XXXXX</td>\n      <td>C01</td>\n      <td>F</td>\n      <td>2016-11-01</td>\n      <td>NaN</td>\n      <td>CA1</td>\n      <td>...</td>\n      <td>4.666667</td>\n      <td>4.5</td>\n      <td>8.0</td>\n      <td>3.0</td>\n      <td>1.0</td>\n      <td>2019-04-30</td>\n      <td>29.0</td>\n      <td>NaT</td>\n      <td>2018-07-01</td>\n      <td>20</td>\n    </tr>\n    <tr>\n      <th>2</th>\n      <td>201901</td>\n      <td>AS171994</td>\n      <td>4</td>\n      <td>5.0</td>\n      <td>XXX</td>\n      <td>C03</td>\n      <td>M</td>\n      <td>2015-07-01</td>\n      <td>NaN</td>\n      <td>CA1</td>\n      <td>...</td>\n      <td>4.583333</td>\n      <td>5.0</td>\n      <td>6.0</td>\n      <td>3.0</td>\n      <td>1.0</td>\n      <td>2019-04-30</td>\n      <td>45.0</td>\n      <td>NaT</td>\n      <td>2019-01-01</td>\n      <td>42</td>\n    </tr>\n    <tr>\n      <th>3</th>\n      <td>201902</td>\n      <td>HI604733</td>\n      <td>3</td>\n      <td>2.0</td>\n      <td>XXXXX</td>\n      <td>C03</td>\n      <td>M</td>\n      <td>2016-06-01</td>\n      <td>NaN</td>\n      <td>CA1</td>\n      <td>...</td>\n      <td>4.250000</td>\n      <td>4.5</td>\n      <td>7.0</td>\n      <td>1.0</td>\n      <td>1.0</td>\n      <td>2019-04-30</td>\n      <td>34.0</td>\n      <td>NaT</td>\n      <td>2019-02-01</td>\n      <td>32</td>\n    </tr>\n    <tr>\n      <th>4</th>\n      <td>201902</td>\n      <td>PL764577</td>\n      <td>7</td>\n      <td>11.0</td>\n      <td>XXXX</td>\n      <td>C01</td>\n      <td>F</td>\n      <td>2018-12-01</td>\n      <td>NaN</td>\n      <td>CA3</td>\n      <td>...</td>\n      <td>9.000000</td>\n      <td>9.0</td>\n      <td>11.0</td>\n      <td>7.0</td>\n      <td>1.0</td>\n      <td>2019-04-30</td>\n      <td>4.0</td>\n      <td>NaT</td>\n      <td>2019-02-01</td>\n      <td>2</td>\n    </tr>\n  </tbody>\n</table>\n<p>5 rows × 24 columns</p>\n</div>"
     },
     "metadata": {},
     "execution_count": 9
    }
   ],
   "source": [
    "predict_data[\"now_date\"] = pd.to_datetime(predict_data[\"年月\"], format=\"%Y%m\")\n",
    "predict_data[\"start_date\"] = pd.to_datetime(predict_data[\"start_date\"])\n",
    "\n",
    "deltas = [relativedelta(now, start) for now, start in zip(predict_data[\"now_date\"], predict_data[\"start_date\"])]\n",
    "periods = [int(delta.years*12 + delta.months) for delta in deltas]\n",
    "\n",
    "predict_data[\"period\"] = periods\n",
    "predict_data.head()"
   ]
  },
  {
   "source": [
    "## ノック45 欠損値を除去しよう\n",
    "機械学習のための前処理として，欠損値を取り除く．"
   ],
   "cell_type": "markdown",
   "metadata": {}
  },
  {
   "cell_type": "code",
   "execution_count": 10,
   "metadata": {},
   "outputs": [
    {
     "output_type": "execute_result",
     "data": {
      "text/plain": [
       "年月                      0\n",
       "customer_id             0\n",
       "count_0                 0\n",
       "count_1               246\n",
       "name                    0\n",
       "class                   0\n",
       "gender                  0\n",
       "start_date              0\n",
       "end_date             2842\n",
       "campaign_id             0\n",
       "is_deleted              0\n",
       "class_name              0\n",
       "price                   0\n",
       "campaign_name           0\n",
       "mean                    0\n",
       "median                  0\n",
       "max                     0\n",
       "min                     0\n",
       "routine_flg             0\n",
       "calc_date               0\n",
       "membership_period       0\n",
       "exit_date            2842\n",
       "now_date                0\n",
       "period                  0\n",
       "dtype: int64"
      ]
     },
     "metadata": {},
     "execution_count": 10
    }
   ],
   "source": [
    "predict_data.isna().sum()"
   ]
  },
  {
   "cell_type": "code",
   "execution_count": 11,
   "metadata": {},
   "outputs": [
    {
     "output_type": "execute_result",
     "data": {
      "text/plain": [
       "年月                      0\n",
       "customer_id             0\n",
       "count_0                 0\n",
       "count_1                 0\n",
       "name                    0\n",
       "class                   0\n",
       "gender                  0\n",
       "start_date              0\n",
       "end_date             2648\n",
       "campaign_id             0\n",
       "is_deleted              0\n",
       "class_name              0\n",
       "price                   0\n",
       "campaign_name           0\n",
       "mean                    0\n",
       "median                  0\n",
       "max                     0\n",
       "min                     0\n",
       "routine_flg             0\n",
       "calc_date               0\n",
       "membership_period       0\n",
       "exit_date            2648\n",
       "now_date                0\n",
       "period                  0\n",
       "dtype: int64"
      ]
     },
     "metadata": {},
     "execution_count": 11
    }
   ],
   "source": [
    "predict_data = predict_data.dropna(subset=[\"count_1\"])\n",
    "predict_data.isna().sum()"
   ]
  },
  {
   "source": [
    "##  ノック46 文字列型の変数を処理できるように整形しよう\n",
    "機械学習に用いる，会員区分，性別などのカテゴリカル変数をダミー変数化する．"
   ],
   "cell_type": "markdown",
   "metadata": {}
  },
  {
   "cell_type": "code",
   "execution_count": 12,
   "metadata": {},
   "outputs": [
    {
     "output_type": "execute_result",
     "data": {
      "text/plain": [
       "  campaign_name class_name gender  count_1  routine_flg  period  is_deleted\n",
       "0            通常      デイタイム      F      6.0          1.0      21         0.0\n",
       "1            通常     オールタイム      F      5.0          1.0      20         0.0\n",
       "2            通常        ナイト      M      5.0          1.0      42         0.0\n",
       "3            通常        ナイト      M      2.0          1.0      32         0.0\n",
       "4         入会費無料     オールタイム      F     11.0          1.0       2         0.0"
      ],
      "text/html": "<div>\n<style scoped>\n    .dataframe tbody tr th:only-of-type {\n        vertical-align: middle;\n    }\n\n    .dataframe tbody tr th {\n        vertical-align: top;\n    }\n\n    .dataframe thead th {\n        text-align: right;\n    }\n</style>\n<table border=\"1\" class=\"dataframe\">\n  <thead>\n    <tr style=\"text-align: right;\">\n      <th></th>\n      <th>campaign_name</th>\n      <th>class_name</th>\n      <th>gender</th>\n      <th>count_1</th>\n      <th>routine_flg</th>\n      <th>period</th>\n      <th>is_deleted</th>\n    </tr>\n  </thead>\n  <tbody>\n    <tr>\n      <th>0</th>\n      <td>通常</td>\n      <td>デイタイム</td>\n      <td>F</td>\n      <td>6.0</td>\n      <td>1.0</td>\n      <td>21</td>\n      <td>0.0</td>\n    </tr>\n    <tr>\n      <th>1</th>\n      <td>通常</td>\n      <td>オールタイム</td>\n      <td>F</td>\n      <td>5.0</td>\n      <td>1.0</td>\n      <td>20</td>\n      <td>0.0</td>\n    </tr>\n    <tr>\n      <th>2</th>\n      <td>通常</td>\n      <td>ナイト</td>\n      <td>M</td>\n      <td>5.0</td>\n      <td>1.0</td>\n      <td>42</td>\n      <td>0.0</td>\n    </tr>\n    <tr>\n      <th>3</th>\n      <td>通常</td>\n      <td>ナイト</td>\n      <td>M</td>\n      <td>2.0</td>\n      <td>1.0</td>\n      <td>32</td>\n      <td>0.0</td>\n    </tr>\n    <tr>\n      <th>4</th>\n      <td>入会費無料</td>\n      <td>オールタイム</td>\n      <td>F</td>\n      <td>11.0</td>\n      <td>1.0</td>\n      <td>2</td>\n      <td>0.0</td>\n    </tr>\n  </tbody>\n</table>\n</div>"
     },
     "metadata": {},
     "execution_count": 12
    }
   ],
   "source": [
    "target_col = [\"campaign_name\", \"class_name\", \"gender\", \"count_1\", \"routine_flg\", \"period\", \"is_deleted\"]\n",
    "predict_data = predict_data[target_col]\n",
    "predict_data.head()"
   ]
  },
  {
   "cell_type": "code",
   "execution_count": 13,
   "metadata": {},
   "outputs": [
    {
     "output_type": "execute_result",
     "data": {
      "text/plain": [
       "   count_1  routine_flg  period  is_deleted  campaign_name_入会費半額  \\\n",
       "0      6.0          1.0      21         0.0                    0   \n",
       "1      5.0          1.0      20         0.0                    0   \n",
       "2      5.0          1.0      42         0.0                    0   \n",
       "3      2.0          1.0      32         0.0                    0   \n",
       "4     11.0          1.0       2         0.0                    0   \n",
       "\n",
       "   campaign_name_入会費無料  campaign_name_通常  class_name_オールタイム  class_name_デイタイム  \\\n",
       "0                    0                 1                  0                 1   \n",
       "1                    0                 1                  1                 0   \n",
       "2                    0                 1                  0                 0   \n",
       "3                    0                 1                  0                 0   \n",
       "4                    1                 0                  1                 0   \n",
       "\n",
       "   class_name_ナイト  gender_F  gender_M  \n",
       "0               0         1         0  \n",
       "1               0         1         0  \n",
       "2               1         0         1  \n",
       "3               1         0         1  \n",
       "4               0         1         0  "
      ],
      "text/html": "<div>\n<style scoped>\n    .dataframe tbody tr th:only-of-type {\n        vertical-align: middle;\n    }\n\n    .dataframe tbody tr th {\n        vertical-align: top;\n    }\n\n    .dataframe thead th {\n        text-align: right;\n    }\n</style>\n<table border=\"1\" class=\"dataframe\">\n  <thead>\n    <tr style=\"text-align: right;\">\n      <th></th>\n      <th>count_1</th>\n      <th>routine_flg</th>\n      <th>period</th>\n      <th>is_deleted</th>\n      <th>campaign_name_入会費半額</th>\n      <th>campaign_name_入会費無料</th>\n      <th>campaign_name_通常</th>\n      <th>class_name_オールタイム</th>\n      <th>class_name_デイタイム</th>\n      <th>class_name_ナイト</th>\n      <th>gender_F</th>\n      <th>gender_M</th>\n    </tr>\n  </thead>\n  <tbody>\n    <tr>\n      <th>0</th>\n      <td>6.0</td>\n      <td>1.0</td>\n      <td>21</td>\n      <td>0.0</td>\n      <td>0</td>\n      <td>0</td>\n      <td>1</td>\n      <td>0</td>\n      <td>1</td>\n      <td>0</td>\n      <td>1</td>\n      <td>0</td>\n    </tr>\n    <tr>\n      <th>1</th>\n      <td>5.0</td>\n      <td>1.0</td>\n      <td>20</td>\n      <td>0.0</td>\n      <td>0</td>\n      <td>0</td>\n      <td>1</td>\n      <td>1</td>\n      <td>0</td>\n      <td>0</td>\n      <td>1</td>\n      <td>0</td>\n    </tr>\n    <tr>\n      <th>2</th>\n      <td>5.0</td>\n      <td>1.0</td>\n      <td>42</td>\n      <td>0.0</td>\n      <td>0</td>\n      <td>0</td>\n      <td>1</td>\n      <td>0</td>\n      <td>0</td>\n      <td>1</td>\n      <td>0</td>\n      <td>1</td>\n    </tr>\n    <tr>\n      <th>3</th>\n      <td>2.0</td>\n      <td>1.0</td>\n      <td>32</td>\n      <td>0.0</td>\n      <td>0</td>\n      <td>0</td>\n      <td>1</td>\n      <td>0</td>\n      <td>0</td>\n      <td>1</td>\n      <td>0</td>\n      <td>1</td>\n    </tr>\n    <tr>\n      <th>4</th>\n      <td>11.0</td>\n      <td>1.0</td>\n      <td>2</td>\n      <td>0.0</td>\n      <td>0</td>\n      <td>1</td>\n      <td>0</td>\n      <td>1</td>\n      <td>0</td>\n      <td>0</td>\n      <td>1</td>\n      <td>0</td>\n    </tr>\n  </tbody>\n</table>\n</div>"
     },
     "metadata": {},
     "execution_count": 13
    }
   ],
   "source": [
    "predict_data = pd.get_dummies(predict_data)\n",
    "predict_data.head()"
   ]
  },
  {
   "cell_type": "code",
   "execution_count": 14,
   "metadata": {},
   "outputs": [
    {
     "output_type": "execute_result",
     "data": {
      "text/plain": [
       "   count_1  routine_flg  period  is_deleted  campaign_name_入会費半額  \\\n",
       "0      6.0          1.0      21         0.0                    0   \n",
       "1      5.0          1.0      20         0.0                    0   \n",
       "2      5.0          1.0      42         0.0                    0   \n",
       "3      2.0          1.0      32         0.0                    0   \n",
       "4     11.0          1.0       2         0.0                    0   \n",
       "\n",
       "   campaign_name_入会費無料  class_name_オールタイム  class_name_デイタイム  gender_F  \n",
       "0                    0                  0                 1         1  \n",
       "1                    0                  1                 0         1  \n",
       "2                    0                  0                 0         0  \n",
       "3                    0                  0                 0         0  \n",
       "4                    1                  1                 0         1  "
      ],
      "text/html": "<div>\n<style scoped>\n    .dataframe tbody tr th:only-of-type {\n        vertical-align: middle;\n    }\n\n    .dataframe tbody tr th {\n        vertical-align: top;\n    }\n\n    .dataframe thead th {\n        text-align: right;\n    }\n</style>\n<table border=\"1\" class=\"dataframe\">\n  <thead>\n    <tr style=\"text-align: right;\">\n      <th></th>\n      <th>count_1</th>\n      <th>routine_flg</th>\n      <th>period</th>\n      <th>is_deleted</th>\n      <th>campaign_name_入会費半額</th>\n      <th>campaign_name_入会費無料</th>\n      <th>class_name_オールタイム</th>\n      <th>class_name_デイタイム</th>\n      <th>gender_F</th>\n    </tr>\n  </thead>\n  <tbody>\n    <tr>\n      <th>0</th>\n      <td>6.0</td>\n      <td>1.0</td>\n      <td>21</td>\n      <td>0.0</td>\n      <td>0</td>\n      <td>0</td>\n      <td>0</td>\n      <td>1</td>\n      <td>1</td>\n    </tr>\n    <tr>\n      <th>1</th>\n      <td>5.0</td>\n      <td>1.0</td>\n      <td>20</td>\n      <td>0.0</td>\n      <td>0</td>\n      <td>0</td>\n      <td>1</td>\n      <td>0</td>\n      <td>1</td>\n    </tr>\n    <tr>\n      <th>2</th>\n      <td>5.0</td>\n      <td>1.0</td>\n      <td>42</td>\n      <td>0.0</td>\n      <td>0</td>\n      <td>0</td>\n      <td>0</td>\n      <td>0</td>\n      <td>0</td>\n    </tr>\n    <tr>\n      <th>3</th>\n      <td>2.0</td>\n      <td>1.0</td>\n      <td>32</td>\n      <td>0.0</td>\n      <td>0</td>\n      <td>0</td>\n      <td>0</td>\n      <td>0</td>\n      <td>0</td>\n    </tr>\n    <tr>\n      <th>4</th>\n      <td>11.0</td>\n      <td>1.0</td>\n      <td>2</td>\n      <td>0.0</td>\n      <td>0</td>\n      <td>1</td>\n      <td>1</td>\n      <td>0</td>\n      <td>1</td>\n    </tr>\n  </tbody>\n</table>\n</div>"
     },
     "metadata": {},
     "execution_count": 14
    }
   ],
   "source": [
    "del predict_data[\"campaign_name_通常\"]\n",
    "del predict_data[\"class_name_ナイト\"]\n",
    "del predict_data[\"gender_M\"]\n",
    "predict_data.head()"
   ]
  },
  {
   "source": [
    "## ノック47 決定木を用いて退会予測モデルを作成してみよう\n",
    "決定木で退会を予測する．"
   ],
   "cell_type": "markdown",
   "metadata": {}
  },
  {
   "cell_type": "code",
   "execution_count": 15,
   "metadata": {},
   "outputs": [
    {
     "output_type": "stream",
     "name": "stdout",
     "text": [
      "[1. 1. 1. 0. 1. 1. 0. 0. 1. 0. 0. 1. 0. 1. 0. 1. 1. 1. 0. 1. 1. 1. 1. 0.\n 1. 1. 1. 1. 1. 1. 0. 1. 1. 1. 0. 0. 0. 0. 0. 0. 1. 1. 0. 0. 1. 1. 0. 0.\n 0. 1. 1. 1. 1. 0. 1. 1. 1. 1. 0. 0. 0. 0. 0. 0. 1. 0. 1. 0. 1. 0. 0. 1.\n 1. 0. 0. 1. 1. 0. 0. 1. 1. 1. 1. 1. 1. 1. 1. 1. 1. 1. 1. 0. 1. 0. 1. 0.\n 1. 1. 1. 1. 0. 0. 1. 1. 1. 0. 1. 0. 1. 1. 0. 0. 1. 0. 1. 1. 1. 0. 1. 1.\n 0. 0. 0. 0. 1. 1. 0. 1. 0. 0. 1. 0. 0. 0. 1. 1. 0. 1. 1. 1. 0. 1. 0. 1.\n 0. 0. 1. 0. 0. 1. 1. 0. 0. 0. 0. 1. 0. 0. 0. 0. 0. 1. 0. 1. 0. 0. 1. 1.\n 0. 0. 0. 0. 0. 0. 1. 1. 1. 0. 0. 1. 1. 1. 0. 1. 1. 1. 0. 1. 0. 0. 1. 0.\n 1. 0. 0. 0. 0. 0. 1. 0. 1. 1. 0. 1. 0. 1. 0. 1. 1. 0. 1. 0. 1. 0. 1. 0.\n 0. 1. 0. 1. 0. 1. 1. 1. 0. 0. 1. 1. 0. 0. 0. 1. 1. 1. 1. 0. 0. 1. 0. 0.\n 0. 1. 1. 1. 1. 0. 1. 0. 0. 0. 1. 0. 0. 0. 1. 0. 0. 0. 0. 0. 0. 0. 0. 0.\n 1. 0. 1. 1. 0. 1. 0. 0. 1. 1. 0. 1. 0. 1. 1. 0. 1. 0. 1. 0. 1. 0. 1. 0.\n 0. 0. 1. 0. 0. 0. 0. 0. 0. 1. 0. 1. 0. 0. 1. 0. 0. 0. 0. 0. 1. 0. 1. 1.\n 1. 0. 1. 0. 0. 1. 0. 1. 0. 0. 1. 1. 0. 0. 1. 0. 0. 0. 1. 0. 1. 1. 1. 0.\n 0. 0. 0. 0. 1. 1. 0. 0. 0. 1. 0. 1. 0. 1. 0. 0. 0. 1. 1. 0. 1. 1. 0. 1.\n 1. 0. 1. 0. 0. 0. 1. 0. 0. 0. 0. 0. 1. 1. 1. 1. 0. 0. 1. 0. 0. 0. 0. 0.\n 0. 1. 0. 0. 1. 1. 0. 1. 0. 1. 0. 0. 0. 0. 0. 1. 1. 0. 0. 0. 1. 0. 1. 1.\n 1. 0. 1. 1. 1. 0. 0. 1. 0. 0. 0. 0. 1. 1. 1. 1. 1. 1. 0. 0. 0. 0. 1. 1.\n 1. 0. 1. 0. 1. 1. 0. 0. 0. 1. 0. 1. 1. 1. 0. 0. 0. 0. 1. 1. 0. 0. 1. 0.\n 0. 1. 0. 1. 1. 1. 1. 1. 0. 1. 1. 0. 0. 1. 0. 0. 1. 1. 1. 1. 0. 1. 1. 1.\n 0. 1. 0. 0. 0. 0. 0. 1. 1. 1. 0. 0. 0. 1. 0. 1. 1. 1. 1. 1. 0. 0. 0. 1.\n 1. 0. 1. 1. 0. 1. 1. 1. 1. 0. 1. 1. 1. 0. 1. 0. 0. 1. 1. 1. 0. 0.]\n"
     ]
    }
   ],
   "source": [
    "from sklearn.tree import DecisionTreeClassifier\n",
    "import sklearn.model_selection\n",
    "\n",
    "exit = predict_data.loc[predict_data[\"is_deleted\"]==1]\n",
    "conti = predict_data.loc[predict_data[\"is_deleted\"]==0].sample(len(exit))\n",
    "\n",
    "X = pd.concat([exit, conti], ignore_index=True)\n",
    "y = X[\"is_deleted\"]\n",
    "del X[\"is_deleted\"]\n",
    "\n",
    "X_train, X_test, y_train, y_test = sklearn.model_selection.train_test_split(X, y)\n",
    "\n",
    "model = DecisionTreeClassifier(random_state=0)\n",
    "model.fit(X_train, y_train)\n",
    "y_test_pred = model.predict(X_test)\n",
    "print(y_test_pred)"
   ]
  },
  {
   "cell_type": "code",
   "execution_count": 16,
   "metadata": {},
   "outputs": [
    {
     "output_type": "execute_result",
     "data": {
      "text/plain": [
       "      y_test  y_pred\n",
       "438      1.0     1.0\n",
       "696      1.0     1.0\n",
       "883      1.0     1.0\n",
       "1056     0.0     0.0\n",
       "605      1.0     1.0"
      ],
      "text/html": "<div>\n<style scoped>\n    .dataframe tbody tr th:only-of-type {\n        vertical-align: middle;\n    }\n\n    .dataframe tbody tr th {\n        vertical-align: top;\n    }\n\n    .dataframe thead th {\n        text-align: right;\n    }\n</style>\n<table border=\"1\" class=\"dataframe\">\n  <thead>\n    <tr style=\"text-align: right;\">\n      <th></th>\n      <th>y_test</th>\n      <th>y_pred</th>\n    </tr>\n  </thead>\n  <tbody>\n    <tr>\n      <th>438</th>\n      <td>1.0</td>\n      <td>1.0</td>\n    </tr>\n    <tr>\n      <th>696</th>\n      <td>1.0</td>\n      <td>1.0</td>\n    </tr>\n    <tr>\n      <th>883</th>\n      <td>1.0</td>\n      <td>1.0</td>\n    </tr>\n    <tr>\n      <th>1056</th>\n      <td>0.0</td>\n      <td>0.0</td>\n    </tr>\n    <tr>\n      <th>605</th>\n      <td>1.0</td>\n      <td>1.0</td>\n    </tr>\n  </tbody>\n</table>\n</div>"
     },
     "metadata": {},
     "execution_count": 16
    }
   ],
   "source": [
    "result_test = pd.DataFrame({\"y_test\":y_test, \"y_pred\":y_test_pred})\n",
    "result_test.head()"
   ]
  }
 ]
}