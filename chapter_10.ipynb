{
 "metadata": {
  "language_info": {
   "codemirror_mode": {
    "name": "ipython",
    "version": 3
   },
   "file_extension": ".py",
   "mimetype": "text/x-python",
   "name": "python",
   "nbconvert_exporter": "python",
   "pygments_lexer": "ipython3",
   "version": "3.6.9-final"
  },
  "orig_nbformat": 2,
  "kernelspec": {
   "name": "python3",
   "display_name": "Python 3",
   "language": "python"
  }
 },
 "nbformat": 4,
 "nbformat_minor": 2,
 "cells": [
  {
   "source": [
    "# 10章 アンケート分析を行うための言語処理１０本ノック"
   ],
   "cell_type": "markdown",
   "metadata": {}
  },
  {
   "cell_type": "code",
   "execution_count": 1,
   "metadata": {},
   "outputs": [],
   "source": [
    "# 下準備として，データのあるディレクトリに移動しておく\n",
    "import os\n",
    "\n",
    "DATA_ROOT_DIR = \"./sample/10章/\"\n",
    "os.chdir(DATA_ROOT_DIR)"
   ]
  },
  {
   "source": [
    "## ノック91 データを読み込んで把握しよう\n",
    "まずはデータの全体像を把握する．"
   ],
   "cell_type": "markdown",
   "metadata": {}
  },
  {
   "cell_type": "code",
   "execution_count": 2,
   "metadata": {},
   "outputs": [
    {
     "output_type": "stream",
     "name": "stdout",
     "text": [
      "86\n"
     ]
    },
    {
     "output_type": "execute_result",
     "data": {
      "text/plain": [
       "    datetime            comment  satisfaction\n",
       "0  2019/3/11  駅前に若者が集まっている(AA駅)             1\n",
       "1  2019/2/25   スポーツできる場所があるのが良い             5\n",
       "2  2019/2/18          子育て支援が嬉しい             5\n",
       "3   2019/4/9    保育園に入れる（待機児童なし）             4\n",
       "4   2019/1/6          駅前商店街が寂しい             2"
      ],
      "text/html": "<div>\n<style scoped>\n    .dataframe tbody tr th:only-of-type {\n        vertical-align: middle;\n    }\n\n    .dataframe tbody tr th {\n        vertical-align: top;\n    }\n\n    .dataframe thead th {\n        text-align: right;\n    }\n</style>\n<table border=\"1\" class=\"dataframe\">\n  <thead>\n    <tr style=\"text-align: right;\">\n      <th></th>\n      <th>datetime</th>\n      <th>comment</th>\n      <th>satisfaction</th>\n    </tr>\n  </thead>\n  <tbody>\n    <tr>\n      <th>0</th>\n      <td>2019/3/11</td>\n      <td>駅前に若者が集まっている(AA駅)</td>\n      <td>1</td>\n    </tr>\n    <tr>\n      <th>1</th>\n      <td>2019/2/25</td>\n      <td>スポーツできる場所があるのが良い</td>\n      <td>5</td>\n    </tr>\n    <tr>\n      <th>2</th>\n      <td>2019/2/18</td>\n      <td>子育て支援が嬉しい</td>\n      <td>5</td>\n    </tr>\n    <tr>\n      <th>3</th>\n      <td>2019/4/9</td>\n      <td>保育園に入れる（待機児童なし）</td>\n      <td>4</td>\n    </tr>\n    <tr>\n      <th>4</th>\n      <td>2019/1/6</td>\n      <td>駅前商店街が寂しい</td>\n      <td>2</td>\n    </tr>\n  </tbody>\n</table>\n</div>"
     },
     "metadata": {},
     "execution_count": 2
    }
   ],
   "source": [
    "import pandas as pd\n",
    "survey = pd.read_csv(\"survey.csv\")\n",
    "print(len(survey))\n",
    "survey.head()"
   ]
  },
  {
   "cell_type": "code",
   "execution_count": 3,
   "metadata": {},
   "outputs": [
    {
     "output_type": "execute_result",
     "data": {
      "text/plain": [
       "datetime        0\n",
       "comment         2\n",
       "satisfaction    0\n",
       "dtype: int64"
      ]
     },
     "metadata": {},
     "execution_count": 3
    }
   ],
   "source": [
    "survey.isna().sum()"
   ]
  },
  {
   "cell_type": "code",
   "execution_count": 4,
   "metadata": {},
   "outputs": [
    {
     "output_type": "execute_result",
     "data": {
      "text/plain": [
       "datetime        0\n",
       "comment         0\n",
       "satisfaction    0\n",
       "dtype: int64"
      ]
     },
     "metadata": {},
     "execution_count": 4
    }
   ],
   "source": [
    "survey = survey.dropna()\n",
    "survey.isna().sum()"
   ]
  },
  {
   "source": [
    "## ノック92 不要な文字を除外してみよう\n",
    "前処理として，正規表現を用いて不要な文字を除去する．"
   ],
   "cell_type": "markdown",
   "metadata": {}
  },
  {
   "cell_type": "code",
   "execution_count": 5,
   "metadata": {},
   "outputs": [
    {
     "output_type": "execute_result",
     "data": {
      "text/plain": [
       "    datetime           comment  satisfaction\n",
       "0  2019/3/11   駅前に若者が集まっている(駅)             1\n",
       "1  2019/2/25  スポーツできる場所があるのが良い             5\n",
       "2  2019/2/18         子育て支援が嬉しい             5\n",
       "3   2019/4/9   保育園に入れる（待機児童なし）             4\n",
       "4   2019/1/6         駅前商店街が寂しい             2"
      ],
      "text/html": "<div>\n<style scoped>\n    .dataframe tbody tr th:only-of-type {\n        vertical-align: middle;\n    }\n\n    .dataframe tbody tr th {\n        vertical-align: top;\n    }\n\n    .dataframe thead th {\n        text-align: right;\n    }\n</style>\n<table border=\"1\" class=\"dataframe\">\n  <thead>\n    <tr style=\"text-align: right;\">\n      <th></th>\n      <th>datetime</th>\n      <th>comment</th>\n      <th>satisfaction</th>\n    </tr>\n  </thead>\n  <tbody>\n    <tr>\n      <th>0</th>\n      <td>2019/3/11</td>\n      <td>駅前に若者が集まっている(駅)</td>\n      <td>1</td>\n    </tr>\n    <tr>\n      <th>1</th>\n      <td>2019/2/25</td>\n      <td>スポーツできる場所があるのが良い</td>\n      <td>5</td>\n    </tr>\n    <tr>\n      <th>2</th>\n      <td>2019/2/18</td>\n      <td>子育て支援が嬉しい</td>\n      <td>5</td>\n    </tr>\n    <tr>\n      <th>3</th>\n      <td>2019/4/9</td>\n      <td>保育園に入れる（待機児童なし）</td>\n      <td>4</td>\n    </tr>\n    <tr>\n      <th>4</th>\n      <td>2019/1/6</td>\n      <td>駅前商店街が寂しい</td>\n      <td>2</td>\n    </tr>\n  </tbody>\n</table>\n</div>"
     },
     "metadata": {},
     "execution_count": 5
    }
   ],
   "source": [
    "survey[\"comment\"] = survey[\"comment\"].str.replace(\"AA\", \"\")\n",
    "survey.head()"
   ]
  },
  {
   "cell_type": "code",
   "execution_count": 6,
   "metadata": {},
   "outputs": [
    {
     "output_type": "execute_result",
     "data": {
      "text/plain": [
       "    datetime           comment  satisfaction\n",
       "0  2019/3/11      駅前に若者が集まっている             1\n",
       "1  2019/2/25  スポーツできる場所があるのが良い             5\n",
       "2  2019/2/18         子育て支援が嬉しい             5\n",
       "3   2019/4/9   保育園に入れる（待機児童なし）             4\n",
       "4   2019/1/6         駅前商店街が寂しい             2"
      ],
      "text/html": "<div>\n<style scoped>\n    .dataframe tbody tr th:only-of-type {\n        vertical-align: middle;\n    }\n\n    .dataframe tbody tr th {\n        vertical-align: top;\n    }\n\n    .dataframe thead th {\n        text-align: right;\n    }\n</style>\n<table border=\"1\" class=\"dataframe\">\n  <thead>\n    <tr style=\"text-align: right;\">\n      <th></th>\n      <th>datetime</th>\n      <th>comment</th>\n      <th>satisfaction</th>\n    </tr>\n  </thead>\n  <tbody>\n    <tr>\n      <th>0</th>\n      <td>2019/3/11</td>\n      <td>駅前に若者が集まっている</td>\n      <td>1</td>\n    </tr>\n    <tr>\n      <th>1</th>\n      <td>2019/2/25</td>\n      <td>スポーツできる場所があるのが良い</td>\n      <td>5</td>\n    </tr>\n    <tr>\n      <th>2</th>\n      <td>2019/2/18</td>\n      <td>子育て支援が嬉しい</td>\n      <td>5</td>\n    </tr>\n    <tr>\n      <th>3</th>\n      <td>2019/4/9</td>\n      <td>保育園に入れる（待機児童なし）</td>\n      <td>4</td>\n    </tr>\n    <tr>\n      <th>4</th>\n      <td>2019/1/6</td>\n      <td>駅前商店街が寂しい</td>\n      <td>2</td>\n    </tr>\n  </tbody>\n</table>\n</div>"
     },
     "metadata": {},
     "execution_count": 6
    }
   ],
   "source": [
    "# 半角括弧で囲まれた文字の除去\n",
    "survey[\"comment\"] = survey[\"comment\"].str.replace(\"\\(.+?\\)\", \"\", regex=True)\n",
    "survey.head()"
   ]
  },
  {
   "cell_type": "code",
   "execution_count": 7,
   "metadata": {},
   "outputs": [
    {
     "output_type": "execute_result",
     "data": {
      "text/plain": [
       "    datetime           comment  satisfaction\n",
       "0  2019/3/11      駅前に若者が集まっている             1\n",
       "1  2019/2/25  スポーツできる場所があるのが良い             5\n",
       "2  2019/2/18         子育て支援が嬉しい             5\n",
       "3   2019/4/9           保育園に入れる             4\n",
       "4   2019/1/6         駅前商店街が寂しい             2"
      ],
      "text/html": "<div>\n<style scoped>\n    .dataframe tbody tr th:only-of-type {\n        vertical-align: middle;\n    }\n\n    .dataframe tbody tr th {\n        vertical-align: top;\n    }\n\n    .dataframe thead th {\n        text-align: right;\n    }\n</style>\n<table border=\"1\" class=\"dataframe\">\n  <thead>\n    <tr style=\"text-align: right;\">\n      <th></th>\n      <th>datetime</th>\n      <th>comment</th>\n      <th>satisfaction</th>\n    </tr>\n  </thead>\n  <tbody>\n    <tr>\n      <th>0</th>\n      <td>2019/3/11</td>\n      <td>駅前に若者が集まっている</td>\n      <td>1</td>\n    </tr>\n    <tr>\n      <th>1</th>\n      <td>2019/2/25</td>\n      <td>スポーツできる場所があるのが良い</td>\n      <td>5</td>\n    </tr>\n    <tr>\n      <th>2</th>\n      <td>2019/2/18</td>\n      <td>子育て支援が嬉しい</td>\n      <td>5</td>\n    </tr>\n    <tr>\n      <th>3</th>\n      <td>2019/4/9</td>\n      <td>保育園に入れる</td>\n      <td>4</td>\n    </tr>\n    <tr>\n      <th>4</th>\n      <td>2019/1/6</td>\n      <td>駅前商店街が寂しい</td>\n      <td>2</td>\n    </tr>\n  </tbody>\n</table>\n</div>"
     },
     "metadata": {},
     "execution_count": 7
    }
   ],
   "source": [
    "# 全角括弧で囲まれた文字の除去\n",
    "survey[\"comment\"] = survey[\"comment\"].str.replace(\"\\（.+?\\）\", \"\", regex=True)\n",
    "survey.head()"
   ]
  },
  {
   "source": [
    "## ノック93 文字数をカウントしてヒストグラムを表示してみよう\n",
    "簡単な統計的処理を行う．"
   ],
   "cell_type": "markdown",
   "metadata": {}
  },
  {
   "cell_type": "code",
   "execution_count": 8,
   "metadata": {},
   "outputs": [
    {
     "output_type": "execute_result",
     "data": {
      "text/plain": [
       "    datetime           comment  satisfaction  length\n",
       "0  2019/3/11      駅前に若者が集まっている             1      12\n",
       "1  2019/2/25  スポーツできる場所があるのが良い             5      16\n",
       "2  2019/2/18         子育て支援が嬉しい             5       9\n",
       "3   2019/4/9           保育園に入れる             4       7\n",
       "4   2019/1/6         駅前商店街が寂しい             2       9"
      ],
      "text/html": "<div>\n<style scoped>\n    .dataframe tbody tr th:only-of-type {\n        vertical-align: middle;\n    }\n\n    .dataframe tbody tr th {\n        vertical-align: top;\n    }\n\n    .dataframe thead th {\n        text-align: right;\n    }\n</style>\n<table border=\"1\" class=\"dataframe\">\n  <thead>\n    <tr style=\"text-align: right;\">\n      <th></th>\n      <th>datetime</th>\n      <th>comment</th>\n      <th>satisfaction</th>\n      <th>length</th>\n    </tr>\n  </thead>\n  <tbody>\n    <tr>\n      <th>0</th>\n      <td>2019/3/11</td>\n      <td>駅前に若者が集まっている</td>\n      <td>1</td>\n      <td>12</td>\n    </tr>\n    <tr>\n      <th>1</th>\n      <td>2019/2/25</td>\n      <td>スポーツできる場所があるのが良い</td>\n      <td>5</td>\n      <td>16</td>\n    </tr>\n    <tr>\n      <th>2</th>\n      <td>2019/2/18</td>\n      <td>子育て支援が嬉しい</td>\n      <td>5</td>\n      <td>9</td>\n    </tr>\n    <tr>\n      <th>3</th>\n      <td>2019/4/9</td>\n      <td>保育園に入れる</td>\n      <td>4</td>\n      <td>7</td>\n    </tr>\n    <tr>\n      <th>4</th>\n      <td>2019/1/6</td>\n      <td>駅前商店街が寂しい</td>\n      <td>2</td>\n      <td>9</td>\n    </tr>\n  </tbody>\n</table>\n</div>"
     },
     "metadata": {},
     "execution_count": 8
    }
   ],
   "source": [
    "survey[\"length\"] = survey[\"comment\"].str.len()\n",
    "survey.head()"
   ]
  },
  {
   "cell_type": "code",
   "execution_count": 9,
   "metadata": {},
   "outputs": [],
   "source": [
    "import matplotlib.pyplot as plt\n",
    "%matplotlib inline\n",
    "from IPython.display import clear_output\n",
    "plt.hist(survey[\"length\"])\n",
    "plt.show()\n",
    "\n",
    "clear_output()\n",
    "\n"
   ]
  },
  {
   "source": [
    "## ノック94 形態素解析で文章を分割してみよう\n",
    "文章の分かち書きを行う．\n"
   ],
   "cell_type": "markdown",
   "metadata": {}
  },
  {
   "cell_type": "code",
   "execution_count": 10,
   "metadata": {},
   "outputs": [
    {
     "output_type": "execute_result",
     "data": {
      "text/plain": [
       "'すもも\\tスモモ\\tスモモ\\t李\\t名詞-普通名詞-一般\\t\\t\\t0\\nも\\tモ\\tモ\\tも\\t助詞-係助詞\\t\\t\\t\\nもも\\tモモ\\tモモ\\t桃\\t名詞-普通名詞-一般\\t\\t\\t0\\nも\\tモ\\tモ\\tも\\t助詞-係助詞\\t\\t\\t\\nもも\\tモモ\\tモモ\\t桃\\t名詞-普通名詞-一般\\t\\t\\t0\\nの\\tノ\\tノ\\tの\\t助詞-格助詞\\t\\t\\t\\nうち\\tウチ\\tウチ\\t内\\t名詞-普通名詞-副詞可能\\t\\t\\t0\\nEOS\\n'"
      ]
     },
     "metadata": {},
     "execution_count": 10
    }
   ],
   "source": [
    "import MeCab\n",
    "tagger = MeCab.Tagger()\n",
    "text = \"すもももももももものうち\"\n",
    "words = tagger.parse(text)\n",
    "words"
   ]
  },
  {
   "cell_type": "code",
   "execution_count": 11,
   "metadata": {},
   "outputs": [
    {
     "output_type": "execute_result",
     "data": {
      "text/plain": [
       "['すもも', 'も', 'もも', 'も', 'もも', 'の', 'うち']"
      ]
     },
     "metadata": {},
     "execution_count": 11
    }
   ],
   "source": [
    "words = tagger.parse(text).splitlines()\n",
    "words_arr = []\n",
    "for i in words:\n",
    "    if i == 'EOS': continue\n",
    "    word_tmp = i.split()[0]\n",
    "    words_arr.append(word_tmp)\n",
    "words_arr"
   ]
  },
  {
   "source": [
    "## ノック95：形態素解析で文章から「動詞・名詞」を抽出してみよう\n",
    "品詞を選択して抽出する．"
   ],
   "cell_type": "markdown",
   "metadata": {}
  },
  {
   "cell_type": "code",
   "execution_count": 12,
   "metadata": {},
   "outputs": [
    {
     "output_type": "stream",
     "name": "stdout",
     "text": [
      "すもも\tスモモ\tスモモ\t李\t名詞-普通名詞-一般\t\t\t0\nも\tモ\tモ\tも\t助詞-係助詞\t\t\t\nもも\tモモ\tモモ\t桃\t名詞-普通名詞-一般\t\t\t0\nも\tモ\tモ\tも\t助詞-係助詞\t\t\t\nもも\tモモ\tモモ\t桃\t名詞-普通名詞-一般\t\t\t0\nの\tノ\tノ\tの\t助詞-格助詞\t\t\t\nうち\tウチ\tウチ\t内\t名詞-普通名詞-副詞可能\t\t\t0\n"
     ]
    },
    {
     "output_type": "execute_result",
     "data": {
      "text/plain": [
       "[]"
      ]
     },
     "metadata": {},
     "execution_count": 12
    }
   ],
   "source": [
    "text = \"すもももももももものうち\"\n",
    "words = tagger.parse(text).splitlines()\n",
    "words_arr = []\n",
    "parts = [\"名詞\", \"動詞\"]\n",
    "words = tagger.parse(text).splitlines()\n",
    "words_arr = []\n",
    "for i in words:\n",
    "    if i == 'EOS' or i == '': continue\n",
    "    word_tmp = i.split()[0]\n",
    "    part = i.split()[3].split(\"-\")[0]\n",
    "    print(i)\n",
    "    if not (part in parts):continue\n",
    "    words_arr.append(word_tmp)\n",
    "words_arr"
   ]
  },
  {
   "source": [
    "## ノック96 形態素解析で抽出した頻出する名詞を確認してみよう\n",
    "単語の頻度を調べる．"
   ],
   "cell_type": "markdown",
   "metadata": {}
  },
  {
   "cell_type": "code",
   "execution_count": 13,
   "metadata": {
    "tags": []
   },
   "outputs": [
    {
     "output_type": "stream",
     "name": "stdout",
     "text": [
      "['駅前', '若者', 'スポーツ', '場所', '子育て', '支援', '保育', '駅前', '商店', '生活', '便利', '場所', '場所', '商業', '施設', '病院', '充実', 'サイクリング', 'コース', '祭り', '学校', '公園', '近く', '公園', 'スーパー', '子育て', 'デート', 'スポット', '商店', '夜道', 'ゴミ', '処理', '楽', '映画', '街路', '公園', '追加', '観光', 'スポット', '子育て', '道', '都内', 'アクセス', '家賃', 'BBB', '渋滞', '商店', '屋根', '雨', '商店', '喫茶', 'スポーツ', 'ジム', '利用', 'スポーツ', 'ジム', '利用', '料金', 'ママ', '支援', 'バス', '自転', 'ランニング', '運動', '場所', '企業', '駅前', '駐車', '変', 'おじ', '声', '事', '警察', '巡回', '強化', '消防', '安心', '災害', '時', '避難', '場所', '気', '最近', '川', '氾濫', '被害', '町', '氾濫', '防止', '説明', '信号', '交差', '点', 'ｘｘｘ', '事故', '信号', '商店', '活性', '活動', '行政', '後押し', '子ども', '安全', '場所', '駅前', '駐輪', '不便', '街路', '落ち葉', '掃除', '街路', '災害', '時', '備蓄', '状況', '歩道', '道', '安心', '地域', '自治', '体', '支援', '自治', '体', '活動', '安心', '観光', '地', '最近', '他県', 'ナンバー', '車', '防犯', '駐車', '数', '料金', '駅前', '公共', '駐車', '歩行', '信号', '老人', '子供', '事', '設定', '急行', '都内', 'バス', '路線', '春', '桜', '並木', '最高', '桜', '並木', '隣町', 'ごみ', '処理', '施設', '心配', '公害', '市長', '活気', 'アンケート', '確認', '街づくり', '反映', '姿勢', '先月', '職員', '不正', '事件', '詳細', '説明', '役所', '担当', '愛想', '気', '役所', '出張', '駅前', '役所', '土日', '災害', '時', '避難', '経路', '表示', '市', 'ホーム', 'ページ', '役所', '電話', '対応', '路地', '街頭', '動物', '冬場', '路面', '凍結', '事故', '対応', '自然', '野良猫', '糞害', '行政', '野良猫', '対策', '役所', '相談', 'とき', '対応', '高速', '道路', '道', '渋滞', '拡幅', 'まち', 'マスコット', '夜間', '対応', '病院', '不安', '高齢', 'サポート', '施設', '学校', '校庭', '芝生', 'ホーム', 'ページ', 'アンケート', '投稿', '公園', '道具', '公園', '駅前', '駐車', '不便']\n"
     ]
    }
   ],
   "source": [
    "all_words = []\n",
    "parts = [\"名詞\"]\n",
    "for n in range(len(survey)):\n",
    "    text = survey[\"comment\"].iloc[n]\n",
    "    words = tagger.parse(text).splitlines()\n",
    "    words_arr = []\n",
    "    for i in words:\n",
    "        if i == \"EOS\" or i == \"\": continue\n",
    "        word_tmp = i.split()[0]\n",
    "        part = i.split(\"\\t\")[4].split(\"-\")[0]\n",
    "        if not (part in parts):continue\n",
    "        words_arr.append(word_tmp)\n",
    "    all_words.extend(words_arr)\n",
    "print(all_words)"
   ]
  },
  {
   "cell_type": "code",
   "execution_count": 14,
   "metadata": {},
   "outputs": [
    {
     "output_type": "execute_result",
     "data": {
      "text/plain": [
       "       count\n",
       "words       \n",
       "駅前         7\n",
       "場所         6\n",
       "商店         5\n",
       "公園         5\n",
       "役所         5"
      ],
      "text/html": "<div>\n<style scoped>\n    .dataframe tbody tr th:only-of-type {\n        vertical-align: middle;\n    }\n\n    .dataframe tbody tr th {\n        vertical-align: top;\n    }\n\n    .dataframe thead th {\n        text-align: right;\n    }\n</style>\n<table border=\"1\" class=\"dataframe\">\n  <thead>\n    <tr style=\"text-align: right;\">\n      <th></th>\n      <th>count</th>\n    </tr>\n    <tr>\n      <th>words</th>\n      <th></th>\n    </tr>\n  </thead>\n  <tbody>\n    <tr>\n      <th>駅前</th>\n      <td>7</td>\n    </tr>\n    <tr>\n      <th>場所</th>\n      <td>6</td>\n    </tr>\n    <tr>\n      <th>商店</th>\n      <td>5</td>\n    </tr>\n    <tr>\n      <th>公園</th>\n      <td>5</td>\n    </tr>\n    <tr>\n      <th>役所</th>\n      <td>5</td>\n    </tr>\n  </tbody>\n</table>\n</div>"
     },
     "metadata": {},
     "execution_count": 14
    }
   ],
   "source": [
    "all_words_df = pd.DataFrame({\"words\":all_words, \"count\":len(all_words)*[1]})\n",
    "all_words_df = all_words_df.groupby(\"words\").sum()\n",
    "all_words_df.sort_values(\"count\",ascending=False).head()"
   ]
  },
  {
   "source": [
    "## ノック97 関係のない単語を除去しよう\n",
    "分析の邪魔になる単語をストップワードとして設定し，除去する．"
   ],
   "cell_type": "markdown",
   "metadata": {}
  },
  {
   "cell_type": "code",
   "execution_count": 15,
   "metadata": {},
   "outputs": [
    {
     "output_type": "stream",
     "name": "stdout",
     "text": [
      "['駅前', '若者', 'スポーツ', '子育て', '支援', '保育', '駅前', '商店', '生活', '便利', '商業', '施設', '病院', '充実', 'サイクリング', 'コース', '祭り', '学校', '公園', '近く', '公園', 'スーパー', '子育て', 'デート', 'スポット', '商店', '夜道', 'ゴミ', '処理', '楽', '映画', '街路', '公園', '追加', '観光', 'スポット', '子育て', '道', '都内', 'アクセス', '家賃', 'BBB', '渋滞', '商店', '屋根', '雨', '商店', '喫茶', 'スポーツ', 'ジム', '利用', 'スポーツ', 'ジム', '利用', '料金', 'ママ', '支援', 'バス', '自転', 'ランニング', '運動', '企業', '駅前', '駐車', '変', 'おじ', '声', '事', '警察', '巡回', '強化', '消防', '安心', '災害', '時', '避難', '気', '最近', '川', '氾濫', '被害', '町', '氾濫', '防止', '説明', '信号', '交差', '点', 'ｘｘｘ', '事故', '信号', '商店', '活性', '活動', '行政', '後押し', '子ども', '安全', '駅前', '駐輪', '不便', '街路', '落ち葉', '掃除', '街路', '災害', '時', '備蓄', '状況', '歩道', '道', '安心', '地域', '自治', '体', '支援', '自治', '体', '活動', '安心', '観光', '地', '最近', '他県', 'ナンバー', '車', '防犯', '駐車', '数', '料金', '駅前', '公共', '駐車', '歩行', '信号', '老人', '子供', '事', '設定', '急行', '都内', 'バス', '路線', '春', '桜', '並木', '最高', '桜', '並木', '隣町', 'ごみ', '処理', '施設', '心配', '公害', '市長', '活気', 'アンケート', '確認', '街づくり', '反映', '姿勢', '先月', '職員', '不正', '事件', '詳細', '説明', '役所', '担当', '愛想', '気', '役所', '出張', '駅前', '役所', '土日', '災害', '時', '避難', '経路', '表示', '市', 'ホーム', 'ページ', '役所', '電話', '対応', '路地', '街頭', '動物', '冬場', '路面', '凍結', '事故', '対応', '自然', '野良猫', '糞害', '行政', '野良猫', '対策', '役所', '相談', 'とき', '対応', '高速', '道路', '道', '渋滞', '拡幅', 'まち', 'マスコット', '夜間', '対応', '病院', '不安', '高齢', 'サポート', '施設', '学校', '校庭', '芝生', 'ホーム', 'ページ', 'アンケート', '投稿', '公園', '道具', '公園', '駅前', '駐車', '不便']\n"
     ]
    }
   ],
   "source": [
    "stop_words = [\"場所\"]\n",
    "all_words = []\n",
    "parts = [\"名詞\"]\n",
    "for n in range(len(survey)):\n",
    "    text = survey[\"comment\"].iloc[n]\n",
    "    words = tagger.parse(text).splitlines()\n",
    "    words_arr = []\n",
    "    for i in words:\n",
    "        if i == \"EOS\" or i == \"\": continue\n",
    "        word_tmp = i.split()[0]\n",
    "        part = i.split(\"\\t\")[4].split(\"-\")[0]\n",
    "        if not (part in parts):continue\n",
    "        if word_tmp in stop_words:continue\n",
    "        words_arr.append(word_tmp)\n",
    "    all_words.extend(words_arr)\n",
    "print(all_words)"
   ]
  },
  {
   "cell_type": "code",
   "execution_count": 16,
   "metadata": {},
   "outputs": [
    {
     "output_type": "execute_result",
     "data": {
      "text/plain": [
       "       count\n",
       "words       \n",
       "駅前         7\n",
       "役所         5\n",
       "公園         5\n",
       "商店         5\n",
       "対応         4"
      ],
      "text/html": "<div>\n<style scoped>\n    .dataframe tbody tr th:only-of-type {\n        vertical-align: middle;\n    }\n\n    .dataframe tbody tr th {\n        vertical-align: top;\n    }\n\n    .dataframe thead th {\n        text-align: right;\n    }\n</style>\n<table border=\"1\" class=\"dataframe\">\n  <thead>\n    <tr style=\"text-align: right;\">\n      <th></th>\n      <th>count</th>\n    </tr>\n    <tr>\n      <th>words</th>\n      <th></th>\n    </tr>\n  </thead>\n  <tbody>\n    <tr>\n      <th>駅前</th>\n      <td>7</td>\n    </tr>\n    <tr>\n      <th>役所</th>\n      <td>5</td>\n    </tr>\n    <tr>\n      <th>公園</th>\n      <td>5</td>\n    </tr>\n    <tr>\n      <th>商店</th>\n      <td>5</td>\n    </tr>\n    <tr>\n      <th>対応</th>\n      <td>4</td>\n    </tr>\n  </tbody>\n</table>\n</div>"
     },
     "metadata": {},
     "execution_count": 16
    }
   ],
   "source": [
    "all_words_df = pd.DataFrame({\"words\":all_words, \"count\":len(all_words)*[1]})\n",
    "all_words_df = all_words_df.groupby(\"words\").sum()\n",
    "all_words_df.sort_values(\"count\",ascending=False).head()"
   ]
  }
 ]
}