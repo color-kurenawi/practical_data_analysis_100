{
 "metadata": {
  "language_info": {
   "codemirror_mode": {
    "name": "ipython",
    "version": 3
   },
   "file_extension": ".py",
   "mimetype": "text/x-python",
   "name": "python",
   "nbconvert_exporter": "python",
   "pygments_lexer": "ipython3",
   "version": "3.6.9-final"
  },
  "orig_nbformat": 2,
  "kernelspec": {
   "name": "python3",
   "display_name": "Python 3",
   "language": "python"
  }
 },
 "nbformat": 4,
 "nbformat_minor": 2,
 "cells": [
  {
   "source": [
    "# 10章 アンケート分析を行うための言語処理１０本ノック"
   ],
   "cell_type": "markdown",
   "metadata": {}
  },
  {
   "cell_type": "code",
   "execution_count": 1,
   "metadata": {},
   "outputs": [],
   "source": [
    "# 下準備として，データのあるディレクトリに移動しておく\n",
    "import os\n",
    "\n",
    "DATA_ROOT_DIR = \"./sample/10章/\"\n",
    "os.chdir(DATA_ROOT_DIR)"
   ]
  },
  {
   "source": [
    "## ノック91 データを読み込んで把握しよう\n",
    "まずはデータの全体像を把握する．"
   ],
   "cell_type": "markdown",
   "metadata": {}
  },
  {
   "cell_type": "code",
   "execution_count": 2,
   "metadata": {},
   "outputs": [
    {
     "output_type": "stream",
     "name": "stdout",
     "text": [
      "86\n"
     ]
    },
    {
     "output_type": "execute_result",
     "data": {
      "text/plain": [
       "    datetime            comment  satisfaction\n",
       "0  2019/3/11  駅前に若者が集まっている(AA駅)             1\n",
       "1  2019/2/25   スポーツできる場所があるのが良い             5\n",
       "2  2019/2/18          子育て支援が嬉しい             5\n",
       "3   2019/4/9    保育園に入れる（待機児童なし）             4\n",
       "4   2019/1/6          駅前商店街が寂しい             2"
      ],
      "text/html": "<div>\n<style scoped>\n    .dataframe tbody tr th:only-of-type {\n        vertical-align: middle;\n    }\n\n    .dataframe tbody tr th {\n        vertical-align: top;\n    }\n\n    .dataframe thead th {\n        text-align: right;\n    }\n</style>\n<table border=\"1\" class=\"dataframe\">\n  <thead>\n    <tr style=\"text-align: right;\">\n      <th></th>\n      <th>datetime</th>\n      <th>comment</th>\n      <th>satisfaction</th>\n    </tr>\n  </thead>\n  <tbody>\n    <tr>\n      <th>0</th>\n      <td>2019/3/11</td>\n      <td>駅前に若者が集まっている(AA駅)</td>\n      <td>1</td>\n    </tr>\n    <tr>\n      <th>1</th>\n      <td>2019/2/25</td>\n      <td>スポーツできる場所があるのが良い</td>\n      <td>5</td>\n    </tr>\n    <tr>\n      <th>2</th>\n      <td>2019/2/18</td>\n      <td>子育て支援が嬉しい</td>\n      <td>5</td>\n    </tr>\n    <tr>\n      <th>3</th>\n      <td>2019/4/9</td>\n      <td>保育園に入れる（待機児童なし）</td>\n      <td>4</td>\n    </tr>\n    <tr>\n      <th>4</th>\n      <td>2019/1/6</td>\n      <td>駅前商店街が寂しい</td>\n      <td>2</td>\n    </tr>\n  </tbody>\n</table>\n</div>"
     },
     "metadata": {},
     "execution_count": 2
    }
   ],
   "source": [
    "import pandas as pd\n",
    "survey = pd.read_csv(\"survey.csv\")\n",
    "print(len(survey))\n",
    "survey.head()"
   ]
  },
  {
   "cell_type": "code",
   "execution_count": 3,
   "metadata": {},
   "outputs": [
    {
     "output_type": "execute_result",
     "data": {
      "text/plain": [
       "datetime        0\n",
       "comment         2\n",
       "satisfaction    0\n",
       "dtype: int64"
      ]
     },
     "metadata": {},
     "execution_count": 3
    }
   ],
   "source": [
    "survey.isna().sum()"
   ]
  },
  {
   "cell_type": "code",
   "execution_count": 4,
   "metadata": {},
   "outputs": [
    {
     "output_type": "execute_result",
     "data": {
      "text/plain": [
       "datetime        0\n",
       "comment         0\n",
       "satisfaction    0\n",
       "dtype: int64"
      ]
     },
     "metadata": {},
     "execution_count": 4
    }
   ],
   "source": [
    "survey = survey.dropna()\n",
    "survey.isna().sum()"
   ]
  },
  {
   "source": [
    "## ノック92 不要な文字を除外してみよう\n",
    "前処理として，正規表現を用いて不要な文字を除去する．"
   ],
   "cell_type": "markdown",
   "metadata": {}
  },
  {
   "cell_type": "code",
   "execution_count": 5,
   "metadata": {},
   "outputs": [
    {
     "output_type": "execute_result",
     "data": {
      "text/plain": [
       "    datetime           comment  satisfaction\n",
       "0  2019/3/11   駅前に若者が集まっている(駅)             1\n",
       "1  2019/2/25  スポーツできる場所があるのが良い             5\n",
       "2  2019/2/18         子育て支援が嬉しい             5\n",
       "3   2019/4/9   保育園に入れる（待機児童なし）             4\n",
       "4   2019/1/6         駅前商店街が寂しい             2"
      ],
      "text/html": "<div>\n<style scoped>\n    .dataframe tbody tr th:only-of-type {\n        vertical-align: middle;\n    }\n\n    .dataframe tbody tr th {\n        vertical-align: top;\n    }\n\n    .dataframe thead th {\n        text-align: right;\n    }\n</style>\n<table border=\"1\" class=\"dataframe\">\n  <thead>\n    <tr style=\"text-align: right;\">\n      <th></th>\n      <th>datetime</th>\n      <th>comment</th>\n      <th>satisfaction</th>\n    </tr>\n  </thead>\n  <tbody>\n    <tr>\n      <th>0</th>\n      <td>2019/3/11</td>\n      <td>駅前に若者が集まっている(駅)</td>\n      <td>1</td>\n    </tr>\n    <tr>\n      <th>1</th>\n      <td>2019/2/25</td>\n      <td>スポーツできる場所があるのが良い</td>\n      <td>5</td>\n    </tr>\n    <tr>\n      <th>2</th>\n      <td>2019/2/18</td>\n      <td>子育て支援が嬉しい</td>\n      <td>5</td>\n    </tr>\n    <tr>\n      <th>3</th>\n      <td>2019/4/9</td>\n      <td>保育園に入れる（待機児童なし）</td>\n      <td>4</td>\n    </tr>\n    <tr>\n      <th>4</th>\n      <td>2019/1/6</td>\n      <td>駅前商店街が寂しい</td>\n      <td>2</td>\n    </tr>\n  </tbody>\n</table>\n</div>"
     },
     "metadata": {},
     "execution_count": 5
    }
   ],
   "source": [
    "survey[\"comment\"] = survey[\"comment\"].str.replace(\"AA\", \"\")\n",
    "survey.head()"
   ]
  },
  {
   "cell_type": "code",
   "execution_count": 6,
   "metadata": {},
   "outputs": [
    {
     "output_type": "execute_result",
     "data": {
      "text/plain": [
       "    datetime           comment  satisfaction\n",
       "0  2019/3/11      駅前に若者が集まっている             1\n",
       "1  2019/2/25  スポーツできる場所があるのが良い             5\n",
       "2  2019/2/18         子育て支援が嬉しい             5\n",
       "3   2019/4/9   保育園に入れる（待機児童なし）             4\n",
       "4   2019/1/6         駅前商店街が寂しい             2"
      ],
      "text/html": "<div>\n<style scoped>\n    .dataframe tbody tr th:only-of-type {\n        vertical-align: middle;\n    }\n\n    .dataframe tbody tr th {\n        vertical-align: top;\n    }\n\n    .dataframe thead th {\n        text-align: right;\n    }\n</style>\n<table border=\"1\" class=\"dataframe\">\n  <thead>\n    <tr style=\"text-align: right;\">\n      <th></th>\n      <th>datetime</th>\n      <th>comment</th>\n      <th>satisfaction</th>\n    </tr>\n  </thead>\n  <tbody>\n    <tr>\n      <th>0</th>\n      <td>2019/3/11</td>\n      <td>駅前に若者が集まっている</td>\n      <td>1</td>\n    </tr>\n    <tr>\n      <th>1</th>\n      <td>2019/2/25</td>\n      <td>スポーツできる場所があるのが良い</td>\n      <td>5</td>\n    </tr>\n    <tr>\n      <th>2</th>\n      <td>2019/2/18</td>\n      <td>子育て支援が嬉しい</td>\n      <td>5</td>\n    </tr>\n    <tr>\n      <th>3</th>\n      <td>2019/4/9</td>\n      <td>保育園に入れる（待機児童なし）</td>\n      <td>4</td>\n    </tr>\n    <tr>\n      <th>4</th>\n      <td>2019/1/6</td>\n      <td>駅前商店街が寂しい</td>\n      <td>2</td>\n    </tr>\n  </tbody>\n</table>\n</div>"
     },
     "metadata": {},
     "execution_count": 6
    }
   ],
   "source": [
    "# 半角括弧で囲まれた文字の除去\n",
    "survey[\"comment\"] = survey[\"comment\"].str.replace(\"\\(.+?\\)\", \"\", regex=True)\n",
    "survey.head()"
   ]
  },
  {
   "cell_type": "code",
   "execution_count": 7,
   "metadata": {},
   "outputs": [
    {
     "output_type": "execute_result",
     "data": {
      "text/plain": [
       "    datetime           comment  satisfaction\n",
       "0  2019/3/11      駅前に若者が集まっている             1\n",
       "1  2019/2/25  スポーツできる場所があるのが良い             5\n",
       "2  2019/2/18         子育て支援が嬉しい             5\n",
       "3   2019/4/9           保育園に入れる             4\n",
       "4   2019/1/6         駅前商店街が寂しい             2"
      ],
      "text/html": "<div>\n<style scoped>\n    .dataframe tbody tr th:only-of-type {\n        vertical-align: middle;\n    }\n\n    .dataframe tbody tr th {\n        vertical-align: top;\n    }\n\n    .dataframe thead th {\n        text-align: right;\n    }\n</style>\n<table border=\"1\" class=\"dataframe\">\n  <thead>\n    <tr style=\"text-align: right;\">\n      <th></th>\n      <th>datetime</th>\n      <th>comment</th>\n      <th>satisfaction</th>\n    </tr>\n  </thead>\n  <tbody>\n    <tr>\n      <th>0</th>\n      <td>2019/3/11</td>\n      <td>駅前に若者が集まっている</td>\n      <td>1</td>\n    </tr>\n    <tr>\n      <th>1</th>\n      <td>2019/2/25</td>\n      <td>スポーツできる場所があるのが良い</td>\n      <td>5</td>\n    </tr>\n    <tr>\n      <th>2</th>\n      <td>2019/2/18</td>\n      <td>子育て支援が嬉しい</td>\n      <td>5</td>\n    </tr>\n    <tr>\n      <th>3</th>\n      <td>2019/4/9</td>\n      <td>保育園に入れる</td>\n      <td>4</td>\n    </tr>\n    <tr>\n      <th>4</th>\n      <td>2019/1/6</td>\n      <td>駅前商店街が寂しい</td>\n      <td>2</td>\n    </tr>\n  </tbody>\n</table>\n</div>"
     },
     "metadata": {},
     "execution_count": 7
    }
   ],
   "source": [
    "# 全角括弧で囲まれた文字の除去\n",
    "survey[\"comment\"] = survey[\"comment\"].str.replace(\"\\（.+?\\）\", \"\", regex=True)\n",
    "survey.head()"
   ]
  },
  {
   "source": [
    "## ノック93 文字数をカウントしてヒストグラムを表示してみよう\n",
    "簡単な統計的処理を行う．"
   ],
   "cell_type": "markdown",
   "metadata": {}
  },
  {
   "cell_type": "code",
   "execution_count": 8,
   "metadata": {},
   "outputs": [
    {
     "output_type": "execute_result",
     "data": {
      "text/plain": [
       "    datetime           comment  satisfaction  length\n",
       "0  2019/3/11      駅前に若者が集まっている             1      12\n",
       "1  2019/2/25  スポーツできる場所があるのが良い             5      16\n",
       "2  2019/2/18         子育て支援が嬉しい             5       9\n",
       "3   2019/4/9           保育園に入れる             4       7\n",
       "4   2019/1/6         駅前商店街が寂しい             2       9"
      ],
      "text/html": "<div>\n<style scoped>\n    .dataframe tbody tr th:only-of-type {\n        vertical-align: middle;\n    }\n\n    .dataframe tbody tr th {\n        vertical-align: top;\n    }\n\n    .dataframe thead th {\n        text-align: right;\n    }\n</style>\n<table border=\"1\" class=\"dataframe\">\n  <thead>\n    <tr style=\"text-align: right;\">\n      <th></th>\n      <th>datetime</th>\n      <th>comment</th>\n      <th>satisfaction</th>\n      <th>length</th>\n    </tr>\n  </thead>\n  <tbody>\n    <tr>\n      <th>0</th>\n      <td>2019/3/11</td>\n      <td>駅前に若者が集まっている</td>\n      <td>1</td>\n      <td>12</td>\n    </tr>\n    <tr>\n      <th>1</th>\n      <td>2019/2/25</td>\n      <td>スポーツできる場所があるのが良い</td>\n      <td>5</td>\n      <td>16</td>\n    </tr>\n    <tr>\n      <th>2</th>\n      <td>2019/2/18</td>\n      <td>子育て支援が嬉しい</td>\n      <td>5</td>\n      <td>9</td>\n    </tr>\n    <tr>\n      <th>3</th>\n      <td>2019/4/9</td>\n      <td>保育園に入れる</td>\n      <td>4</td>\n      <td>7</td>\n    </tr>\n    <tr>\n      <th>4</th>\n      <td>2019/1/6</td>\n      <td>駅前商店街が寂しい</td>\n      <td>2</td>\n      <td>9</td>\n    </tr>\n  </tbody>\n</table>\n</div>"
     },
     "metadata": {},
     "execution_count": 8
    }
   ],
   "source": [
    "survey[\"length\"] = survey[\"comment\"].str.len()\n",
    "survey.head()"
   ]
  },
  {
   "cell_type": "code",
   "execution_count": 9,
   "metadata": {},
   "outputs": [],
   "source": [
    "import matplotlib.pyplot as plt\n",
    "%matplotlib inline\n",
    "from IPython.display import clear_output\n",
    "plt.hist(survey[\"length\"])\n",
    "plt.show()\n",
    "\n",
    "clear_output()\n",
    "\n"
   ]
  },
  {
   "source": [
    "## ノック94 形態素解析で文章を分割してみよう\n",
    "文章の分かち書きを行う．\n"
   ],
   "cell_type": "markdown",
   "metadata": {}
  },
  {
   "cell_type": "code",
   "execution_count": 10,
   "metadata": {},
   "outputs": [
    {
     "output_type": "execute_result",
     "data": {
      "text/plain": [
       "'すもも\\tスモモ\\tスモモ\\t李\\t名詞-普通名詞-一般\\t\\t\\t0\\nも\\tモ\\tモ\\tも\\t助詞-係助詞\\t\\t\\t\\nもも\\tモモ\\tモモ\\t桃\\t名詞-普通名詞-一般\\t\\t\\t0\\nも\\tモ\\tモ\\tも\\t助詞-係助詞\\t\\t\\t\\nもも\\tモモ\\tモモ\\t桃\\t名詞-普通名詞-一般\\t\\t\\t0\\nの\\tノ\\tノ\\tの\\t助詞-格助詞\\t\\t\\t\\nうち\\tウチ\\tウチ\\t内\\t名詞-普通名詞-副詞可能\\t\\t\\t0\\nEOS\\n'"
      ]
     },
     "metadata": {},
     "execution_count": 10
    }
   ],
   "source": [
    "import MeCab\n",
    "tagger = MeCab.Tagger()\n",
    "text = \"すもももももももものうち\"\n",
    "words = tagger.parse(text)\n",
    "words"
   ]
  },
  {
   "cell_type": "code",
   "execution_count": 11,
   "metadata": {},
   "outputs": [
    {
     "output_type": "execute_result",
     "data": {
      "text/plain": [
       "['すもも', 'も', 'もも', 'も', 'もも', 'の', 'うち']"
      ]
     },
     "metadata": {},
     "execution_count": 11
    }
   ],
   "source": [
    "words = tagger.parse(text).splitlines()\n",
    "words_arr = []\n",
    "for i in words:\n",
    "    if i == 'EOS': continue\n",
    "    word_tmp = i.split()[0]\n",
    "    words_arr.append(word_tmp)\n",
    "words_arr"
   ]
  },
  {
   "source": [
    "## ノック95：形態素解析で文章から「動詞・名詞」を抽出してみよう\n",
    "品詞を選択して抽出する．"
   ],
   "cell_type": "markdown",
   "metadata": {}
  },
  {
   "cell_type": "code",
   "execution_count": 12,
   "metadata": {},
   "outputs": [
    {
     "output_type": "stream",
     "name": "stdout",
     "text": [
      "すもも\tスモモ\tスモモ\t李\t名詞-普通名詞-一般\t\t\t0\nも\tモ\tモ\tも\t助詞-係助詞\t\t\t\nもも\tモモ\tモモ\t桃\t名詞-普通名詞-一般\t\t\t0\nも\tモ\tモ\tも\t助詞-係助詞\t\t\t\nもも\tモモ\tモモ\t桃\t名詞-普通名詞-一般\t\t\t0\nの\tノ\tノ\tの\t助詞-格助詞\t\t\t\nうち\tウチ\tウチ\t内\t名詞-普通名詞-副詞可能\t\t\t0\n"
     ]
    },
    {
     "output_type": "execute_result",
     "data": {
      "text/plain": [
       "[]"
      ]
     },
     "metadata": {},
     "execution_count": 12
    }
   ],
   "source": [
    "text = \"すもももももももものうち\"\n",
    "words = tagger.parse(text).splitlines()\n",
    "words_arr = []\n",
    "parts = [\"名詞\", \"動詞\"]\n",
    "words = tagger.parse(text).splitlines()\n",
    "words_arr = []\n",
    "for i in words:\n",
    "    if i == 'EOS' or i == '': continue\n",
    "    word_tmp = i.split()[0]\n",
    "    part = i.split()[3].split(\"-\")[0]\n",
    "    print(i)\n",
    "    if not (part in parts):continue\n",
    "    words_arr.append(word_tmp)\n",
    "words_arr"
   ]
  },
  {
   "source": [
    "## ノック96 形態素解析で抽出した頻出する名詞を確認してみよう\n",
    "単語の頻度を調べる．"
   ],
   "cell_type": "markdown",
   "metadata": {}
  },
  {
   "cell_type": "code",
   "execution_count": 13,
   "metadata": {
    "tags": []
   },
   "outputs": [
    {
     "output_type": "stream",
     "name": "stdout",
     "text": [
      "['駅前', '若者', 'スポーツ', '場所', '子育て', '支援', '保育', '駅前', '商店', '生活', '便利', '場所', '場所', '商業', '施設', '病院', '充実', 'サイクリング', 'コース', '祭り', '学校', '公園', '近く', '公園', 'スーパー', '子育て', 'デート', 'スポット', '商店', '夜道', 'ゴミ', '処理', '楽', '映画', '街路', '公園', '追加', '観光', 'スポット', '子育て', '道', '都内', 'アクセス', '家賃', 'BBB', '渋滞', '商店', '屋根', '雨', '商店', '喫茶', 'スポーツ', 'ジム', '利用', 'スポーツ', 'ジム', '利用', '料金', 'ママ', '支援', 'バス', '自転', 'ランニング', '運動', '場所', '企業', '駅前', '駐車', '変', 'おじ', '声', '事', '警察', '巡回', '強化', '消防', '安心', '災害', '時', '避難', '場所', '気', '最近', '川', '氾濫', '被害', '町', '氾濫', '防止', '説明', '信号', '交差', '点', 'ｘｘｘ', '事故', '信号', '商店', '活性', '活動', '行政', '後押し', '子ども', '安全', '場所', '駅前', '駐輪', '不便', '街路', '落ち葉', '掃除', '街路', '災害', '時', '備蓄', '状況', '歩道', '道', '安心', '地域', '自治', '体', '支援', '自治', '体', '活動', '安心', '観光', '地', '最近', '他県', 'ナンバー', '車', '防犯', '駐車', '数', '料金', '駅前', '公共', '駐車', '歩行', '信号', '老人', '子供', '事', '設定', '急行', '都内', 'バス', '路線', '春', '桜', '並木', '最高', '桜', '並木', '隣町', 'ごみ', '処理', '施設', '心配', '公害', '市長', '活気', 'アンケート', '確認', '街づくり', '反映', '姿勢', '先月', '職員', '不正', '事件', '詳細', '説明', '役所', '担当', '愛想', '気', '役所', '出張', '駅前', '役所', '土日', '災害', '時', '避難', '経路', '表示', '市', 'ホーム', 'ページ', '役所', '電話', '対応', '路地', '街頭', '動物', '冬場', '路面', '凍結', '事故', '対応', '自然', '野良猫', '糞害', '行政', '野良猫', '対策', '役所', '相談', 'とき', '対応', '高速', '道路', '道', '渋滞', '拡幅', 'まち', 'マスコット', '夜間', '対応', '病院', '不安', '高齢', 'サポート', '施設', '学校', '校庭', '芝生', 'ホーム', 'ページ', 'アンケート', '投稿', '公園', '道具', '公園', '駅前', '駐車', '不便']\n"
     ]
    }
   ],
   "source": [
    "all_words = []\n",
    "parts = [\"名詞\"]\n",
    "for n in range(len(survey)):\n",
    "    text = survey[\"comment\"].iloc[n]\n",
    "    words = tagger.parse(text).splitlines()\n",
    "    words_arr = []\n",
    "    for i in words:\n",
    "        if i == \"EOS\" or i == \"\": continue\n",
    "        word_tmp = i.split()[0]\n",
    "        part = i.split(\"\\t\")[4].split(\"-\")[0]\n",
    "        if not (part in parts):continue\n",
    "        words_arr.append(word_tmp)\n",
    "    all_words.extend(words_arr)\n",
    "print(all_words)"
   ]
  },
  {
   "cell_type": "code",
   "execution_count": 14,
   "metadata": {},
   "outputs": [
    {
     "output_type": "execute_result",
     "data": {
      "text/plain": [
       "       count\n",
       "words       \n",
       "駅前         7\n",
       "場所         6\n",
       "商店         5\n",
       "公園         5\n",
       "役所         5"
      ],
      "text/html": "<div>\n<style scoped>\n    .dataframe tbody tr th:only-of-type {\n        vertical-align: middle;\n    }\n\n    .dataframe tbody tr th {\n        vertical-align: top;\n    }\n\n    .dataframe thead th {\n        text-align: right;\n    }\n</style>\n<table border=\"1\" class=\"dataframe\">\n  <thead>\n    <tr style=\"text-align: right;\">\n      <th></th>\n      <th>count</th>\n    </tr>\n    <tr>\n      <th>words</th>\n      <th></th>\n    </tr>\n  </thead>\n  <tbody>\n    <tr>\n      <th>駅前</th>\n      <td>7</td>\n    </tr>\n    <tr>\n      <th>場所</th>\n      <td>6</td>\n    </tr>\n    <tr>\n      <th>商店</th>\n      <td>5</td>\n    </tr>\n    <tr>\n      <th>公園</th>\n      <td>5</td>\n    </tr>\n    <tr>\n      <th>役所</th>\n      <td>5</td>\n    </tr>\n  </tbody>\n</table>\n</div>"
     },
     "metadata": {},
     "execution_count": 14
    }
   ],
   "source": [
    "all_words_df = pd.DataFrame({\"words\":all_words, \"count\":len(all_words)*[1]})\n",
    "all_words_df = all_words_df.groupby(\"words\").sum()\n",
    "all_words_df.sort_values(\"count\",ascending=False).head()"
   ]
  },
  {
   "source": [
    "## ノック97 関係のない単語を除去しよう\n",
    "分析の邪魔になる単語をストップワードとして設定し，除去する．"
   ],
   "cell_type": "markdown",
   "metadata": {}
  },
  {
   "cell_type": "code",
   "execution_count": 15,
   "metadata": {},
   "outputs": [
    {
     "output_type": "stream",
     "name": "stdout",
     "text": [
      "['駅前', '若者', 'スポーツ', '子育て', '支援', '保育', '駅前', '商店', '生活', '便利', '商業', '施設', '病院', '充実', 'サイクリング', 'コース', '祭り', '学校', '公園', '近く', '公園', 'スーパー', '子育て', 'デート', 'スポット', '商店', '夜道', 'ゴミ', '処理', '楽', '映画', '街路', '公園', '追加', '観光', 'スポット', '子育て', '道', '都内', 'アクセス', '家賃', 'BBB', '渋滞', '商店', '屋根', '雨', '商店', '喫茶', 'スポーツ', 'ジム', '利用', 'スポーツ', 'ジム', '利用', '料金', 'ママ', '支援', 'バス', '自転', 'ランニング', '運動', '企業', '駅前', '駐車', '変', 'おじ', '声', '事', '警察', '巡回', '強化', '消防', '安心', '災害', '時', '避難', '気', '最近', '川', '氾濫', '被害', '町', '氾濫', '防止', '説明', '信号', '交差', '点', 'ｘｘｘ', '事故', '信号', '商店', '活性', '活動', '行政', '後押し', '子ども', '安全', '駅前', '駐輪', '不便', '街路', '落ち葉', '掃除', '街路', '災害', '時', '備蓄', '状況', '歩道', '道', '安心', '地域', '自治', '体', '支援', '自治', '体', '活動', '安心', '観光', '地', '最近', '他県', 'ナンバー', '車', '防犯', '駐車', '数', '料金', '駅前', '公共', '駐車', '歩行', '信号', '老人', '子供', '事', '設定', '急行', '都内', 'バス', '路線', '春', '桜', '並木', '最高', '桜', '並木', '隣町', 'ごみ', '処理', '施設', '心配', '公害', '市長', '活気', 'アンケート', '確認', '街づくり', '反映', '姿勢', '先月', '職員', '不正', '事件', '詳細', '説明', '役所', '担当', '愛想', '気', '役所', '出張', '駅前', '役所', '土日', '災害', '時', '避難', '経路', '表示', '市', 'ホーム', 'ページ', '役所', '電話', '対応', '路地', '街頭', '動物', '冬場', '路面', '凍結', '事故', '対応', '自然', '野良猫', '糞害', '行政', '野良猫', '対策', '役所', '相談', 'とき', '対応', '高速', '道路', '道', '渋滞', '拡幅', 'まち', 'マスコット', '夜間', '対応', '病院', '不安', '高齢', 'サポート', '施設', '学校', '校庭', '芝生', 'ホーム', 'ページ', 'アンケート', '投稿', '公園', '道具', '公園', '駅前', '駐車', '不便']\n"
     ]
    }
   ],
   "source": [
    "stop_words = [\"場所\"]\n",
    "all_words = []\n",
    "parts = [\"名詞\"]\n",
    "for n in range(len(survey)):\n",
    "    text = survey[\"comment\"].iloc[n]\n",
    "    words = tagger.parse(text).splitlines()\n",
    "    words_arr = []\n",
    "    for i in words:\n",
    "        if i == \"EOS\" or i == \"\": continue\n",
    "        word_tmp = i.split()[0]\n",
    "        part = i.split(\"\\t\")[4].split(\"-\")[0]\n",
    "        if not (part in parts):continue\n",
    "        if word_tmp in stop_words:continue\n",
    "        words_arr.append(word_tmp)\n",
    "    all_words.extend(words_arr)\n",
    "print(all_words)"
   ]
  },
  {
   "cell_type": "code",
   "execution_count": 16,
   "metadata": {},
   "outputs": [
    {
     "output_type": "execute_result",
     "data": {
      "text/plain": [
       "       count\n",
       "words       \n",
       "駅前         7\n",
       "役所         5\n",
       "公園         5\n",
       "商店         5\n",
       "対応         4"
      ],
      "text/html": "<div>\n<style scoped>\n    .dataframe tbody tr th:only-of-type {\n        vertical-align: middle;\n    }\n\n    .dataframe tbody tr th {\n        vertical-align: top;\n    }\n\n    .dataframe thead th {\n        text-align: right;\n    }\n</style>\n<table border=\"1\" class=\"dataframe\">\n  <thead>\n    <tr style=\"text-align: right;\">\n      <th></th>\n      <th>count</th>\n    </tr>\n    <tr>\n      <th>words</th>\n      <th></th>\n    </tr>\n  </thead>\n  <tbody>\n    <tr>\n      <th>駅前</th>\n      <td>7</td>\n    </tr>\n    <tr>\n      <th>役所</th>\n      <td>5</td>\n    </tr>\n    <tr>\n      <th>公園</th>\n      <td>5</td>\n    </tr>\n    <tr>\n      <th>商店</th>\n      <td>5</td>\n    </tr>\n    <tr>\n      <th>対応</th>\n      <td>4</td>\n    </tr>\n  </tbody>\n</table>\n</div>"
     },
     "metadata": {},
     "execution_count": 16
    }
   ],
   "source": [
    "all_words_df = pd.DataFrame({\"words\":all_words, \"count\":len(all_words)*[1]})\n",
    "all_words_df = all_words_df.groupby(\"words\").sum()\n",
    "all_words_df.sort_values(\"count\",ascending=False).head()"
   ]
  },
  {
   "source": [
    "## ノック98　顧客満足度と頻出単語の関係をみてみよう\n",
    "顧客満足度と単語の関係を調べる．"
   ],
   "cell_type": "markdown",
   "metadata": {}
  },
  {
   "cell_type": "code",
   "execution_count": 17,
   "metadata": {},
   "outputs": [
    {
     "output_type": "execute_result",
     "data": {
      "text/plain": [
       "  words  satisfaction  count\n",
       "0    駅前             1      1\n",
       "1    若者             1      1\n",
       "2  スポーツ             5      1\n",
       "3   子育て             5      1\n",
       "4    支援             5      1"
      ],
      "text/html": "<div>\n<style scoped>\n    .dataframe tbody tr th:only-of-type {\n        vertical-align: middle;\n    }\n\n    .dataframe tbody tr th {\n        vertical-align: top;\n    }\n\n    .dataframe thead th {\n        text-align: right;\n    }\n</style>\n<table border=\"1\" class=\"dataframe\">\n  <thead>\n    <tr style=\"text-align: right;\">\n      <th></th>\n      <th>words</th>\n      <th>satisfaction</th>\n      <th>count</th>\n    </tr>\n  </thead>\n  <tbody>\n    <tr>\n      <th>0</th>\n      <td>駅前</td>\n      <td>1</td>\n      <td>1</td>\n    </tr>\n    <tr>\n      <th>1</th>\n      <td>若者</td>\n      <td>1</td>\n      <td>1</td>\n    </tr>\n    <tr>\n      <th>2</th>\n      <td>スポーツ</td>\n      <td>5</td>\n      <td>1</td>\n    </tr>\n    <tr>\n      <th>3</th>\n      <td>子育て</td>\n      <td>5</td>\n      <td>1</td>\n    </tr>\n    <tr>\n      <th>4</th>\n      <td>支援</td>\n      <td>5</td>\n      <td>1</td>\n    </tr>\n  </tbody>\n</table>\n</div>"
     },
     "metadata": {},
     "execution_count": 17
    }
   ],
   "source": [
    "stop_words = [\"場所\"]\n",
    "parts = [\"名詞\"]\n",
    "all_words = []\n",
    "satisfaction = []\n",
    "for n in range(len(survey)):\n",
    "    text = survey[\"comment\"].iloc[n]\n",
    "    words = tagger.parse(text).splitlines()\n",
    "    words_arr = []\n",
    "    for i in words:\n",
    "        if i == \"EOS\" or i == \"\": continue\n",
    "        word_tmp = i.split(\"\\t\")[0]\n",
    "        part = i.split(\"\\t\")[4].split(\"-\")[0]\n",
    "        if not (part in parts):continue\n",
    "        if word_tmp in stop_words:continue\n",
    "        words_arr.append(word_tmp)\n",
    "        satisfaction.append(survey[\"satisfaction\"].iloc[n])\n",
    "    all_words.extend(words_arr)\n",
    "all_words_df = pd.DataFrame({\"words\":all_words, \"satisfaction\":satisfaction, \"count\":len(all_words)*[1]})\n",
    "all_words_df.head()"
   ]
  },
  {
   "cell_type": "code",
   "execution_count": 18,
   "metadata": {},
   "outputs": [
    {
     "output_type": "execute_result",
     "data": {
      "text/plain": [
       "       satisfaction  count\n",
       "words                     \n",
       "BBB             2.0      1\n",
       "おじ              1.0      1\n",
       "ごみ              2.0      1\n",
       "とき              5.0      1\n",
       "まち              2.0      1"
      ],
      "text/html": "<div>\n<style scoped>\n    .dataframe tbody tr th:only-of-type {\n        vertical-align: middle;\n    }\n\n    .dataframe tbody tr th {\n        vertical-align: top;\n    }\n\n    .dataframe thead th {\n        text-align: right;\n    }\n</style>\n<table border=\"1\" class=\"dataframe\">\n  <thead>\n    <tr style=\"text-align: right;\">\n      <th></th>\n      <th>satisfaction</th>\n      <th>count</th>\n    </tr>\n    <tr>\n      <th>words</th>\n      <th></th>\n      <th></th>\n    </tr>\n  </thead>\n  <tbody>\n    <tr>\n      <th>BBB</th>\n      <td>2.0</td>\n      <td>1</td>\n    </tr>\n    <tr>\n      <th>おじ</th>\n      <td>1.0</td>\n      <td>1</td>\n    </tr>\n    <tr>\n      <th>ごみ</th>\n      <td>2.0</td>\n      <td>1</td>\n    </tr>\n    <tr>\n      <th>とき</th>\n      <td>5.0</td>\n      <td>1</td>\n    </tr>\n    <tr>\n      <th>まち</th>\n      <td>2.0</td>\n      <td>1</td>\n    </tr>\n  </tbody>\n</table>\n</div>"
     },
     "metadata": {},
     "execution_count": 18
    }
   ],
   "source": [
    "words_satisfaction = all_words_df.groupby(\"words\").mean()[\"satisfaction\"]\n",
    "words_count = all_words_df.groupby(\"words\").sum()[\"count\"]\n",
    "words_df = pd.concat([words_satisfaction, words_count], axis=1)\n",
    "words_df.head()"
   ]
  },
  {
   "cell_type": "code",
   "execution_count": 19,
   "metadata": {},
   "outputs": [
    {
     "output_type": "execute_result",
     "data": {
      "text/plain": [
       "       satisfaction  count\n",
       "words                     \n",
       "子育て        4.333333      3\n",
       "安心         4.333333      3\n",
       "スポーツ       3.666667      3\n",
       "役所         3.000000      5\n",
       "支援         3.000000      3"
      ],
      "text/html": "<div>\n<style scoped>\n    .dataframe tbody tr th:only-of-type {\n        vertical-align: middle;\n    }\n\n    .dataframe tbody tr th {\n        vertical-align: top;\n    }\n\n    .dataframe thead th {\n        text-align: right;\n    }\n</style>\n<table border=\"1\" class=\"dataframe\">\n  <thead>\n    <tr style=\"text-align: right;\">\n      <th></th>\n      <th>satisfaction</th>\n      <th>count</th>\n    </tr>\n    <tr>\n      <th>words</th>\n      <th></th>\n      <th></th>\n    </tr>\n  </thead>\n  <tbody>\n    <tr>\n      <th>子育て</th>\n      <td>4.333333</td>\n      <td>3</td>\n    </tr>\n    <tr>\n      <th>安心</th>\n      <td>4.333333</td>\n      <td>3</td>\n    </tr>\n    <tr>\n      <th>スポーツ</th>\n      <td>3.666667</td>\n      <td>3</td>\n    </tr>\n    <tr>\n      <th>役所</th>\n      <td>3.000000</td>\n      <td>5</td>\n    </tr>\n    <tr>\n      <th>支援</th>\n      <td>3.000000</td>\n      <td>3</td>\n    </tr>\n  </tbody>\n</table>\n</div>"
     },
     "metadata": {},
     "execution_count": 19
    }
   ],
   "source": [
    "words_df = words_df.loc[words_df[\"count\"]>=3]\n",
    "words_df.sort_values(\"satisfaction\", ascending=False).head()"
   ]
  },
  {
   "cell_type": "code",
   "execution_count": 20,
   "metadata": {},
   "outputs": [
    {
     "output_type": "execute_result",
     "data": {
      "text/plain": [
       "       satisfaction  count\n",
       "words                     \n",
       "駐車         1.000000      4\n",
       "信号         1.333333      3\n",
       "駅前         1.428571      7\n",
       "街路         1.666667      3\n",
       "対応         2.000000      4"
      ],
      "text/html": "<div>\n<style scoped>\n    .dataframe tbody tr th:only-of-type {\n        vertical-align: middle;\n    }\n\n    .dataframe tbody tr th {\n        vertical-align: top;\n    }\n\n    .dataframe thead th {\n        text-align: right;\n    }\n</style>\n<table border=\"1\" class=\"dataframe\">\n  <thead>\n    <tr style=\"text-align: right;\">\n      <th></th>\n      <th>satisfaction</th>\n      <th>count</th>\n    </tr>\n    <tr>\n      <th>words</th>\n      <th></th>\n      <th></th>\n    </tr>\n  </thead>\n  <tbody>\n    <tr>\n      <th>駐車</th>\n      <td>1.000000</td>\n      <td>4</td>\n    </tr>\n    <tr>\n      <th>信号</th>\n      <td>1.333333</td>\n      <td>3</td>\n    </tr>\n    <tr>\n      <th>駅前</th>\n      <td>1.428571</td>\n      <td>7</td>\n    </tr>\n    <tr>\n      <th>街路</th>\n      <td>1.666667</td>\n      <td>3</td>\n    </tr>\n    <tr>\n      <th>対応</th>\n      <td>2.000000</td>\n      <td>4</td>\n    </tr>\n  </tbody>\n</table>\n</div>"
     },
     "metadata": {},
     "execution_count": 20
    }
   ],
   "source": [
    "words_df.sort_values(\"satisfaction\").head()"
   ]
  },
  {
   "source": [
    "## ノック99：アンケート毎の特徴を表現してみよう\n",
    "頻出単語をアンケートの特徴とする．"
   ],
   "cell_type": "markdown",
   "metadata": {}
  },
  {
   "cell_type": "code",
   "execution_count": 21,
   "metadata": {},
   "outputs": [
    {
     "output_type": "execute_result",
     "data": {
      "text/plain": [
       "    駅前   若者  スポーツ   場所  子育て   支援   保育   商店  生活  便利  ...  まち  マスコット  夜間  不安  \\\n",
       "0  1.0  1.0   NaN  NaN  NaN  NaN  NaN  NaN NaN NaN  ... NaN    NaN NaN NaN   \n",
       "1  NaN  NaN   1.0  1.0  NaN  NaN  NaN  NaN NaN NaN  ... NaN    NaN NaN NaN   \n",
       "2  NaN  NaN   NaN  NaN  1.0  1.0  NaN  NaN NaN NaN  ... NaN    NaN NaN NaN   \n",
       "3  NaN  NaN   NaN  NaN  NaN  NaN  1.0  NaN NaN NaN  ... NaN    NaN NaN NaN   \n",
       "4  1.0  NaN   NaN  NaN  NaN  NaN  NaN  1.0 NaN NaN  ... NaN    NaN NaN NaN   \n",
       "\n",
       "   高齢  サポート  校庭  芝生  投稿  道具  \n",
       "0 NaN   NaN NaN NaN NaN NaN  \n",
       "1 NaN   NaN NaN NaN NaN NaN  \n",
       "2 NaN   NaN NaN NaN NaN NaN  \n",
       "3 NaN   NaN NaN NaN NaN NaN  \n",
       "4 NaN   NaN NaN NaN NaN NaN  \n",
       "\n",
       "[5 rows x 161 columns]"
      ],
      "text/html": "<div>\n<style scoped>\n    .dataframe tbody tr th:only-of-type {\n        vertical-align: middle;\n    }\n\n    .dataframe tbody tr th {\n        vertical-align: top;\n    }\n\n    .dataframe thead th {\n        text-align: right;\n    }\n</style>\n<table border=\"1\" class=\"dataframe\">\n  <thead>\n    <tr style=\"text-align: right;\">\n      <th></th>\n      <th>駅前</th>\n      <th>若者</th>\n      <th>スポーツ</th>\n      <th>場所</th>\n      <th>子育て</th>\n      <th>支援</th>\n      <th>保育</th>\n      <th>商店</th>\n      <th>生活</th>\n      <th>便利</th>\n      <th>...</th>\n      <th>まち</th>\n      <th>マスコット</th>\n      <th>夜間</th>\n      <th>不安</th>\n      <th>高齢</th>\n      <th>サポート</th>\n      <th>校庭</th>\n      <th>芝生</th>\n      <th>投稿</th>\n      <th>道具</th>\n    </tr>\n  </thead>\n  <tbody>\n    <tr>\n      <th>0</th>\n      <td>1.0</td>\n      <td>1.0</td>\n      <td>NaN</td>\n      <td>NaN</td>\n      <td>NaN</td>\n      <td>NaN</td>\n      <td>NaN</td>\n      <td>NaN</td>\n      <td>NaN</td>\n      <td>NaN</td>\n      <td>...</td>\n      <td>NaN</td>\n      <td>NaN</td>\n      <td>NaN</td>\n      <td>NaN</td>\n      <td>NaN</td>\n      <td>NaN</td>\n      <td>NaN</td>\n      <td>NaN</td>\n      <td>NaN</td>\n      <td>NaN</td>\n    </tr>\n    <tr>\n      <th>1</th>\n      <td>NaN</td>\n      <td>NaN</td>\n      <td>1.0</td>\n      <td>1.0</td>\n      <td>NaN</td>\n      <td>NaN</td>\n      <td>NaN</td>\n      <td>NaN</td>\n      <td>NaN</td>\n      <td>NaN</td>\n      <td>...</td>\n      <td>NaN</td>\n      <td>NaN</td>\n      <td>NaN</td>\n      <td>NaN</td>\n      <td>NaN</td>\n      <td>NaN</td>\n      <td>NaN</td>\n      <td>NaN</td>\n      <td>NaN</td>\n      <td>NaN</td>\n    </tr>\n    <tr>\n      <th>2</th>\n      <td>NaN</td>\n      <td>NaN</td>\n      <td>NaN</td>\n      <td>NaN</td>\n      <td>1.0</td>\n      <td>1.0</td>\n      <td>NaN</td>\n      <td>NaN</td>\n      <td>NaN</td>\n      <td>NaN</td>\n      <td>...</td>\n      <td>NaN</td>\n      <td>NaN</td>\n      <td>NaN</td>\n      <td>NaN</td>\n      <td>NaN</td>\n      <td>NaN</td>\n      <td>NaN</td>\n      <td>NaN</td>\n      <td>NaN</td>\n      <td>NaN</td>\n    </tr>\n    <tr>\n      <th>3</th>\n      <td>NaN</td>\n      <td>NaN</td>\n      <td>NaN</td>\n      <td>NaN</td>\n      <td>NaN</td>\n      <td>NaN</td>\n      <td>1.0</td>\n      <td>NaN</td>\n      <td>NaN</td>\n      <td>NaN</td>\n      <td>...</td>\n      <td>NaN</td>\n      <td>NaN</td>\n      <td>NaN</td>\n      <td>NaN</td>\n      <td>NaN</td>\n      <td>NaN</td>\n      <td>NaN</td>\n      <td>NaN</td>\n      <td>NaN</td>\n      <td>NaN</td>\n    </tr>\n    <tr>\n      <th>4</th>\n      <td>1.0</td>\n      <td>NaN</td>\n      <td>NaN</td>\n      <td>NaN</td>\n      <td>NaN</td>\n      <td>NaN</td>\n      <td>NaN</td>\n      <td>1.0</td>\n      <td>NaN</td>\n      <td>NaN</td>\n      <td>...</td>\n      <td>NaN</td>\n      <td>NaN</td>\n      <td>NaN</td>\n      <td>NaN</td>\n      <td>NaN</td>\n      <td>NaN</td>\n      <td>NaN</td>\n      <td>NaN</td>\n      <td>NaN</td>\n      <td>NaN</td>\n    </tr>\n  </tbody>\n</table>\n<p>5 rows × 161 columns</p>\n</div>"
     },
     "metadata": {},
     "execution_count": 21
    }
   ],
   "source": [
    "parts = [\"名詞\"]\n",
    "all_words_df = pd.DataFrame()\n",
    "satisfaction = []\n",
    "for n in range(len(survey)):\n",
    "    text = survey[\"comment\"].iloc[n]\n",
    "    words = tagger.parse(text).splitlines()\n",
    "    words_df = pd.DataFrame()\n",
    "    for i in words:\n",
    "        if i == \"EOS\" or i == \"\": continue\n",
    "        word_tmp = i.split(\"\\t\")[0]\n",
    "        part = i.split(\"\\t\")[4].split(\"-\")[0]\n",
    "        if not (part in parts):continue\n",
    "        words_df[word_tmp] = [1]\n",
    "    all_words_df = pd.concat([all_words_df, words_df] ,ignore_index=True)\n",
    "all_words_df.head()"
   ]
  },
  {
   "cell_type": "code",
   "execution_count": 22,
   "metadata": {},
   "outputs": [
    {
     "output_type": "execute_result",
     "data": {
      "text/plain": [
       "    駅前   若者  スポーツ   場所  子育て   支援   保育   商店   生活   便利  ...   まち  マスコット   夜間  \\\n",
       "0  1.0  1.0   0.0  0.0  0.0  0.0  0.0  0.0  0.0  0.0  ...  0.0    0.0  0.0   \n",
       "1  0.0  0.0   1.0  1.0  0.0  0.0  0.0  0.0  0.0  0.0  ...  0.0    0.0  0.0   \n",
       "2  0.0  0.0   0.0  0.0  1.0  1.0  0.0  0.0  0.0  0.0  ...  0.0    0.0  0.0   \n",
       "3  0.0  0.0   0.0  0.0  0.0  0.0  1.0  0.0  0.0  0.0  ...  0.0    0.0  0.0   \n",
       "4  1.0  0.0   0.0  0.0  0.0  0.0  0.0  1.0  0.0  0.0  ...  0.0    0.0  0.0   \n",
       "\n",
       "    不安   高齢  サポート   校庭   芝生   投稿   道具  \n",
       "0  0.0  0.0   0.0  0.0  0.0  0.0  0.0  \n",
       "1  0.0  0.0   0.0  0.0  0.0  0.0  0.0  \n",
       "2  0.0  0.0   0.0  0.0  0.0  0.0  0.0  \n",
       "3  0.0  0.0   0.0  0.0  0.0  0.0  0.0  \n",
       "4  0.0  0.0   0.0  0.0  0.0  0.0  0.0  \n",
       "\n",
       "[5 rows x 161 columns]"
      ],
      "text/html": "<div>\n<style scoped>\n    .dataframe tbody tr th:only-of-type {\n        vertical-align: middle;\n    }\n\n    .dataframe tbody tr th {\n        vertical-align: top;\n    }\n\n    .dataframe thead th {\n        text-align: right;\n    }\n</style>\n<table border=\"1\" class=\"dataframe\">\n  <thead>\n    <tr style=\"text-align: right;\">\n      <th></th>\n      <th>駅前</th>\n      <th>若者</th>\n      <th>スポーツ</th>\n      <th>場所</th>\n      <th>子育て</th>\n      <th>支援</th>\n      <th>保育</th>\n      <th>商店</th>\n      <th>生活</th>\n      <th>便利</th>\n      <th>...</th>\n      <th>まち</th>\n      <th>マスコット</th>\n      <th>夜間</th>\n      <th>不安</th>\n      <th>高齢</th>\n      <th>サポート</th>\n      <th>校庭</th>\n      <th>芝生</th>\n      <th>投稿</th>\n      <th>道具</th>\n    </tr>\n  </thead>\n  <tbody>\n    <tr>\n      <th>0</th>\n      <td>1.0</td>\n      <td>1.0</td>\n      <td>0.0</td>\n      <td>0.0</td>\n      <td>0.0</td>\n      <td>0.0</td>\n      <td>0.0</td>\n      <td>0.0</td>\n      <td>0.0</td>\n      <td>0.0</td>\n      <td>...</td>\n      <td>0.0</td>\n      <td>0.0</td>\n      <td>0.0</td>\n      <td>0.0</td>\n      <td>0.0</td>\n      <td>0.0</td>\n      <td>0.0</td>\n      <td>0.0</td>\n      <td>0.0</td>\n      <td>0.0</td>\n    </tr>\n    <tr>\n      <th>1</th>\n      <td>0.0</td>\n      <td>0.0</td>\n      <td>1.0</td>\n      <td>1.0</td>\n      <td>0.0</td>\n      <td>0.0</td>\n      <td>0.0</td>\n      <td>0.0</td>\n      <td>0.0</td>\n      <td>0.0</td>\n      <td>...</td>\n      <td>0.0</td>\n      <td>0.0</td>\n      <td>0.0</td>\n      <td>0.0</td>\n      <td>0.0</td>\n      <td>0.0</td>\n      <td>0.0</td>\n      <td>0.0</td>\n      <td>0.0</td>\n      <td>0.0</td>\n    </tr>\n    <tr>\n      <th>2</th>\n      <td>0.0</td>\n      <td>0.0</td>\n      <td>0.0</td>\n      <td>0.0</td>\n      <td>1.0</td>\n      <td>1.0</td>\n      <td>0.0</td>\n      <td>0.0</td>\n      <td>0.0</td>\n      <td>0.0</td>\n      <td>...</td>\n      <td>0.0</td>\n      <td>0.0</td>\n      <td>0.0</td>\n      <td>0.0</td>\n      <td>0.0</td>\n      <td>0.0</td>\n      <td>0.0</td>\n      <td>0.0</td>\n      <td>0.0</td>\n      <td>0.0</td>\n    </tr>\n    <tr>\n      <th>3</th>\n      <td>0.0</td>\n      <td>0.0</td>\n      <td>0.0</td>\n      <td>0.0</td>\n      <td>0.0</td>\n      <td>0.0</td>\n      <td>1.0</td>\n      <td>0.0</td>\n      <td>0.0</td>\n      <td>0.0</td>\n      <td>...</td>\n      <td>0.0</td>\n      <td>0.0</td>\n      <td>0.0</td>\n      <td>0.0</td>\n      <td>0.0</td>\n      <td>0.0</td>\n      <td>0.0</td>\n      <td>0.0</td>\n      <td>0.0</td>\n      <td>0.0</td>\n    </tr>\n    <tr>\n      <th>4</th>\n      <td>1.0</td>\n      <td>0.0</td>\n      <td>0.0</td>\n      <td>0.0</td>\n      <td>0.0</td>\n      <td>0.0</td>\n      <td>0.0</td>\n      <td>1.0</td>\n      <td>0.0</td>\n      <td>0.0</td>\n      <td>...</td>\n      <td>0.0</td>\n      <td>0.0</td>\n      <td>0.0</td>\n      <td>0.0</td>\n      <td>0.0</td>\n      <td>0.0</td>\n      <td>0.0</td>\n      <td>0.0</td>\n      <td>0.0</td>\n      <td>0.0</td>\n    </tr>\n  </tbody>\n</table>\n<p>5 rows × 161 columns</p>\n</div>"
     },
     "metadata": {},
     "execution_count": 22
    }
   ],
   "source": [
    "all_words_df = all_words_df.fillna(0)\n",
    "all_words_df.head()"
   ]
  },
  {
   "source": [
    "## ノック100 類似アンケートを探してみよう\n",
    "コサイン類似度を用いて類似アンケートを探す．"
   ],
   "cell_type": "markdown",
   "metadata": {}
  },
  {
   "cell_type": "code",
   "execution_count": 23,
   "metadata": {},
   "outputs": [
    {
     "output_type": "stream",
     "name": "stdout",
     "text": [
      "子育て支援が嬉しい\n駅前      0.0\n若者      0.0\nスポーツ    0.0\n場所      0.0\n子育て     1.0\n       ... \nサポート    0.0\n校庭      0.0\n芝生      0.0\n投稿      0.0\n道具      0.0\nName: 2, Length: 161, dtype: float64\n"
     ]
    }
   ],
   "source": [
    "print(survey[\"comment\"].iloc[2])\n",
    "target_text = all_words_df.iloc[2]\n",
    "print(target_text)"
   ]
  },
  {
   "cell_type": "code",
   "execution_count": 24,
   "metadata": {},
   "outputs": [
    {
     "output_type": "execute_result",
     "data": {
      "text/plain": [
       "     駅前   若者  スポーツ   場所  子育て   支援   保育   商店   生活   便利  ...  マスコット   夜間   不安  \\\n",
       "2   0.0  0.0   0.0  0.0  1.0  1.0  0.0  0.0  0.0  0.0  ...    0.0  0.0  0.0   \n",
       "24  0.0  0.0   0.0  0.0  1.0  0.0  0.0  0.0  0.0  0.0  ...    0.0  0.0  0.0   \n",
       "15  0.0  0.0   0.0  0.0  1.0  0.0  0.0  0.0  0.0  0.0  ...    0.0  0.0  0.0   \n",
       "33  0.0  0.0   0.0  0.0  0.0  1.0  0.0  0.0  0.0  0.0  ...    0.0  0.0  0.0   \n",
       "50  0.0  0.0   0.0  0.0  0.0  1.0  0.0  0.0  0.0  0.0  ...    0.0  0.0  0.0   \n",
       "\n",
       "     高齢  サポート   校庭   芝生   投稿   道具   cos_sim  \n",
       "2   0.0   0.0  0.0  0.0  0.0  0.0  1.000000  \n",
       "24  0.0   0.0  0.0  0.0  0.0  0.0  0.707107  \n",
       "15  0.0   0.0  0.0  0.0  0.0  0.0  0.707107  \n",
       "33  0.0   0.0  0.0  0.0  0.0  0.0  0.500000  \n",
       "50  0.0   0.0  0.0  0.0  0.0  0.0  0.353553  \n",
       "\n",
       "[5 rows x 162 columns]"
      ],
      "text/html": "<div>\n<style scoped>\n    .dataframe tbody tr th:only-of-type {\n        vertical-align: middle;\n    }\n\n    .dataframe tbody tr th {\n        vertical-align: top;\n    }\n\n    .dataframe thead th {\n        text-align: right;\n    }\n</style>\n<table border=\"1\" class=\"dataframe\">\n  <thead>\n    <tr style=\"text-align: right;\">\n      <th></th>\n      <th>駅前</th>\n      <th>若者</th>\n      <th>スポーツ</th>\n      <th>場所</th>\n      <th>子育て</th>\n      <th>支援</th>\n      <th>保育</th>\n      <th>商店</th>\n      <th>生活</th>\n      <th>便利</th>\n      <th>...</th>\n      <th>マスコット</th>\n      <th>夜間</th>\n      <th>不安</th>\n      <th>高齢</th>\n      <th>サポート</th>\n      <th>校庭</th>\n      <th>芝生</th>\n      <th>投稿</th>\n      <th>道具</th>\n      <th>cos_sim</th>\n    </tr>\n  </thead>\n  <tbody>\n    <tr>\n      <th>2</th>\n      <td>0.0</td>\n      <td>0.0</td>\n      <td>0.0</td>\n      <td>0.0</td>\n      <td>1.0</td>\n      <td>1.0</td>\n      <td>0.0</td>\n      <td>0.0</td>\n      <td>0.0</td>\n      <td>0.0</td>\n      <td>...</td>\n      <td>0.0</td>\n      <td>0.0</td>\n      <td>0.0</td>\n      <td>0.0</td>\n      <td>0.0</td>\n      <td>0.0</td>\n      <td>0.0</td>\n      <td>0.0</td>\n      <td>0.0</td>\n      <td>1.000000</td>\n    </tr>\n    <tr>\n      <th>24</th>\n      <td>0.0</td>\n      <td>0.0</td>\n      <td>0.0</td>\n      <td>0.0</td>\n      <td>1.0</td>\n      <td>0.0</td>\n      <td>0.0</td>\n      <td>0.0</td>\n      <td>0.0</td>\n      <td>0.0</td>\n      <td>...</td>\n      <td>0.0</td>\n      <td>0.0</td>\n      <td>0.0</td>\n      <td>0.0</td>\n      <td>0.0</td>\n      <td>0.0</td>\n      <td>0.0</td>\n      <td>0.0</td>\n      <td>0.0</td>\n      <td>0.707107</td>\n    </tr>\n    <tr>\n      <th>15</th>\n      <td>0.0</td>\n      <td>0.0</td>\n      <td>0.0</td>\n      <td>0.0</td>\n      <td>1.0</td>\n      <td>0.0</td>\n      <td>0.0</td>\n      <td>0.0</td>\n      <td>0.0</td>\n      <td>0.0</td>\n      <td>...</td>\n      <td>0.0</td>\n      <td>0.0</td>\n      <td>0.0</td>\n      <td>0.0</td>\n      <td>0.0</td>\n      <td>0.0</td>\n      <td>0.0</td>\n      <td>0.0</td>\n      <td>0.0</td>\n      <td>0.707107</td>\n    </tr>\n    <tr>\n      <th>33</th>\n      <td>0.0</td>\n      <td>0.0</td>\n      <td>0.0</td>\n      <td>0.0</td>\n      <td>0.0</td>\n      <td>1.0</td>\n      <td>0.0</td>\n      <td>0.0</td>\n      <td>0.0</td>\n      <td>0.0</td>\n      <td>...</td>\n      <td>0.0</td>\n      <td>0.0</td>\n      <td>0.0</td>\n      <td>0.0</td>\n      <td>0.0</td>\n      <td>0.0</td>\n      <td>0.0</td>\n      <td>0.0</td>\n      <td>0.0</td>\n      <td>0.500000</td>\n    </tr>\n    <tr>\n      <th>50</th>\n      <td>0.0</td>\n      <td>0.0</td>\n      <td>0.0</td>\n      <td>0.0</td>\n      <td>0.0</td>\n      <td>1.0</td>\n      <td>0.0</td>\n      <td>0.0</td>\n      <td>0.0</td>\n      <td>0.0</td>\n      <td>...</td>\n      <td>0.0</td>\n      <td>0.0</td>\n      <td>0.0</td>\n      <td>0.0</td>\n      <td>0.0</td>\n      <td>0.0</td>\n      <td>0.0</td>\n      <td>0.0</td>\n      <td>0.0</td>\n      <td>0.353553</td>\n    </tr>\n  </tbody>\n</table>\n<p>5 rows × 162 columns</p>\n</div>"
     },
     "metadata": {},
     "execution_count": 24
    }
   ],
   "source": [
    "import numpy as np\n",
    "cos_sim = []\n",
    "for i in range(len(all_words_df)):\n",
    "    cos_text = all_words_df.iloc[i]\n",
    "    cos = np.dot(target_text, cos_text) / (np.linalg.norm(target_text) * np.linalg.norm(cos_text))\n",
    "    cos_sim.append(cos)\n",
    "all_words_df[\"cos_sim\"] = cos_sim\n",
    "all_words_df.sort_values(\"cos_sim\",ascending=False).head()"
   ]
  },
  {
   "cell_type": "code",
   "execution_count": 25,
   "metadata": {},
   "outputs": [
    {
     "output_type": "stream",
     "name": "stdout",
     "text": [
      "子育て支援が嬉しい\n子育てがしやすい\n子育てしやすい\n働くママの支援をもっと増やして欲しい\n"
     ]
    }
   ],
   "source": [
    "print(survey[\"comment\"].iloc[2])\n",
    "print(survey[\"comment\"].iloc[24])\n",
    "print(survey[\"comment\"].iloc[15])\n",
    "print(survey[\"comment\"].iloc[33])"
   ]
  }
 ]
}