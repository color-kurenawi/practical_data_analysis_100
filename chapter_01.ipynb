{
 "metadata": {
  "language_info": {
   "codemirror_mode": {
    "name": "ipython",
    "version": 3
   },
   "file_extension": ".py",
   "mimetype": "text/x-python",
   "name": "python",
   "nbconvert_exporter": "python",
   "pygments_lexer": "ipython3",
   "version": "3.6.7-final"
  },
  "orig_nbformat": 2,
  "kernelspec": {
   "name": "Python 3.6.7 64-bit ('tensorflow': conda)",
   "display_name": "Python 3.6.7 64-bit ('tensorflow': conda)",
   "metadata": {
    "interpreter": {
     "hash": "f7aabc49fe5d7825752f35f8bae9d2396b4031cf026acc9a66f5e801b7be10fd"
    }
   }
  }
 },
 "nbformat": 4,
 "nbformat_minor": 2,
 "cells": [
  {
   "source": [
    "# 第1章 ウェブからの注文数を分析する10本ノック (1~10)"
   ],
   "cell_type": "markdown",
   "metadata": {}
  },
  {
   "cell_type": "code",
   "execution_count": 1,
   "metadata": {},
   "outputs": [],
   "source": [
    "# 下準備として，データのあるディレクトリに移動しておく\n",
    "import os\n",
    "\n",
    "DATA_ROOT_DIR = \"./sample/1章/\"\n",
    "os.chdir(DATA_ROOT_DIR)"
   ]
  },
  {
   "source": [
    "## ノック1 データを読み込んでみよう\n",
    "色々なファイルを読み込んで，データの全体像を把握する．"
   ],
   "cell_type": "markdown",
   "metadata": {}
  },
  {
   "cell_type": "code",
   "execution_count": 2,
   "metadata": {},
   "outputs": [
    {
     "output_type": "execute_result",
     "data": {
      "text/plain": [
       "  customer_id customer_name    registration_date customer_name_kana  \\\n",
       "0    IK152942        平田 裕次郎  2019-01-01 00:25:33          ひらた ゆうじろう   \n",
       "1    TS808488         田村 詩織  2019-01-01 01:13:45            たむら しおり   \n",
       "2    AS834628         久野 由樹  2019-01-01 02:00:14             ひさの ゆき   \n",
       "3    AS345469          鶴岡 薫  2019-01-01 04:48:22           つるおか かおる   \n",
       "4    GD892565         大内 高史  2019-01-01 04:54:51           おおうち たかし   \n",
       "\n",
       "                         email gender  age      birth pref  \n",
       "0  hirata_yuujirou@example.com      M   29  1990/6/10  石川県  \n",
       "1    tamura_shiori@example.com      F   33  1986/5/20  東京都  \n",
       "2      hisano_yuki@example.com      F   63   1956/1/2  茨城県  \n",
       "3   tsuruoka_kaoru@example.com      M   74  1945/3/25  東京都  \n",
       "4   oouchi_takashi@example.com      M   54   1965/8/5  千葉県  "
      ],
      "text/html": "<div>\n<style scoped>\n    .dataframe tbody tr th:only-of-type {\n        vertical-align: middle;\n    }\n\n    .dataframe tbody tr th {\n        vertical-align: top;\n    }\n\n    .dataframe thead th {\n        text-align: right;\n    }\n</style>\n<table border=\"1\" class=\"dataframe\">\n  <thead>\n    <tr style=\"text-align: right;\">\n      <th></th>\n      <th>customer_id</th>\n      <th>customer_name</th>\n      <th>registration_date</th>\n      <th>customer_name_kana</th>\n      <th>email</th>\n      <th>gender</th>\n      <th>age</th>\n      <th>birth</th>\n      <th>pref</th>\n    </tr>\n  </thead>\n  <tbody>\n    <tr>\n      <th>0</th>\n      <td>IK152942</td>\n      <td>平田 裕次郎</td>\n      <td>2019-01-01 00:25:33</td>\n      <td>ひらた ゆうじろう</td>\n      <td>hirata_yuujirou@example.com</td>\n      <td>M</td>\n      <td>29</td>\n      <td>1990/6/10</td>\n      <td>石川県</td>\n    </tr>\n    <tr>\n      <th>1</th>\n      <td>TS808488</td>\n      <td>田村 詩織</td>\n      <td>2019-01-01 01:13:45</td>\n      <td>たむら しおり</td>\n      <td>tamura_shiori@example.com</td>\n      <td>F</td>\n      <td>33</td>\n      <td>1986/5/20</td>\n      <td>東京都</td>\n    </tr>\n    <tr>\n      <th>2</th>\n      <td>AS834628</td>\n      <td>久野 由樹</td>\n      <td>2019-01-01 02:00:14</td>\n      <td>ひさの ゆき</td>\n      <td>hisano_yuki@example.com</td>\n      <td>F</td>\n      <td>63</td>\n      <td>1956/1/2</td>\n      <td>茨城県</td>\n    </tr>\n    <tr>\n      <th>3</th>\n      <td>AS345469</td>\n      <td>鶴岡 薫</td>\n      <td>2019-01-01 04:48:22</td>\n      <td>つるおか かおる</td>\n      <td>tsuruoka_kaoru@example.com</td>\n      <td>M</td>\n      <td>74</td>\n      <td>1945/3/25</td>\n      <td>東京都</td>\n    </tr>\n    <tr>\n      <th>4</th>\n      <td>GD892565</td>\n      <td>大内 高史</td>\n      <td>2019-01-01 04:54:51</td>\n      <td>おおうち たかし</td>\n      <td>oouchi_takashi@example.com</td>\n      <td>M</td>\n      <td>54</td>\n      <td>1965/8/5</td>\n      <td>千葉県</td>\n    </tr>\n  </tbody>\n</table>\n</div>"
     },
     "metadata": {},
     "execution_count": 2
    }
   ],
   "source": [
    "import pandas as pd\n",
    "customer_master = pd.read_csv(\"customer_master.csv\")\n",
    "customer_master.head()"
   ]
  },
  {
   "cell_type": "code",
   "execution_count": 3,
   "metadata": {},
   "outputs": [
    {
     "output_type": "execute_result",
     "data": {
      "text/plain": [
       "  item_id item_name  item_price\n",
       "0    S001      PC-A       50000\n",
       "1    S002      PC-B       85000\n",
       "2    S003      PC-C      120000\n",
       "3    S004      PC-D      180000\n",
       "4    S005      PC-E      210000"
      ],
      "text/html": "<div>\n<style scoped>\n    .dataframe tbody tr th:only-of-type {\n        vertical-align: middle;\n    }\n\n    .dataframe tbody tr th {\n        vertical-align: top;\n    }\n\n    .dataframe thead th {\n        text-align: right;\n    }\n</style>\n<table border=\"1\" class=\"dataframe\">\n  <thead>\n    <tr style=\"text-align: right;\">\n      <th></th>\n      <th>item_id</th>\n      <th>item_name</th>\n      <th>item_price</th>\n    </tr>\n  </thead>\n  <tbody>\n    <tr>\n      <th>0</th>\n      <td>S001</td>\n      <td>PC-A</td>\n      <td>50000</td>\n    </tr>\n    <tr>\n      <th>1</th>\n      <td>S002</td>\n      <td>PC-B</td>\n      <td>85000</td>\n    </tr>\n    <tr>\n      <th>2</th>\n      <td>S003</td>\n      <td>PC-C</td>\n      <td>120000</td>\n    </tr>\n    <tr>\n      <th>3</th>\n      <td>S004</td>\n      <td>PC-D</td>\n      <td>180000</td>\n    </tr>\n    <tr>\n      <th>4</th>\n      <td>S005</td>\n      <td>PC-E</td>\n      <td>210000</td>\n    </tr>\n  </tbody>\n</table>\n</div>"
     },
     "metadata": {},
     "execution_count": 3
    }
   ],
   "source": [
    "item_master = pd.read_csv(\"item_master.csv\")\n",
    "item_master.head()"
   ]
  },
  {
   "cell_type": "code",
   "execution_count": 4,
   "metadata": {},
   "outputs": [
    {
     "output_type": "execute_result",
     "data": {
      "text/plain": [
       "  transaction_id   price         payment_date customer_id\n",
       "0    T0000000113  210000  2019-02-01 01:36:57    PL563502\n",
       "1    T0000000114   50000  2019-02-01 01:37:23    HD678019\n",
       "2    T0000000115  120000  2019-02-01 02:34:19    HD298120\n",
       "3    T0000000116  210000  2019-02-01 02:47:23    IK452215\n",
       "4    T0000000117  170000  2019-02-01 04:33:46    PL542865"
      ],
      "text/html": "<div>\n<style scoped>\n    .dataframe tbody tr th:only-of-type {\n        vertical-align: middle;\n    }\n\n    .dataframe tbody tr th {\n        vertical-align: top;\n    }\n\n    .dataframe thead th {\n        text-align: right;\n    }\n</style>\n<table border=\"1\" class=\"dataframe\">\n  <thead>\n    <tr style=\"text-align: right;\">\n      <th></th>\n      <th>transaction_id</th>\n      <th>price</th>\n      <th>payment_date</th>\n      <th>customer_id</th>\n    </tr>\n  </thead>\n  <tbody>\n    <tr>\n      <th>0</th>\n      <td>T0000000113</td>\n      <td>210000</td>\n      <td>2019-02-01 01:36:57</td>\n      <td>PL563502</td>\n    </tr>\n    <tr>\n      <th>1</th>\n      <td>T0000000114</td>\n      <td>50000</td>\n      <td>2019-02-01 01:37:23</td>\n      <td>HD678019</td>\n    </tr>\n    <tr>\n      <th>2</th>\n      <td>T0000000115</td>\n      <td>120000</td>\n      <td>2019-02-01 02:34:19</td>\n      <td>HD298120</td>\n    </tr>\n    <tr>\n      <th>3</th>\n      <td>T0000000116</td>\n      <td>210000</td>\n      <td>2019-02-01 02:47:23</td>\n      <td>IK452215</td>\n    </tr>\n    <tr>\n      <th>4</th>\n      <td>T0000000117</td>\n      <td>170000</td>\n      <td>2019-02-01 04:33:46</td>\n      <td>PL542865</td>\n    </tr>\n  </tbody>\n</table>\n</div>"
     },
     "metadata": {},
     "execution_count": 4
    }
   ],
   "source": [
    "transaction_1 = pd.read_csv(\"transaction_1.csv\")\n",
    "transaction_1.head()"
   ]
  },
  {
   "cell_type": "code",
   "execution_count": 5,
   "metadata": {},
   "outputs": [
    {
     "output_type": "execute_result",
     "data": {
      "text/plain": [
       "   detail_id transaction_id item_id  quantity\n",
       "0          0    T0000000113    S005         1\n",
       "1          1    T0000000114    S001         1\n",
       "2          2    T0000000115    S003         1\n",
       "3          3    T0000000116    S005         1\n",
       "4          4    T0000000117    S002         2"
      ],
      "text/html": "<div>\n<style scoped>\n    .dataframe tbody tr th:only-of-type {\n        vertical-align: middle;\n    }\n\n    .dataframe tbody tr th {\n        vertical-align: top;\n    }\n\n    .dataframe thead th {\n        text-align: right;\n    }\n</style>\n<table border=\"1\" class=\"dataframe\">\n  <thead>\n    <tr style=\"text-align: right;\">\n      <th></th>\n      <th>detail_id</th>\n      <th>transaction_id</th>\n      <th>item_id</th>\n      <th>quantity</th>\n    </tr>\n  </thead>\n  <tbody>\n    <tr>\n      <th>0</th>\n      <td>0</td>\n      <td>T0000000113</td>\n      <td>S005</td>\n      <td>1</td>\n    </tr>\n    <tr>\n      <th>1</th>\n      <td>1</td>\n      <td>T0000000114</td>\n      <td>S001</td>\n      <td>1</td>\n    </tr>\n    <tr>\n      <th>2</th>\n      <td>2</td>\n      <td>T0000000115</td>\n      <td>S003</td>\n      <td>1</td>\n    </tr>\n    <tr>\n      <th>3</th>\n      <td>3</td>\n      <td>T0000000116</td>\n      <td>S005</td>\n      <td>1</td>\n    </tr>\n    <tr>\n      <th>4</th>\n      <td>4</td>\n      <td>T0000000117</td>\n      <td>S002</td>\n      <td>2</td>\n    </tr>\n  </tbody>\n</table>\n</div>"
     },
     "metadata": {},
     "execution_count": 5
    }
   ],
   "source": [
    "transaction_detail_1 = pd.read_csv(\"transaction_detail_1.csv\")\n",
    "transaction_detail_1.head()"
   ]
  },
  {
   "cell_type": "code",
   "execution_count": 6,
   "metadata": {},
   "outputs": [
    {
     "output_type": "execute_result",
     "data": {
      "text/plain": [
       "  transaction_id   price         payment_date customer_id\n",
       "0    T0000005113  295000  2019-06-15 07:20:27    TS169261\n",
       "1    T0000005114   50000  2019-06-15 07:35:47    HI599892\n",
       "2    T0000005115   85000  2019-06-15 07:56:36    HI421757\n",
       "3    T0000005116   50000  2019-06-15 08:40:55    OA386378\n",
       "4    T0000005117  120000  2019-06-15 08:44:23    TS506913"
      ],
      "text/html": "<div>\n<style scoped>\n    .dataframe tbody tr th:only-of-type {\n        vertical-align: middle;\n    }\n\n    .dataframe tbody tr th {\n        vertical-align: top;\n    }\n\n    .dataframe thead th {\n        text-align: right;\n    }\n</style>\n<table border=\"1\" class=\"dataframe\">\n  <thead>\n    <tr style=\"text-align: right;\">\n      <th></th>\n      <th>transaction_id</th>\n      <th>price</th>\n      <th>payment_date</th>\n      <th>customer_id</th>\n    </tr>\n  </thead>\n  <tbody>\n    <tr>\n      <th>0</th>\n      <td>T0000005113</td>\n      <td>295000</td>\n      <td>2019-06-15 07:20:27</td>\n      <td>TS169261</td>\n    </tr>\n    <tr>\n      <th>1</th>\n      <td>T0000005114</td>\n      <td>50000</td>\n      <td>2019-06-15 07:35:47</td>\n      <td>HI599892</td>\n    </tr>\n    <tr>\n      <th>2</th>\n      <td>T0000005115</td>\n      <td>85000</td>\n      <td>2019-06-15 07:56:36</td>\n      <td>HI421757</td>\n    </tr>\n    <tr>\n      <th>3</th>\n      <td>T0000005116</td>\n      <td>50000</td>\n      <td>2019-06-15 08:40:55</td>\n      <td>OA386378</td>\n    </tr>\n    <tr>\n      <th>4</th>\n      <td>T0000005117</td>\n      <td>120000</td>\n      <td>2019-06-15 08:44:23</td>\n      <td>TS506913</td>\n    </tr>\n  </tbody>\n</table>\n</div>"
     },
     "metadata": {},
     "execution_count": 6
    }
   ],
   "source": [
    "transaction_2 = pd.read_csv(\"transaction_2.csv\")\n",
    "transaction_2.head()"
   ]
  },
  {
   "cell_type": "code",
   "execution_count": 7,
   "metadata": {},
   "outputs": [
    {
     "output_type": "execute_result",
     "data": {
      "text/plain": [
       "   detail_id transaction_id item_id  quantity\n",
       "0       5000    T0000004870    S002         3\n",
       "1       5001    T0000004871    S003         1\n",
       "2       5002    T0000004872    S001         2\n",
       "3       5003    T0000004873    S004         1\n",
       "4       5004    T0000004874    S003         2"
      ],
      "text/html": "<div>\n<style scoped>\n    .dataframe tbody tr th:only-of-type {\n        vertical-align: middle;\n    }\n\n    .dataframe tbody tr th {\n        vertical-align: top;\n    }\n\n    .dataframe thead th {\n        text-align: right;\n    }\n</style>\n<table border=\"1\" class=\"dataframe\">\n  <thead>\n    <tr style=\"text-align: right;\">\n      <th></th>\n      <th>detail_id</th>\n      <th>transaction_id</th>\n      <th>item_id</th>\n      <th>quantity</th>\n    </tr>\n  </thead>\n  <tbody>\n    <tr>\n      <th>0</th>\n      <td>5000</td>\n      <td>T0000004870</td>\n      <td>S002</td>\n      <td>3</td>\n    </tr>\n    <tr>\n      <th>1</th>\n      <td>5001</td>\n      <td>T0000004871</td>\n      <td>S003</td>\n      <td>1</td>\n    </tr>\n    <tr>\n      <th>2</th>\n      <td>5002</td>\n      <td>T0000004872</td>\n      <td>S001</td>\n      <td>2</td>\n    </tr>\n    <tr>\n      <th>3</th>\n      <td>5003</td>\n      <td>T0000004873</td>\n      <td>S004</td>\n      <td>1</td>\n    </tr>\n    <tr>\n      <th>4</th>\n      <td>5004</td>\n      <td>T0000004874</td>\n      <td>S003</td>\n      <td>2</td>\n    </tr>\n  </tbody>\n</table>\n</div>"
     },
     "metadata": {},
     "execution_count": 7
    }
   ],
   "source": [
    "transaction_detail_2 = pd.read_csv(\"transaction_detail_2.csv\")\n",
    "transaction_detail_2.head()"
   ]
  },
  {
   "source": [
    "## ノック2 データを結合(ユニオン)してみよう\n",
    "データを行方向に結合する．(unionというらしい．)"
   ],
   "cell_type": "markdown",
   "metadata": {}
  },
  {
   "cell_type": "code",
   "execution_count": 8,
   "metadata": {},
   "outputs": [
    {
     "output_type": "stream",
     "name": "stdout",
     "text": [
      "raws of transaction_1 : 5000\nraws of transaction_2 : 1786\nraws of unioned_transaction : 6786\n"
     ]
    }
   ],
   "source": [
    "unioned_transaction = pd.concat([transaction_1, transaction_2], ignore_index=True)\n",
    "print(\"raws of transaction_1 :\", len(transaction_1))\n",
    "print(\"raws of transaction_2 :\", len(transaction_2))\n",
    "print(\"raws of unioned_transaction :\", len(unioned_transaction))"
   ]
  },
  {
   "cell_type": "code",
   "execution_count": 9,
   "metadata": {},
   "outputs": [
    {
     "output_type": "stream",
     "name": "stdout",
     "text": [
      "raws of transaction_detail_1 : 5000\nraws of transaction_detail_2 : 2144\nraws of unioned_transaction_detail : 7144\n"
     ]
    }
   ],
   "source": [
    "unioned_transaction_detail = pd.concat([transaction_detail_1, transaction_detail_2], ignore_index=True)\n",
    "print(\"raws of transaction_detail_1 :\", len(transaction_detail_1))\n",
    "print(\"raws of transaction_detail_2 :\", len(transaction_detail_2))\n",
    "print(\"raws of unioned_transaction_detail :\", len(unioned_transaction_detail))"
   ]
  },
  {
   "source": [
    "## ノック3 売上データ同士を結合(ジョイン)してみよう\n",
    "データを列方向に結合する．(joinというらしい．)"
   ],
   "cell_type": "markdown",
   "metadata": {}
  },
  {
   "cell_type": "code",
   "execution_count": 10,
   "metadata": {},
   "outputs": [
    {
     "output_type": "execute_result",
     "data": {
      "text/plain": [
       "   detail_id transaction_id item_id  quantity         payment_date customer_id\n",
       "0          0    T0000000113    S005         1  2019-02-01 01:36:57    PL563502\n",
       "1          1    T0000000114    S001         1  2019-02-01 01:37:23    HD678019\n",
       "2          2    T0000000115    S003         1  2019-02-01 02:34:19    HD298120\n",
       "3          3    T0000000116    S005         1  2019-02-01 02:47:23    IK452215\n",
       "4          4    T0000000117    S002         2  2019-02-01 04:33:46    PL542865"
      ],
      "text/html": "<div>\n<style scoped>\n    .dataframe tbody tr th:only-of-type {\n        vertical-align: middle;\n    }\n\n    .dataframe tbody tr th {\n        vertical-align: top;\n    }\n\n    .dataframe thead th {\n        text-align: right;\n    }\n</style>\n<table border=\"1\" class=\"dataframe\">\n  <thead>\n    <tr style=\"text-align: right;\">\n      <th></th>\n      <th>detail_id</th>\n      <th>transaction_id</th>\n      <th>item_id</th>\n      <th>quantity</th>\n      <th>payment_date</th>\n      <th>customer_id</th>\n    </tr>\n  </thead>\n  <tbody>\n    <tr>\n      <th>0</th>\n      <td>0</td>\n      <td>T0000000113</td>\n      <td>S005</td>\n      <td>1</td>\n      <td>2019-02-01 01:36:57</td>\n      <td>PL563502</td>\n    </tr>\n    <tr>\n      <th>1</th>\n      <td>1</td>\n      <td>T0000000114</td>\n      <td>S001</td>\n      <td>1</td>\n      <td>2019-02-01 01:37:23</td>\n      <td>HD678019</td>\n    </tr>\n    <tr>\n      <th>2</th>\n      <td>2</td>\n      <td>T0000000115</td>\n      <td>S003</td>\n      <td>1</td>\n      <td>2019-02-01 02:34:19</td>\n      <td>HD298120</td>\n    </tr>\n    <tr>\n      <th>3</th>\n      <td>3</td>\n      <td>T0000000116</td>\n      <td>S005</td>\n      <td>1</td>\n      <td>2019-02-01 02:47:23</td>\n      <td>IK452215</td>\n    </tr>\n    <tr>\n      <th>4</th>\n      <td>4</td>\n      <td>T0000000117</td>\n      <td>S002</td>\n      <td>2</td>\n      <td>2019-02-01 04:33:46</td>\n      <td>PL542865</td>\n    </tr>\n  </tbody>\n</table>\n</div>"
     },
     "metadata": {},
     "execution_count": 10
    }
   ],
   "source": [
    "# \"transaction_id\"が共通キー, unioned_transaction_detailをメインにleft join\n",
    "\n",
    "joined_transaction = pd.merge(unioned_transaction_detail, unioned_transaction[[\"transaction_id\", \"payment_date\", \"customer_id\"]], on=\"transaction_id\", how=\"left\")\n",
    "joined_transaction.head()"
   ]
  },
  {
   "source": [
    "## ノック4 マスターデータを結合(ジョイン)してみよう\n",
    "今まで見てきたデータを全てjoinする"
   ],
   "cell_type": "markdown",
   "metadata": {}
  },
  {
   "cell_type": "code",
   "execution_count": 11,
   "metadata": {},
   "outputs": [
    {
     "output_type": "execute_result",
     "data": {
      "text/plain": [
       "   detail_id transaction_id item_id  quantity         payment_date  \\\n",
       "0          0    T0000000113    S005         1  2019-02-01 01:36:57   \n",
       "1          1    T0000000114    S001         1  2019-02-01 01:37:23   \n",
       "2          2    T0000000115    S003         1  2019-02-01 02:34:19   \n",
       "3          3    T0000000116    S005         1  2019-02-01 02:47:23   \n",
       "4          4    T0000000117    S002         2  2019-02-01 04:33:46   \n",
       "\n",
       "  customer_id item_name  item_price  \n",
       "0    PL563502      PC-E      210000  \n",
       "1    HD678019      PC-A       50000  \n",
       "2    HD298120      PC-C      120000  \n",
       "3    IK452215      PC-E      210000  \n",
       "4    PL542865      PC-B       85000  "
      ],
      "text/html": "<div>\n<style scoped>\n    .dataframe tbody tr th:only-of-type {\n        vertical-align: middle;\n    }\n\n    .dataframe tbody tr th {\n        vertical-align: top;\n    }\n\n    .dataframe thead th {\n        text-align: right;\n    }\n</style>\n<table border=\"1\" class=\"dataframe\">\n  <thead>\n    <tr style=\"text-align: right;\">\n      <th></th>\n      <th>detail_id</th>\n      <th>transaction_id</th>\n      <th>item_id</th>\n      <th>quantity</th>\n      <th>payment_date</th>\n      <th>customer_id</th>\n      <th>item_name</th>\n      <th>item_price</th>\n    </tr>\n  </thead>\n  <tbody>\n    <tr>\n      <th>0</th>\n      <td>0</td>\n      <td>T0000000113</td>\n      <td>S005</td>\n      <td>1</td>\n      <td>2019-02-01 01:36:57</td>\n      <td>PL563502</td>\n      <td>PC-E</td>\n      <td>210000</td>\n    </tr>\n    <tr>\n      <th>1</th>\n      <td>1</td>\n      <td>T0000000114</td>\n      <td>S001</td>\n      <td>1</td>\n      <td>2019-02-01 01:37:23</td>\n      <td>HD678019</td>\n      <td>PC-A</td>\n      <td>50000</td>\n    </tr>\n    <tr>\n      <th>2</th>\n      <td>2</td>\n      <td>T0000000115</td>\n      <td>S003</td>\n      <td>1</td>\n      <td>2019-02-01 02:34:19</td>\n      <td>HD298120</td>\n      <td>PC-C</td>\n      <td>120000</td>\n    </tr>\n    <tr>\n      <th>3</th>\n      <td>3</td>\n      <td>T0000000116</td>\n      <td>S005</td>\n      <td>1</td>\n      <td>2019-02-01 02:47:23</td>\n      <td>IK452215</td>\n      <td>PC-E</td>\n      <td>210000</td>\n    </tr>\n    <tr>\n      <th>4</th>\n      <td>4</td>\n      <td>T0000000117</td>\n      <td>S002</td>\n      <td>2</td>\n      <td>2019-02-01 04:33:46</td>\n      <td>PL542865</td>\n      <td>PC-B</td>\n      <td>85000</td>\n    </tr>\n  </tbody>\n</table>\n</div>"
     },
     "metadata": {},
     "execution_count": 11
    }
   ],
   "source": [
    "joined_data = pd.merge(joined_transaction, customer_master, on=\"customer_id\", how=\"left\")\n",
    "joined_data = pd.merge(joined_transaction, item_master, on=\"item_id\", how=\"left\")\n",
    "joined_data.head()"
   ]
  },
  {
   "source": [
    "## ノック5 必要なデータ列を作ろう\n",
    "売り上げ列(\"price\")を作る"
   ],
   "cell_type": "markdown",
   "metadata": {}
  },
  {
   "cell_type": "code",
   "execution_count": 12,
   "metadata": {},
   "outputs": [
    {
     "output_type": "execute_result",
     "data": {
      "text/plain": [
       "   quantity  item_price   price\n",
       "0         1      210000  210000\n",
       "1         1       50000   50000\n",
       "2         1      120000  120000\n",
       "3         1      210000  210000\n",
       "4         2       85000  170000"
      ],
      "text/html": "<div>\n<style scoped>\n    .dataframe tbody tr th:only-of-type {\n        vertical-align: middle;\n    }\n\n    .dataframe tbody tr th {\n        vertical-align: top;\n    }\n\n    .dataframe thead th {\n        text-align: right;\n    }\n</style>\n<table border=\"1\" class=\"dataframe\">\n  <thead>\n    <tr style=\"text-align: right;\">\n      <th></th>\n      <th>quantity</th>\n      <th>item_price</th>\n      <th>price</th>\n    </tr>\n  </thead>\n  <tbody>\n    <tr>\n      <th>0</th>\n      <td>1</td>\n      <td>210000</td>\n      <td>210000</td>\n    </tr>\n    <tr>\n      <th>1</th>\n      <td>1</td>\n      <td>50000</td>\n      <td>50000</td>\n    </tr>\n    <tr>\n      <th>2</th>\n      <td>1</td>\n      <td>120000</td>\n      <td>120000</td>\n    </tr>\n    <tr>\n      <th>3</th>\n      <td>1</td>\n      <td>210000</td>\n      <td>210000</td>\n    </tr>\n    <tr>\n      <th>4</th>\n      <td>2</td>\n      <td>85000</td>\n      <td>170000</td>\n    </tr>\n  </tbody>\n</table>\n</div>"
     },
     "metadata": {},
     "execution_count": 12
    }
   ],
   "source": [
    "joined_data[\"price\"] = joined_data[\"quantity\"] * joined_data[\"item_price\"]\n",
    "joined_data[[\"quantity\", \"item_price\", \"price\"]].head() "
   ]
  },
  {
   "source": [
    "## ノック6 データ検算をしよう\n",
    "データ加工前(unioned_transction)の\"price\"とデータ加工後(joined_data)の\"price\"を比較する"
   ],
   "cell_type": "markdown",
   "metadata": {}
  },
  {
   "cell_type": "code",
   "execution_count": 13,
   "metadata": {},
   "outputs": [
    {
     "output_type": "stream",
     "name": "stdout",
     "text": [
      "加工後 : 971135000\n加工前 : 971135000\n"
     ]
    }
   ],
   "source": [
    "print(\"加工後 :\", joined_data[\"price\"].sum())\n",
    "print(\"加工前 :\", unioned_transaction[\"price\"].sum())"
   ]
  },
  {
   "source": [
    "## ノック7 各種統計量を把握しよう\n",
    "データの欠損値や，データの規模感を把握する．"
   ],
   "cell_type": "markdown",
   "metadata": {}
  },
  {
   "cell_type": "code",
   "execution_count": 14,
   "metadata": {},
   "outputs": [
    {
     "output_type": "execute_result",
     "data": {
      "text/plain": [
       "detail_id         0\n",
       "transaction_id    0\n",
       "item_id           0\n",
       "quantity          0\n",
       "payment_date      0\n",
       "customer_id       0\n",
       "item_name         0\n",
       "item_price        0\n",
       "price             0\n",
       "dtype: int64"
      ]
     },
     "metadata": {},
     "execution_count": 14
    }
   ],
   "source": [
    "joined_data.isnull().sum()"
   ]
  },
  {
   "cell_type": "code",
   "execution_count": 15,
   "metadata": {},
   "outputs": [
    {
     "output_type": "execute_result",
     "data": {
      "text/plain": [
       "         detail_id     quantity     item_price          price\n",
       "count  7144.000000  7144.000000    7144.000000    7144.000000\n",
       "mean   3571.500000     1.199888  121698.628219  135937.150056\n",
       "std    2062.439494     0.513647   64571.311830   68511.453297\n",
       "min       0.000000     1.000000   50000.000000   50000.000000\n",
       "25%    1785.750000     1.000000   50000.000000   85000.000000\n",
       "50%    3571.500000     1.000000  102500.000000  120000.000000\n",
       "75%    5357.250000     1.000000  187500.000000  210000.000000\n",
       "max    7143.000000     4.000000  210000.000000  420000.000000"
      ],
      "text/html": "<div>\n<style scoped>\n    .dataframe tbody tr th:only-of-type {\n        vertical-align: middle;\n    }\n\n    .dataframe tbody tr th {\n        vertical-align: top;\n    }\n\n    .dataframe thead th {\n        text-align: right;\n    }\n</style>\n<table border=\"1\" class=\"dataframe\">\n  <thead>\n    <tr style=\"text-align: right;\">\n      <th></th>\n      <th>detail_id</th>\n      <th>quantity</th>\n      <th>item_price</th>\n      <th>price</th>\n    </tr>\n  </thead>\n  <tbody>\n    <tr>\n      <th>count</th>\n      <td>7144.000000</td>\n      <td>7144.000000</td>\n      <td>7144.000000</td>\n      <td>7144.000000</td>\n    </tr>\n    <tr>\n      <th>mean</th>\n      <td>3571.500000</td>\n      <td>1.199888</td>\n      <td>121698.628219</td>\n      <td>135937.150056</td>\n    </tr>\n    <tr>\n      <th>std</th>\n      <td>2062.439494</td>\n      <td>0.513647</td>\n      <td>64571.311830</td>\n      <td>68511.453297</td>\n    </tr>\n    <tr>\n      <th>min</th>\n      <td>0.000000</td>\n      <td>1.000000</td>\n      <td>50000.000000</td>\n      <td>50000.000000</td>\n    </tr>\n    <tr>\n      <th>25%</th>\n      <td>1785.750000</td>\n      <td>1.000000</td>\n      <td>50000.000000</td>\n      <td>85000.000000</td>\n    </tr>\n    <tr>\n      <th>50%</th>\n      <td>3571.500000</td>\n      <td>1.000000</td>\n      <td>102500.000000</td>\n      <td>120000.000000</td>\n    </tr>\n    <tr>\n      <th>75%</th>\n      <td>5357.250000</td>\n      <td>1.000000</td>\n      <td>187500.000000</td>\n      <td>210000.000000</td>\n    </tr>\n    <tr>\n      <th>max</th>\n      <td>7143.000000</td>\n      <td>4.000000</td>\n      <td>210000.000000</td>\n      <td>420000.000000</td>\n    </tr>\n  </tbody>\n</table>\n</div>"
     },
     "metadata": {},
     "execution_count": 15
    }
   ],
   "source": [
    "joined_data.describe()"
   ]
  },
  {
   "source": [
    "## ノック8 月別でデータを集計しよう\n",
    "データの範囲を絞る"
   ],
   "cell_type": "markdown",
   "metadata": {}
  },
  {
   "cell_type": "code",
   "execution_count": 16,
   "metadata": {},
   "outputs": [
    {
     "output_type": "execute_result",
     "data": {
      "text/plain": [
       "detail_id          int64\n",
       "transaction_id    object\n",
       "item_id           object\n",
       "quantity           int64\n",
       "payment_date      object\n",
       "customer_id       object\n",
       "item_name         object\n",
       "item_price         int64\n",
       "price              int64\n",
       "dtype: object"
      ]
     },
     "metadata": {},
     "execution_count": 16
    }
   ],
   "source": [
    "joined_data.dtypes"
   ]
  },
  {
   "cell_type": "code",
   "execution_count": 17,
   "metadata": {},
   "outputs": [
    {
     "output_type": "execute_result",
     "data": {
      "text/plain": [
       "         payment_date payment_month\n",
       "0 2019-02-01 01:36:57        201902\n",
       "1 2019-02-01 01:37:23        201902\n",
       "2 2019-02-01 02:34:19        201902\n",
       "3 2019-02-01 02:47:23        201902\n",
       "4 2019-02-01 04:33:46        201902"
      ],
      "text/html": "<div>\n<style scoped>\n    .dataframe tbody tr th:only-of-type {\n        vertical-align: middle;\n    }\n\n    .dataframe tbody tr th {\n        vertical-align: top;\n    }\n\n    .dataframe thead th {\n        text-align: right;\n    }\n</style>\n<table border=\"1\" class=\"dataframe\">\n  <thead>\n    <tr style=\"text-align: right;\">\n      <th></th>\n      <th>payment_date</th>\n      <th>payment_month</th>\n    </tr>\n  </thead>\n  <tbody>\n    <tr>\n      <th>0</th>\n      <td>2019-02-01 01:36:57</td>\n      <td>201902</td>\n    </tr>\n    <tr>\n      <th>1</th>\n      <td>2019-02-01 01:37:23</td>\n      <td>201902</td>\n    </tr>\n    <tr>\n      <th>2</th>\n      <td>2019-02-01 02:34:19</td>\n      <td>201902</td>\n    </tr>\n    <tr>\n      <th>3</th>\n      <td>2019-02-01 02:47:23</td>\n      <td>201902</td>\n    </tr>\n    <tr>\n      <th>4</th>\n      <td>2019-02-01 04:33:46</td>\n      <td>201902</td>\n    </tr>\n  </tbody>\n</table>\n</div>"
     },
     "metadata": {},
     "execution_count": 17
    }
   ],
   "source": [
    "joined_data[\"payment_date\"] = pd.to_datetime(joined_data[\"payment_date\"])\n",
    "joined_data[\"payment_month\"] = joined_data[\"payment_date\"].dt.strftime(\"%Y%m\")\n",
    "joined_data[[\"payment_date\", \"payment_month\"]].head()"
   ]
  },
  {
   "cell_type": "code",
   "execution_count": 18,
   "metadata": {},
   "outputs": [
    {
     "output_type": "execute_result",
     "data": {
      "text/plain": [
       "payment_month\n",
       "201902    160185000\n",
       "201903    160370000\n",
       "201904    160510000\n",
       "201905    155420000\n",
       "201906    164030000\n",
       "201907    170620000\n",
       "Name: price, dtype: int64"
      ]
     },
     "metadata": {},
     "execution_count": 18
    }
   ],
   "source": [
    "joined_data.groupby(\"payment_month\").sum()[\"price\"]"
   ]
  },
  {
   "source": [
    "## ノック9 月別，商品別でデータを集計してみよう\n",
    "groupbyでデータの集計をする．pivot_tableも使ってみる．"
   ],
   "cell_type": "markdown",
   "metadata": {}
  },
  {
   "cell_type": "code",
   "execution_count": 19,
   "metadata": {},
   "outputs": [
    {
     "output_type": "execute_result",
     "data": {
      "text/plain": [
       "                            price  quantity\n",
       "payment_month item_name                    \n",
       "201902        PC-A       24150000       483\n",
       "              PC-B       25245000       297\n",
       "              PC-C       19800000       165\n",
       "              PC-D       31140000       173\n",
       "              PC-E       59850000       285\n",
       "201903        PC-A       26000000       520\n",
       "              PC-B       25500000       300\n",
       "              PC-C       19080000       159\n",
       "              PC-D       25740000       143\n",
       "              PC-E       64050000       305\n",
       "201904        PC-A       25900000       518\n",
       "              PC-B       23460000       276\n",
       "              PC-C       21960000       183\n",
       "              PC-D       24300000       135\n",
       "              PC-E       64890000       309\n",
       "201905        PC-A       24850000       497\n",
       "              PC-B       25330000       298\n",
       "              PC-C       20520000       171\n",
       "              PC-D       25920000       144\n",
       "              PC-E       58800000       280\n",
       "201906        PC-A       26000000       520\n",
       "              PC-B       23970000       282\n",
       "              PC-C       21840000       182\n",
       "              PC-D       28800000       160\n",
       "              PC-E       63420000       302\n",
       "201907        PC-A       25250000       505\n",
       "              PC-B       28220000       332\n",
       "              PC-C       19440000       162\n",
       "              PC-D       26100000       145\n",
       "              PC-E       71610000       341"
      ],
      "text/html": "<div>\n<style scoped>\n    .dataframe tbody tr th:only-of-type {\n        vertical-align: middle;\n    }\n\n    .dataframe tbody tr th {\n        vertical-align: top;\n    }\n\n    .dataframe thead th {\n        text-align: right;\n    }\n</style>\n<table border=\"1\" class=\"dataframe\">\n  <thead>\n    <tr style=\"text-align: right;\">\n      <th></th>\n      <th></th>\n      <th>price</th>\n      <th>quantity</th>\n    </tr>\n    <tr>\n      <th>payment_month</th>\n      <th>item_name</th>\n      <th></th>\n      <th></th>\n    </tr>\n  </thead>\n  <tbody>\n    <tr>\n      <th rowspan=\"5\" valign=\"top\">201902</th>\n      <th>PC-A</th>\n      <td>24150000</td>\n      <td>483</td>\n    </tr>\n    <tr>\n      <th>PC-B</th>\n      <td>25245000</td>\n      <td>297</td>\n    </tr>\n    <tr>\n      <th>PC-C</th>\n      <td>19800000</td>\n      <td>165</td>\n    </tr>\n    <tr>\n      <th>PC-D</th>\n      <td>31140000</td>\n      <td>173</td>\n    </tr>\n    <tr>\n      <th>PC-E</th>\n      <td>59850000</td>\n      <td>285</td>\n    </tr>\n    <tr>\n      <th rowspan=\"5\" valign=\"top\">201903</th>\n      <th>PC-A</th>\n      <td>26000000</td>\n      <td>520</td>\n    </tr>\n    <tr>\n      <th>PC-B</th>\n      <td>25500000</td>\n      <td>300</td>\n    </tr>\n    <tr>\n      <th>PC-C</th>\n      <td>19080000</td>\n      <td>159</td>\n    </tr>\n    <tr>\n      <th>PC-D</th>\n      <td>25740000</td>\n      <td>143</td>\n    </tr>\n    <tr>\n      <th>PC-E</th>\n      <td>64050000</td>\n      <td>305</td>\n    </tr>\n    <tr>\n      <th rowspan=\"5\" valign=\"top\">201904</th>\n      <th>PC-A</th>\n      <td>25900000</td>\n      <td>518</td>\n    </tr>\n    <tr>\n      <th>PC-B</th>\n      <td>23460000</td>\n      <td>276</td>\n    </tr>\n    <tr>\n      <th>PC-C</th>\n      <td>21960000</td>\n      <td>183</td>\n    </tr>\n    <tr>\n      <th>PC-D</th>\n      <td>24300000</td>\n      <td>135</td>\n    </tr>\n    <tr>\n      <th>PC-E</th>\n      <td>64890000</td>\n      <td>309</td>\n    </tr>\n    <tr>\n      <th rowspan=\"5\" valign=\"top\">201905</th>\n      <th>PC-A</th>\n      <td>24850000</td>\n      <td>497</td>\n    </tr>\n    <tr>\n      <th>PC-B</th>\n      <td>25330000</td>\n      <td>298</td>\n    </tr>\n    <tr>\n      <th>PC-C</th>\n      <td>20520000</td>\n      <td>171</td>\n    </tr>\n    <tr>\n      <th>PC-D</th>\n      <td>25920000</td>\n      <td>144</td>\n    </tr>\n    <tr>\n      <th>PC-E</th>\n      <td>58800000</td>\n      <td>280</td>\n    </tr>\n    <tr>\n      <th rowspan=\"5\" valign=\"top\">201906</th>\n      <th>PC-A</th>\n      <td>26000000</td>\n      <td>520</td>\n    </tr>\n    <tr>\n      <th>PC-B</th>\n      <td>23970000</td>\n      <td>282</td>\n    </tr>\n    <tr>\n      <th>PC-C</th>\n      <td>21840000</td>\n      <td>182</td>\n    </tr>\n    <tr>\n      <th>PC-D</th>\n      <td>28800000</td>\n      <td>160</td>\n    </tr>\n    <tr>\n      <th>PC-E</th>\n      <td>63420000</td>\n      <td>302</td>\n    </tr>\n    <tr>\n      <th rowspan=\"5\" valign=\"top\">201907</th>\n      <th>PC-A</th>\n      <td>25250000</td>\n      <td>505</td>\n    </tr>\n    <tr>\n      <th>PC-B</th>\n      <td>28220000</td>\n      <td>332</td>\n    </tr>\n    <tr>\n      <th>PC-C</th>\n      <td>19440000</td>\n      <td>162</td>\n    </tr>\n    <tr>\n      <th>PC-D</th>\n      <td>26100000</td>\n      <td>145</td>\n    </tr>\n    <tr>\n      <th>PC-E</th>\n      <td>71610000</td>\n      <td>341</td>\n    </tr>\n  </tbody>\n</table>\n</div>"
     },
     "metadata": {},
     "execution_count": 19
    }
   ],
   "source": [
    "joined_data.groupby([\"payment_month\", \"item_name\"]).sum()[[\"price\", \"quantity\"]]"
   ]
  },
  {
   "cell_type": "code",
   "execution_count": 20,
   "metadata": {},
   "outputs": [
    {
     "output_type": "execute_result",
     "data": {
      "text/plain": [
       "                  price                                                    \\\n",
       "payment_month    201902    201903    201904    201905    201906    201907   \n",
       "item_name                                                                   \n",
       "PC-A           24150000  26000000  25900000  24850000  26000000  25250000   \n",
       "PC-B           25245000  25500000  23460000  25330000  23970000  28220000   \n",
       "PC-C           19800000  19080000  21960000  20520000  21840000  19440000   \n",
       "PC-D           31140000  25740000  24300000  25920000  28800000  26100000   \n",
       "PC-E           59850000  64050000  64890000  58800000  63420000  71610000   \n",
       "\n",
       "              quantity                                     \n",
       "payment_month   201902 201903 201904 201905 201906 201907  \n",
       "item_name                                                  \n",
       "PC-A               483    520    518    497    520    505  \n",
       "PC-B               297    300    276    298    282    332  \n",
       "PC-C               165    159    183    171    182    162  \n",
       "PC-D               173    143    135    144    160    145  \n",
       "PC-E               285    305    309    280    302    341  "
      ],
      "text/html": "<div>\n<style scoped>\n    .dataframe tbody tr th:only-of-type {\n        vertical-align: middle;\n    }\n\n    .dataframe tbody tr th {\n        vertical-align: top;\n    }\n\n    .dataframe thead tr th {\n        text-align: left;\n    }\n\n    .dataframe thead tr:last-of-type th {\n        text-align: right;\n    }\n</style>\n<table border=\"1\" class=\"dataframe\">\n  <thead>\n    <tr>\n      <th></th>\n      <th colspan=\"6\" halign=\"left\">price</th>\n      <th colspan=\"6\" halign=\"left\">quantity</th>\n    </tr>\n    <tr>\n      <th>payment_month</th>\n      <th>201902</th>\n      <th>201903</th>\n      <th>201904</th>\n      <th>201905</th>\n      <th>201906</th>\n      <th>201907</th>\n      <th>201902</th>\n      <th>201903</th>\n      <th>201904</th>\n      <th>201905</th>\n      <th>201906</th>\n      <th>201907</th>\n    </tr>\n    <tr>\n      <th>item_name</th>\n      <th></th>\n      <th></th>\n      <th></th>\n      <th></th>\n      <th></th>\n      <th></th>\n      <th></th>\n      <th></th>\n      <th></th>\n      <th></th>\n      <th></th>\n      <th></th>\n    </tr>\n  </thead>\n  <tbody>\n    <tr>\n      <th>PC-A</th>\n      <td>24150000</td>\n      <td>26000000</td>\n      <td>25900000</td>\n      <td>24850000</td>\n      <td>26000000</td>\n      <td>25250000</td>\n      <td>483</td>\n      <td>520</td>\n      <td>518</td>\n      <td>497</td>\n      <td>520</td>\n      <td>505</td>\n    </tr>\n    <tr>\n      <th>PC-B</th>\n      <td>25245000</td>\n      <td>25500000</td>\n      <td>23460000</td>\n      <td>25330000</td>\n      <td>23970000</td>\n      <td>28220000</td>\n      <td>297</td>\n      <td>300</td>\n      <td>276</td>\n      <td>298</td>\n      <td>282</td>\n      <td>332</td>\n    </tr>\n    <tr>\n      <th>PC-C</th>\n      <td>19800000</td>\n      <td>19080000</td>\n      <td>21960000</td>\n      <td>20520000</td>\n      <td>21840000</td>\n      <td>19440000</td>\n      <td>165</td>\n      <td>159</td>\n      <td>183</td>\n      <td>171</td>\n      <td>182</td>\n      <td>162</td>\n    </tr>\n    <tr>\n      <th>PC-D</th>\n      <td>31140000</td>\n      <td>25740000</td>\n      <td>24300000</td>\n      <td>25920000</td>\n      <td>28800000</td>\n      <td>26100000</td>\n      <td>173</td>\n      <td>143</td>\n      <td>135</td>\n      <td>144</td>\n      <td>160</td>\n      <td>145</td>\n    </tr>\n    <tr>\n      <th>PC-E</th>\n      <td>59850000</td>\n      <td>64050000</td>\n      <td>64890000</td>\n      <td>58800000</td>\n      <td>63420000</td>\n      <td>71610000</td>\n      <td>285</td>\n      <td>305</td>\n      <td>309</td>\n      <td>280</td>\n      <td>302</td>\n      <td>341</td>\n    </tr>\n  </tbody>\n</table>\n</div>"
     },
     "metadata": {},
     "execution_count": 20
    }
   ],
   "source": [
    "pd.pivot_table(joined_data, index=\"item_name\", columns=\"payment_month\", values=[\"price\", \"quantity\"], aggfunc=\"sum\")"
   ]
  },
  {
   "source": [
    "## ノック10 商品別の売上推移を可視化してみよう\n",
    "グラフ用のデータ作成と，matplotlibを用いたグラフ化"
   ],
   "cell_type": "markdown",
   "metadata": {}
  },
  {
   "cell_type": "code",
   "execution_count": 21,
   "metadata": {},
   "outputs": [
    {
     "output_type": "execute_result",
     "data": {
      "text/plain": [
       "item_name          PC-A      PC-B      PC-C      PC-D      PC-E\n",
       "payment_month                                                  \n",
       "201902         24150000  25245000  19800000  31140000  59850000\n",
       "201903         26000000  25500000  19080000  25740000  64050000\n",
       "201904         25900000  23460000  21960000  24300000  64890000\n",
       "201905         24850000  25330000  20520000  25920000  58800000\n",
       "201906         26000000  23970000  21840000  28800000  63420000"
      ],
      "text/html": "<div>\n<style scoped>\n    .dataframe tbody tr th:only-of-type {\n        vertical-align: middle;\n    }\n\n    .dataframe tbody tr th {\n        vertical-align: top;\n    }\n\n    .dataframe thead th {\n        text-align: right;\n    }\n</style>\n<table border=\"1\" class=\"dataframe\">\n  <thead>\n    <tr style=\"text-align: right;\">\n      <th>item_name</th>\n      <th>PC-A</th>\n      <th>PC-B</th>\n      <th>PC-C</th>\n      <th>PC-D</th>\n      <th>PC-E</th>\n    </tr>\n    <tr>\n      <th>payment_month</th>\n      <th></th>\n      <th></th>\n      <th></th>\n      <th></th>\n      <th></th>\n    </tr>\n  </thead>\n  <tbody>\n    <tr>\n      <th>201902</th>\n      <td>24150000</td>\n      <td>25245000</td>\n      <td>19800000</td>\n      <td>31140000</td>\n      <td>59850000</td>\n    </tr>\n    <tr>\n      <th>201903</th>\n      <td>26000000</td>\n      <td>25500000</td>\n      <td>19080000</td>\n      <td>25740000</td>\n      <td>64050000</td>\n    </tr>\n    <tr>\n      <th>201904</th>\n      <td>25900000</td>\n      <td>23460000</td>\n      <td>21960000</td>\n      <td>24300000</td>\n      <td>64890000</td>\n    </tr>\n    <tr>\n      <th>201905</th>\n      <td>24850000</td>\n      <td>25330000</td>\n      <td>20520000</td>\n      <td>25920000</td>\n      <td>58800000</td>\n    </tr>\n    <tr>\n      <th>201906</th>\n      <td>26000000</td>\n      <td>23970000</td>\n      <td>21840000</td>\n      <td>28800000</td>\n      <td>63420000</td>\n    </tr>\n  </tbody>\n</table>\n</div>"
     },
     "metadata": {},
     "execution_count": 21
    }
   ],
   "source": [
    "graph_data = pd.pivot_table(joined_data, index=\"payment_month\", columns=\"item_name\", values=\"price\", aggfunc=\"sum\")\n",
    "graph_data.head()"
   ]
  },
  {
   "cell_type": "code",
   "execution_count": 22,
   "metadata": {},
   "outputs": [
    {
     "output_type": "execute_result",
     "data": {
      "text/plain": [
       "<matplotlib.legend.Legend at 0x1451f8d53c8>"
      ]
     },
     "metadata": {},
     "execution_count": 22
    },
    {
     "output_type": "display_data",
     "data": {
      "text/plain": "<Figure size 432x288 with 1 Axes>",
      "image/svg+xml": "<?xml version=\"1.0\" encoding=\"utf-8\" standalone=\"no\"?>\r\n<!DOCTYPE svg PUBLIC \"-//W3C//DTD SVG 1.1//EN\"\r\n  \"http://www.w3.org/Graphics/SVG/1.1/DTD/svg11.dtd\">\r\n<!-- Created with matplotlib (https://matplotlib.org/) -->\r\n<svg height=\"259.116562pt\" version=\"1.1\" viewBox=\"0 0 366.431818 259.116562\" width=\"366.431818pt\" xmlns=\"http://www.w3.org/2000/svg\" xmlns:xlink=\"http://www.w3.org/1999/xlink\">\r\n <defs>\r\n  <style type=\"text/css\">\r\n*{stroke-linecap:butt;stroke-linejoin:round;}\r\n  </style>\r\n </defs>\r\n <g id=\"figure_1\">\r\n  <g id=\"patch_1\">\r\n   <path d=\"M 0 259.116562 \r\nL 366.431818 259.116562 \r\nL 366.431818 0 \r\nL 0 0 \r\nz\r\n\" style=\"fill:none;\"/>\r\n  </g>\r\n  <g id=\"axes_1\">\r\n   <g id=\"patch_2\">\r\n    <path d=\"M 20.5625 235.238437 \r\nL 355.3625 235.238437 \r\nL 355.3625 17.798437 \r\nL 20.5625 17.798437 \r\nz\r\n\" style=\"fill:#ffffff;\"/>\r\n   </g>\r\n   <g id=\"matplotlib.axis_1\">\r\n    <g id=\"xtick_1\">\r\n     <g id=\"line2d_1\">\r\n      <defs>\r\n       <path d=\"M 0 0 \r\nL 0 3.5 \r\n\" id=\"me1e314b2f8\" style=\"stroke:#000000;stroke-width:0.8;\"/>\r\n      </defs>\r\n      <g>\r\n       <use style=\"stroke:#000000;stroke-width:0.8;\" x=\"35.780682\" xlink:href=\"#me1e314b2f8\" y=\"235.238437\"/>\r\n      </g>\r\n     </g>\r\n     <g id=\"text_1\">\r\n      <!-- 201902 -->\r\n      <defs>\r\n       <path d=\"M 19.1875 8.296875 \r\nL 53.609375 8.296875 \r\nL 53.609375 0 \r\nL 7.328125 0 \r\nL 7.328125 8.296875 \r\nQ 12.9375 14.109375 22.625 23.890625 \r\nQ 32.328125 33.6875 34.8125 36.53125 \r\nQ 39.546875 41.84375 41.421875 45.53125 \r\nQ 43.3125 49.21875 43.3125 52.78125 \r\nQ 43.3125 58.59375 39.234375 62.25 \r\nQ 35.15625 65.921875 28.609375 65.921875 \r\nQ 23.96875 65.921875 18.8125 64.3125 \r\nQ 13.671875 62.703125 7.8125 59.421875 \r\nL 7.8125 69.390625 \r\nQ 13.765625 71.78125 18.9375 73 \r\nQ 24.125 74.21875 28.421875 74.21875 \r\nQ 39.75 74.21875 46.484375 68.546875 \r\nQ 53.21875 62.890625 53.21875 53.421875 \r\nQ 53.21875 48.921875 51.53125 44.890625 \r\nQ 49.859375 40.875 45.40625 35.40625 \r\nQ 44.1875 33.984375 37.640625 27.21875 \r\nQ 31.109375 20.453125 19.1875 8.296875 \r\nz\r\n\" id=\"DejaVuSans-50\"/>\r\n       <path d=\"M 31.78125 66.40625 \r\nQ 24.171875 66.40625 20.328125 58.90625 \r\nQ 16.5 51.421875 16.5 36.375 \r\nQ 16.5 21.390625 20.328125 13.890625 \r\nQ 24.171875 6.390625 31.78125 6.390625 \r\nQ 39.453125 6.390625 43.28125 13.890625 \r\nQ 47.125 21.390625 47.125 36.375 \r\nQ 47.125 51.421875 43.28125 58.90625 \r\nQ 39.453125 66.40625 31.78125 66.40625 \r\nz\r\nM 31.78125 74.21875 \r\nQ 44.046875 74.21875 50.515625 64.515625 \r\nQ 56.984375 54.828125 56.984375 36.375 \r\nQ 56.984375 17.96875 50.515625 8.265625 \r\nQ 44.046875 -1.421875 31.78125 -1.421875 \r\nQ 19.53125 -1.421875 13.0625 8.265625 \r\nQ 6.59375 17.96875 6.59375 36.375 \r\nQ 6.59375 54.828125 13.0625 64.515625 \r\nQ 19.53125 74.21875 31.78125 74.21875 \r\nz\r\n\" id=\"DejaVuSans-48\"/>\r\n       <path d=\"M 12.40625 8.296875 \r\nL 28.515625 8.296875 \r\nL 28.515625 63.921875 \r\nL 10.984375 60.40625 \r\nL 10.984375 69.390625 \r\nL 28.421875 72.90625 \r\nL 38.28125 72.90625 \r\nL 38.28125 8.296875 \r\nL 54.390625 8.296875 \r\nL 54.390625 0 \r\nL 12.40625 0 \r\nz\r\n\" id=\"DejaVuSans-49\"/>\r\n       <path d=\"M 10.984375 1.515625 \r\nL 10.984375 10.5 \r\nQ 14.703125 8.734375 18.5 7.8125 \r\nQ 22.3125 6.890625 25.984375 6.890625 \r\nQ 35.75 6.890625 40.890625 13.453125 \r\nQ 46.046875 20.015625 46.78125 33.40625 \r\nQ 43.953125 29.203125 39.59375 26.953125 \r\nQ 35.25 24.703125 29.984375 24.703125 \r\nQ 19.046875 24.703125 12.671875 31.3125 \r\nQ 6.296875 37.9375 6.296875 49.421875 \r\nQ 6.296875 60.640625 12.9375 67.421875 \r\nQ 19.578125 74.21875 30.609375 74.21875 \r\nQ 43.265625 74.21875 49.921875 64.515625 \r\nQ 56.59375 54.828125 56.59375 36.375 \r\nQ 56.59375 19.140625 48.40625 8.859375 \r\nQ 40.234375 -1.421875 26.421875 -1.421875 \r\nQ 22.703125 -1.421875 18.890625 -0.6875 \r\nQ 15.09375 0.046875 10.984375 1.515625 \r\nz\r\nM 30.609375 32.421875 \r\nQ 37.25 32.421875 41.125 36.953125 \r\nQ 45.015625 41.5 45.015625 49.421875 \r\nQ 45.015625 57.28125 41.125 61.84375 \r\nQ 37.25 66.40625 30.609375 66.40625 \r\nQ 23.96875 66.40625 20.09375 61.84375 \r\nQ 16.21875 57.28125 16.21875 49.421875 \r\nQ 16.21875 41.5 20.09375 36.953125 \r\nQ 23.96875 32.421875 30.609375 32.421875 \r\nz\r\n\" id=\"DejaVuSans-57\"/>\r\n      </defs>\r\n      <g transform=\"translate(16.693182 249.836875)scale(0.1 -0.1)\">\r\n       <use xlink:href=\"#DejaVuSans-50\"/>\r\n       <use x=\"63.623047\" xlink:href=\"#DejaVuSans-48\"/>\r\n       <use x=\"127.246094\" xlink:href=\"#DejaVuSans-49\"/>\r\n       <use x=\"190.869141\" xlink:href=\"#DejaVuSans-57\"/>\r\n       <use x=\"254.492188\" xlink:href=\"#DejaVuSans-48\"/>\r\n       <use x=\"318.115234\" xlink:href=\"#DejaVuSans-50\"/>\r\n      </g>\r\n     </g>\r\n    </g>\r\n    <g id=\"xtick_2\">\r\n     <g id=\"line2d_2\">\r\n      <g>\r\n       <use style=\"stroke:#000000;stroke-width:0.8;\" x=\"96.653409\" xlink:href=\"#me1e314b2f8\" y=\"235.238437\"/>\r\n      </g>\r\n     </g>\r\n     <g id=\"text_2\">\r\n      <!-- 201903 -->\r\n      <defs>\r\n       <path d=\"M 40.578125 39.3125 \r\nQ 47.65625 37.796875 51.625 33 \r\nQ 55.609375 28.21875 55.609375 21.1875 \r\nQ 55.609375 10.40625 48.1875 4.484375 \r\nQ 40.765625 -1.421875 27.09375 -1.421875 \r\nQ 22.515625 -1.421875 17.65625 -0.515625 \r\nQ 12.796875 0.390625 7.625 2.203125 \r\nL 7.625 11.71875 \r\nQ 11.71875 9.328125 16.59375 8.109375 \r\nQ 21.484375 6.890625 26.8125 6.890625 \r\nQ 36.078125 6.890625 40.9375 10.546875 \r\nQ 45.796875 14.203125 45.796875 21.1875 \r\nQ 45.796875 27.640625 41.28125 31.265625 \r\nQ 36.765625 34.90625 28.71875 34.90625 \r\nL 20.21875 34.90625 \r\nL 20.21875 43.015625 \r\nL 29.109375 43.015625 \r\nQ 36.375 43.015625 40.234375 45.921875 \r\nQ 44.09375 48.828125 44.09375 54.296875 \r\nQ 44.09375 59.90625 40.109375 62.90625 \r\nQ 36.140625 65.921875 28.71875 65.921875 \r\nQ 24.65625 65.921875 20.015625 65.03125 \r\nQ 15.375 64.15625 9.8125 62.3125 \r\nL 9.8125 71.09375 \r\nQ 15.4375 72.65625 20.34375 73.4375 \r\nQ 25.25 74.21875 29.59375 74.21875 \r\nQ 40.828125 74.21875 47.359375 69.109375 \r\nQ 53.90625 64.015625 53.90625 55.328125 \r\nQ 53.90625 49.265625 50.4375 45.09375 \r\nQ 46.96875 40.921875 40.578125 39.3125 \r\nz\r\n\" id=\"DejaVuSans-51\"/>\r\n      </defs>\r\n      <g transform=\"translate(77.565909 249.836875)scale(0.1 -0.1)\">\r\n       <use xlink:href=\"#DejaVuSans-50\"/>\r\n       <use x=\"63.623047\" xlink:href=\"#DejaVuSans-48\"/>\r\n       <use x=\"127.246094\" xlink:href=\"#DejaVuSans-49\"/>\r\n       <use x=\"190.869141\" xlink:href=\"#DejaVuSans-57\"/>\r\n       <use x=\"254.492188\" xlink:href=\"#DejaVuSans-48\"/>\r\n       <use x=\"318.115234\" xlink:href=\"#DejaVuSans-51\"/>\r\n      </g>\r\n     </g>\r\n    </g>\r\n    <g id=\"xtick_3\">\r\n     <g id=\"line2d_3\">\r\n      <g>\r\n       <use style=\"stroke:#000000;stroke-width:0.8;\" x=\"157.526136\" xlink:href=\"#me1e314b2f8\" y=\"235.238437\"/>\r\n      </g>\r\n     </g>\r\n     <g id=\"text_3\">\r\n      <!-- 201904 -->\r\n      <defs>\r\n       <path d=\"M 37.796875 64.3125 \r\nL 12.890625 25.390625 \r\nL 37.796875 25.390625 \r\nz\r\nM 35.203125 72.90625 \r\nL 47.609375 72.90625 \r\nL 47.609375 25.390625 \r\nL 58.015625 25.390625 \r\nL 58.015625 17.1875 \r\nL 47.609375 17.1875 \r\nL 47.609375 0 \r\nL 37.796875 0 \r\nL 37.796875 17.1875 \r\nL 4.890625 17.1875 \r\nL 4.890625 26.703125 \r\nz\r\n\" id=\"DejaVuSans-52\"/>\r\n      </defs>\r\n      <g transform=\"translate(138.438636 249.836875)scale(0.1 -0.1)\">\r\n       <use xlink:href=\"#DejaVuSans-50\"/>\r\n       <use x=\"63.623047\" xlink:href=\"#DejaVuSans-48\"/>\r\n       <use x=\"127.246094\" xlink:href=\"#DejaVuSans-49\"/>\r\n       <use x=\"190.869141\" xlink:href=\"#DejaVuSans-57\"/>\r\n       <use x=\"254.492188\" xlink:href=\"#DejaVuSans-48\"/>\r\n       <use x=\"318.115234\" xlink:href=\"#DejaVuSans-52\"/>\r\n      </g>\r\n     </g>\r\n    </g>\r\n    <g id=\"xtick_4\">\r\n     <g id=\"line2d_4\">\r\n      <g>\r\n       <use style=\"stroke:#000000;stroke-width:0.8;\" x=\"218.398864\" xlink:href=\"#me1e314b2f8\" y=\"235.238437\"/>\r\n      </g>\r\n     </g>\r\n     <g id=\"text_4\">\r\n      <!-- 201905 -->\r\n      <defs>\r\n       <path d=\"M 10.796875 72.90625 \r\nL 49.515625 72.90625 \r\nL 49.515625 64.59375 \r\nL 19.828125 64.59375 \r\nL 19.828125 46.734375 \r\nQ 21.96875 47.46875 24.109375 47.828125 \r\nQ 26.265625 48.1875 28.421875 48.1875 \r\nQ 40.625 48.1875 47.75 41.5 \r\nQ 54.890625 34.8125 54.890625 23.390625 \r\nQ 54.890625 11.625 47.5625 5.09375 \r\nQ 40.234375 -1.421875 26.90625 -1.421875 \r\nQ 22.3125 -1.421875 17.546875 -0.640625 \r\nQ 12.796875 0.140625 7.71875 1.703125 \r\nL 7.71875 11.625 \r\nQ 12.109375 9.234375 16.796875 8.0625 \r\nQ 21.484375 6.890625 26.703125 6.890625 \r\nQ 35.15625 6.890625 40.078125 11.328125 \r\nQ 45.015625 15.765625 45.015625 23.390625 \r\nQ 45.015625 31 40.078125 35.4375 \r\nQ 35.15625 39.890625 26.703125 39.890625 \r\nQ 22.75 39.890625 18.8125 39.015625 \r\nQ 14.890625 38.140625 10.796875 36.28125 \r\nz\r\n\" id=\"DejaVuSans-53\"/>\r\n      </defs>\r\n      <g transform=\"translate(199.311364 249.836875)scale(0.1 -0.1)\">\r\n       <use xlink:href=\"#DejaVuSans-50\"/>\r\n       <use x=\"63.623047\" xlink:href=\"#DejaVuSans-48\"/>\r\n       <use x=\"127.246094\" xlink:href=\"#DejaVuSans-49\"/>\r\n       <use x=\"190.869141\" xlink:href=\"#DejaVuSans-57\"/>\r\n       <use x=\"254.492188\" xlink:href=\"#DejaVuSans-48\"/>\r\n       <use x=\"318.115234\" xlink:href=\"#DejaVuSans-53\"/>\r\n      </g>\r\n     </g>\r\n    </g>\r\n    <g id=\"xtick_5\">\r\n     <g id=\"line2d_5\">\r\n      <g>\r\n       <use style=\"stroke:#000000;stroke-width:0.8;\" x=\"279.271591\" xlink:href=\"#me1e314b2f8\" y=\"235.238437\"/>\r\n      </g>\r\n     </g>\r\n     <g id=\"text_5\">\r\n      <!-- 201906 -->\r\n      <defs>\r\n       <path d=\"M 33.015625 40.375 \r\nQ 26.375 40.375 22.484375 35.828125 \r\nQ 18.609375 31.296875 18.609375 23.390625 \r\nQ 18.609375 15.53125 22.484375 10.953125 \r\nQ 26.375 6.390625 33.015625 6.390625 \r\nQ 39.65625 6.390625 43.53125 10.953125 \r\nQ 47.40625 15.53125 47.40625 23.390625 \r\nQ 47.40625 31.296875 43.53125 35.828125 \r\nQ 39.65625 40.375 33.015625 40.375 \r\nz\r\nM 52.59375 71.296875 \r\nL 52.59375 62.3125 \r\nQ 48.875 64.0625 45.09375 64.984375 \r\nQ 41.3125 65.921875 37.59375 65.921875 \r\nQ 27.828125 65.921875 22.671875 59.328125 \r\nQ 17.53125 52.734375 16.796875 39.40625 \r\nQ 19.671875 43.65625 24.015625 45.921875 \r\nQ 28.375 48.1875 33.59375 48.1875 \r\nQ 44.578125 48.1875 50.953125 41.515625 \r\nQ 57.328125 34.859375 57.328125 23.390625 \r\nQ 57.328125 12.15625 50.6875 5.359375 \r\nQ 44.046875 -1.421875 33.015625 -1.421875 \r\nQ 20.359375 -1.421875 13.671875 8.265625 \r\nQ 6.984375 17.96875 6.984375 36.375 \r\nQ 6.984375 53.65625 15.1875 63.9375 \r\nQ 23.390625 74.21875 37.203125 74.21875 \r\nQ 40.921875 74.21875 44.703125 73.484375 \r\nQ 48.484375 72.75 52.59375 71.296875 \r\nz\r\n\" id=\"DejaVuSans-54\"/>\r\n      </defs>\r\n      <g transform=\"translate(260.184091 249.836875)scale(0.1 -0.1)\">\r\n       <use xlink:href=\"#DejaVuSans-50\"/>\r\n       <use x=\"63.623047\" xlink:href=\"#DejaVuSans-48\"/>\r\n       <use x=\"127.246094\" xlink:href=\"#DejaVuSans-49\"/>\r\n       <use x=\"190.869141\" xlink:href=\"#DejaVuSans-57\"/>\r\n       <use x=\"254.492188\" xlink:href=\"#DejaVuSans-48\"/>\r\n       <use x=\"318.115234\" xlink:href=\"#DejaVuSans-54\"/>\r\n      </g>\r\n     </g>\r\n    </g>\r\n    <g id=\"xtick_6\">\r\n     <g id=\"line2d_6\">\r\n      <g>\r\n       <use style=\"stroke:#000000;stroke-width:0.8;\" x=\"340.144318\" xlink:href=\"#me1e314b2f8\" y=\"235.238437\"/>\r\n      </g>\r\n     </g>\r\n     <g id=\"text_6\">\r\n      <!-- 201907 -->\r\n      <defs>\r\n       <path d=\"M 8.203125 72.90625 \r\nL 55.078125 72.90625 \r\nL 55.078125 68.703125 \r\nL 28.609375 0 \r\nL 18.3125 0 \r\nL 43.21875 64.59375 \r\nL 8.203125 64.59375 \r\nz\r\n\" id=\"DejaVuSans-55\"/>\r\n      </defs>\r\n      <g transform=\"translate(321.056818 249.836875)scale(0.1 -0.1)\">\r\n       <use xlink:href=\"#DejaVuSans-50\"/>\r\n       <use x=\"63.623047\" xlink:href=\"#DejaVuSans-48\"/>\r\n       <use x=\"127.246094\" xlink:href=\"#DejaVuSans-49\"/>\r\n       <use x=\"190.869141\" xlink:href=\"#DejaVuSans-57\"/>\r\n       <use x=\"254.492188\" xlink:href=\"#DejaVuSans-48\"/>\r\n       <use x=\"318.115234\" xlink:href=\"#DejaVuSans-55\"/>\r\n      </g>\r\n     </g>\r\n    </g>\r\n   </g>\r\n   <g id=\"matplotlib.axis_2\">\r\n    <g id=\"ytick_1\">\r\n     <g id=\"line2d_7\">\r\n      <defs>\r\n       <path d=\"M 0 0 \r\nL -3.5 0 \r\n\" id=\"m8f813be40b\" style=\"stroke:#000000;stroke-width:0.8;\"/>\r\n      </defs>\r\n      <g>\r\n       <use style=\"stroke:#000000;stroke-width:0.8;\" x=\"20.5625\" xlink:href=\"#m8f813be40b\" y=\"221.8928\"/>\r\n      </g>\r\n     </g>\r\n     <g id=\"text_7\">\r\n      <!-- 2 -->\r\n      <g transform=\"translate(7.2 225.692019)scale(0.1 -0.1)\">\r\n       <use xlink:href=\"#DejaVuSans-50\"/>\r\n      </g>\r\n     </g>\r\n    </g>\r\n    <g id=\"ytick_2\">\r\n     <g id=\"line2d_8\">\r\n      <g>\r\n       <use style=\"stroke:#000000;stroke-width:0.8;\" x=\"20.5625\" xlink:href=\"#m8f813be40b\" y=\"184.262355\"/>\r\n      </g>\r\n     </g>\r\n     <g id=\"text_8\">\r\n      <!-- 3 -->\r\n      <g transform=\"translate(7.2 188.061574)scale(0.1 -0.1)\">\r\n       <use xlink:href=\"#DejaVuSans-51\"/>\r\n      </g>\r\n     </g>\r\n    </g>\r\n    <g id=\"ytick_3\">\r\n     <g id=\"line2d_9\">\r\n      <g>\r\n       <use style=\"stroke:#000000;stroke-width:0.8;\" x=\"20.5625\" xlink:href=\"#m8f813be40b\" y=\"146.63191\"/>\r\n      </g>\r\n     </g>\r\n     <g id=\"text_9\">\r\n      <!-- 4 -->\r\n      <g transform=\"translate(7.2 150.431129)scale(0.1 -0.1)\">\r\n       <use xlink:href=\"#DejaVuSans-52\"/>\r\n      </g>\r\n     </g>\r\n    </g>\r\n    <g id=\"ytick_4\">\r\n     <g id=\"line2d_10\">\r\n      <g>\r\n       <use style=\"stroke:#000000;stroke-width:0.8;\" x=\"20.5625\" xlink:href=\"#m8f813be40b\" y=\"109.001465\"/>\r\n      </g>\r\n     </g>\r\n     <g id=\"text_10\">\r\n      <!-- 5 -->\r\n      <g transform=\"translate(7.2 112.800684)scale(0.1 -0.1)\">\r\n       <use xlink:href=\"#DejaVuSans-53\"/>\r\n      </g>\r\n     </g>\r\n    </g>\r\n    <g id=\"ytick_5\">\r\n     <g id=\"line2d_11\">\r\n      <g>\r\n       <use style=\"stroke:#000000;stroke-width:0.8;\" x=\"20.5625\" xlink:href=\"#m8f813be40b\" y=\"71.37102\"/>\r\n      </g>\r\n     </g>\r\n     <g id=\"text_11\">\r\n      <!-- 6 -->\r\n      <g transform=\"translate(7.2 75.170239)scale(0.1 -0.1)\">\r\n       <use xlink:href=\"#DejaVuSans-54\"/>\r\n      </g>\r\n     </g>\r\n    </g>\r\n    <g id=\"ytick_6\">\r\n     <g id=\"line2d_12\">\r\n      <g>\r\n       <use style=\"stroke:#000000;stroke-width:0.8;\" x=\"20.5625\" xlink:href=\"#m8f813be40b\" y=\"33.740575\"/>\r\n      </g>\r\n     </g>\r\n     <g id=\"text_12\">\r\n      <!-- 7 -->\r\n      <g transform=\"translate(7.2 37.539794)scale(0.1 -0.1)\">\r\n       <use xlink:href=\"#DejaVuSans-55\"/>\r\n      </g>\r\n     </g>\r\n    </g>\r\n    <g id=\"text_13\">\r\n     <!-- 1e7 -->\r\n     <defs>\r\n      <path d=\"M 56.203125 29.59375 \r\nL 56.203125 25.203125 \r\nL 14.890625 25.203125 \r\nQ 15.484375 15.921875 20.484375 11.0625 \r\nQ 25.484375 6.203125 34.421875 6.203125 \r\nQ 39.59375 6.203125 44.453125 7.46875 \r\nQ 49.3125 8.734375 54.109375 11.28125 \r\nL 54.109375 2.78125 \r\nQ 49.265625 0.734375 44.1875 -0.34375 \r\nQ 39.109375 -1.421875 33.890625 -1.421875 \r\nQ 20.796875 -1.421875 13.15625 6.1875 \r\nQ 5.515625 13.8125 5.515625 26.8125 \r\nQ 5.515625 40.234375 12.765625 48.109375 \r\nQ 20.015625 56 32.328125 56 \r\nQ 43.359375 56 49.78125 48.890625 \r\nQ 56.203125 41.796875 56.203125 29.59375 \r\nz\r\nM 47.21875 32.234375 \r\nQ 47.125 39.59375 43.09375 43.984375 \r\nQ 39.0625 48.390625 32.421875 48.390625 \r\nQ 24.90625 48.390625 20.390625 44.140625 \r\nQ 15.875 39.890625 15.1875 32.171875 \r\nz\r\n\" id=\"DejaVuSans-101\"/>\r\n     </defs>\r\n     <g transform=\"translate(20.5625 14.798437)scale(0.1 -0.1)\">\r\n      <use xlink:href=\"#DejaVuSans-49\"/>\r\n      <use x=\"63.623047\" xlink:href=\"#DejaVuSans-101\"/>\r\n      <use x=\"125.146484\" xlink:href=\"#DejaVuSans-55\"/>\r\n     </g>\r\n    </g>\r\n   </g>\r\n   <g id=\"line2d_13\">\r\n    <path clip-path=\"url(#p45eb024f64)\" d=\"M 35.780682 206.276166 \r\nL 96.653409 199.314533 \r\nL 157.526136 199.690838 \r\nL 218.398864 203.642034 \r\nL 279.271591 199.314533 \r\nL 340.144318 202.136817 \r\n\" style=\"fill:none;stroke:#1f77b4;stroke-linecap:square;stroke-width:1.5;\"/>\r\n   </g>\r\n   <g id=\"line2d_14\">\r\n    <path clip-path=\"url(#p45eb024f64)\" d=\"M 35.780682 202.155632 \r\nL 96.653409 201.196055 \r\nL 157.526136 208.872666 \r\nL 218.398864 201.835773 \r\nL 279.271591 206.953514 \r\nL 340.144318 190.960574 \r\n\" style=\"fill:none;stroke:#ff7f0e;stroke-linecap:square;stroke-width:1.5;\"/>\r\n   </g>\r\n   <g id=\"line2d_15\">\r\n    <path clip-path=\"url(#p45eb024f64)\" d=\"M 35.780682 222.645409 \r\nL 96.653409 225.354801 \r\nL 157.526136 214.517233 \r\nL 218.398864 219.936017 \r\nL 279.271591 214.968798 \r\nL 340.144318 224.000105 \r\n\" style=\"fill:none;stroke:#2ca02c;stroke-linecap:square;stroke-width:1.5;\"/>\r\n   </g>\r\n   <g id=\"line2d_16\">\r\n    <path clip-path=\"url(#p45eb024f64)\" d=\"M 35.780682 179.972485 \r\nL 96.653409 200.292925 \r\nL 157.526136 205.711709 \r\nL 218.398864 199.615577 \r\nL 279.271591 188.778009 \r\nL 340.144318 198.938229 \r\n\" style=\"fill:none;stroke:#d62728;stroke-linecap:square;stroke-width:1.5;\"/>\r\n   </g>\r\n   <g id=\"line2d_17\">\r\n    <path clip-path=\"url(#p45eb024f64)\" d=\"M 35.780682 71.935477 \r\nL 96.653409 56.13069 \r\nL 157.526136 52.969733 \r\nL 218.398864 75.886674 \r\nL 279.271591 58.501408 \r\nL 340.144318 27.682074 \r\n\" style=\"fill:none;stroke:#9467bd;stroke-linecap:square;stroke-width:1.5;\"/>\r\n   </g>\r\n   <g id=\"patch_3\">\r\n    <path d=\"M 20.5625 235.238437 \r\nL 20.5625 17.798437 \r\n\" style=\"fill:none;stroke:#000000;stroke-linecap:square;stroke-linejoin:miter;stroke-width:0.8;\"/>\r\n   </g>\r\n   <g id=\"patch_4\">\r\n    <path d=\"M 355.3625 235.238437 \r\nL 355.3625 17.798437 \r\n\" style=\"fill:none;stroke:#000000;stroke-linecap:square;stroke-linejoin:miter;stroke-width:0.8;\"/>\r\n   </g>\r\n   <g id=\"patch_5\">\r\n    <path d=\"M 20.5625 235.238437 \r\nL 355.3625 235.238437 \r\n\" style=\"fill:none;stroke:#000000;stroke-linecap:square;stroke-linejoin:miter;stroke-width:0.8;\"/>\r\n   </g>\r\n   <g id=\"patch_6\">\r\n    <path d=\"M 20.5625 17.798437 \r\nL 355.3625 17.798437 \r\n\" style=\"fill:none;stroke:#000000;stroke-linecap:square;stroke-linejoin:miter;stroke-width:0.8;\"/>\r\n   </g>\r\n   <g id=\"legend_1\">\r\n    <g id=\"patch_7\">\r\n     <path d=\"M 292.042188 164.71375 \r\nL 348.3625 164.71375 \r\nQ 350.3625 164.71375 350.3625 162.71375 \r\nL 350.3625 90.323125 \r\nQ 350.3625 88.323125 348.3625 88.323125 \r\nL 292.042188 88.323125 \r\nQ 290.042188 88.323125 290.042188 90.323125 \r\nL 290.042188 162.71375 \r\nQ 290.042188 164.71375 292.042188 164.71375 \r\nz\r\n\" style=\"fill:#ffffff;opacity:0.8;stroke:#cccccc;stroke-linejoin:miter;\"/>\r\n    </g>\r\n    <g id=\"line2d_18\">\r\n     <path d=\"M 294.042188 96.421562 \r\nL 314.042188 96.421562 \r\n\" style=\"fill:none;stroke:#1f77b4;stroke-linecap:square;stroke-width:1.5;\"/>\r\n    </g>\r\n    <g id=\"line2d_19\"/>\r\n    <g id=\"text_14\">\r\n     <!-- PC-A -->\r\n     <defs>\r\n      <path d=\"M 19.671875 64.796875 \r\nL 19.671875 37.40625 \r\nL 32.078125 37.40625 \r\nQ 38.96875 37.40625 42.71875 40.96875 \r\nQ 46.484375 44.53125 46.484375 51.125 \r\nQ 46.484375 57.671875 42.71875 61.234375 \r\nQ 38.96875 64.796875 32.078125 64.796875 \r\nz\r\nM 9.8125 72.90625 \r\nL 32.078125 72.90625 \r\nQ 44.34375 72.90625 50.609375 67.359375 \r\nQ 56.890625 61.8125 56.890625 51.125 \r\nQ 56.890625 40.328125 50.609375 34.8125 \r\nQ 44.34375 29.296875 32.078125 29.296875 \r\nL 19.671875 29.296875 \r\nL 19.671875 0 \r\nL 9.8125 0 \r\nz\r\n\" id=\"DejaVuSans-80\"/>\r\n      <path d=\"M 64.40625 67.28125 \r\nL 64.40625 56.890625 \r\nQ 59.421875 61.53125 53.78125 63.8125 \r\nQ 48.140625 66.109375 41.796875 66.109375 \r\nQ 29.296875 66.109375 22.65625 58.46875 \r\nQ 16.015625 50.828125 16.015625 36.375 \r\nQ 16.015625 21.96875 22.65625 14.328125 \r\nQ 29.296875 6.6875 41.796875 6.6875 \r\nQ 48.140625 6.6875 53.78125 8.984375 \r\nQ 59.421875 11.28125 64.40625 15.921875 \r\nL 64.40625 5.609375 \r\nQ 59.234375 2.09375 53.4375 0.328125 \r\nQ 47.65625 -1.421875 41.21875 -1.421875 \r\nQ 24.65625 -1.421875 15.125 8.703125 \r\nQ 5.609375 18.84375 5.609375 36.375 \r\nQ 5.609375 53.953125 15.125 64.078125 \r\nQ 24.65625 74.21875 41.21875 74.21875 \r\nQ 47.75 74.21875 53.53125 72.484375 \r\nQ 59.328125 70.75 64.40625 67.28125 \r\nz\r\n\" id=\"DejaVuSans-67\"/>\r\n      <path d=\"M 4.890625 31.390625 \r\nL 31.203125 31.390625 \r\nL 31.203125 23.390625 \r\nL 4.890625 23.390625 \r\nz\r\n\" id=\"DejaVuSans-45\"/>\r\n      <path d=\"M 34.1875 63.1875 \r\nL 20.796875 26.90625 \r\nL 47.609375 26.90625 \r\nz\r\nM 28.609375 72.90625 \r\nL 39.796875 72.90625 \r\nL 67.578125 0 \r\nL 57.328125 0 \r\nL 50.6875 18.703125 \r\nL 17.828125 18.703125 \r\nL 11.1875 0 \r\nL 0.78125 0 \r\nz\r\n\" id=\"DejaVuSans-65\"/>\r\n     </defs>\r\n     <g transform=\"translate(322.042188 99.921562)scale(0.1 -0.1)\">\r\n      <use xlink:href=\"#DejaVuSans-80\"/>\r\n      <use x=\"60.302734\" xlink:href=\"#DejaVuSans-67\"/>\r\n      <use x=\"130.126953\" xlink:href=\"#DejaVuSans-45\"/>\r\n      <use x=\"166.179688\" xlink:href=\"#DejaVuSans-65\"/>\r\n     </g>\r\n    </g>\r\n    <g id=\"line2d_20\">\r\n     <path d=\"M 294.042188 111.099687 \r\nL 314.042188 111.099687 \r\n\" style=\"fill:none;stroke:#ff7f0e;stroke-linecap:square;stroke-width:1.5;\"/>\r\n    </g>\r\n    <g id=\"line2d_21\"/>\r\n    <g id=\"text_15\">\r\n     <!-- PC-B -->\r\n     <defs>\r\n      <path d=\"M 19.671875 34.8125 \r\nL 19.671875 8.109375 \r\nL 35.5 8.109375 \r\nQ 43.453125 8.109375 47.28125 11.40625 \r\nQ 51.125 14.703125 51.125 21.484375 \r\nQ 51.125 28.328125 47.28125 31.5625 \r\nQ 43.453125 34.8125 35.5 34.8125 \r\nz\r\nM 19.671875 64.796875 \r\nL 19.671875 42.828125 \r\nL 34.28125 42.828125 \r\nQ 41.5 42.828125 45.03125 45.53125 \r\nQ 48.578125 48.25 48.578125 53.8125 \r\nQ 48.578125 59.328125 45.03125 62.0625 \r\nQ 41.5 64.796875 34.28125 64.796875 \r\nz\r\nM 9.8125 72.90625 \r\nL 35.015625 72.90625 \r\nQ 46.296875 72.90625 52.390625 68.21875 \r\nQ 58.5 63.53125 58.5 54.890625 \r\nQ 58.5 48.1875 55.375 44.234375 \r\nQ 52.25 40.28125 46.1875 39.3125 \r\nQ 53.46875 37.75 57.5 32.78125 \r\nQ 61.53125 27.828125 61.53125 20.40625 \r\nQ 61.53125 10.640625 54.890625 5.3125 \r\nQ 48.25 0 35.984375 0 \r\nL 9.8125 0 \r\nz\r\n\" id=\"DejaVuSans-66\"/>\r\n     </defs>\r\n     <g transform=\"translate(322.042188 114.599687)scale(0.1 -0.1)\">\r\n      <use xlink:href=\"#DejaVuSans-80\"/>\r\n      <use x=\"60.302734\" xlink:href=\"#DejaVuSans-67\"/>\r\n      <use x=\"130.126953\" xlink:href=\"#DejaVuSans-45\"/>\r\n      <use x=\"166.164062\" xlink:href=\"#DejaVuSans-66\"/>\r\n     </g>\r\n    </g>\r\n    <g id=\"line2d_22\">\r\n     <path d=\"M 294.042188 125.777812 \r\nL 314.042188 125.777812 \r\n\" style=\"fill:none;stroke:#2ca02c;stroke-linecap:square;stroke-width:1.5;\"/>\r\n    </g>\r\n    <g id=\"line2d_23\"/>\r\n    <g id=\"text_16\">\r\n     <!-- PC-C -->\r\n     <g transform=\"translate(322.042188 129.277812)scale(0.1 -0.1)\">\r\n      <use xlink:href=\"#DejaVuSans-80\"/>\r\n      <use x=\"60.302734\" xlink:href=\"#DejaVuSans-67\"/>\r\n      <use x=\"130.126953\" xlink:href=\"#DejaVuSans-45\"/>\r\n      <use x=\"166.210938\" xlink:href=\"#DejaVuSans-67\"/>\r\n     </g>\r\n    </g>\r\n    <g id=\"line2d_24\">\r\n     <path d=\"M 294.042188 140.455938 \r\nL 314.042188 140.455938 \r\n\" style=\"fill:none;stroke:#d62728;stroke-linecap:square;stroke-width:1.5;\"/>\r\n    </g>\r\n    <g id=\"line2d_25\"/>\r\n    <g id=\"text_17\">\r\n     <!-- PC-D -->\r\n     <defs>\r\n      <path d=\"M 19.671875 64.796875 \r\nL 19.671875 8.109375 \r\nL 31.59375 8.109375 \r\nQ 46.6875 8.109375 53.6875 14.9375 \r\nQ 60.6875 21.78125 60.6875 36.53125 \r\nQ 60.6875 51.171875 53.6875 57.984375 \r\nQ 46.6875 64.796875 31.59375 64.796875 \r\nz\r\nM 9.8125 72.90625 \r\nL 30.078125 72.90625 \r\nQ 51.265625 72.90625 61.171875 64.09375 \r\nQ 71.09375 55.28125 71.09375 36.53125 \r\nQ 71.09375 17.671875 61.125 8.828125 \r\nQ 51.171875 0 30.078125 0 \r\nL 9.8125 0 \r\nz\r\n\" id=\"DejaVuSans-68\"/>\r\n     </defs>\r\n     <g transform=\"translate(322.042188 143.955938)scale(0.1 -0.1)\">\r\n      <use xlink:href=\"#DejaVuSans-80\"/>\r\n      <use x=\"60.302734\" xlink:href=\"#DejaVuSans-67\"/>\r\n      <use x=\"130.126953\" xlink:href=\"#DejaVuSans-45\"/>\r\n      <use x=\"166.210938\" xlink:href=\"#DejaVuSans-68\"/>\r\n     </g>\r\n    </g>\r\n    <g id=\"line2d_26\">\r\n     <path d=\"M 294.042188 155.134062 \r\nL 314.042188 155.134062 \r\n\" style=\"fill:none;stroke:#9467bd;stroke-linecap:square;stroke-width:1.5;\"/>\r\n    </g>\r\n    <g id=\"line2d_27\"/>\r\n    <g id=\"text_18\">\r\n     <!-- PC-E -->\r\n     <defs>\r\n      <path d=\"M 9.8125 72.90625 \r\nL 55.90625 72.90625 \r\nL 55.90625 64.59375 \r\nL 19.671875 64.59375 \r\nL 19.671875 43.015625 \r\nL 54.390625 43.015625 \r\nL 54.390625 34.71875 \r\nL 19.671875 34.71875 \r\nL 19.671875 8.296875 \r\nL 56.78125 8.296875 \r\nL 56.78125 0 \r\nL 9.8125 0 \r\nz\r\n\" id=\"DejaVuSans-69\"/>\r\n     </defs>\r\n     <g transform=\"translate(322.042188 158.634062)scale(0.1 -0.1)\">\r\n      <use xlink:href=\"#DejaVuSans-80\"/>\r\n      <use x=\"60.302734\" xlink:href=\"#DejaVuSans-67\"/>\r\n      <use x=\"130.126953\" xlink:href=\"#DejaVuSans-45\"/>\r\n      <use x=\"166.210938\" xlink:href=\"#DejaVuSans-69\"/>\r\n     </g>\r\n    </g>\r\n   </g>\r\n  </g>\r\n </g>\r\n <defs>\r\n  <clipPath id=\"p45eb024f64\">\r\n   <rect height=\"217.44\" width=\"334.8\" x=\"20.5625\" y=\"17.798437\"/>\r\n  </clipPath>\r\n </defs>\r\n</svg>\r\n",
      "image/png": "[encoded data removed]"
     },
     "metadata": {
      "needs_background": "light"
     }
    }
   ],
   "source": [
    "import matplotlib.pyplot as plt\n",
    "%matplotlib inline\n",
    "\n",
    "label_list = [\"PC-{}\".format(c) for c in \"ABCDE\"]\n",
    "for label in label_list:\n",
    "    plt.plot(list(graph_data.index), graph_data[label], label=label)\n",
    "plt.legend()\n"
   ]
  }
 ]
}