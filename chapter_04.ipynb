{
 "metadata": {
  "language_info": {
   "codemirror_mode": {
    "name": "ipython",
    "version": 3
   },
   "file_extension": ".py",
   "mimetype": "text/x-python",
   "name": "python",
   "nbconvert_exporter": "python",
   "pygments_lexer": "ipython3",
   "version": "3.6.9-final"
  },
  "orig_nbformat": 2,
  "kernelspec": {
   "name": "python3",
   "display_name": "Python 3"
  }
 },
 "nbformat": 4,
 "nbformat_minor": 2,
 "cells": [
  {
   "source": [
    "# 第4章 顧客の行動を予測する10本ノック (31~40)"
   ],
   "cell_type": "markdown",
   "metadata": {}
  },
  {
   "source": [
    "# 下準備として，データのあるディレクトリに移動しておく\n",
    "import os\n",
    "\n",
    "DATA_ROOT_DIR = \"./sample/4章/\"\n",
    "os.chdir(DATA_ROOT_DIR)"
   ],
   "cell_type": "code",
   "metadata": {},
   "execution_count": 1,
   "outputs": []
  },
  {
   "source": [
    "## ノック31 データを読み込んで確認しよう\n",
    "例のごとく、まずはデータを読み込む"
   ],
   "cell_type": "markdown",
   "metadata": {}
  },
  {
   "cell_type": "code",
   "execution_count": 2,
   "metadata": {},
   "outputs": [
    {
     "output_type": "execute_result",
     "data": {
      "text/plain": [
       "log_id         0\n",
       "customer_id    0\n",
       "usedate        0\n",
       "dtype: int64"
      ]
     },
     "metadata": {},
     "execution_count": 2
    }
   ],
   "source": [
    "import pandas as pd\n",
    "use_log = pd.read_csv(\"use_log.csv\")\n",
    "use_log.isnull().sum()"
   ]
  },
  {
   "cell_type": "code",
   "execution_count": 3,
   "metadata": {},
   "outputs": [
    {
     "output_type": "execute_result",
     "data": {
      "text/plain": [
       "customer_id             0\n",
       "name                    0\n",
       "class                   0\n",
       "gender                  0\n",
       "start_date              0\n",
       "end_date             2842\n",
       "campaign_id             0\n",
       "is_deleted              0\n",
       "class_name              0\n",
       "price                   0\n",
       "campaign_name           0\n",
       "mean                    0\n",
       "median                  0\n",
       "max                     0\n",
       "min                     0\n",
       "routine_flg             0\n",
       "calc_date               0\n",
       "membership_period       0\n",
       "dtype: int64"
      ]
     },
     "metadata": {},
     "execution_count": 3
    }
   ],
   "source": [
    "customer = pd.read_csv(\"customer_join.csv\")\n",
    "customer.isnull().sum()"
   ]
  },
  {
   "source": [
    "## ノック32 クラスタリングで顧客をグループ化しよう\n",
    "scikit-learnを使ってクラスタリングする"
   ],
   "cell_type": "markdown",
   "metadata": {}
  },
  {
   "cell_type": "code",
   "execution_count": 4,
   "metadata": {},
   "outputs": [
    {
     "output_type": "execute_result",
     "data": {
      "text/plain": [
       "       mean  median  max  min  membership_period\n",
       "0  4.833333     5.0    8    2                 47\n",
       "1  5.083333     5.0    7    3                 47\n",
       "2  4.583333     5.0    6    3                 47\n",
       "3  4.833333     4.5    7    2                 47\n",
       "4  3.916667     4.0    6    1                 47"
      ],
      "text/html": "<div>\n<style scoped>\n    .dataframe tbody tr th:only-of-type {\n        vertical-align: middle;\n    }\n\n    .dataframe tbody tr th {\n        vertical-align: top;\n    }\n\n    .dataframe thead th {\n        text-align: right;\n    }\n</style>\n<table border=\"1\" class=\"dataframe\">\n  <thead>\n    <tr style=\"text-align: right;\">\n      <th></th>\n      <th>mean</th>\n      <th>median</th>\n      <th>max</th>\n      <th>min</th>\n      <th>membership_period</th>\n    </tr>\n  </thead>\n  <tbody>\n    <tr>\n      <th>0</th>\n      <td>4.833333</td>\n      <td>5.0</td>\n      <td>8</td>\n      <td>2</td>\n      <td>47</td>\n    </tr>\n    <tr>\n      <th>1</th>\n      <td>5.083333</td>\n      <td>5.0</td>\n      <td>7</td>\n      <td>3</td>\n      <td>47</td>\n    </tr>\n    <tr>\n      <th>2</th>\n      <td>4.583333</td>\n      <td>5.0</td>\n      <td>6</td>\n      <td>3</td>\n      <td>47</td>\n    </tr>\n    <tr>\n      <th>3</th>\n      <td>4.833333</td>\n      <td>4.5</td>\n      <td>7</td>\n      <td>2</td>\n      <td>47</td>\n    </tr>\n    <tr>\n      <th>4</th>\n      <td>3.916667</td>\n      <td>4.0</td>\n      <td>6</td>\n      <td>1</td>\n      <td>47</td>\n    </tr>\n  </tbody>\n</table>\n</div>"
     },
     "metadata": {},
     "execution_count": 4
    }
   ],
   "source": [
    "customer_clustering = customer[[\"mean\", \"median\", \"max\", \"min\", \"membership_period\"]]\n",
    "customer_clustering.head()"
   ]
  },
  {
   "cell_type": "code",
   "execution_count": 5,
   "metadata": {},
   "outputs": [
    {
     "output_type": "stream",
     "name": "stdout",
     "text": [
      "[3 1 0 2]\n"
     ]
    },
    {
     "output_type": "execute_result",
     "data": {
      "text/plain": [
       "       mean  median  max  min  membership_period  cluster\n",
       "0  4.833333     5.0    8    2                 47        3\n",
       "1  5.083333     5.0    7    3                 47        3\n",
       "2  4.583333     5.0    6    3                 47        3\n",
       "3  4.833333     4.5    7    2                 47        3\n",
       "4  3.916667     4.0    6    1                 47        3"
      ],
      "text/html": "<div>\n<style scoped>\n    .dataframe tbody tr th:only-of-type {\n        vertical-align: middle;\n    }\n\n    .dataframe tbody tr th {\n        vertical-align: top;\n    }\n\n    .dataframe thead th {\n        text-align: right;\n    }\n</style>\n<table border=\"1\" class=\"dataframe\">\n  <thead>\n    <tr style=\"text-align: right;\">\n      <th></th>\n      <th>mean</th>\n      <th>median</th>\n      <th>max</th>\n      <th>min</th>\n      <th>membership_period</th>\n      <th>cluster</th>\n    </tr>\n  </thead>\n  <tbody>\n    <tr>\n      <th>0</th>\n      <td>4.833333</td>\n      <td>5.0</td>\n      <td>8</td>\n      <td>2</td>\n      <td>47</td>\n      <td>3</td>\n    </tr>\n    <tr>\n      <th>1</th>\n      <td>5.083333</td>\n      <td>5.0</td>\n      <td>7</td>\n      <td>3</td>\n      <td>47</td>\n      <td>3</td>\n    </tr>\n    <tr>\n      <th>2</th>\n      <td>4.583333</td>\n      <td>5.0</td>\n      <td>6</td>\n      <td>3</td>\n      <td>47</td>\n      <td>3</td>\n    </tr>\n    <tr>\n      <th>3</th>\n      <td>4.833333</td>\n      <td>4.5</td>\n      <td>7</td>\n      <td>2</td>\n      <td>47</td>\n      <td>3</td>\n    </tr>\n    <tr>\n      <th>4</th>\n      <td>3.916667</td>\n      <td>4.0</td>\n      <td>6</td>\n      <td>1</td>\n      <td>47</td>\n      <td>3</td>\n    </tr>\n  </tbody>\n</table>\n</div>"
     },
     "metadata": {},
     "execution_count": 5
    }
   ],
   "source": [
    "from sklearn.cluster import KMeans\n",
    "from sklearn.preprocessing import StandardScaler\n",
    "sc = StandardScaler()\n",
    "customer_clustering_sc = sc.fit_transform(customer_clustering)\n",
    "\n",
    "kmeans = KMeans(n_clusters=4, random_state=0)\n",
    "clusters = kmeans.fit(customer_clustering_sc)\n",
    "customer_clustering[\"cluster\"] = clusters.labels_\n",
    "print(customer_clustering[\"cluster\"].unique())\n",
    "customer_clustering.head()"
   ]
  }
 ]
}