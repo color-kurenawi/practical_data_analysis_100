{
 "metadata": {
  "language_info": {
   "codemirror_mode": {
    "name": "ipython",
    "version": 3
   },
   "file_extension": ".py",
   "mimetype": "text/x-python",
   "name": "python",
   "nbconvert_exporter": "python",
   "pygments_lexer": "ipython3",
   "version": "3.6.9-final"
  },
  "orig_nbformat": 2,
  "kernelspec": {
   "name": "python3",
   "display_name": "Python 3"
  }
 },
 "nbformat": 4,
 "nbformat_minor": 2,
 "cells": [
  {
   "source": [
    "# 第3章 顧客の全体像を把握する10本ノック (21~30)"
   ],
   "cell_type": "markdown",
   "metadata": {}
  },
  {
   "cell_type": "code",
   "execution_count": 1,
   "metadata": {},
   "outputs": [],
   "source": [
    "# 下準備として，データのあるディレクトリに移動しておく\n",
    "import os\n",
    "\n",
    "DATA_ROOT_DIR = \"./sample/3章/\"\n",
    "os.chdir(DATA_ROOT_DIR)"
   ]
  },
  {
   "source": [
    "## ノック21 データを読み込んで把握しよう\n",
    "まずはデータを眺める．"
   ],
   "cell_type": "markdown",
   "metadata": {}
  },
  {
   "cell_type": "code",
   "execution_count": 2,
   "metadata": {},
   "outputs": [
    {
     "output_type": "stream",
     "name": "stdout",
     "text": [
      "197428\n"
     ]
    },
    {
     "output_type": "execute_result",
     "data": {
      "text/plain": [
       "            log_id customer_id     usedate\n",
       "0  L00000049012330    AS009373  2018-04-01\n",
       "1  L00000049012331    AS015315  2018-04-01\n",
       "2  L00000049012332    AS040841  2018-04-01\n",
       "3  L00000049012333    AS046594  2018-04-01\n",
       "4  L00000049012334    AS073285  2018-04-01"
      ],
      "text/html": "<div>\n<style scoped>\n    .dataframe tbody tr th:only-of-type {\n        vertical-align: middle;\n    }\n\n    .dataframe tbody tr th {\n        vertical-align: top;\n    }\n\n    .dataframe thead th {\n        text-align: right;\n    }\n</style>\n<table border=\"1\" class=\"dataframe\">\n  <thead>\n    <tr style=\"text-align: right;\">\n      <th></th>\n      <th>log_id</th>\n      <th>customer_id</th>\n      <th>usedate</th>\n    </tr>\n  </thead>\n  <tbody>\n    <tr>\n      <th>0</th>\n      <td>L00000049012330</td>\n      <td>AS009373</td>\n      <td>2018-04-01</td>\n    </tr>\n    <tr>\n      <th>1</th>\n      <td>L00000049012331</td>\n      <td>AS015315</td>\n      <td>2018-04-01</td>\n    </tr>\n    <tr>\n      <th>2</th>\n      <td>L00000049012332</td>\n      <td>AS040841</td>\n      <td>2018-04-01</td>\n    </tr>\n    <tr>\n      <th>3</th>\n      <td>L00000049012333</td>\n      <td>AS046594</td>\n      <td>2018-04-01</td>\n    </tr>\n    <tr>\n      <th>4</th>\n      <td>L00000049012334</td>\n      <td>AS073285</td>\n      <td>2018-04-01</td>\n    </tr>\n  </tbody>\n</table>\n</div>"
     },
     "metadata": {},
     "execution_count": 2
    }
   ],
   "source": [
    "import sys\n",
    "import pandas as pd\n",
    "use_log = pd.read_csv(\"use_log.csv\")\n",
    "print(len(use_log))\n",
    "use_log.head()"
   ]
  },
  {
   "cell_type": "code",
   "execution_count": 3,
   "metadata": {},
   "outputs": [
    {
     "output_type": "stream",
     "name": "stdout",
     "text": [
      "4192\n"
     ]
    },
    {
     "output_type": "execute_result",
     "data": {
      "text/plain": [
       "  customer_id   name class gender           start_date end_date campaign_id  \\\n",
       "0    OA832399   XXXX   C01      F  2015-05-01 00:00:00      NaN         CA1   \n",
       "1    PL270116  XXXXX   C01      M  2015-05-01 00:00:00      NaN         CA1   \n",
       "2    OA974876  XXXXX   C01      M  2015-05-01 00:00:00      NaN         CA1   \n",
       "3    HD024127  XXXXX   C01      F  2015-05-01 00:00:00      NaN         CA1   \n",
       "4    HD661448  XXXXX   C03      F  2015-05-01 00:00:00      NaN         CA1   \n",
       "\n",
       "   is_deleted  \n",
       "0           0  \n",
       "1           0  \n",
       "2           0  \n",
       "3           0  \n",
       "4           0  "
      ],
      "text/html": "<div>\n<style scoped>\n    .dataframe tbody tr th:only-of-type {\n        vertical-align: middle;\n    }\n\n    .dataframe tbody tr th {\n        vertical-align: top;\n    }\n\n    .dataframe thead th {\n        text-align: right;\n    }\n</style>\n<table border=\"1\" class=\"dataframe\">\n  <thead>\n    <tr style=\"text-align: right;\">\n      <th></th>\n      <th>customer_id</th>\n      <th>name</th>\n      <th>class</th>\n      <th>gender</th>\n      <th>start_date</th>\n      <th>end_date</th>\n      <th>campaign_id</th>\n      <th>is_deleted</th>\n    </tr>\n  </thead>\n  <tbody>\n    <tr>\n      <th>0</th>\n      <td>OA832399</td>\n      <td>XXXX</td>\n      <td>C01</td>\n      <td>F</td>\n      <td>2015-05-01 00:00:00</td>\n      <td>NaN</td>\n      <td>CA1</td>\n      <td>0</td>\n    </tr>\n    <tr>\n      <th>1</th>\n      <td>PL270116</td>\n      <td>XXXXX</td>\n      <td>C01</td>\n      <td>M</td>\n      <td>2015-05-01 00:00:00</td>\n      <td>NaN</td>\n      <td>CA1</td>\n      <td>0</td>\n    </tr>\n    <tr>\n      <th>2</th>\n      <td>OA974876</td>\n      <td>XXXXX</td>\n      <td>C01</td>\n      <td>M</td>\n      <td>2015-05-01 00:00:00</td>\n      <td>NaN</td>\n      <td>CA1</td>\n      <td>0</td>\n    </tr>\n    <tr>\n      <th>3</th>\n      <td>HD024127</td>\n      <td>XXXXX</td>\n      <td>C01</td>\n      <td>F</td>\n      <td>2015-05-01 00:00:00</td>\n      <td>NaN</td>\n      <td>CA1</td>\n      <td>0</td>\n    </tr>\n    <tr>\n      <th>4</th>\n      <td>HD661448</td>\n      <td>XXXXX</td>\n      <td>C03</td>\n      <td>F</td>\n      <td>2015-05-01 00:00:00</td>\n      <td>NaN</td>\n      <td>CA1</td>\n      <td>0</td>\n    </tr>\n  </tbody>\n</table>\n</div>"
     },
     "metadata": {},
     "execution_count": 3
    }
   ],
   "source": [
    "customer = pd.read_csv(\"customer_master.csv\")\n",
    "print(len(customer))\n",
    "customer.head()"
   ]
  },
  {
   "cell_type": "code",
   "execution_count": 4,
   "metadata": {},
   "outputs": [
    {
     "output_type": "stream",
     "name": "stdout",
     "text": [
      "3\n"
     ]
    },
    {
     "output_type": "execute_result",
     "data": {
      "text/plain": [
       "  class class_name  price\n",
       "0   C01     オールタイム  10500\n",
       "1   C02      デイタイム   7500\n",
       "2   C03        ナイト   6000"
      ],
      "text/html": "<div>\n<style scoped>\n    .dataframe tbody tr th:only-of-type {\n        vertical-align: middle;\n    }\n\n    .dataframe tbody tr th {\n        vertical-align: top;\n    }\n\n    .dataframe thead th {\n        text-align: right;\n    }\n</style>\n<table border=\"1\" class=\"dataframe\">\n  <thead>\n    <tr style=\"text-align: right;\">\n      <th></th>\n      <th>class</th>\n      <th>class_name</th>\n      <th>price</th>\n    </tr>\n  </thead>\n  <tbody>\n    <tr>\n      <th>0</th>\n      <td>C01</td>\n      <td>オールタイム</td>\n      <td>10500</td>\n    </tr>\n    <tr>\n      <th>1</th>\n      <td>C02</td>\n      <td>デイタイム</td>\n      <td>7500</td>\n    </tr>\n    <tr>\n      <th>2</th>\n      <td>C03</td>\n      <td>ナイト</td>\n      <td>6000</td>\n    </tr>\n  </tbody>\n</table>\n</div>"
     },
     "metadata": {},
     "execution_count": 4
    }
   ],
   "source": [
    "class_master = pd.read_csv(\"class_master.csv\")\n",
    "print(len(class_master))\n",
    "class_master.head()"
   ]
  },
  {
   "cell_type": "code",
   "execution_count": 5,
   "metadata": {},
   "outputs": [
    {
     "output_type": "stream",
     "name": "stdout",
     "text": [
      "3\n"
     ]
    },
    {
     "output_type": "execute_result",
     "data": {
      "text/plain": [
       "  campaign_id campaign_name\n",
       "0         CA1            通常\n",
       "1         CA2         入会費半額\n",
       "2         CA3         入会費無料"
      ],
      "text/html": "<div>\n<style scoped>\n    .dataframe tbody tr th:only-of-type {\n        vertical-align: middle;\n    }\n\n    .dataframe tbody tr th {\n        vertical-align: top;\n    }\n\n    .dataframe thead th {\n        text-align: right;\n    }\n</style>\n<table border=\"1\" class=\"dataframe\">\n  <thead>\n    <tr style=\"text-align: right;\">\n      <th></th>\n      <th>campaign_id</th>\n      <th>campaign_name</th>\n    </tr>\n  </thead>\n  <tbody>\n    <tr>\n      <th>0</th>\n      <td>CA1</td>\n      <td>通常</td>\n    </tr>\n    <tr>\n      <th>1</th>\n      <td>CA2</td>\n      <td>入会費半額</td>\n    </tr>\n    <tr>\n      <th>2</th>\n      <td>CA3</td>\n      <td>入会費無料</td>\n    </tr>\n  </tbody>\n</table>\n</div>"
     },
     "metadata": {},
     "execution_count": 5
    }
   ],
   "source": [
    "campaign_master = pd.read_csv(\"campaign_master.csv\")\n",
    "print(len(campaign_master))\n",
    "campaign_master.head()"
   ]
  },
  {
   "source": [
    "## ノック22 顧客データを整形しよう\n",
    "顧客データに会員区分，キャンペーン区分データをjoinする．"
   ],
   "cell_type": "markdown",
   "metadata": {}
  },
  {
   "cell_type": "code",
   "execution_count": 6,
   "metadata": {},
   "outputs": [
    {
     "output_type": "execute_result",
     "data": {
      "text/plain": [
       "  customer_id   name class gender           start_date end_date campaign_id  \\\n",
       "0    OA832399   XXXX   C01      F  2015-05-01 00:00:00      NaN         CA1   \n",
       "1    PL270116  XXXXX   C01      M  2015-05-01 00:00:00      NaN         CA1   \n",
       "2    OA974876  XXXXX   C01      M  2015-05-01 00:00:00      NaN         CA1   \n",
       "3    HD024127  XXXXX   C01      F  2015-05-01 00:00:00      NaN         CA1   \n",
       "4    HD661448  XXXXX   C03      F  2015-05-01 00:00:00      NaN         CA1   \n",
       "\n",
       "   is_deleted class_name  price campaign_name  \n",
       "0           0     オールタイム  10500            通常  \n",
       "1           0     オールタイム  10500            通常  \n",
       "2           0     オールタイム  10500            通常  \n",
       "3           0     オールタイム  10500            通常  \n",
       "4           0        ナイト   6000            通常  "
      ],
      "text/html": "<div>\n<style scoped>\n    .dataframe tbody tr th:only-of-type {\n        vertical-align: middle;\n    }\n\n    .dataframe tbody tr th {\n        vertical-align: top;\n    }\n\n    .dataframe thead th {\n        text-align: right;\n    }\n</style>\n<table border=\"1\" class=\"dataframe\">\n  <thead>\n    <tr style=\"text-align: right;\">\n      <th></th>\n      <th>customer_id</th>\n      <th>name</th>\n      <th>class</th>\n      <th>gender</th>\n      <th>start_date</th>\n      <th>end_date</th>\n      <th>campaign_id</th>\n      <th>is_deleted</th>\n      <th>class_name</th>\n      <th>price</th>\n      <th>campaign_name</th>\n    </tr>\n  </thead>\n  <tbody>\n    <tr>\n      <th>0</th>\n      <td>OA832399</td>\n      <td>XXXX</td>\n      <td>C01</td>\n      <td>F</td>\n      <td>2015-05-01 00:00:00</td>\n      <td>NaN</td>\n      <td>CA1</td>\n      <td>0</td>\n      <td>オールタイム</td>\n      <td>10500</td>\n      <td>通常</td>\n    </tr>\n    <tr>\n      <th>1</th>\n      <td>PL270116</td>\n      <td>XXXXX</td>\n      <td>C01</td>\n      <td>M</td>\n      <td>2015-05-01 00:00:00</td>\n      <td>NaN</td>\n      <td>CA1</td>\n      <td>0</td>\n      <td>オールタイム</td>\n      <td>10500</td>\n      <td>通常</td>\n    </tr>\n    <tr>\n      <th>2</th>\n      <td>OA974876</td>\n      <td>XXXXX</td>\n      <td>C01</td>\n      <td>M</td>\n      <td>2015-05-01 00:00:00</td>\n      <td>NaN</td>\n      <td>CA1</td>\n      <td>0</td>\n      <td>オールタイム</td>\n      <td>10500</td>\n      <td>通常</td>\n    </tr>\n    <tr>\n      <th>3</th>\n      <td>HD024127</td>\n      <td>XXXXX</td>\n      <td>C01</td>\n      <td>F</td>\n      <td>2015-05-01 00:00:00</td>\n      <td>NaN</td>\n      <td>CA1</td>\n      <td>0</td>\n      <td>オールタイム</td>\n      <td>10500</td>\n      <td>通常</td>\n    </tr>\n    <tr>\n      <th>4</th>\n      <td>HD661448</td>\n      <td>XXXXX</td>\n      <td>C03</td>\n      <td>F</td>\n      <td>2015-05-01 00:00:00</td>\n      <td>NaN</td>\n      <td>CA1</td>\n      <td>0</td>\n      <td>ナイト</td>\n      <td>6000</td>\n      <td>通常</td>\n    </tr>\n  </tbody>\n</table>\n</div>"
     },
     "metadata": {},
     "execution_count": 6
    }
   ],
   "source": [
    "customer_join = pd.merge(left=customer, right=class_master, how=\"left\", on=\"class\")\n",
    "customer_join = pd.merge(left=customer_join, right=campaign_master, how=\"left\", on=\"campaign_id\")\n",
    "customer_join.head()"
   ]
  },
  {
   "cell_type": "code",
   "execution_count": 7,
   "metadata": {},
   "outputs": [
    {
     "output_type": "execute_result",
     "data": {
      "text/plain": [
       "customer_id         0\n",
       "name                0\n",
       "class               0\n",
       "gender              0\n",
       "start_date          0\n",
       "end_date         2842\n",
       "campaign_id         0\n",
       "is_deleted          0\n",
       "class_name          0\n",
       "price               0\n",
       "campaign_name       0\n",
       "dtype: int64"
      ]
     },
     "metadata": {},
     "execution_count": 7
    }
   ],
   "source": [
    "customer_join.isnull().sum()"
   ]
  },
  {
   "source": [
    "## ノック24 最新顧客データの基礎集計をしてみよう\n",
    "最新月の顧客データの把握をする。"
   ],
   "cell_type": "markdown",
   "metadata": {}
  },
  {
   "cell_type": "code",
   "execution_count": 8,
   "metadata": {},
   "outputs": [
    {
     "output_type": "stream",
     "name": "stdout",
     "text": [
      "2953\n"
     ]
    },
    {
     "output_type": "execute_result",
     "data": {
      "text/plain": [
       "array([                          'NaT', '2019-03-31T00:00:00.000000000'],\n",
       "      dtype='datetime64[ns]')"
      ]
     },
     "metadata": {},
     "execution_count": 8
    }
   ],
   "source": [
    "customer_join[\"end_date\"] = pd.to_datetime(customer_join[\"end_date\"])\n",
    "customer_newer = customer_join.loc[(customer_join[\"end_date\"] >= pd.to_datetime(\"20190331\")) | (customer_join[\"end_date\"].isna())]\n",
    "print(len(customer_newer))\n",
    "customer_newer[\"end_date\"].unique()"
   ]
  },
  {
   "cell_type": "code",
   "execution_count": 9,
   "metadata": {},
   "outputs": [
    {
     "output_type": "execute_result",
     "data": {
      "text/plain": [
       "class_name\n",
       "オールタイム    1444\n",
       "デイタイム      696\n",
       "ナイト        813\n",
       "Name: customer_id, dtype: int64"
      ]
     },
     "metadata": {},
     "execution_count": 9
    }
   ],
   "source": [
    "customer_newer.groupby(\"class_name\").count()[\"customer_id\"]"
   ]
  },
  {
   "cell_type": "code",
   "execution_count": 10,
   "metadata": {},
   "outputs": [
    {
     "output_type": "execute_result",
     "data": {
      "text/plain": [
       "campaign_name\n",
       "入会費半額     311\n",
       "入会費無料     242\n",
       "通常       2400\n",
       "Name: customer_id, dtype: int64"
      ]
     },
     "metadata": {},
     "execution_count": 10
    }
   ],
   "source": [
    "customer_newer.groupby(\"campaign_name\").count()[\"customer_id\"]"
   ]
  },
  {
   "cell_type": "code",
   "execution_count": 11,
   "metadata": {},
   "outputs": [
    {
     "output_type": "execute_result",
     "data": {
      "text/plain": [
       "gender\n",
       "F    1400\n",
       "M    1553\n",
       "Name: customer_id, dtype: int64"
      ]
     },
     "metadata": {},
     "execution_count": 11
    }
   ],
   "source": [
    "customer_newer.groupby(\"gender\").count()[\"customer_id\"]"
   ]
  },
  {
   "cell_type": "code",
   "execution_count": null,
   "metadata": {},
   "outputs": [],
   "source": []
  }
 ]
}